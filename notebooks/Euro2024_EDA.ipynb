{
  "cells": [
    {
      "cell_type": "markdown",
      "metadata": {
        "id": "xyWtJWEIYwVb"
      },
      "source": [
        "# **Euro 2024 Players Data Analysis**"
      ]
    },
    {
      "cell_type": "markdown",
      "metadata": {
        "id": "DvgtEC0yZfeK"
      },
      "source": [
        "The Euro 2024 Players Data Analysis project aims to provide insights into the profiles and performances of football players participating in the UEFA Euro 2024 tournament. Leveraging Python for data analysis, this project explores various attributes of the players, such as age, height, market value, position, club affiliation, and preferred foot. By examining these data points, the project seeks to uncover trends, patterns, and key statistics that highlight the diverse characteristics of the players competing in this prestigious event"
      ]
    },
    {
      "cell_type": "markdown",
      "metadata": {
        "id": "pF8-sfN2ZxMl"
      },
      "source": [
        "This analysis is driven by a dataset containing comprehensive information on the players, including:\n",
        "\n",
        "* Name: The full name of the player.\n",
        "* Position: The playing position of the player (e.g., Forward, Midfielder, Defender, Goalkeeper).\n",
        "* Age: The age of the player.\n",
        "* Club: The football club the player is associated with.\n",
        "* Height: The height of the player (in centimeters).\n",
        "* Foot: The dominant foot of the player (e.g., Left, Right).\n",
        "* Caps: The number of international appearances made by the player.\n",
        "* Goals: The total number of goals scored by the player in international matches.\n",
        "* Market Value: The estimated market value of the player (in Euros).\n",
        "* Country: The country the player represents in Euro 2024"
      ]
    },
    {
      "cell_type": "markdown",
      "metadata": {
        "id": "Pp_TYFuohPLN"
      },
      "source": [
        "\n",
        "\n",
        "---\n",
        "\n"
      ]
    },
    {
      "cell_type": "markdown",
      "metadata": {
        "id": "b7qfcB5TnJbH"
      },
      "source": [
        "# **Connect to google drive**"
      ]
    },
    {
      "cell_type": "code",
      "execution_count": 1,
      "metadata": {
        "colab": {
          "base_uri": "https://localhost:8080/"
        },
        "id": "Lq4cHm49m8hA",
        "outputId": "60c41c6b-aa7e-4b61-f0b0-11dcbadecffc"
      },
      "outputs": [
        {
          "output_type": "stream",
          "name": "stdout",
          "text": [
            "Mounted at /content/drive\n"
          ]
        }
      ],
      "source": [
        "#Connection to google drive\n",
        "from google.colab import drive\n",
        "drive.mount('/content/drive')"
      ]
    },
    {
      "cell_type": "markdown",
      "metadata": {
        "id": "zvVCQiuBnX-H"
      },
      "source": [
        "# **Import Libraries**"
      ]
    },
    {
      "cell_type": "code",
      "execution_count": 2,
      "metadata": {
        "colab": {
          "base_uri": "https://localhost:8080/"
        },
        "id": "OLORVzLzxm8i",
        "outputId": "86294f58-1ae7-4684-b582-73458d1adeeb"
      },
      "outputs": [
        {
          "output_type": "stream",
          "name": "stdout",
          "text": [
            "Collecting kaleido\n",
            "  Downloading kaleido-0.2.1-py2.py3-none-manylinux1_x86_64.whl.metadata (15 kB)\n",
            "Downloading kaleido-0.2.1-py2.py3-none-manylinux1_x86_64.whl (79.9 MB)\n",
            "\u001b[2K   \u001b[90m━━━━━━━━━━━━━━━━━━━━━━━━━━━━━━━━━━━━━━━━\u001b[0m \u001b[32m79.9/79.9 MB\u001b[0m \u001b[31m11.6 MB/s\u001b[0m eta \u001b[36m0:00:00\u001b[0m\n",
            "\u001b[?25hInstalling collected packages: kaleido\n",
            "Successfully installed kaleido-0.2.1\n"
          ]
        }
      ],
      "source": [
        "!pip install -U kaleido"
      ]
    },
    {
      "cell_type": "code",
      "execution_count": 3,
      "metadata": {
        "id": "8PRNzruQyA-C"
      },
      "outputs": [],
      "source": [
        "import kaleido"
      ]
    },
    {
      "cell_type": "code",
      "execution_count": 4,
      "metadata": {
        "colab": {
          "base_uri": "https://localhost:8080/",
          "height": 36
        },
        "id": "RwG6JOMnzU1M",
        "outputId": "2e031963-7422-4389-d42b-9a005dcb4adf"
      },
      "outputs": [
        {
          "output_type": "execute_result",
          "data": {
            "text/plain": [
              "'0.2.1'"
            ],
            "application/vnd.google.colaboratory.intrinsic+json": {
              "type": "string"
            }
          },
          "metadata": {},
          "execution_count": 4
        }
      ],
      "source": [
        "kaleido.__version__ #0.2.1"
      ]
    },
    {
      "cell_type": "code",
      "execution_count": 5,
      "metadata": {
        "id": "NRl2fDYendbP"
      },
      "outputs": [],
      "source": [
        "import pandas as pd\n",
        "import numpy as np\n",
        "import matplotlib.pyplot as plt\n",
        "import seaborn as sns"
      ]
    },
    {
      "cell_type": "code",
      "execution_count": 6,
      "metadata": {
        "id": "ZYRCsmJJzZTh"
      },
      "outputs": [],
      "source": [
        "import plotly"
      ]
    },
    {
      "cell_type": "code",
      "execution_count": 7,
      "metadata": {
        "id": "xCTiJkshNWkt"
      },
      "outputs": [],
      "source": [
        "import plotly.express as px\n",
        "import plotly.graph_objects as go"
      ]
    },
    {
      "cell_type": "code",
      "execution_count": 8,
      "metadata": {
        "id": "074u9PBNtrnt"
      },
      "outputs": [],
      "source": [
        "import matplotlib.patches as patches"
      ]
    },
    {
      "cell_type": "markdown",
      "metadata": {
        "id": "MxVi8yvPE-ru"
      },
      "source": [
        "# **Helper Functions**"
      ]
    },
    {
      "cell_type": "code",
      "execution_count": 9,
      "metadata": {
        "id": "4n74oT7BdPNd"
      },
      "outputs": [],
      "source": [
        "def who_is_the_player(dataframe, column, value):\n",
        "    \"\"\"\n",
        "    Filter the DataFrame based on a specified column and value, and return a list of player names.\n",
        "\n",
        "    Parameters:\n",
        "    dataframe (pandas.DataFrame): The DataFrame to filter.\n",
        "    column (str): The column name to use for filtering.\n",
        "    value: The value to filter the specified column by.\n",
        "\n",
        "    Returns:\n",
        "    list: A list of player names that match the given criteria.\n",
        "    \"\"\"\n",
        "    # Filter the DataFrame based on the specified column and value\n",
        "    dataframe = dataframe[dataframe[column] == value]\n",
        "\n",
        "    # Return the list of player names\n",
        "    return dataframe['Name'].tolist()\n"
      ]
    },
    {
      "cell_type": "code",
      "execution_count": 10,
      "metadata": {
        "id": "o2WlaN8bdiCQ"
      },
      "outputs": [],
      "source": [
        "def nation_of_the_player(dataframe, column_name, value_name):\n",
        "    \"\"\"\n",
        "    Filter the DataFrame based on a specified column and value, and return a list of countries for the matching players.\n",
        "\n",
        "    Parameters:\n",
        "    dataframe (pandas.DataFrame): The DataFrame to filter.\n",
        "    column_name (str): The column name to use for filtering.\n",
        "    value_name: The value to filter the specified column by.\n",
        "\n",
        "    Returns:\n",
        "    list: A list of countries for the players that match the given criteria.\n",
        "    \"\"\"\n",
        "    # Filter the DataFrame based on the specified column and value\n",
        "    dataframe = dataframe[dataframe[column_name] == value_name]\n",
        "\n",
        "    # Return the list of countries for the matching players\n",
        "    return dataframe['Country'].tolist()\n"
      ]
    },
    {
      "cell_type": "code",
      "execution_count": 11,
      "metadata": {
        "id": "JOKrewCoIdZr"
      },
      "outputs": [],
      "source": [
        "def position_of_the_player(dataframe, column_name, value_name):\n",
        "    \"\"\"\n",
        "    Filter the DataFrame based on a specified column and value, and return a list of positions for the matching players.\n",
        "\n",
        "    Parameters:\n",
        "    dataframe (pandas.DataFrame): The DataFrame to filter.\n",
        "    column_name (str): The column name to use for filtering.\n",
        "    value_name: The value to filter the specified column by.\n",
        "\n",
        "    Returns:\n",
        "    list: A list of positions for the players that match the given criteria.\n",
        "    \"\"\"\n",
        "    # Filter the DataFrame based on the specified column and value\n",
        "    dataframe = dataframe[dataframe[column_name] == value_name]\n",
        "\n",
        "    # Return the list of positions for the matching players\n",
        "    return dataframe['Position'].tolist()\n"
      ]
    },
    {
      "cell_type": "code",
      "execution_count": 12,
      "metadata": {
        "id": "c7gZ7-yyK-ln"
      },
      "outputs": [],
      "source": [
        "def age_of_the_player(dataframe, column_name, value_name):\n",
        "    \"\"\"\n",
        "    Filter the DataFrame based on a specified column and value, and return a list of ages for the matching players.\n",
        "\n",
        "    Parameters:\n",
        "    dataframe (pandas.DataFrame): The DataFrame to filter.\n",
        "    column_name (str): The column name to use for filtering.\n",
        "    value_name: The value to filter the specified column by.\n",
        "\n",
        "    Returns:\n",
        "    list: A list of ages for the players that match the given criteria.\n",
        "    \"\"\"\n",
        "    # Filter the DataFrame based on the specified column and value\n",
        "    dataframe = dataframe[dataframe[column_name] == value_name]\n",
        "\n",
        "    # Return the list of ages for the matching players\n",
        "    return dataframe['Age'].tolist()\n"
      ]
    },
    {
      "cell_type": "code",
      "execution_count": 13,
      "metadata": {
        "id": "SbvRV2stLT_f"
      },
      "outputs": [],
      "source": [
        "def height_of_the_player(dataframe, column_name, value_name):\n",
        "    \"\"\"\n",
        "    Filter the DataFrame based on a specified column and value, and return a list of heights for the matching players.\n",
        "\n",
        "    Parameters:\n",
        "    dataframe (pandas.DataFrame): The DataFrame to filter.\n",
        "    column_name (str): The column name to use for filtering.\n",
        "    value_name: The value to filter the specified column by.\n",
        "\n",
        "    Returns:\n",
        "    list: A list of heights for the players that match the given criteria.\n",
        "    \"\"\"\n",
        "    # Filter the DataFrame based on the specified column and value\n",
        "    dataframe = dataframe[dataframe[column_name] == value_name]\n",
        "\n",
        "    # Return the list of heights for the matching players\n",
        "    return dataframe['Height'].tolist()\n"
      ]
    },
    {
      "cell_type": "code",
      "execution_count": 14,
      "metadata": {
        "id": "CDFdDHccLh7_"
      },
      "outputs": [],
      "source": [
        "def market_value_of_the_player(dataframe, column_name, value_name):\n",
        "    \"\"\"\n",
        "    Filter the DataFrame based on a specified column and value, and return a list of market values for the matching players.\n",
        "\n",
        "    Parameters:\n",
        "    dataframe (pandas.DataFrame): The DataFrame to filter.\n",
        "    column_name (str): The column name to use for filtering.\n",
        "    value_name: The value to filter the specified column by.\n",
        "\n",
        "    Returns:\n",
        "    list: A list of market values for the players that match the given criteria.\n",
        "    \"\"\"\n",
        "    # Filter the DataFrame based on the specified column and value\n",
        "    dataframe = dataframe[dataframe[column_name] == value_name]\n",
        "\n",
        "    # Return the list of market values for the matching players\n",
        "    return dataframe['MarketValue'].tolist()\n"
      ]
    },
    {
      "cell_type": "code",
      "execution_count": 15,
      "metadata": {
        "id": "WJpph0gZMsWB"
      },
      "outputs": [],
      "source": [
        "def club_of_the_player(dataframe, column_name, value_name):\n",
        "    \"\"\"\n",
        "    Filter the DataFrame based on a specified column and value, and return a list of clubs for the matching players.\n",
        "\n",
        "    Parameters:\n",
        "    dataframe (pandas.DataFrame): The DataFrame to filter.\n",
        "    column_name (str): The column name to use for filtering.\n",
        "    value_name: The value to filter the specified column by.\n",
        "\n",
        "    Returns:\n",
        "    list: A list of clubs for the players that match the given criteria.\n",
        "    \"\"\"\n",
        "    # Filter the DataFrame based on the specified column and value\n",
        "    dataframe = dataframe[dataframe[column_name] == value_name]\n",
        "\n",
        "    # Return the list of clubs for the matching players\n",
        "    return dataframe['Club'].tolist()\n"
      ]
    },
    {
      "cell_type": "code",
      "execution_count": 16,
      "metadata": {
        "id": "P8Z12HePNaHS"
      },
      "outputs": [],
      "source": [
        "def goals_scored_of_the_player(dataframe, column_name, value_name):\n",
        "    \"\"\"\n",
        "    Filter the DataFrame based on a specified column and value, and return a list of goals scored by the matching players.\n",
        "\n",
        "    Parameters:\n",
        "    dataframe (pandas.DataFrame): The DataFrame to filter.\n",
        "    column_name (str): The column name to use for filtering.\n",
        "    value_name: The value to filter the specified column by.\n",
        "\n",
        "    Returns:\n",
        "    list: A list of goals scored by the players that match the given criteria.\n",
        "    \"\"\"\n",
        "    # Filter the DataFrame based on the specified column and value\n",
        "    dataframe = dataframe[dataframe[column_name] == value_name]\n",
        "\n",
        "    # Return the list of goals scored by the matching players\n",
        "    return dataframe['Goals'].tolist()\n"
      ]
    },
    {
      "cell_type": "code",
      "execution_count": 17,
      "metadata": {
        "id": "hWzhvAtdNzxL"
      },
      "outputs": [],
      "source": [
        "def perfect_foot_of_the_player(dataframe, column_name, value_name):\n",
        "    \"\"\"\n",
        "    Filter the DataFrame based on a specified column and value, and return a list of foot preferences for the matching players.\n",
        "\n",
        "    Parameters:\n",
        "    dataframe (pandas.DataFrame): The DataFrame to filter.\n",
        "    column_name (str): The column name to use for filtering.\n",
        "    value_name: The value to filter the specified column by.\n",
        "\n",
        "    Returns:\n",
        "    list: A list of foot preferences ('left' or 'right' or 'both') for the players that match the given criteria.\n",
        "    \"\"\"\n",
        "    # Filter the DataFrame based on the specified column and value\n",
        "    dataframe = dataframe[dataframe[column_name] == value_name]\n",
        "\n",
        "    # Return the list of foot preferences for the matching players\n",
        "    return dataframe['Foot'].tolist()\n"
      ]
    },
    {
      "cell_type": "code",
      "execution_count": 18,
      "metadata": {
        "id": "nxjYFWnrN-kW"
      },
      "outputs": [],
      "source": [
        "def caps_of_the_player(dataframe, column_name, value_name):\n",
        "    \"\"\"\n",
        "    Filter the DataFrame based on a specified column and value, and return a list of caps (appearances) for the matching players.\n",
        "\n",
        "    Parameters:\n",
        "    dataframe (pandas.DataFrame): The DataFrame to filter.\n",
        "    column_name (str): The column name to use for filtering.\n",
        "    value_name: The value to filter the specified column by.\n",
        "\n",
        "    Returns:\n",
        "    list: A list of caps (appearances) for the players that match the given criteria.\n",
        "    \"\"\"\n",
        "    # Filter the DataFrame based on the specified column and value\n",
        "    dataframe = dataframe[dataframe[column_name] == value_name]\n",
        "\n",
        "    # Return the list of caps for the matching players\n",
        "    return dataframe['Caps'].tolist()\n"
      ]
    },
    {
      "cell_type": "code",
      "execution_count": 19,
      "metadata": {
        "id": "UPU7iyq-IJq3"
      },
      "outputs": [],
      "source": [
        "def profile_of_the_player(dataframe, column, value):\n",
        "    \"\"\"\n",
        "    Generate a profile for a specific player based on a specified column and value,\n",
        "    using various attributes such as position, age, height, market value, club, goals, foot preference, and caps.\n",
        "\n",
        "    Parameters:\n",
        "    dataframe (pandas.DataFrame): The DataFrame containing player data.\n",
        "    column (str): The column name to use for filtering.\n",
        "    value: The value to filter the specified column by.\n",
        "    player_name (str): The name of the player to profile.\n",
        "\n",
        "    Returns:\n",
        "    dict: A dictionary containing the player's profile with various details.\n",
        "    \"\"\"\n",
        "    # Create the profile dictionary\n",
        "    if (isinstance(value,str)):\n",
        "      value=value\n",
        "    if (isinstance(value,list)):\n",
        "      value=value[0]\n",
        "    profile = {}\n",
        "    # Get player details using the specific functions\n",
        "    profile['Name'] = value\n",
        "    profile['Country'] = nation_of_the_player(dataframe, column, value)[0]\n",
        "    profile['Position'] = position_of_the_player(dataframe, column, value)[0]\n",
        "    profile['Age'] = age_of_the_player(dataframe, column, value)[0]\n",
        "    profile['Height'] = height_of_the_player(dataframe, column, value)[0]\n",
        "    profile['Market Value'] = market_value_of_the_player(dataframe, column, value)[0]\n",
        "    profile['Club'] = club_of_the_player(dataframe, column, value)[0]\n",
        "    profile['Goals'] = goals_scored_of_the_player(dataframe, column, value)[0]\n",
        "    profile['Foot'] = perfect_foot_of_the_player(dataframe, column, value)[0]\n",
        "    profile['Caps'] = caps_of_the_player(dataframe, column, value)[0]\n",
        "\n",
        "    # Check if the player is in the profile results\n",
        "    if value not in profile['Name']:\n",
        "        return {\"Error\": \"Player not found with the given criteria\"}\n",
        "\n",
        "    return profile\n"
      ]
    },
    {
      "cell_type": "code",
      "execution_count": 20,
      "metadata": {
        "id": "wlBU2fsVtKW9"
      },
      "outputs": [],
      "source": [
        "def plot_player_card(profile,fontsize_of_title):\n",
        "    \"\"\"\n",
        "    Create and display a visual representation of a player's profile in the form of a card.\n",
        "\n",
        "    Parameters:\n",
        "    profile (dict): A dictionary containing the player's profile information. The dictionary should have the following keys:\n",
        "        - Name (str): The name of the player.\n",
        "        - Country (str): The country the player represents.\n",
        "        - Position (str): The playing position of the player.\n",
        "        - Age (int): The age of the player.\n",
        "        - Height (int): The height of the player in centimeters.\n",
        "        - Market Value (int): The market value of the player in Euros.\n",
        "        - Club (str): The club the player is associated with.\n",
        "        - Goals (int): The number of goals scored by the player.\n",
        "        - Foot (str): The dominant foot of the player (e.g., Left, Right).\n",
        "        - Caps (int): The number of international appearances made by the player.\n",
        "\n",
        "    Returns:\n",
        "    None: This function does not return any value. It generates and displays a matplotlib plot of the player's card.\n",
        "    \"\"\"\n",
        "    # Create a new figure and axis for the card\n",
        "    fig, ax = plt.subplots(figsize=(6, 8))\n",
        "\n",
        "    # Card background\n",
        "    card_background = patches.FancyBboxPatch((0.2, 0.2), 0.9, 0.9,\n",
        "                                             boxstyle=\"round,pad=1\",\n",
        "                                             edgecolor='black', facecolor='#1274b8',\n",
        "                                             linewidth=3, linestyle='solid')\n",
        "    ax.add_patch(card_background)\n",
        "\n",
        "    # Title\n",
        "    ax.text(0.5, 0.86, profile['Name'], fontsize=fontsize_of_title, ha='center', va='center',\n",
        "            fontweight='bold', color='white', fontfamily='sans-serif')\n",
        "\n",
        "    # Player information\n",
        "    info_text = (\n",
        "        f\"Country: {profile['Country']}\\n\\n\"\n",
        "        f\"Position: {profile['Position']}\\n\\n\"\n",
        "        f\"Age: {profile['Age']}\\n\\n\"\n",
        "        f\"Height: {profile['Height']} cm\\n\\n\"\n",
        "        f\"Market Value: ${profile['Market Value']:,}\\n\\n\"\n",
        "        f\"Club: {profile['Club']}\\n\\n\"\n",
        "        f\"Goals: {profile['Goals']}\\n\\n\"\n",
        "        f\"Foot: {profile['Foot']}\\n\\n\"\n",
        "        f\"Caps: {profile['Caps']}\"\n",
        "    )\n",
        "\n",
        "    ax.text(0.5, 0.42, info_text, fontsize=16, ha='center', va='center', style='italic',\n",
        "            bbox=dict(boxstyle=\"round,pad=1\", edgecolor='white', facecolor='#d1e8ff'),\n",
        "            color='black', fontfamily='monospace')\n",
        "\n",
        "    # Add a decorative border\n",
        "    border = patches.FancyBboxPatch((0, 0), 0.96, 0.96,\n",
        "                                    boxstyle=\"round,pad=1\",\n",
        "                                    edgecolor='black', facecolor='none',\n",
        "                                    linewidth=0.1, linestyle='--')\n",
        "    ax.add_patch(border)\n",
        "\n",
        "    # Hide axes\n",
        "    ax.axis('off')\n",
        "\n",
        "    # Display the card\n",
        "    plt.show()\n",
        "\n"
      ]
    },
    {
      "cell_type": "code",
      "execution_count": 21,
      "metadata": {
        "id": "RUy2AGRxK0zk"
      },
      "outputs": [],
      "source": [
        "def save_plot_as_html(figure, file_path):\n",
        "    \"\"\"\n",
        "    Saves a Plotly figure as an HTML file.\n",
        "\n",
        "    This function takes a Plotly figure object and a specified file path,\n",
        "    then saves the figure as an HTML file at that location. The HTML file\n",
        "    includes all necessary data, allowing the figure to be viewed\n",
        "    interactively in a web browser without requiring an internet connection.\n",
        "\n",
        "    Parameters:\n",
        "    - figure (plotly.graph_objs.Figure): The Plotly figure to save as an HTML file.\n",
        "    - file_path (str): The file path where the HTML file will be saved,\n",
        "      including the filename and '.html' extension.\n",
        "\n",
        "    Returns:\n",
        "    - None\n",
        "\n",
        "    \"\"\"\n",
        "    figure.write_html(file_path)\n"
      ]
    },
    {
      "cell_type": "code",
      "execution_count": 22,
      "metadata": {
        "id": "J6ubXY9ihZdO"
      },
      "outputs": [],
      "source": [
        "def hex_to_rgb(hex_color):\n",
        "    \"\"\"\n",
        "    Converts a hex color code to an RGB tuple.\n",
        "\n",
        "    Parameters:\n",
        "    hex_color (str): A string representing the hex color code, starting with a '#' character (e.g., '#08306b').\n",
        "\n",
        "    Returns:\n",
        "    tuple: A tuple containing three integers that represent the red, green, and blue components of the color.\n",
        "\n",
        "    Example:\n",
        "    >>> hex_to_rgb('#08306b')\n",
        "    (8, 48, 107)\n",
        "    \"\"\"\n",
        "    hex_color = hex_color.lstrip('#')\n",
        "    return tuple(int(hex_color[i:i+2], 16) for i in (0, 2, 4))\n"
      ]
    },
    {
      "cell_type": "code",
      "execution_count": 23,
      "metadata": {
        "id": "i4IoBhBVhxy5"
      },
      "outputs": [],
      "source": [
        "def rgb_to_rgba(rgb, opacity):\n",
        "    \"\"\"\n",
        "    Converts an RGB tuple to an RGBA string representation with a specified opacity.\n",
        "\n",
        "    Parameters:\n",
        "    rgb (tuple): A tuple containing three integers representing the red, green, and blue components of the color.\n",
        "                 Each component should be in the range [0, 255].\n",
        "    opacity (float): A float value representing the opacity of the color. It should be in the range [0.0, 1.0].\n",
        "\n",
        "    Returns:\n",
        "    str: A string representing the color in RGBA format, with the opacity applied.\n",
        "\n",
        "    Example:\n",
        "    >>> rgb_to_rgba((8, 48, 107), 0.5)\n",
        "    'rgba(8, 48, 107, 0.5)'\n",
        "    \"\"\"\n",
        "    return f'rgba({rgb[0]}, {rgb[1]}, {rgb[2]}, {opacity})'\n"
      ]
    },
    {
      "cell_type": "code",
      "execution_count": 24,
      "metadata": {
        "id": "Ei6qLaoScgdn"
      },
      "outputs": [],
      "source": [
        "def plot_vertical_bar_(data, base_color_HEX, range_of_opacity, description_of_title, description_of_xaxis, description_of_yaxis):\n",
        "    \"\"\"\n",
        "    Plots a vertical bar chart with the given data, using color opacity to indicate value magnitude.\n",
        "\n",
        "    Parameters:\n",
        "    data (pandas.Series): A pandas Series object containing the data to plot. The index of the Series\n",
        "                          should contain the categories, and the values should represent the counts or\n",
        "                          values for each category.\n",
        "    base_color_HEX (str): A hex color code (e.g., '#08306b') that determines the base color of the bars.\n",
        "    range_of_opacity (float): A float value representing the range of opacity for the bars. Should be in the range [0.0, 1.0].\n",
        "    description_of_title (str): The title of the bar chart.\n",
        "    description_of_xaxis (str): The label for the x-axis.\n",
        "    description_of_yaxis (str): The label for the y-axis.\n",
        "\n",
        "    Returns:\n",
        "    plotly.graph_objs._figure.Figure: A Plotly Figure object representing the vertical bar chart.\n",
        "\n",
        "    \"\"\"\n",
        "    max_value = data.max()\n",
        "    min_value = data.min()\n",
        "\n",
        "    # Generate colors for each bar based on the value\n",
        "    rgb_base = hex_to_rgb(base_color_HEX)\n",
        "    colors = []\n",
        "    for value in data:\n",
        "        opacity = 1 - (max_value - value) / (max_value - min_value) * range_of_opacity\n",
        "        colors.append(rgb_to_rgba(rgb_base, opacity))\n",
        "\n",
        "    # Create a Plotly Figure object with a bar chart\n",
        "    fig = go.Figure(\n",
        "        data=[go.Bar(\n",
        "            y=data.values,\n",
        "            x=data.index,\n",
        "            marker=dict(color=colors),\n",
        "            text=data.values,\n",
        "            textposition='auto'\n",
        "        )],\n",
        "        layout=go.Layout(\n",
        "            title={\n",
        "                'text': description_of_title,\n",
        "                'font': {'family': 'Arial', 'size': 35},\n",
        "                'x': 0.5,\n",
        "                'xanchor': 'center'\n",
        "            },\n",
        "            width=1200,\n",
        "            height=600,\n",
        "            hovermode='y unified',\n",
        "            xaxis_title={\n",
        "                'text': description_of_xaxis,\n",
        "                'font': {'family': 'Arial', 'size': 20}\n",
        "            },\n",
        "            yaxis_title={\n",
        "                'text': description_of_yaxis,\n",
        "                'font': {'family': 'Arial', 'size': 20}\n",
        "            }\n",
        "        )\n",
        "    )\n",
        "\n",
        "    # Return the Plotly Figure object\n",
        "    return fig\n"
      ]
    },
    {
      "cell_type": "code",
      "source": [
        "def players_with_nations(dataframe, players_to_get_their_nations):\n",
        "    \"\"\"\n",
        "    Returns a list of strings describing each player's name and their corresponding nation.\n",
        "\n",
        "    This function takes a DataFrame containing player data and a list of player names. For each\n",
        "    player in the list, it retrieves the player's nation by calling the `nation_of_the_player`\n",
        "    function. It then formats a string combining the player's name and nation. If a player's nation\n",
        "    data is missing, the function returns a default message indicating the absence of nation data.\n",
        "\n",
        "    Parameters:\n",
        "    - dataframe (pd.DataFrame): The DataFrame containing player data with columns for 'Name'\n",
        "      and 'Country'.\n",
        "    - players_to_get_their_nations (list of str): A list of player names for whom the nation\n",
        "      information is required.\n",
        "\n",
        "    Returns:\n",
        "    - list of str: A list of formatted strings for each player, e.g.,\n",
        "      \"[Player Name] and their nation is [Nation]\". If no nation data is found for a player,\n",
        "      it returns \"[Player Name] has no nation data\".\n",
        "\n",
        "\n",
        "    \"\"\"\n",
        "    result = []\n",
        "    for player in players_to_get_their_nations:\n",
        "        # Get the nation for each player using nation_of_the_player\n",
        "        nation = nation_of_the_player(dataframe, 'Name', player)\n",
        "        # If the nation exists, format the string\n",
        "        if nation:\n",
        "            result.append(f\"{player} and its nation is {nation[0]}\")\n",
        "        else:\n",
        "            result.append(f\"{player} has no nation data\")\n",
        "    return result\n"
      ],
      "metadata": {
        "id": "nhu_NlogX7Qv"
      },
      "execution_count": 25,
      "outputs": []
    },
    {
      "cell_type": "code",
      "source": [
        "def players_with_clubs(dataframe, players_to_get_their_clubs):\n",
        "    \"\"\"\n",
        "    Retrieves each player's club information and formats it into a descriptive list.\n",
        "\n",
        "    This function takes a DataFrame and a list of player names, retrieves the club\n",
        "    for each player using `club_of_the_player`, and then formats a description for\n",
        "    each player indicating their name and club. If a player's club data is missing,\n",
        "    the function notes this in the result.\n",
        "\n",
        "    Parameters:\n",
        "    - dataframe (pd.DataFrame): The DataFrame containing player data with 'Name' and 'Club' columns.\n",
        "    - players_to_get_their_clubs (list of str): A list of player names to retrieve clubs for.\n",
        "\n",
        "    Returns:\n",
        "    - list of str: A list of strings where each entry includes the player's name and their club,\n",
        "      or a message indicating that club data is unavailable.\n",
        "    \"\"\"\n",
        "    result = []\n",
        "    for player in players_to_get_their_clubs:\n",
        "        # Get the club for each player using club_of_the_player\n",
        "        club = club_of_the_player(dataframe, 'Name', player)\n",
        "        # If the club exists, format the string\n",
        "        if club:\n",
        "            result.append(f\"{player} and its club is {club[0]}\")\n",
        "        else:\n",
        "            result.append(f\"{player} has no club data\")\n",
        "    return result\n"
      ],
      "metadata": {
        "id": "QZzgUKTcYzQM"
      },
      "execution_count": 26,
      "outputs": []
    },
    {
      "cell_type": "code",
      "source": [
        "def create_club_players_table(dataframe, column):\n",
        "    \"\"\"\n",
        "    Creates an interactive Plotly scatter plot that simulates a table with dropdown buttons for each club or country.\n",
        "\n",
        "    This function generates a scatter plot where players are displayed based on their club or country,\n",
        "    allowing users to switch between different clubs or countries using dropdown menus. It provides\n",
        "    additional information about players by indicating their respective nations or clubs.\n",
        "\n",
        "    Note:\n",
        "    It is preferable to use this function to filter by 'Club' or 'Country' only.\n",
        "    If used for filtering by 'Position', the plot and text may interfere with each other due to the\n",
        "    large number of players in each position.\n",
        "\n",
        "    Parameters:\n",
        "    - dataframe (pd.DataFrame): The DataFrame containing player data, including clubs, countries, and names.\n",
        "    - column (str): The column to filter by. It should be either 'Club' or 'Country'.\n",
        "\n",
        "    Returns:\n",
        "    - fig (plotly.graph_objs.Figure): A Plotly Figure object containing the interactive plot.\n",
        "\n",
        "    Example:\n",
        "    >>> fig = create_club_players_table(df, 'Club')\n",
        "    >>> fig.show()\n",
        "    \"\"\"\n",
        "    title_of_the_plot = \"\"\n",
        "    title_of_xaxis = \"\"\n",
        "\n",
        "    # Get the unique clubs or countries\n",
        "    unique_filters = dataframe[column].unique()\n",
        "\n",
        "    # Create an initial empty figure\n",
        "    fig = go.Figure()\n",
        "\n",
        "    # Add initial data (e.g., for the first club in the list)\n",
        "    initial_filter = unique_filters[0]\n",
        "    initial_players = who_is_the_player(dataframe, column, initial_filter)\n",
        "\n",
        "    if column == 'Club':\n",
        "        title_of_the_plot = \"Clubs with Players\"\n",
        "        title_of_xaxis = \"Club\"\n",
        "        players_to_show = players_with_nations(dataframe, initial_players)\n",
        "    elif column == 'Country':\n",
        "        title_of_the_plot = \"Countries with Players\"\n",
        "        title_of_xaxis = \"Country\"\n",
        "        players_to_show = players_with_clubs(dataframe, initial_players)\n",
        "    else:\n",
        "        title_of_the_plot = \"Players\"\n",
        "        title_of_xaxis = \"Player\"\n",
        "        players_to_show = initial_players\n",
        "\n",
        "    fig.add_trace(go.Scatter(\n",
        "        x=[initial_filter] * len(initial_players),\n",
        "        y=initial_players,\n",
        "        mode='markers+text',\n",
        "        marker=dict(size=10, color='blue'),\n",
        "        text=players_to_show,\n",
        "        textposition='top center',\n",
        "        name=initial_filter\n",
        "    ))\n",
        "\n",
        "    # Update layout with buttons\n",
        "    buttons = []\n",
        "    for unique_filter in unique_filters:\n",
        "        players = who_is_the_player(dataframe, column, unique_filter)\n",
        "        if column == 'Club':\n",
        "            players_to_show_in = players_with_nations(dataframe, players)\n",
        "        elif column == 'Country':\n",
        "            players_to_show_in = players_with_clubs(dataframe, players)\n",
        "        else:\n",
        "            players_to_show_in = players\n",
        "\n",
        "        buttons.append(dict(\n",
        "            method='restyle',\n",
        "            label=unique_filter,\n",
        "            args=[{\n",
        "                'x': [[unique_filter] * len(players)],\n",
        "                'y': [players],\n",
        "                'text': [players_to_show_in]\n",
        "            }]\n",
        "        ))\n",
        "\n",
        "    fig.update_layout(\n",
        "        updatemenus=[dict(\n",
        "            buttons=buttons,\n",
        "            direction='down',\n",
        "            showactive=True,\n",
        "            x=0.17,  # Position from the left (0 to 1)\n",
        "            xanchor='left',\n",
        "            y=1.15,  # Position from the bottom (0 to 1)\n",
        "            yanchor='top',\n",
        "            pad={'r': 10, 't': 10},\n",
        "            bgcolor='lightgray',\n",
        "            bordercolor='gray',\n",
        "            borderwidth=2\n",
        "        )],\n",
        "        title={'text': title_of_the_plot, 'font': {'size': 26, 'family': 'Arial'}},\n",
        "        xaxis_title={'text': title_of_xaxis, 'font': {'size': 18, 'family': 'Arial'}},\n",
        "        yaxis_title={'text': 'Players', 'font': {'size': 18, 'family': 'Arial'}},\n",
        "        height=600,\n",
        "        width=800,\n",
        "        showlegend=False,\n",
        "    )\n",
        "\n",
        "    return fig\n"
      ],
      "metadata": {
        "id": "UnJZx_txjRNz"
      },
      "execution_count": 27,
      "outputs": []
    },
    {
      "cell_type": "markdown",
      "metadata": {
        "id": "vr6EP7cynpNv"
      },
      "source": [
        "# **Load data**"
      ]
    },
    {
      "cell_type": "markdown",
      "metadata": {
        "id": "XTwSnSpZdulF"
      },
      "source": [
        "Path of the datase on my drive"
      ]
    },
    {
      "cell_type": "code",
      "execution_count": 28,
      "metadata": {
        "id": "zKW5VQx8n7CQ"
      },
      "outputs": [],
      "source": [
        "path_of_data='/content/drive/MyDrive/Players_Euro2024/euro2024_players.csv'"
      ]
    },
    {
      "cell_type": "markdown",
      "metadata": {
        "id": "Ps7gC-HFeMoO"
      },
      "source": [
        "Load player data from a CSV file into a Pandas DataFrame"
      ]
    },
    {
      "cell_type": "code",
      "execution_count": 29,
      "metadata": {
        "id": "wYZrzMTens6o"
      },
      "outputs": [],
      "source": [
        "data_of_players=pd.read_csv(path_of_data)"
      ]
    },
    {
      "cell_type": "markdown",
      "metadata": {
        "id": "C7BpUVazoN0Y"
      },
      "source": [
        "# **Data Cleaning and Preprocessing**"
      ]
    },
    {
      "cell_type": "markdown",
      "metadata": {
        "id": "KtXOfxJPej7Y"
      },
      "source": [
        "Display the first few rows of the DataFrame to preview the data"
      ]
    },
    {
      "cell_type": "code",
      "execution_count": 30,
      "metadata": {
        "colab": {
          "base_uri": "https://localhost:8080/",
          "height": 0
        },
        "id": "M-iuY5J7oRzo",
        "outputId": "4cbe6dc2-6ed1-46ac-b4ae-ac6db389b8ef"
      },
      "outputs": [
        {
          "output_type": "execute_result",
          "data": {
            "text/plain": [
              "                    Name     Position  Age                 Club  Height  \\\n",
              "0  Marc-André ter Stegen   Goalkeeper   32         FC Barcelona     187   \n",
              "1           Manuel Neuer   Goalkeeper   38        Bayern Munich     193   \n",
              "2         Oliver Baumann   Goalkeeper   34  TSG 1899 Hoffenheim     187   \n",
              "3     Nico Schlotterbeck  Centre-Back   24    Borussia Dortmund     191   \n",
              "4           Jonathan Tah  Centre-Back   28  Bayer 04 Leverkusen     195   \n",
              "\n",
              "    Foot  Caps  Goals  MarketValue  Country  \n",
              "0  right    40      0     28000000  Germany  \n",
              "1  right   119      0      4000000  Germany  \n",
              "2  right     0      0      3000000  Germany  \n",
              "3   left    12      0     40000000  Germany  \n",
              "4  right    25      0     30000000  Germany  "
            ],
            "text/html": [
              "\n",
              "  <div id=\"df-765dec50-56af-4faf-9fc6-3036c425d118\" class=\"colab-df-container\">\n",
              "    <div>\n",
              "<style scoped>\n",
              "    .dataframe tbody tr th:only-of-type {\n",
              "        vertical-align: middle;\n",
              "    }\n",
              "\n",
              "    .dataframe tbody tr th {\n",
              "        vertical-align: top;\n",
              "    }\n",
              "\n",
              "    .dataframe thead th {\n",
              "        text-align: right;\n",
              "    }\n",
              "</style>\n",
              "<table border=\"1\" class=\"dataframe\">\n",
              "  <thead>\n",
              "    <tr style=\"text-align: right;\">\n",
              "      <th></th>\n",
              "      <th>Name</th>\n",
              "      <th>Position</th>\n",
              "      <th>Age</th>\n",
              "      <th>Club</th>\n",
              "      <th>Height</th>\n",
              "      <th>Foot</th>\n",
              "      <th>Caps</th>\n",
              "      <th>Goals</th>\n",
              "      <th>MarketValue</th>\n",
              "      <th>Country</th>\n",
              "    </tr>\n",
              "  </thead>\n",
              "  <tbody>\n",
              "    <tr>\n",
              "      <th>0</th>\n",
              "      <td>Marc-André ter Stegen</td>\n",
              "      <td>Goalkeeper</td>\n",
              "      <td>32</td>\n",
              "      <td>FC Barcelona</td>\n",
              "      <td>187</td>\n",
              "      <td>right</td>\n",
              "      <td>40</td>\n",
              "      <td>0</td>\n",
              "      <td>28000000</td>\n",
              "      <td>Germany</td>\n",
              "    </tr>\n",
              "    <tr>\n",
              "      <th>1</th>\n",
              "      <td>Manuel Neuer</td>\n",
              "      <td>Goalkeeper</td>\n",
              "      <td>38</td>\n",
              "      <td>Bayern Munich</td>\n",
              "      <td>193</td>\n",
              "      <td>right</td>\n",
              "      <td>119</td>\n",
              "      <td>0</td>\n",
              "      <td>4000000</td>\n",
              "      <td>Germany</td>\n",
              "    </tr>\n",
              "    <tr>\n",
              "      <th>2</th>\n",
              "      <td>Oliver Baumann</td>\n",
              "      <td>Goalkeeper</td>\n",
              "      <td>34</td>\n",
              "      <td>TSG 1899 Hoffenheim</td>\n",
              "      <td>187</td>\n",
              "      <td>right</td>\n",
              "      <td>0</td>\n",
              "      <td>0</td>\n",
              "      <td>3000000</td>\n",
              "      <td>Germany</td>\n",
              "    </tr>\n",
              "    <tr>\n",
              "      <th>3</th>\n",
              "      <td>Nico Schlotterbeck</td>\n",
              "      <td>Centre-Back</td>\n",
              "      <td>24</td>\n",
              "      <td>Borussia Dortmund</td>\n",
              "      <td>191</td>\n",
              "      <td>left</td>\n",
              "      <td>12</td>\n",
              "      <td>0</td>\n",
              "      <td>40000000</td>\n",
              "      <td>Germany</td>\n",
              "    </tr>\n",
              "    <tr>\n",
              "      <th>4</th>\n",
              "      <td>Jonathan Tah</td>\n",
              "      <td>Centre-Back</td>\n",
              "      <td>28</td>\n",
              "      <td>Bayer 04 Leverkusen</td>\n",
              "      <td>195</td>\n",
              "      <td>right</td>\n",
              "      <td>25</td>\n",
              "      <td>0</td>\n",
              "      <td>30000000</td>\n",
              "      <td>Germany</td>\n",
              "    </tr>\n",
              "  </tbody>\n",
              "</table>\n",
              "</div>\n",
              "    <div class=\"colab-df-buttons\">\n",
              "\n",
              "  <div class=\"colab-df-container\">\n",
              "    <button class=\"colab-df-convert\" onclick=\"convertToInteractive('df-765dec50-56af-4faf-9fc6-3036c425d118')\"\n",
              "            title=\"Convert this dataframe to an interactive table.\"\n",
              "            style=\"display:none;\">\n",
              "\n",
              "  <svg xmlns=\"http://www.w3.org/2000/svg\" height=\"24px\" viewBox=\"0 -960 960 960\">\n",
              "    <path d=\"M120-120v-720h720v720H120Zm60-500h600v-160H180v160Zm220 220h160v-160H400v160Zm0 220h160v-160H400v160ZM180-400h160v-160H180v160Zm440 0h160v-160H620v160ZM180-180h160v-160H180v160Zm440 0h160v-160H620v160Z\"/>\n",
              "  </svg>\n",
              "    </button>\n",
              "\n",
              "  <style>\n",
              "    .colab-df-container {\n",
              "      display:flex;\n",
              "      gap: 12px;\n",
              "    }\n",
              "\n",
              "    .colab-df-convert {\n",
              "      background-color: #E8F0FE;\n",
              "      border: none;\n",
              "      border-radius: 50%;\n",
              "      cursor: pointer;\n",
              "      display: none;\n",
              "      fill: #1967D2;\n",
              "      height: 32px;\n",
              "      padding: 0 0 0 0;\n",
              "      width: 32px;\n",
              "    }\n",
              "\n",
              "    .colab-df-convert:hover {\n",
              "      background-color: #E2EBFA;\n",
              "      box-shadow: 0px 1px 2px rgba(60, 64, 67, 0.3), 0px 1px 3px 1px rgba(60, 64, 67, 0.15);\n",
              "      fill: #174EA6;\n",
              "    }\n",
              "\n",
              "    .colab-df-buttons div {\n",
              "      margin-bottom: 4px;\n",
              "    }\n",
              "\n",
              "    [theme=dark] .colab-df-convert {\n",
              "      background-color: #3B4455;\n",
              "      fill: #D2E3FC;\n",
              "    }\n",
              "\n",
              "    [theme=dark] .colab-df-convert:hover {\n",
              "      background-color: #434B5C;\n",
              "      box-shadow: 0px 1px 3px 1px rgba(0, 0, 0, 0.15);\n",
              "      filter: drop-shadow(0px 1px 2px rgba(0, 0, 0, 0.3));\n",
              "      fill: #FFFFFF;\n",
              "    }\n",
              "  </style>\n",
              "\n",
              "    <script>\n",
              "      const buttonEl =\n",
              "        document.querySelector('#df-765dec50-56af-4faf-9fc6-3036c425d118 button.colab-df-convert');\n",
              "      buttonEl.style.display =\n",
              "        google.colab.kernel.accessAllowed ? 'block' : 'none';\n",
              "\n",
              "      async function convertToInteractive(key) {\n",
              "        const element = document.querySelector('#df-765dec50-56af-4faf-9fc6-3036c425d118');\n",
              "        const dataTable =\n",
              "          await google.colab.kernel.invokeFunction('convertToInteractive',\n",
              "                                                    [key], {});\n",
              "        if (!dataTable) return;\n",
              "\n",
              "        const docLinkHtml = 'Like what you see? Visit the ' +\n",
              "          '<a target=\"_blank\" href=https://colab.research.google.com/notebooks/data_table.ipynb>data table notebook</a>'\n",
              "          + ' to learn more about interactive tables.';\n",
              "        element.innerHTML = '';\n",
              "        dataTable['output_type'] = 'display_data';\n",
              "        await google.colab.output.renderOutput(dataTable, element);\n",
              "        const docLink = document.createElement('div');\n",
              "        docLink.innerHTML = docLinkHtml;\n",
              "        element.appendChild(docLink);\n",
              "      }\n",
              "    </script>\n",
              "  </div>\n",
              "\n",
              "\n",
              "<div id=\"df-dfe4ba50-956e-45b6-875f-eb8af712594c\">\n",
              "  <button class=\"colab-df-quickchart\" onclick=\"quickchart('df-dfe4ba50-956e-45b6-875f-eb8af712594c')\"\n",
              "            title=\"Suggest charts\"\n",
              "            style=\"display:none;\">\n",
              "\n",
              "<svg xmlns=\"http://www.w3.org/2000/svg\" height=\"24px\"viewBox=\"0 0 24 24\"\n",
              "     width=\"24px\">\n",
              "    <g>\n",
              "        <path d=\"M19 3H5c-1.1 0-2 .9-2 2v14c0 1.1.9 2 2 2h14c1.1 0 2-.9 2-2V5c0-1.1-.9-2-2-2zM9 17H7v-7h2v7zm4 0h-2V7h2v10zm4 0h-2v-4h2v4z\"/>\n",
              "    </g>\n",
              "</svg>\n",
              "  </button>\n",
              "\n",
              "<style>\n",
              "  .colab-df-quickchart {\n",
              "      --bg-color: #E8F0FE;\n",
              "      --fill-color: #1967D2;\n",
              "      --hover-bg-color: #E2EBFA;\n",
              "      --hover-fill-color: #174EA6;\n",
              "      --disabled-fill-color: #AAA;\n",
              "      --disabled-bg-color: #DDD;\n",
              "  }\n",
              "\n",
              "  [theme=dark] .colab-df-quickchart {\n",
              "      --bg-color: #3B4455;\n",
              "      --fill-color: #D2E3FC;\n",
              "      --hover-bg-color: #434B5C;\n",
              "      --hover-fill-color: #FFFFFF;\n",
              "      --disabled-bg-color: #3B4455;\n",
              "      --disabled-fill-color: #666;\n",
              "  }\n",
              "\n",
              "  .colab-df-quickchart {\n",
              "    background-color: var(--bg-color);\n",
              "    border: none;\n",
              "    border-radius: 50%;\n",
              "    cursor: pointer;\n",
              "    display: none;\n",
              "    fill: var(--fill-color);\n",
              "    height: 32px;\n",
              "    padding: 0;\n",
              "    width: 32px;\n",
              "  }\n",
              "\n",
              "  .colab-df-quickchart:hover {\n",
              "    background-color: var(--hover-bg-color);\n",
              "    box-shadow: 0 1px 2px rgba(60, 64, 67, 0.3), 0 1px 3px 1px rgba(60, 64, 67, 0.15);\n",
              "    fill: var(--button-hover-fill-color);\n",
              "  }\n",
              "\n",
              "  .colab-df-quickchart-complete:disabled,\n",
              "  .colab-df-quickchart-complete:disabled:hover {\n",
              "    background-color: var(--disabled-bg-color);\n",
              "    fill: var(--disabled-fill-color);\n",
              "    box-shadow: none;\n",
              "  }\n",
              "\n",
              "  .colab-df-spinner {\n",
              "    border: 2px solid var(--fill-color);\n",
              "    border-color: transparent;\n",
              "    border-bottom-color: var(--fill-color);\n",
              "    animation:\n",
              "      spin 1s steps(1) infinite;\n",
              "  }\n",
              "\n",
              "  @keyframes spin {\n",
              "    0% {\n",
              "      border-color: transparent;\n",
              "      border-bottom-color: var(--fill-color);\n",
              "      border-left-color: var(--fill-color);\n",
              "    }\n",
              "    20% {\n",
              "      border-color: transparent;\n",
              "      border-left-color: var(--fill-color);\n",
              "      border-top-color: var(--fill-color);\n",
              "    }\n",
              "    30% {\n",
              "      border-color: transparent;\n",
              "      border-left-color: var(--fill-color);\n",
              "      border-top-color: var(--fill-color);\n",
              "      border-right-color: var(--fill-color);\n",
              "    }\n",
              "    40% {\n",
              "      border-color: transparent;\n",
              "      border-right-color: var(--fill-color);\n",
              "      border-top-color: var(--fill-color);\n",
              "    }\n",
              "    60% {\n",
              "      border-color: transparent;\n",
              "      border-right-color: var(--fill-color);\n",
              "    }\n",
              "    80% {\n",
              "      border-color: transparent;\n",
              "      border-right-color: var(--fill-color);\n",
              "      border-bottom-color: var(--fill-color);\n",
              "    }\n",
              "    90% {\n",
              "      border-color: transparent;\n",
              "      border-bottom-color: var(--fill-color);\n",
              "    }\n",
              "  }\n",
              "</style>\n",
              "\n",
              "  <script>\n",
              "    async function quickchart(key) {\n",
              "      const quickchartButtonEl =\n",
              "        document.querySelector('#' + key + ' button');\n",
              "      quickchartButtonEl.disabled = true;  // To prevent multiple clicks.\n",
              "      quickchartButtonEl.classList.add('colab-df-spinner');\n",
              "      try {\n",
              "        const charts = await google.colab.kernel.invokeFunction(\n",
              "            'suggestCharts', [key], {});\n",
              "      } catch (error) {\n",
              "        console.error('Error during call to suggestCharts:', error);\n",
              "      }\n",
              "      quickchartButtonEl.classList.remove('colab-df-spinner');\n",
              "      quickchartButtonEl.classList.add('colab-df-quickchart-complete');\n",
              "    }\n",
              "    (() => {\n",
              "      let quickchartButtonEl =\n",
              "        document.querySelector('#df-dfe4ba50-956e-45b6-875f-eb8af712594c button');\n",
              "      quickchartButtonEl.style.display =\n",
              "        google.colab.kernel.accessAllowed ? 'block' : 'none';\n",
              "    })();\n",
              "  </script>\n",
              "</div>\n",
              "\n",
              "    </div>\n",
              "  </div>\n"
            ],
            "application/vnd.google.colaboratory.intrinsic+json": {
              "type": "dataframe",
              "variable_name": "data_of_players",
              "summary": "{\n  \"name\": \"data_of_players\",\n  \"rows\": 623,\n  \"fields\": [\n    {\n      \"column\": \"Name\",\n      \"properties\": {\n        \"dtype\": \"string\",\n        \"num_unique_values\": 623,\n        \"samples\": [\n          \"Adam Wharton\",\n          \"Giorgi Kochorashvili\",\n          \"Ernest Muci\"\n        ],\n        \"semantic_type\": \"\",\n        \"description\": \"\"\n      }\n    },\n    {\n      \"column\": \"Position\",\n      \"properties\": {\n        \"dtype\": \"category\",\n        \"num_unique_values\": 13,\n        \"samples\": [\n          \"Right Midfield\",\n          \"Second Striker\",\n          \"Goalkeeper\"\n        ],\n        \"semantic_type\": \"\",\n        \"description\": \"\"\n      }\n    },\n    {\n      \"column\": \"Age\",\n      \"properties\": {\n        \"dtype\": \"number\",\n        \"std\": 4,\n        \"min\": 16,\n        \"max\": 41,\n        \"num_unique_values\": 24,\n        \"samples\": [\n          29,\n          35,\n          32\n        ],\n        \"semantic_type\": \"\",\n        \"description\": \"\"\n      }\n    },\n    {\n      \"column\": \"Club\",\n      \"properties\": {\n        \"dtype\": \"category\",\n        \"num_unique_values\": 219,\n        \"samples\": [\n          \"Girona FC\",\n          \"SS Lazio\",\n          \"Wolverhampton Wanderers\"\n        ],\n        \"semantic_type\": \"\",\n        \"description\": \"\"\n      }\n    },\n    {\n      \"column\": \"Height\",\n      \"properties\": {\n        \"dtype\": \"number\",\n        \"std\": 6,\n        \"min\": 167,\n        \"max\": 202,\n        \"num_unique_values\": 34,\n        \"samples\": [\n          192,\n          170,\n          169\n        ],\n        \"semantic_type\": \"\",\n        \"description\": \"\"\n      }\n    },\n    {\n      \"column\": \"Foot\",\n      \"properties\": {\n        \"dtype\": \"category\",\n        \"num_unique_values\": 4,\n        \"samples\": [\n          \"left\",\n          \"-\",\n          \"right\"\n        ],\n        \"semantic_type\": \"\",\n        \"description\": \"\"\n      }\n    },\n    {\n      \"column\": \"Caps\",\n      \"properties\": {\n        \"dtype\": \"number\",\n        \"std\": 30,\n        \"min\": 0,\n        \"max\": 206,\n        \"num_unique_values\": 113,\n        \"samples\": [\n          64,\n          25,\n          26\n        ],\n        \"semantic_type\": \"\",\n        \"description\": \"\"\n      }\n    },\n    {\n      \"column\": \"Goals\",\n      \"properties\": {\n        \"dtype\": \"number\",\n        \"std\": 10,\n        \"min\": 0,\n        \"max\": 128,\n        \"num_unique_values\": 39,\n        \"samples\": [\n          44,\n          46,\n          18\n        ],\n        \"semantic_type\": \"\",\n        \"description\": \"\"\n      }\n    },\n    {\n      \"column\": \"MarketValue\",\n      \"properties\": {\n        \"dtype\": \"number\",\n        \"std\": 24261948,\n        \"min\": 50000,\n        \"max\": 180000000,\n        \"num_unique_values\": 83,\n        \"samples\": [\n          75000000,\n          28000000,\n          7500000\n        ],\n        \"semantic_type\": \"\",\n        \"description\": \"\"\n      }\n    },\n    {\n      \"column\": \"Country\",\n      \"properties\": {\n        \"dtype\": \"category\",\n        \"num_unique_values\": 24,\n        \"samples\": [\n          \"Slovenia\",\n          \"Belgium\",\n          \"Germany\"\n        ],\n        \"semantic_type\": \"\",\n        \"description\": \"\"\n      }\n    }\n  ]\n}"
            }
          },
          "metadata": {},
          "execution_count": 30
        }
      ],
      "source": [
        "data_of_players.head()"
      ]
    },
    {
      "cell_type": "markdown",
      "metadata": {
        "id": "66xiP0Mhe3M8"
      },
      "source": [
        "Display a summary of the DataFrame including data types, non-null counts, and memory usage"
      ]
    },
    {
      "cell_type": "code",
      "execution_count": 31,
      "metadata": {
        "colab": {
          "base_uri": "https://localhost:8080/"
        },
        "id": "T4Z59cwRobjA",
        "outputId": "8934484a-7edf-4e6b-ef91-1384a9e888e9"
      },
      "outputs": [
        {
          "output_type": "stream",
          "name": "stdout",
          "text": [
            "<class 'pandas.core.frame.DataFrame'>\n",
            "RangeIndex: 623 entries, 0 to 622\n",
            "Data columns (total 10 columns):\n",
            " #   Column       Non-Null Count  Dtype \n",
            "---  ------       --------------  ----- \n",
            " 0   Name         623 non-null    object\n",
            " 1   Position     623 non-null    object\n",
            " 2   Age          623 non-null    int64 \n",
            " 3   Club         623 non-null    object\n",
            " 4   Height       623 non-null    int64 \n",
            " 5   Foot         620 non-null    object\n",
            " 6   Caps         623 non-null    int64 \n",
            " 7   Goals        623 non-null    int64 \n",
            " 8   MarketValue  623 non-null    int64 \n",
            " 9   Country      623 non-null    object\n",
            "dtypes: int64(5), object(5)\n",
            "memory usage: 48.8+ KB\n"
          ]
        }
      ],
      "source": [
        "data_of_players.info()"
      ]
    },
    {
      "cell_type": "markdown",
      "metadata": {
        "id": "7Yax6SlofG7G"
      },
      "source": [
        "Calculate and display the number of missing (NaN) values in each column of the DataFrame"
      ]
    },
    {
      "cell_type": "code",
      "execution_count": 32,
      "metadata": {
        "colab": {
          "base_uri": "https://localhost:8080/",
          "height": 0
        },
        "id": "L2ipnv8lqlIB",
        "outputId": "1277c5d8-64cf-4bf8-8efc-1d9c8ab04ad9"
      },
      "outputs": [
        {
          "output_type": "execute_result",
          "data": {
            "text/plain": [
              "Name           0\n",
              "Position       0\n",
              "Age            0\n",
              "Club           0\n",
              "Height         0\n",
              "Foot           3\n",
              "Caps           0\n",
              "Goals          0\n",
              "MarketValue    0\n",
              "Country        0\n",
              "dtype: int64"
            ],
            "text/html": [
              "<div>\n",
              "<style scoped>\n",
              "    .dataframe tbody tr th:only-of-type {\n",
              "        vertical-align: middle;\n",
              "    }\n",
              "\n",
              "    .dataframe tbody tr th {\n",
              "        vertical-align: top;\n",
              "    }\n",
              "\n",
              "    .dataframe thead th {\n",
              "        text-align: right;\n",
              "    }\n",
              "</style>\n",
              "<table border=\"1\" class=\"dataframe\">\n",
              "  <thead>\n",
              "    <tr style=\"text-align: right;\">\n",
              "      <th></th>\n",
              "      <th>0</th>\n",
              "    </tr>\n",
              "  </thead>\n",
              "  <tbody>\n",
              "    <tr>\n",
              "      <th>Name</th>\n",
              "      <td>0</td>\n",
              "    </tr>\n",
              "    <tr>\n",
              "      <th>Position</th>\n",
              "      <td>0</td>\n",
              "    </tr>\n",
              "    <tr>\n",
              "      <th>Age</th>\n",
              "      <td>0</td>\n",
              "    </tr>\n",
              "    <tr>\n",
              "      <th>Club</th>\n",
              "      <td>0</td>\n",
              "    </tr>\n",
              "    <tr>\n",
              "      <th>Height</th>\n",
              "      <td>0</td>\n",
              "    </tr>\n",
              "    <tr>\n",
              "      <th>Foot</th>\n",
              "      <td>3</td>\n",
              "    </tr>\n",
              "    <tr>\n",
              "      <th>Caps</th>\n",
              "      <td>0</td>\n",
              "    </tr>\n",
              "    <tr>\n",
              "      <th>Goals</th>\n",
              "      <td>0</td>\n",
              "    </tr>\n",
              "    <tr>\n",
              "      <th>MarketValue</th>\n",
              "      <td>0</td>\n",
              "    </tr>\n",
              "    <tr>\n",
              "      <th>Country</th>\n",
              "      <td>0</td>\n",
              "    </tr>\n",
              "  </tbody>\n",
              "</table>\n",
              "</div><br><label><b>dtype:</b> int64</label>"
            ]
          },
          "metadata": {},
          "execution_count": 32
        }
      ],
      "source": [
        "data_of_players.isna().sum()"
      ]
    },
    {
      "cell_type": "markdown",
      "metadata": {
        "id": "uORlYlkIfNTF"
      },
      "source": [
        "Retrieve and display the column names of the DataFrame"
      ]
    },
    {
      "cell_type": "code",
      "execution_count": 33,
      "metadata": {
        "colab": {
          "base_uri": "https://localhost:8080/"
        },
        "id": "Uy5kwtg1ohlo",
        "outputId": "a218eb59-291b-4d50-e602-d708b96d71b2"
      },
      "outputs": [
        {
          "output_type": "execute_result",
          "data": {
            "text/plain": [
              "Index(['Name', 'Position', 'Age', 'Club', 'Height', 'Foot', 'Caps', 'Goals',\n",
              "       'MarketValue', 'Country'],\n",
              "      dtype='object')"
            ]
          },
          "metadata": {},
          "execution_count": 33
        }
      ],
      "source": [
        "data_of_players.columns"
      ]
    },
    {
      "cell_type": "code",
      "execution_count": 34,
      "metadata": {
        "colab": {
          "base_uri": "https://localhost:8080/",
          "height": 0
        },
        "id": "4y17eVeOpGpa",
        "outputId": "30f226c0-282a-4df3-8b6d-4aeae9b36926"
      },
      "outputs": [
        {
          "output_type": "execute_result",
          "data": {
            "text/plain": [
              "Position\n",
              "Centre-Back           125\n",
              "Central Midfield       81\n",
              "Centre-Forward         77\n",
              "Goalkeeper             72\n",
              "Defensive Midfield     50\n",
              "Attacking Midfield     48\n",
              "Left Winger            44\n",
              "Right-Back             43\n",
              "Right Winger           35\n",
              "Left-Back              33\n",
              "Right Midfield          6\n",
              "Second Striker          5\n",
              "Left Midfield           4\n",
              "Name: count, dtype: int64"
            ],
            "text/html": [
              "<div>\n",
              "<style scoped>\n",
              "    .dataframe tbody tr th:only-of-type {\n",
              "        vertical-align: middle;\n",
              "    }\n",
              "\n",
              "    .dataframe tbody tr th {\n",
              "        vertical-align: top;\n",
              "    }\n",
              "\n",
              "    .dataframe thead th {\n",
              "        text-align: right;\n",
              "    }\n",
              "</style>\n",
              "<table border=\"1\" class=\"dataframe\">\n",
              "  <thead>\n",
              "    <tr style=\"text-align: right;\">\n",
              "      <th></th>\n",
              "      <th>count</th>\n",
              "    </tr>\n",
              "    <tr>\n",
              "      <th>Position</th>\n",
              "      <th></th>\n",
              "    </tr>\n",
              "  </thead>\n",
              "  <tbody>\n",
              "    <tr>\n",
              "      <th>Centre-Back</th>\n",
              "      <td>125</td>\n",
              "    </tr>\n",
              "    <tr>\n",
              "      <th>Central Midfield</th>\n",
              "      <td>81</td>\n",
              "    </tr>\n",
              "    <tr>\n",
              "      <th>Centre-Forward</th>\n",
              "      <td>77</td>\n",
              "    </tr>\n",
              "    <tr>\n",
              "      <th>Goalkeeper</th>\n",
              "      <td>72</td>\n",
              "    </tr>\n",
              "    <tr>\n",
              "      <th>Defensive Midfield</th>\n",
              "      <td>50</td>\n",
              "    </tr>\n",
              "    <tr>\n",
              "      <th>Attacking Midfield</th>\n",
              "      <td>48</td>\n",
              "    </tr>\n",
              "    <tr>\n",
              "      <th>Left Winger</th>\n",
              "      <td>44</td>\n",
              "    </tr>\n",
              "    <tr>\n",
              "      <th>Right-Back</th>\n",
              "      <td>43</td>\n",
              "    </tr>\n",
              "    <tr>\n",
              "      <th>Right Winger</th>\n",
              "      <td>35</td>\n",
              "    </tr>\n",
              "    <tr>\n",
              "      <th>Left-Back</th>\n",
              "      <td>33</td>\n",
              "    </tr>\n",
              "    <tr>\n",
              "      <th>Right Midfield</th>\n",
              "      <td>6</td>\n",
              "    </tr>\n",
              "    <tr>\n",
              "      <th>Second Striker</th>\n",
              "      <td>5</td>\n",
              "    </tr>\n",
              "    <tr>\n",
              "      <th>Left Midfield</th>\n",
              "      <td>4</td>\n",
              "    </tr>\n",
              "  </tbody>\n",
              "</table>\n",
              "</div><br><label><b>dtype:</b> int64</label>"
            ]
          },
          "metadata": {},
          "execution_count": 34
        }
      ],
      "source": [
        "data_of_players['Position'].value_counts()"
      ]
    },
    {
      "cell_type": "code",
      "execution_count": 35,
      "metadata": {
        "colab": {
          "base_uri": "https://localhost:8080/",
          "height": 0
        },
        "collapsed": true,
        "id": "Dgt7Sj9jpu1K",
        "outputId": "8d6feb69-e201-4451-c49f-992d67f289dd"
      },
      "outputs": [
        {
          "output_type": "stream",
          "name": "stdout",
          "text": [
            "Column name: Name\n",
            "Name\n",
            "Marc-André ter Stegen    1\n",
            "Thomas Kaminski          1\n",
            "Kylian Mbappé            1\n",
            "Marcus Thuram            1\n",
            "Randal Kolo Muani        1\n",
            "                        ..\n",
            "Jan Oblak                1\n",
            "Vid Belec                1\n",
            "Igor Vekic               1\n",
            "Jaka Bijol               1\n",
            "Tomas Chory              1\n",
            "Name: count, Length: 623, dtype: int64\n",
            "\n",
            "Column name: Position\n",
            "Position\n",
            "Centre-Back           125\n",
            "Central Midfield       81\n",
            "Centre-Forward         77\n",
            "Goalkeeper             72\n",
            "Defensive Midfield     50\n",
            "Attacking Midfield     48\n",
            "Left Winger            44\n",
            "Right-Back             43\n",
            "Right Winger           35\n",
            "Left-Back              33\n",
            "Right Midfield          6\n",
            "Second Striker          5\n",
            "Left Midfield           4\n",
            "Name: count, dtype: int64\n",
            "\n",
            "Column name: Age\n",
            "Age\n",
            "25    62\n",
            "27    59\n",
            "26    58\n",
            "28    56\n",
            "24    52\n",
            "29    44\n",
            "23    42\n",
            "30    36\n",
            "31    36\n",
            "32    35\n",
            "21    31\n",
            "22    29\n",
            "34    17\n",
            "33    15\n",
            "20    12\n",
            "35    12\n",
            "19     6\n",
            "36     5\n",
            "37     5\n",
            "38     4\n",
            "18     4\n",
            "16     1\n",
            "41     1\n",
            "39     1\n",
            "Name: count, dtype: int64\n",
            "\n",
            "Column name: Club\n",
            "Club\n",
            "Manchester City          13\n",
            "Inter Milan              13\n",
            "FC Barcelona             12\n",
            "Real Madrid              12\n",
            "Paris Saint-Germain      12\n",
            "                         ..\n",
            "FC Südtirol               1\n",
            "NK Olimpija Ljubljana     1\n",
            "Barnsley FC               1\n",
            "NK Celje                  1\n",
            "Twente Enschede FC        1\n",
            "Name: count, Length: 219, dtype: int64\n",
            "\n",
            "Column name: Height\n",
            "Height\n",
            "188    43\n",
            "178    42\n",
            "185    39\n",
            "190    38\n",
            "180    38\n",
            "182    32\n",
            "186    32\n",
            "183    32\n",
            "187    31\n",
            "189    31\n",
            "191    31\n",
            "184    25\n",
            "175    24\n",
            "181    23\n",
            "192    19\n",
            "177    15\n",
            "179    15\n",
            "193    13\n",
            "173    12\n",
            "174    11\n",
            "196    11\n",
            "194    11\n",
            "172    10\n",
            "195    10\n",
            "176     6\n",
            "170     6\n",
            "171     5\n",
            "197     5\n",
            "169     4\n",
            "199     4\n",
            "168     2\n",
            "167     1\n",
            "202     1\n",
            "198     1\n",
            "Name: count, dtype: int64\n",
            "\n",
            "Column name: Foot\n",
            "Foot\n",
            "right    436\n",
            "left     150\n",
            "both      31\n",
            "-          3\n",
            "Name: count, dtype: int64\n",
            "\n",
            "Column name: Caps\n",
            "Caps\n",
            "1      37\n",
            "3      27\n",
            "2      22\n",
            "6      17\n",
            "4      16\n",
            "       ..\n",
            "119     1\n",
            "122     1\n",
            "66      1\n",
            "124     1\n",
            "206     1\n",
            "Name: count, Length: 113, dtype: int64\n",
            "\n",
            "Column name: Goals\n",
            "Goals\n",
            "0      253\n",
            "1       94\n",
            "2       70\n",
            "3       44\n",
            "4       23\n",
            "8       19\n",
            "5       16\n",
            "6       14\n",
            "11      12\n",
            "7       12\n",
            "13       7\n",
            "12       7\n",
            "9        7\n",
            "10       7\n",
            "17       5\n",
            "18       3\n",
            "14       3\n",
            "22       2\n",
            "28       2\n",
            "57       2\n",
            "15       2\n",
            "45       2\n",
            "20       1\n",
            "83       1\n",
            "27       1\n",
            "44       1\n",
            "47       1\n",
            "36       1\n",
            "46       1\n",
            "19       1\n",
            "82       1\n",
            "41       1\n",
            "63       1\n",
            "33       1\n",
            "24       1\n",
            "34       1\n",
            "31       1\n",
            "16       1\n",
            "128      1\n",
            "Name: count, dtype: int64\n",
            "\n",
            "Column name: MarketValue\n",
            "MarketValue\n",
            "5000000      28\n",
            "3000000      26\n",
            "2500000      26\n",
            "30000000     25\n",
            "10000000     25\n",
            "             ..\n",
            "150000000     1\n",
            "2400000       1\n",
            "200000        1\n",
            "130000000     1\n",
            "3200000       1\n",
            "Name: count, Length: 83, dtype: int64\n",
            "\n",
            "Column name: Country\n",
            "Country\n",
            "Poland            27\n",
            "Serbia            26\n",
            "Portugal          26\n",
            "Georgia           26\n",
            "Turkiye           26\n",
            "Ukraine           26\n",
            "Romania           26\n",
            "Slovakia          26\n",
            "Austria           26\n",
            "Netherlands       26\n",
            "Scotland          26\n",
            "Germany           26\n",
            "Denmark           26\n",
            "England           26\n",
            "Slovenia          26\n",
            "Italy             26\n",
            "Albania           26\n",
            "Croatia           26\n",
            "Spain             26\n",
            "Switzerland       26\n",
            "Hungary           26\n",
            "Czech Republic    26\n",
            "France            25\n",
            "Belgium           25\n",
            "Name: count, dtype: int64\n",
            "\n"
          ]
        },
        {
          "output_type": "execute_result",
          "data": {
            "text/plain": [
              "Name           None\n",
              "Position       None\n",
              "Age            None\n",
              "Club           None\n",
              "Height         None\n",
              "Foot           None\n",
              "Caps           None\n",
              "Goals          None\n",
              "MarketValue    None\n",
              "Country        None\n",
              "dtype: object"
            ],
            "text/html": [
              "<div>\n",
              "<style scoped>\n",
              "    .dataframe tbody tr th:only-of-type {\n",
              "        vertical-align: middle;\n",
              "    }\n",
              "\n",
              "    .dataframe tbody tr th {\n",
              "        vertical-align: top;\n",
              "    }\n",
              "\n",
              "    .dataframe thead th {\n",
              "        text-align: right;\n",
              "    }\n",
              "</style>\n",
              "<table border=\"1\" class=\"dataframe\">\n",
              "  <thead>\n",
              "    <tr style=\"text-align: right;\">\n",
              "      <th></th>\n",
              "      <th>0</th>\n",
              "    </tr>\n",
              "  </thead>\n",
              "  <tbody>\n",
              "    <tr>\n",
              "      <th>Name</th>\n",
              "      <td>None</td>\n",
              "    </tr>\n",
              "    <tr>\n",
              "      <th>Position</th>\n",
              "      <td>None</td>\n",
              "    </tr>\n",
              "    <tr>\n",
              "      <th>Age</th>\n",
              "      <td>None</td>\n",
              "    </tr>\n",
              "    <tr>\n",
              "      <th>Club</th>\n",
              "      <td>None</td>\n",
              "    </tr>\n",
              "    <tr>\n",
              "      <th>Height</th>\n",
              "      <td>None</td>\n",
              "    </tr>\n",
              "    <tr>\n",
              "      <th>Foot</th>\n",
              "      <td>None</td>\n",
              "    </tr>\n",
              "    <tr>\n",
              "      <th>Caps</th>\n",
              "      <td>None</td>\n",
              "    </tr>\n",
              "    <tr>\n",
              "      <th>Goals</th>\n",
              "      <td>None</td>\n",
              "    </tr>\n",
              "    <tr>\n",
              "      <th>MarketValue</th>\n",
              "      <td>None</td>\n",
              "    </tr>\n",
              "    <tr>\n",
              "      <th>Country</th>\n",
              "      <td>None</td>\n",
              "    </tr>\n",
              "  </tbody>\n",
              "</table>\n",
              "</div><br><label><b>dtype:</b> object</label>"
            ]
          },
          "metadata": {},
          "execution_count": 35
        }
      ],
      "source": [
        "data_of_players.apply(lambda column: print(f'Column name: {column.name}\\n{column.value_counts()}\\n'))\n"
      ]
    },
    {
      "cell_type": "markdown",
      "metadata": {
        "id": "vYEj1DeXgGwP"
      },
      "source": [
        "Check the unique values in the 'Foot' column, cause this column contains 3 NANs,\n",
        "so we want to know what is the categories that exist in this columns to fill that NANs data"
      ]
    },
    {
      "cell_type": "code",
      "execution_count": 36,
      "metadata": {
        "colab": {
          "base_uri": "https://localhost:8080/"
        },
        "id": "SuZSL47wrZWC",
        "outputId": "a6a93fa2-8b44-4bb1-ed3a-5f56d2fba4d4"
      },
      "outputs": [
        {
          "output_type": "stream",
          "name": "stdout",
          "text": [
            "Unique categories in the 'Foot' column: ['right' 'left' 'both' nan '-']\n"
          ]
        }
      ],
      "source": [
        "foot_categories = data_of_players['Foot'].unique()\n",
        "print(\"Unique categories in the 'Foot' column:\", foot_categories)"
      ]
    },
    {
      "cell_type": "markdown",
      "metadata": {
        "id": "A8oupob6gcWd"
      },
      "source": [
        "Count the occurrences of each category in the `'Foot'` column"
      ]
    },
    {
      "cell_type": "code",
      "execution_count": 37,
      "metadata": {
        "colab": {
          "base_uri": "https://localhost:8080/"
        },
        "id": "hQ9qxKOoszfB",
        "outputId": "158ab323-6356-472b-a5ea-74ea39965a8d"
      },
      "outputs": [
        {
          "output_type": "stream",
          "name": "stdout",
          "text": [
            "Counts of each category in the 'Foot' column:\n",
            "Foot\n",
            "right    436\n",
            "left     150\n",
            "both      31\n",
            "-          3\n",
            "Name: count, dtype: int64\n"
          ]
        }
      ],
      "source": [
        "foot_counts = data_of_players['Foot'].value_counts()\n",
        "print(\"Counts of each category in the 'Foot' column:\")\n",
        "print(foot_counts)"
      ]
    },
    {
      "cell_type": "markdown",
      "metadata": {
        "id": "5lvXd_enggjl"
      },
      "source": [
        "Combine both conditions to display rows with either NaN or '-' values to know how many vaues are missing"
      ]
    },
    {
      "cell_type": "code",
      "execution_count": 38,
      "metadata": {
        "id": "TJowT6LHtN05"
      },
      "outputs": [],
      "source": [
        "combined_rows = data_of_players[data_of_players['Foot'].isna() | (data_of_players['Foot'] == '-')]\n"
      ]
    },
    {
      "cell_type": "markdown",
      "metadata": {
        "id": "GpzJhoP7g6Tv"
      },
      "source": [
        "Retrieve and display the dimensions of the DataFrame (number of rows and columns), to know the number of missing values"
      ]
    },
    {
      "cell_type": "code",
      "execution_count": 39,
      "metadata": {
        "colab": {
          "base_uri": "https://localhost:8080/"
        },
        "id": "WJ4TrG1TtWqJ",
        "outputId": "0f98bb08-5290-40ff-d025-24ca54c6001e"
      },
      "outputs": [
        {
          "output_type": "execute_result",
          "data": {
            "text/plain": [
              "(6, 10)"
            ]
          },
          "metadata": {},
          "execution_count": 39
        }
      ],
      "source": [
        "combined_rows.shape\n"
      ]
    },
    {
      "cell_type": "markdown",
      "metadata": {
        "id": "RaVH7ijUwWF9"
      },
      "source": [
        "This line of code displays the first 6 rows of the `combined_rows` DataFrame.\n",
        "\n"
      ]
    },
    {
      "cell_type": "code",
      "execution_count": 40,
      "metadata": {
        "colab": {
          "base_uri": "https://localhost:8080/",
          "height": 0
        },
        "id": "MGGXrcf0t9rK",
        "outputId": "ef78f220-df05-44f8-a695-5c70b82946b3"
      },
      "outputs": [
        {
          "output_type": "execute_result",
          "data": {
            "text/plain": [
              "                  Name          Position  Age               Club  Height Foot  \\\n",
              "390  Maximilian Entrup    Centre-Forward   26       TSV Hartberg     186  NaN   \n",
              "418    Thomas Kaminski        Goalkeeper   31         Luton Town     190  NaN   \n",
              "472   Bogdan Racovițan       Centre-Back   24  Raków Częstochowa     187  NaN   \n",
              "610         Lukas Cerv  Central Midfield   23  FC Viktoria Plzen     182    -   \n",
              "616      Matej Jurasek      Right Winger   20   SK Slavia Prague     181    -   \n",
              "620      Mojmír Chytil    Centre-Forward   25   SK Slavia Prague     187    -   \n",
              "\n",
              "     Caps  Goals  MarketValue         Country  \n",
              "390     2      1      2000000         Austria  \n",
              "418     1      0      3000000         Belgium  \n",
              "472     2      0      1800000         Romania  \n",
              "610     0      0      1500000  Czech Republic  \n",
              "616     1      0      8000000  Czech Republic  \n",
              "620    12      4      6500000  Czech Republic  "
            ],
            "text/html": [
              "\n",
              "  <div id=\"df-398baa07-d502-444c-be5c-b900933e59ba\" class=\"colab-df-container\">\n",
              "    <div>\n",
              "<style scoped>\n",
              "    .dataframe tbody tr th:only-of-type {\n",
              "        vertical-align: middle;\n",
              "    }\n",
              "\n",
              "    .dataframe tbody tr th {\n",
              "        vertical-align: top;\n",
              "    }\n",
              "\n",
              "    .dataframe thead th {\n",
              "        text-align: right;\n",
              "    }\n",
              "</style>\n",
              "<table border=\"1\" class=\"dataframe\">\n",
              "  <thead>\n",
              "    <tr style=\"text-align: right;\">\n",
              "      <th></th>\n",
              "      <th>Name</th>\n",
              "      <th>Position</th>\n",
              "      <th>Age</th>\n",
              "      <th>Club</th>\n",
              "      <th>Height</th>\n",
              "      <th>Foot</th>\n",
              "      <th>Caps</th>\n",
              "      <th>Goals</th>\n",
              "      <th>MarketValue</th>\n",
              "      <th>Country</th>\n",
              "    </tr>\n",
              "  </thead>\n",
              "  <tbody>\n",
              "    <tr>\n",
              "      <th>390</th>\n",
              "      <td>Maximilian Entrup</td>\n",
              "      <td>Centre-Forward</td>\n",
              "      <td>26</td>\n",
              "      <td>TSV Hartberg</td>\n",
              "      <td>186</td>\n",
              "      <td>NaN</td>\n",
              "      <td>2</td>\n",
              "      <td>1</td>\n",
              "      <td>2000000</td>\n",
              "      <td>Austria</td>\n",
              "    </tr>\n",
              "    <tr>\n",
              "      <th>418</th>\n",
              "      <td>Thomas Kaminski</td>\n",
              "      <td>Goalkeeper</td>\n",
              "      <td>31</td>\n",
              "      <td>Luton Town</td>\n",
              "      <td>190</td>\n",
              "      <td>NaN</td>\n",
              "      <td>1</td>\n",
              "      <td>0</td>\n",
              "      <td>3000000</td>\n",
              "      <td>Belgium</td>\n",
              "    </tr>\n",
              "    <tr>\n",
              "      <th>472</th>\n",
              "      <td>Bogdan Racovițan</td>\n",
              "      <td>Centre-Back</td>\n",
              "      <td>24</td>\n",
              "      <td>Raków Częstochowa</td>\n",
              "      <td>187</td>\n",
              "      <td>NaN</td>\n",
              "      <td>2</td>\n",
              "      <td>0</td>\n",
              "      <td>1800000</td>\n",
              "      <td>Romania</td>\n",
              "    </tr>\n",
              "    <tr>\n",
              "      <th>610</th>\n",
              "      <td>Lukas Cerv</td>\n",
              "      <td>Central Midfield</td>\n",
              "      <td>23</td>\n",
              "      <td>FC Viktoria Plzen</td>\n",
              "      <td>182</td>\n",
              "      <td>-</td>\n",
              "      <td>0</td>\n",
              "      <td>0</td>\n",
              "      <td>1500000</td>\n",
              "      <td>Czech Republic</td>\n",
              "    </tr>\n",
              "    <tr>\n",
              "      <th>616</th>\n",
              "      <td>Matej Jurasek</td>\n",
              "      <td>Right Winger</td>\n",
              "      <td>20</td>\n",
              "      <td>SK Slavia Prague</td>\n",
              "      <td>181</td>\n",
              "      <td>-</td>\n",
              "      <td>1</td>\n",
              "      <td>0</td>\n",
              "      <td>8000000</td>\n",
              "      <td>Czech Republic</td>\n",
              "    </tr>\n",
              "    <tr>\n",
              "      <th>620</th>\n",
              "      <td>Mojmír Chytil</td>\n",
              "      <td>Centre-Forward</td>\n",
              "      <td>25</td>\n",
              "      <td>SK Slavia Prague</td>\n",
              "      <td>187</td>\n",
              "      <td>-</td>\n",
              "      <td>12</td>\n",
              "      <td>4</td>\n",
              "      <td>6500000</td>\n",
              "      <td>Czech Republic</td>\n",
              "    </tr>\n",
              "  </tbody>\n",
              "</table>\n",
              "</div>\n",
              "    <div class=\"colab-df-buttons\">\n",
              "\n",
              "  <div class=\"colab-df-container\">\n",
              "    <button class=\"colab-df-convert\" onclick=\"convertToInteractive('df-398baa07-d502-444c-be5c-b900933e59ba')\"\n",
              "            title=\"Convert this dataframe to an interactive table.\"\n",
              "            style=\"display:none;\">\n",
              "\n",
              "  <svg xmlns=\"http://www.w3.org/2000/svg\" height=\"24px\" viewBox=\"0 -960 960 960\">\n",
              "    <path d=\"M120-120v-720h720v720H120Zm60-500h600v-160H180v160Zm220 220h160v-160H400v160Zm0 220h160v-160H400v160ZM180-400h160v-160H180v160Zm440 0h160v-160H620v160ZM180-180h160v-160H180v160Zm440 0h160v-160H620v160Z\"/>\n",
              "  </svg>\n",
              "    </button>\n",
              "\n",
              "  <style>\n",
              "    .colab-df-container {\n",
              "      display:flex;\n",
              "      gap: 12px;\n",
              "    }\n",
              "\n",
              "    .colab-df-convert {\n",
              "      background-color: #E8F0FE;\n",
              "      border: none;\n",
              "      border-radius: 50%;\n",
              "      cursor: pointer;\n",
              "      display: none;\n",
              "      fill: #1967D2;\n",
              "      height: 32px;\n",
              "      padding: 0 0 0 0;\n",
              "      width: 32px;\n",
              "    }\n",
              "\n",
              "    .colab-df-convert:hover {\n",
              "      background-color: #E2EBFA;\n",
              "      box-shadow: 0px 1px 2px rgba(60, 64, 67, 0.3), 0px 1px 3px 1px rgba(60, 64, 67, 0.15);\n",
              "      fill: #174EA6;\n",
              "    }\n",
              "\n",
              "    .colab-df-buttons div {\n",
              "      margin-bottom: 4px;\n",
              "    }\n",
              "\n",
              "    [theme=dark] .colab-df-convert {\n",
              "      background-color: #3B4455;\n",
              "      fill: #D2E3FC;\n",
              "    }\n",
              "\n",
              "    [theme=dark] .colab-df-convert:hover {\n",
              "      background-color: #434B5C;\n",
              "      box-shadow: 0px 1px 3px 1px rgba(0, 0, 0, 0.15);\n",
              "      filter: drop-shadow(0px 1px 2px rgba(0, 0, 0, 0.3));\n",
              "      fill: #FFFFFF;\n",
              "    }\n",
              "  </style>\n",
              "\n",
              "    <script>\n",
              "      const buttonEl =\n",
              "        document.querySelector('#df-398baa07-d502-444c-be5c-b900933e59ba button.colab-df-convert');\n",
              "      buttonEl.style.display =\n",
              "        google.colab.kernel.accessAllowed ? 'block' : 'none';\n",
              "\n",
              "      async function convertToInteractive(key) {\n",
              "        const element = document.querySelector('#df-398baa07-d502-444c-be5c-b900933e59ba');\n",
              "        const dataTable =\n",
              "          await google.colab.kernel.invokeFunction('convertToInteractive',\n",
              "                                                    [key], {});\n",
              "        if (!dataTable) return;\n",
              "\n",
              "        const docLinkHtml = 'Like what you see? Visit the ' +\n",
              "          '<a target=\"_blank\" href=https://colab.research.google.com/notebooks/data_table.ipynb>data table notebook</a>'\n",
              "          + ' to learn more about interactive tables.';\n",
              "        element.innerHTML = '';\n",
              "        dataTable['output_type'] = 'display_data';\n",
              "        await google.colab.output.renderOutput(dataTable, element);\n",
              "        const docLink = document.createElement('div');\n",
              "        docLink.innerHTML = docLinkHtml;\n",
              "        element.appendChild(docLink);\n",
              "      }\n",
              "    </script>\n",
              "  </div>\n",
              "\n",
              "\n",
              "<div id=\"df-ecc09012-773d-45b8-b003-ba4bc68d0d61\">\n",
              "  <button class=\"colab-df-quickchart\" onclick=\"quickchart('df-ecc09012-773d-45b8-b003-ba4bc68d0d61')\"\n",
              "            title=\"Suggest charts\"\n",
              "            style=\"display:none;\">\n",
              "\n",
              "<svg xmlns=\"http://www.w3.org/2000/svg\" height=\"24px\"viewBox=\"0 0 24 24\"\n",
              "     width=\"24px\">\n",
              "    <g>\n",
              "        <path d=\"M19 3H5c-1.1 0-2 .9-2 2v14c0 1.1.9 2 2 2h14c1.1 0 2-.9 2-2V5c0-1.1-.9-2-2-2zM9 17H7v-7h2v7zm4 0h-2V7h2v10zm4 0h-2v-4h2v4z\"/>\n",
              "    </g>\n",
              "</svg>\n",
              "  </button>\n",
              "\n",
              "<style>\n",
              "  .colab-df-quickchart {\n",
              "      --bg-color: #E8F0FE;\n",
              "      --fill-color: #1967D2;\n",
              "      --hover-bg-color: #E2EBFA;\n",
              "      --hover-fill-color: #174EA6;\n",
              "      --disabled-fill-color: #AAA;\n",
              "      --disabled-bg-color: #DDD;\n",
              "  }\n",
              "\n",
              "  [theme=dark] .colab-df-quickchart {\n",
              "      --bg-color: #3B4455;\n",
              "      --fill-color: #D2E3FC;\n",
              "      --hover-bg-color: #434B5C;\n",
              "      --hover-fill-color: #FFFFFF;\n",
              "      --disabled-bg-color: #3B4455;\n",
              "      --disabled-fill-color: #666;\n",
              "  }\n",
              "\n",
              "  .colab-df-quickchart {\n",
              "    background-color: var(--bg-color);\n",
              "    border: none;\n",
              "    border-radius: 50%;\n",
              "    cursor: pointer;\n",
              "    display: none;\n",
              "    fill: var(--fill-color);\n",
              "    height: 32px;\n",
              "    padding: 0;\n",
              "    width: 32px;\n",
              "  }\n",
              "\n",
              "  .colab-df-quickchart:hover {\n",
              "    background-color: var(--hover-bg-color);\n",
              "    box-shadow: 0 1px 2px rgba(60, 64, 67, 0.3), 0 1px 3px 1px rgba(60, 64, 67, 0.15);\n",
              "    fill: var(--button-hover-fill-color);\n",
              "  }\n",
              "\n",
              "  .colab-df-quickchart-complete:disabled,\n",
              "  .colab-df-quickchart-complete:disabled:hover {\n",
              "    background-color: var(--disabled-bg-color);\n",
              "    fill: var(--disabled-fill-color);\n",
              "    box-shadow: none;\n",
              "  }\n",
              "\n",
              "  .colab-df-spinner {\n",
              "    border: 2px solid var(--fill-color);\n",
              "    border-color: transparent;\n",
              "    border-bottom-color: var(--fill-color);\n",
              "    animation:\n",
              "      spin 1s steps(1) infinite;\n",
              "  }\n",
              "\n",
              "  @keyframes spin {\n",
              "    0% {\n",
              "      border-color: transparent;\n",
              "      border-bottom-color: var(--fill-color);\n",
              "      border-left-color: var(--fill-color);\n",
              "    }\n",
              "    20% {\n",
              "      border-color: transparent;\n",
              "      border-left-color: var(--fill-color);\n",
              "      border-top-color: var(--fill-color);\n",
              "    }\n",
              "    30% {\n",
              "      border-color: transparent;\n",
              "      border-left-color: var(--fill-color);\n",
              "      border-top-color: var(--fill-color);\n",
              "      border-right-color: var(--fill-color);\n",
              "    }\n",
              "    40% {\n",
              "      border-color: transparent;\n",
              "      border-right-color: var(--fill-color);\n",
              "      border-top-color: var(--fill-color);\n",
              "    }\n",
              "    60% {\n",
              "      border-color: transparent;\n",
              "      border-right-color: var(--fill-color);\n",
              "    }\n",
              "    80% {\n",
              "      border-color: transparent;\n",
              "      border-right-color: var(--fill-color);\n",
              "      border-bottom-color: var(--fill-color);\n",
              "    }\n",
              "    90% {\n",
              "      border-color: transparent;\n",
              "      border-bottom-color: var(--fill-color);\n",
              "    }\n",
              "  }\n",
              "</style>\n",
              "\n",
              "  <script>\n",
              "    async function quickchart(key) {\n",
              "      const quickchartButtonEl =\n",
              "        document.querySelector('#' + key + ' button');\n",
              "      quickchartButtonEl.disabled = true;  // To prevent multiple clicks.\n",
              "      quickchartButtonEl.classList.add('colab-df-spinner');\n",
              "      try {\n",
              "        const charts = await google.colab.kernel.invokeFunction(\n",
              "            'suggestCharts', [key], {});\n",
              "      } catch (error) {\n",
              "        console.error('Error during call to suggestCharts:', error);\n",
              "      }\n",
              "      quickchartButtonEl.classList.remove('colab-df-spinner');\n",
              "      quickchartButtonEl.classList.add('colab-df-quickchart-complete');\n",
              "    }\n",
              "    (() => {\n",
              "      let quickchartButtonEl =\n",
              "        document.querySelector('#df-ecc09012-773d-45b8-b003-ba4bc68d0d61 button');\n",
              "      quickchartButtonEl.style.display =\n",
              "        google.colab.kernel.accessAllowed ? 'block' : 'none';\n",
              "    })();\n",
              "  </script>\n",
              "</div>\n",
              "\n",
              "    </div>\n",
              "  </div>\n"
            ],
            "application/vnd.google.colaboratory.intrinsic+json": {
              "type": "dataframe",
              "variable_name": "combined_rows",
              "summary": "{\n  \"name\": \"combined_rows\",\n  \"rows\": 6,\n  \"fields\": [\n    {\n      \"column\": \"Name\",\n      \"properties\": {\n        \"dtype\": \"string\",\n        \"num_unique_values\": 6,\n        \"samples\": [\n          \"Maximilian Entrup\",\n          \"Thomas Kaminski\",\n          \"Mojm\\u00edr Chytil\"\n        ],\n        \"semantic_type\": \"\",\n        \"description\": \"\"\n      }\n    },\n    {\n      \"column\": \"Position\",\n      \"properties\": {\n        \"dtype\": \"string\",\n        \"num_unique_values\": 5,\n        \"samples\": [\n          \"Goalkeeper\",\n          \"Right Winger\",\n          \"Centre-Back\"\n        ],\n        \"semantic_type\": \"\",\n        \"description\": \"\"\n      }\n    },\n    {\n      \"column\": \"Age\",\n      \"properties\": {\n        \"dtype\": \"number\",\n        \"std\": 3,\n        \"min\": 20,\n        \"max\": 31,\n        \"num_unique_values\": 6,\n        \"samples\": [\n          26,\n          31,\n          25\n        ],\n        \"semantic_type\": \"\",\n        \"description\": \"\"\n      }\n    },\n    {\n      \"column\": \"Club\",\n      \"properties\": {\n        \"dtype\": \"string\",\n        \"num_unique_values\": 5,\n        \"samples\": [\n          \"Luton Town\",\n          \"SK Slavia Prague\",\n          \"Rak\\u00f3w Cz\\u0119stochowa\"\n        ],\n        \"semantic_type\": \"\",\n        \"description\": \"\"\n      }\n    },\n    {\n      \"column\": \"Height\",\n      \"properties\": {\n        \"dtype\": \"number\",\n        \"std\": 3,\n        \"min\": 181,\n        \"max\": 190,\n        \"num_unique_values\": 5,\n        \"samples\": [\n          190,\n          181,\n          187\n        ],\n        \"semantic_type\": \"\",\n        \"description\": \"\"\n      }\n    },\n    {\n      \"column\": \"Foot\",\n      \"properties\": {\n        \"dtype\": \"category\",\n        \"num_unique_values\": 1,\n        \"samples\": [\n          \"-\"\n        ],\n        \"semantic_type\": \"\",\n        \"description\": \"\"\n      }\n    },\n    {\n      \"column\": \"Caps\",\n      \"properties\": {\n        \"dtype\": \"number\",\n        \"std\": 4,\n        \"min\": 0,\n        \"max\": 12,\n        \"num_unique_values\": 4,\n        \"samples\": [\n          1\n        ],\n        \"semantic_type\": \"\",\n        \"description\": \"\"\n      }\n    },\n    {\n      \"column\": \"Goals\",\n      \"properties\": {\n        \"dtype\": \"number\",\n        \"std\": 1,\n        \"min\": 0,\n        \"max\": 4,\n        \"num_unique_values\": 3,\n        \"samples\": [\n          1\n        ],\n        \"semantic_type\": \"\",\n        \"description\": \"\"\n      }\n    },\n    {\n      \"column\": \"MarketValue\",\n      \"properties\": {\n        \"dtype\": \"number\",\n        \"std\": 2760434,\n        \"min\": 1500000,\n        \"max\": 8000000,\n        \"num_unique_values\": 6,\n        \"samples\": [\n          2000000\n        ],\n        \"semantic_type\": \"\",\n        \"description\": \"\"\n      }\n    },\n    {\n      \"column\": \"Country\",\n      \"properties\": {\n        \"dtype\": \"string\",\n        \"num_unique_values\": 4,\n        \"samples\": [\n          \"Belgium\"\n        ],\n        \"semantic_type\": \"\",\n        \"description\": \"\"\n      }\n    }\n  ]\n}"
            }
          },
          "metadata": {},
          "execution_count": 40
        }
      ],
      "source": [
        "combined_rows.head(6)"
      ]
    },
    {
      "cell_type": "markdown",
      "metadata": {
        "id": "Lh7j5OY4wv4M"
      },
      "source": [
        "This code updates the `'Foot'` column in the `data_of_players` DataFrame with corrected values based on a predefined dictionary, The data updated by using FC24"
      ]
    },
    {
      "cell_type": "code",
      "execution_count": 41,
      "metadata": {
        "id": "MVs7Ap-ewNOa"
      },
      "outputs": [],
      "source": [
        "# Dictionary mapping player names to their correct 'Foot' values\n",
        "foot_corrections = {\n",
        "    'Maximilian Entrup': 'right',\n",
        "    'Thomas Kaminski': 'right',\n",
        "    'Bogdan Racovițan': 'right',\n",
        "    'Lukas Cerv':'right',\n",
        "    'Matej Jurasek':'left',\n",
        "    'Mojmír Chytil':'right',\n",
        "\n",
        "}\n",
        "\n",
        "# Update the 'Foot' column with the correct values\n",
        "data_of_players['Foot'] = data_of_players.apply(lambda row: foot_corrections[row['Name']] if row['Name'] in foot_corrections else row['Foot'], axis=1)\n",
        "\n"
      ]
    },
    {
      "cell_type": "markdown",
      "metadata": {
        "id": "oflsFyx9xeOU"
      },
      "source": [
        "Verify the updates by displaying rows with names that were corrected"
      ]
    },
    {
      "cell_type": "code",
      "execution_count": 42,
      "metadata": {
        "colab": {
          "base_uri": "https://localhost:8080/"
        },
        "id": "lEPA0OHnw6NK",
        "outputId": "99ad103e-2b1d-4dae-d50a-7ca777f68c31"
      },
      "outputs": [
        {
          "output_type": "stream",
          "name": "stdout",
          "text": [
            "                  Name          Position  Age               Club  Height  \\\n",
            "390  Maximilian Entrup    Centre-Forward   26       TSV Hartberg     186   \n",
            "418    Thomas Kaminski        Goalkeeper   31         Luton Town     190   \n",
            "472   Bogdan Racovițan       Centre-Back   24  Raków Częstochowa     187   \n",
            "610         Lukas Cerv  Central Midfield   23  FC Viktoria Plzen     182   \n",
            "616      Matej Jurasek      Right Winger   20   SK Slavia Prague     181   \n",
            "620      Mojmír Chytil    Centre-Forward   25   SK Slavia Prague     187   \n",
            "\n",
            "      Foot  Caps  Goals  MarketValue         Country  \n",
            "390  right     2      1      2000000         Austria  \n",
            "418  right     1      0      3000000         Belgium  \n",
            "472  right     2      0      1800000         Romania  \n",
            "610  right     0      0      1500000  Czech Republic  \n",
            "616   left     1      0      8000000  Czech Republic  \n",
            "620  right    12      4      6500000  Czech Republic  \n"
          ]
        }
      ],
      "source": [
        "# Verify the updates\n",
        "print(data_of_players[data_of_players['Name'].isin(foot_corrections.keys())])"
      ]
    },
    {
      "cell_type": "markdown",
      "metadata": {
        "id": "514X94h3xgL0"
      },
      "source": [
        "See the NANs again, to eensure that there are no NANs"
      ]
    },
    {
      "cell_type": "code",
      "execution_count": 43,
      "metadata": {
        "colab": {
          "base_uri": "https://localhost:8080/",
          "height": 0
        },
        "id": "rARhAAF9xRA7",
        "outputId": "bd1ba96b-c4af-4d2a-be6e-00b4a687bed1"
      },
      "outputs": [
        {
          "output_type": "execute_result",
          "data": {
            "text/plain": [
              "Name           0\n",
              "Position       0\n",
              "Age            0\n",
              "Club           0\n",
              "Height         0\n",
              "Foot           0\n",
              "Caps           0\n",
              "Goals          0\n",
              "MarketValue    0\n",
              "Country        0\n",
              "dtype: int64"
            ],
            "text/html": [
              "<div>\n",
              "<style scoped>\n",
              "    .dataframe tbody tr th:only-of-type {\n",
              "        vertical-align: middle;\n",
              "    }\n",
              "\n",
              "    .dataframe tbody tr th {\n",
              "        vertical-align: top;\n",
              "    }\n",
              "\n",
              "    .dataframe thead th {\n",
              "        text-align: right;\n",
              "    }\n",
              "</style>\n",
              "<table border=\"1\" class=\"dataframe\">\n",
              "  <thead>\n",
              "    <tr style=\"text-align: right;\">\n",
              "      <th></th>\n",
              "      <th>0</th>\n",
              "    </tr>\n",
              "  </thead>\n",
              "  <tbody>\n",
              "    <tr>\n",
              "      <th>Name</th>\n",
              "      <td>0</td>\n",
              "    </tr>\n",
              "    <tr>\n",
              "      <th>Position</th>\n",
              "      <td>0</td>\n",
              "    </tr>\n",
              "    <tr>\n",
              "      <th>Age</th>\n",
              "      <td>0</td>\n",
              "    </tr>\n",
              "    <tr>\n",
              "      <th>Club</th>\n",
              "      <td>0</td>\n",
              "    </tr>\n",
              "    <tr>\n",
              "      <th>Height</th>\n",
              "      <td>0</td>\n",
              "    </tr>\n",
              "    <tr>\n",
              "      <th>Foot</th>\n",
              "      <td>0</td>\n",
              "    </tr>\n",
              "    <tr>\n",
              "      <th>Caps</th>\n",
              "      <td>0</td>\n",
              "    </tr>\n",
              "    <tr>\n",
              "      <th>Goals</th>\n",
              "      <td>0</td>\n",
              "    </tr>\n",
              "    <tr>\n",
              "      <th>MarketValue</th>\n",
              "      <td>0</td>\n",
              "    </tr>\n",
              "    <tr>\n",
              "      <th>Country</th>\n",
              "      <td>0</td>\n",
              "    </tr>\n",
              "  </tbody>\n",
              "</table>\n",
              "</div><br><label><b>dtype:</b> int64</label>"
            ]
          },
          "metadata": {},
          "execution_count": 43
        }
      ],
      "source": [
        "data_of_players.isnull().sum()"
      ]
    },
    {
      "cell_type": "markdown",
      "metadata": {
        "id": "STSU3BDwxysz"
      },
      "source": [
        "# **Statistical Summary and Player Profiles**"
      ]
    },
    {
      "cell_type": "markdown",
      "metadata": {
        "id": "ICX6h459yR-W"
      },
      "source": [
        "A Statistical summary of the numeric columns in the `data_of_players` DataFrame, with the summary statistics transposed for easier readability."
      ]
    },
    {
      "cell_type": "markdown",
      "metadata": {
        "id": "0fNy4Gh4y-Ms"
      },
      "source": [
        "And From that description, we can know many information Like the maximum age is 41 and the minimum age is 16, and many information in the other numeric columns."
      ]
    },
    {
      "cell_type": "markdown",
      "metadata": {
        "id": "sUHBjkjh1UG9"
      },
      "source": [
        "SO we will those numeric data to make a useful insights and we will use `who_is_the_player` to know the player and that what we will see in the coming cells"
      ]
    },
    {
      "cell_type": "code",
      "execution_count": 44,
      "metadata": {
        "colab": {
          "base_uri": "https://localhost:8080/",
          "height": 206
        },
        "id": "g1WHCMsL8vGF",
        "outputId": "bf1a95cd-7f5e-4ef5-ff7a-d6229ef4b02f"
      },
      "outputs": [
        {
          "output_type": "execute_result",
          "data": {
            "text/plain": [
              "             count          mean           std      min        25%        50%  \\\n",
              "Age          623.0  2.704013e+01  4.124275e+00     16.0       24.0       27.0   \n",
              "Height       623.0  1.841814e+02  6.569258e+00    167.0      180.0      185.0   \n",
              "Caps         623.0  3.033868e+01  3.098790e+01      0.0        7.0       21.0   \n",
              "Goals        623.0  4.152488e+00  1.008680e+01      0.0        0.0        1.0   \n",
              "MarketValue  623.0  1.840903e+07  2.426195e+07  50000.0  2900000.0  9000000.0   \n",
              "\n",
              "                    75%          max  \n",
              "Age                30.0         41.0  \n",
              "Height            189.0        202.0  \n",
              "Caps               42.0        206.0  \n",
              "Goals               4.0        128.0  \n",
              "MarketValue  25000000.0  180000000.0  "
            ],
            "text/html": [
              "\n",
              "  <div id=\"df-a53d492a-1428-49ab-8cb6-206a2061ee8d\" class=\"colab-df-container\">\n",
              "    <div>\n",
              "<style scoped>\n",
              "    .dataframe tbody tr th:only-of-type {\n",
              "        vertical-align: middle;\n",
              "    }\n",
              "\n",
              "    .dataframe tbody tr th {\n",
              "        vertical-align: top;\n",
              "    }\n",
              "\n",
              "    .dataframe thead th {\n",
              "        text-align: right;\n",
              "    }\n",
              "</style>\n",
              "<table border=\"1\" class=\"dataframe\">\n",
              "  <thead>\n",
              "    <tr style=\"text-align: right;\">\n",
              "      <th></th>\n",
              "      <th>count</th>\n",
              "      <th>mean</th>\n",
              "      <th>std</th>\n",
              "      <th>min</th>\n",
              "      <th>25%</th>\n",
              "      <th>50%</th>\n",
              "      <th>75%</th>\n",
              "      <th>max</th>\n",
              "    </tr>\n",
              "  </thead>\n",
              "  <tbody>\n",
              "    <tr>\n",
              "      <th>Age</th>\n",
              "      <td>623.0</td>\n",
              "      <td>2.704013e+01</td>\n",
              "      <td>4.124275e+00</td>\n",
              "      <td>16.0</td>\n",
              "      <td>24.0</td>\n",
              "      <td>27.0</td>\n",
              "      <td>30.0</td>\n",
              "      <td>41.0</td>\n",
              "    </tr>\n",
              "    <tr>\n",
              "      <th>Height</th>\n",
              "      <td>623.0</td>\n",
              "      <td>1.841814e+02</td>\n",
              "      <td>6.569258e+00</td>\n",
              "      <td>167.0</td>\n",
              "      <td>180.0</td>\n",
              "      <td>185.0</td>\n",
              "      <td>189.0</td>\n",
              "      <td>202.0</td>\n",
              "    </tr>\n",
              "    <tr>\n",
              "      <th>Caps</th>\n",
              "      <td>623.0</td>\n",
              "      <td>3.033868e+01</td>\n",
              "      <td>3.098790e+01</td>\n",
              "      <td>0.0</td>\n",
              "      <td>7.0</td>\n",
              "      <td>21.0</td>\n",
              "      <td>42.0</td>\n",
              "      <td>206.0</td>\n",
              "    </tr>\n",
              "    <tr>\n",
              "      <th>Goals</th>\n",
              "      <td>623.0</td>\n",
              "      <td>4.152488e+00</td>\n",
              "      <td>1.008680e+01</td>\n",
              "      <td>0.0</td>\n",
              "      <td>0.0</td>\n",
              "      <td>1.0</td>\n",
              "      <td>4.0</td>\n",
              "      <td>128.0</td>\n",
              "    </tr>\n",
              "    <tr>\n",
              "      <th>MarketValue</th>\n",
              "      <td>623.0</td>\n",
              "      <td>1.840903e+07</td>\n",
              "      <td>2.426195e+07</td>\n",
              "      <td>50000.0</td>\n",
              "      <td>2900000.0</td>\n",
              "      <td>9000000.0</td>\n",
              "      <td>25000000.0</td>\n",
              "      <td>180000000.0</td>\n",
              "    </tr>\n",
              "  </tbody>\n",
              "</table>\n",
              "</div>\n",
              "    <div class=\"colab-df-buttons\">\n",
              "\n",
              "  <div class=\"colab-df-container\">\n",
              "    <button class=\"colab-df-convert\" onclick=\"convertToInteractive('df-a53d492a-1428-49ab-8cb6-206a2061ee8d')\"\n",
              "            title=\"Convert this dataframe to an interactive table.\"\n",
              "            style=\"display:none;\">\n",
              "\n",
              "  <svg xmlns=\"http://www.w3.org/2000/svg\" height=\"24px\" viewBox=\"0 -960 960 960\">\n",
              "    <path d=\"M120-120v-720h720v720H120Zm60-500h600v-160H180v160Zm220 220h160v-160H400v160Zm0 220h160v-160H400v160ZM180-400h160v-160H180v160Zm440 0h160v-160H620v160ZM180-180h160v-160H180v160Zm440 0h160v-160H620v160Z\"/>\n",
              "  </svg>\n",
              "    </button>\n",
              "\n",
              "  <style>\n",
              "    .colab-df-container {\n",
              "      display:flex;\n",
              "      gap: 12px;\n",
              "    }\n",
              "\n",
              "    .colab-df-convert {\n",
              "      background-color: #E8F0FE;\n",
              "      border: none;\n",
              "      border-radius: 50%;\n",
              "      cursor: pointer;\n",
              "      display: none;\n",
              "      fill: #1967D2;\n",
              "      height: 32px;\n",
              "      padding: 0 0 0 0;\n",
              "      width: 32px;\n",
              "    }\n",
              "\n",
              "    .colab-df-convert:hover {\n",
              "      background-color: #E2EBFA;\n",
              "      box-shadow: 0px 1px 2px rgba(60, 64, 67, 0.3), 0px 1px 3px 1px rgba(60, 64, 67, 0.15);\n",
              "      fill: #174EA6;\n",
              "    }\n",
              "\n",
              "    .colab-df-buttons div {\n",
              "      margin-bottom: 4px;\n",
              "    }\n",
              "\n",
              "    [theme=dark] .colab-df-convert {\n",
              "      background-color: #3B4455;\n",
              "      fill: #D2E3FC;\n",
              "    }\n",
              "\n",
              "    [theme=dark] .colab-df-convert:hover {\n",
              "      background-color: #434B5C;\n",
              "      box-shadow: 0px 1px 3px 1px rgba(0, 0, 0, 0.15);\n",
              "      filter: drop-shadow(0px 1px 2px rgba(0, 0, 0, 0.3));\n",
              "      fill: #FFFFFF;\n",
              "    }\n",
              "  </style>\n",
              "\n",
              "    <script>\n",
              "      const buttonEl =\n",
              "        document.querySelector('#df-a53d492a-1428-49ab-8cb6-206a2061ee8d button.colab-df-convert');\n",
              "      buttonEl.style.display =\n",
              "        google.colab.kernel.accessAllowed ? 'block' : 'none';\n",
              "\n",
              "      async function convertToInteractive(key) {\n",
              "        const element = document.querySelector('#df-a53d492a-1428-49ab-8cb6-206a2061ee8d');\n",
              "        const dataTable =\n",
              "          await google.colab.kernel.invokeFunction('convertToInteractive',\n",
              "                                                    [key], {});\n",
              "        if (!dataTable) return;\n",
              "\n",
              "        const docLinkHtml = 'Like what you see? Visit the ' +\n",
              "          '<a target=\"_blank\" href=https://colab.research.google.com/notebooks/data_table.ipynb>data table notebook</a>'\n",
              "          + ' to learn more about interactive tables.';\n",
              "        element.innerHTML = '';\n",
              "        dataTable['output_type'] = 'display_data';\n",
              "        await google.colab.output.renderOutput(dataTable, element);\n",
              "        const docLink = document.createElement('div');\n",
              "        docLink.innerHTML = docLinkHtml;\n",
              "        element.appendChild(docLink);\n",
              "      }\n",
              "    </script>\n",
              "  </div>\n",
              "\n",
              "\n",
              "<div id=\"df-66d38990-b54f-4128-ae3b-c21f03bfd3b1\">\n",
              "  <button class=\"colab-df-quickchart\" onclick=\"quickchart('df-66d38990-b54f-4128-ae3b-c21f03bfd3b1')\"\n",
              "            title=\"Suggest charts\"\n",
              "            style=\"display:none;\">\n",
              "\n",
              "<svg xmlns=\"http://www.w3.org/2000/svg\" height=\"24px\"viewBox=\"0 0 24 24\"\n",
              "     width=\"24px\">\n",
              "    <g>\n",
              "        <path d=\"M19 3H5c-1.1 0-2 .9-2 2v14c0 1.1.9 2 2 2h14c1.1 0 2-.9 2-2V5c0-1.1-.9-2-2-2zM9 17H7v-7h2v7zm4 0h-2V7h2v10zm4 0h-2v-4h2v4z\"/>\n",
              "    </g>\n",
              "</svg>\n",
              "  </button>\n",
              "\n",
              "<style>\n",
              "  .colab-df-quickchart {\n",
              "      --bg-color: #E8F0FE;\n",
              "      --fill-color: #1967D2;\n",
              "      --hover-bg-color: #E2EBFA;\n",
              "      --hover-fill-color: #174EA6;\n",
              "      --disabled-fill-color: #AAA;\n",
              "      --disabled-bg-color: #DDD;\n",
              "  }\n",
              "\n",
              "  [theme=dark] .colab-df-quickchart {\n",
              "      --bg-color: #3B4455;\n",
              "      --fill-color: #D2E3FC;\n",
              "      --hover-bg-color: #434B5C;\n",
              "      --hover-fill-color: #FFFFFF;\n",
              "      --disabled-bg-color: #3B4455;\n",
              "      --disabled-fill-color: #666;\n",
              "  }\n",
              "\n",
              "  .colab-df-quickchart {\n",
              "    background-color: var(--bg-color);\n",
              "    border: none;\n",
              "    border-radius: 50%;\n",
              "    cursor: pointer;\n",
              "    display: none;\n",
              "    fill: var(--fill-color);\n",
              "    height: 32px;\n",
              "    padding: 0;\n",
              "    width: 32px;\n",
              "  }\n",
              "\n",
              "  .colab-df-quickchart:hover {\n",
              "    background-color: var(--hover-bg-color);\n",
              "    box-shadow: 0 1px 2px rgba(60, 64, 67, 0.3), 0 1px 3px 1px rgba(60, 64, 67, 0.15);\n",
              "    fill: var(--button-hover-fill-color);\n",
              "  }\n",
              "\n",
              "  .colab-df-quickchart-complete:disabled,\n",
              "  .colab-df-quickchart-complete:disabled:hover {\n",
              "    background-color: var(--disabled-bg-color);\n",
              "    fill: var(--disabled-fill-color);\n",
              "    box-shadow: none;\n",
              "  }\n",
              "\n",
              "  .colab-df-spinner {\n",
              "    border: 2px solid var(--fill-color);\n",
              "    border-color: transparent;\n",
              "    border-bottom-color: var(--fill-color);\n",
              "    animation:\n",
              "      spin 1s steps(1) infinite;\n",
              "  }\n",
              "\n",
              "  @keyframes spin {\n",
              "    0% {\n",
              "      border-color: transparent;\n",
              "      border-bottom-color: var(--fill-color);\n",
              "      border-left-color: var(--fill-color);\n",
              "    }\n",
              "    20% {\n",
              "      border-color: transparent;\n",
              "      border-left-color: var(--fill-color);\n",
              "      border-top-color: var(--fill-color);\n",
              "    }\n",
              "    30% {\n",
              "      border-color: transparent;\n",
              "      border-left-color: var(--fill-color);\n",
              "      border-top-color: var(--fill-color);\n",
              "      border-right-color: var(--fill-color);\n",
              "    }\n",
              "    40% {\n",
              "      border-color: transparent;\n",
              "      border-right-color: var(--fill-color);\n",
              "      border-top-color: var(--fill-color);\n",
              "    }\n",
              "    60% {\n",
              "      border-color: transparent;\n",
              "      border-right-color: var(--fill-color);\n",
              "    }\n",
              "    80% {\n",
              "      border-color: transparent;\n",
              "      border-right-color: var(--fill-color);\n",
              "      border-bottom-color: var(--fill-color);\n",
              "    }\n",
              "    90% {\n",
              "      border-color: transparent;\n",
              "      border-bottom-color: var(--fill-color);\n",
              "    }\n",
              "  }\n",
              "</style>\n",
              "\n",
              "  <script>\n",
              "    async function quickchart(key) {\n",
              "      const quickchartButtonEl =\n",
              "        document.querySelector('#' + key + ' button');\n",
              "      quickchartButtonEl.disabled = true;  // To prevent multiple clicks.\n",
              "      quickchartButtonEl.classList.add('colab-df-spinner');\n",
              "      try {\n",
              "        const charts = await google.colab.kernel.invokeFunction(\n",
              "            'suggestCharts', [key], {});\n",
              "      } catch (error) {\n",
              "        console.error('Error during call to suggestCharts:', error);\n",
              "      }\n",
              "      quickchartButtonEl.classList.remove('colab-df-spinner');\n",
              "      quickchartButtonEl.classList.add('colab-df-quickchart-complete');\n",
              "    }\n",
              "    (() => {\n",
              "      let quickchartButtonEl =\n",
              "        document.querySelector('#df-66d38990-b54f-4128-ae3b-c21f03bfd3b1 button');\n",
              "      quickchartButtonEl.style.display =\n",
              "        google.colab.kernel.accessAllowed ? 'block' : 'none';\n",
              "    })();\n",
              "  </script>\n",
              "</div>\n",
              "\n",
              "    </div>\n",
              "  </div>\n"
            ],
            "application/vnd.google.colaboratory.intrinsic+json": {
              "type": "dataframe",
              "summary": "{\n  \"name\": \"data_of_players\",\n  \"rows\": 5,\n  \"fields\": [\n    {\n      \"column\": \"count\",\n      \"properties\": {\n        \"dtype\": \"number\",\n        \"std\": 0.0,\n        \"min\": 623.0,\n        \"max\": 623.0,\n        \"num_unique_values\": 1,\n        \"samples\": [\n          623.0\n        ],\n        \"semantic_type\": \"\",\n        \"description\": \"\"\n      }\n    },\n    {\n      \"column\": \"mean\",\n      \"properties\": {\n        \"dtype\": \"number\",\n        \"std\": 8232740.529456182,\n        \"min\": 4.152487961476726,\n        \"max\": 18409028.892455857,\n        \"num_unique_values\": 5,\n        \"samples\": [\n          184.18138041733548\n        ],\n        \"semantic_type\": \"\",\n        \"description\": \"\"\n      }\n    },\n    {\n      \"column\": \"std\",\n      \"properties\": {\n        \"dtype\": \"number\",\n        \"std\": 10850267.51818704,\n        \"min\": 4.124274619983543,\n        \"max\": 24261948.68677184,\n        \"num_unique_values\": 5,\n        \"samples\": [\n          6.569258036189993\n        ],\n        \"semantic_type\": \"\",\n        \"description\": \"\"\n      }\n    },\n    {\n      \"column\": \"min\",\n      \"properties\": {\n        \"dtype\": \"number\",\n        \"std\": 22340.33038699294,\n        \"min\": 0.0,\n        \"max\": 50000.0,\n        \"num_unique_values\": 4,\n        \"samples\": [\n          167.0\n        ],\n        \"semantic_type\": \"\",\n        \"description\": \"\"\n      }\n    },\n    {\n      \"column\": \"25%\",\n      \"properties\": {\n        \"dtype\": \"number\",\n        \"std\": 1296895.8385430188,\n        \"min\": 0.0,\n        \"max\": 2900000.0,\n        \"num_unique_values\": 5,\n        \"samples\": [\n          180.0\n        ],\n        \"semantic_type\": \"\",\n        \"description\": \"\"\n      }\n    },\n    {\n      \"column\": \"50%\",\n      \"properties\": {\n        \"dtype\": \"number\",\n        \"std\": 4024896.198178433,\n        \"min\": 1.0,\n        \"max\": 9000000.0,\n        \"num_unique_values\": 5,\n        \"samples\": [\n          185.0\n        ],\n        \"semantic_type\": \"\",\n        \"description\": \"\"\n      }\n    },\n    {\n      \"column\": \"75%\",\n      \"properties\": {\n        \"dtype\": \"number\",\n        \"std\": 11180310.259831298,\n        \"min\": 4.0,\n        \"max\": 25000000.0,\n        \"num_unique_values\": 5,\n        \"samples\": [\n          189.0\n        ],\n        \"semantic_type\": \"\",\n        \"description\": \"\"\n      }\n    },\n    {\n      \"column\": \"max\",\n      \"properties\": {\n        \"dtype\": \"number\",\n        \"std\": 80498382.67945935,\n        \"min\": 41.0,\n        \"max\": 180000000.0,\n        \"num_unique_values\": 5,\n        \"samples\": [\n          202.0\n        ],\n        \"semantic_type\": \"\",\n        \"description\": \"\"\n      }\n    }\n  ]\n}"
            }
          },
          "metadata": {},
          "execution_count": 44
        }
      ],
      "source": [
        "data_of_players.describe().T"
      ]
    },
    {
      "cell_type": "markdown",
      "metadata": {
        "id": "NK6bFopzHlNQ"
      },
      "source": [
        "\n",
        "\n",
        "---\n",
        "\n"
      ]
    },
    {
      "cell_type": "markdown",
      "metadata": {
        "id": "fqlXDjQHy8SN"
      },
      "source": [
        "Filters the `data_of_players` DataFrame to find players who is 41 years old to know who is the oldest player."
      ]
    },
    {
      "cell_type": "code",
      "execution_count": 45,
      "metadata": {
        "id": "jio_C30T1DDI"
      },
      "outputs": [],
      "source": [
        "Oldest_player=who_is_the_player(data_of_players,'Age',41)"
      ]
    },
    {
      "cell_type": "code",
      "execution_count": 46,
      "metadata": {
        "colab": {
          "base_uri": "https://localhost:8080/"
        },
        "id": "1ekC45nU-fVL",
        "outputId": "c5ef00cf-ae62-49f5-882e-33a9e7de28db"
      },
      "outputs": [
        {
          "output_type": "stream",
          "name": "stdout",
          "text": [
            "The Oldest player is ['Pepe'] with 41 years old\n"
          ]
        }
      ],
      "source": [
        "print(f\"The Oldest player is {Oldest_player} with 41 years old\")"
      ]
    },
    {
      "cell_type": "markdown",
      "metadata": {
        "id": "Svi5VP1SnZR9"
      },
      "source": [
        "Prepare the profile to the oldest player"
      ]
    },
    {
      "cell_type": "code",
      "execution_count": 47,
      "metadata": {
        "id": "sFK0vEx4PdnB"
      },
      "outputs": [],
      "source": [
        "profile_for_the_oldest=profile_of_the_player(data_of_players,'Name',Oldest_player[0])"
      ]
    },
    {
      "cell_type": "markdown",
      "metadata": {
        "id": "-tzntfropMLF"
      },
      "source": [
        "Profile of the oldest player as a dictionary"
      ]
    },
    {
      "cell_type": "code",
      "execution_count": 48,
      "metadata": {
        "colab": {
          "base_uri": "https://localhost:8080/"
        },
        "id": "ilSJlUkJtDPD",
        "outputId": "767419b0-65e5-47e7-bf6f-5122b80f339b"
      },
      "outputs": [
        {
          "output_type": "execute_result",
          "data": {
            "text/plain": [
              "{'Name': 'Pepe',\n",
              " 'Country': 'Portugal',\n",
              " 'Position': 'Centre-Back',\n",
              " 'Age': 41,\n",
              " 'Height': 187,\n",
              " 'Market Value': 500000,\n",
              " 'Club': 'FC Porto',\n",
              " 'Goals': 8,\n",
              " 'Foot': 'right',\n",
              " 'Caps': 136}"
            ]
          },
          "metadata": {},
          "execution_count": 48
        }
      ],
      "source": [
        "profile_for_the_oldest"
      ]
    },
    {
      "cell_type": "markdown",
      "metadata": {
        "id": "iSAculSgrQIY"
      },
      "source": [
        "Now, we will use `plot_player_card(profile,fontsize_of_title)` to show the card of this player"
      ]
    },
    {
      "cell_type": "code",
      "execution_count": 49,
      "metadata": {
        "colab": {
          "base_uri": "https://localhost:8080/",
          "height": 653
        },
        "id": "tqtTjF1pSwqc",
        "outputId": "7b030db1-ca68-4b89-9c36-eaf8a1a28a6e"
      },
      "outputs": [
        {
          "output_type": "display_data",
          "data": {
            "text/plain": [
              "<Figure size 600x800 with 1 Axes>"
            ],
            "image/png": "[encoded data removed]"
          },
          "metadata": {}
        }
      ],
      "source": [
        "plot_player_card(profile_for_the_oldest,35)"
      ]
    },
    {
      "cell_type": "markdown",
      "metadata": {
        "id": "EMRf1Y7fHgR3"
      },
      "source": [
        "\n",
        "\n",
        "---\n",
        "\n"
      ]
    },
    {
      "cell_type": "markdown",
      "metadata": {
        "id": "5_VXgmsuztgQ"
      },
      "source": [
        "Filters the `data_of_players` DataFrame to find players who is 16 years old to know who is the youngest player"
      ]
    },
    {
      "cell_type": "code",
      "execution_count": 50,
      "metadata": {
        "id": "u3mEppjnCCfD"
      },
      "outputs": [],
      "source": [
        "youngest_player=who_is_the_player(data_of_players,'Age',16)"
      ]
    },
    {
      "cell_type": "markdown",
      "metadata": {
        "id": "3DwXML8y7oPS"
      },
      "source": [
        "See, how many players with this age"
      ]
    },
    {
      "cell_type": "code",
      "execution_count": 51,
      "metadata": {
        "colab": {
          "base_uri": "https://localhost:8080/"
        },
        "id": "M68sc-Q-7oPe",
        "outputId": "8df1380f-bbd8-4b96-e6ae-292ad437849d"
      },
      "outputs": [
        {
          "output_type": "stream",
          "name": "stdout",
          "text": [
            "Number of the players with age equal 16 are 1\n"
          ]
        }
      ],
      "source": [
        "print(f\"Number of the players with age equal 16 are {len(youngest_player)}\")"
      ]
    },
    {
      "cell_type": "code",
      "execution_count": 52,
      "metadata": {
        "colab": {
          "base_uri": "https://localhost:8080/"
        },
        "id": "oaGTh0e1CCfE",
        "outputId": "33d094b4-9fdd-46f3-9be3-4ad1b4261940"
      },
      "outputs": [
        {
          "output_type": "stream",
          "name": "stdout",
          "text": [
            "The youngest player is Lamine Yamal with 16 years old\n"
          ]
        }
      ],
      "source": [
        "print(f\"The youngest player is {youngest_player[0]} with 16 years old\")"
      ]
    },
    {
      "cell_type": "markdown",
      "metadata": {
        "id": "BdEQ2-C-sD55"
      },
      "source": [
        "Prepare the profile to the youngest player"
      ]
    },
    {
      "cell_type": "code",
      "execution_count": 53,
      "metadata": {
        "id": "aLTDVB-dsD57"
      },
      "outputs": [],
      "source": [
        "profile_for_the_youngest=profile_of_the_player(data_of_players,'Name',youngest_player[0])"
      ]
    },
    {
      "cell_type": "markdown",
      "metadata": {
        "id": "t3kt_E92sD57"
      },
      "source": [
        "Profile of the youngest player as a dictionary"
      ]
    },
    {
      "cell_type": "code",
      "execution_count": 54,
      "metadata": {
        "colab": {
          "base_uri": "https://localhost:8080/"
        },
        "id": "3Fwkr0nksD58",
        "outputId": "dd7dd6a4-bc0f-4755-8821-45878ccf41c7"
      },
      "outputs": [
        {
          "output_type": "execute_result",
          "data": {
            "text/plain": [
              "{'Name': 'Lamine Yamal',\n",
              " 'Country': 'Spain',\n",
              " 'Position': 'Right Winger',\n",
              " 'Age': 16,\n",
              " 'Height': 178,\n",
              " 'Market Value': 90000000,\n",
              " 'Club': 'FC Barcelona',\n",
              " 'Goals': 2,\n",
              " 'Foot': 'left',\n",
              " 'Caps': 6}"
            ]
          },
          "metadata": {},
          "execution_count": 54
        }
      ],
      "source": [
        "profile_for_the_youngest"
      ]
    },
    {
      "cell_type": "markdown",
      "metadata": {
        "id": "BkjJE2EisVwP"
      },
      "source": [
        "Now, we will use `plot_player_card(profile,fontsize_of_title)` to show the card of this player"
      ]
    },
    {
      "cell_type": "code",
      "execution_count": 55,
      "metadata": {
        "colab": {
          "base_uri": "https://localhost:8080/",
          "height": 653
        },
        "id": "u6QqhmFhsVwQ",
        "outputId": "d67c75ef-e636-48e1-f15d-980bf16f9b46"
      },
      "outputs": [
        {
          "output_type": "display_data",
          "data": {
            "text/plain": [
              "<Figure size 600x800 with 1 Axes>"
            ],
            "image/png": "[encoded data removed]"
          },
          "metadata": {}
        }
      ],
      "source": [
        "plot_player_card(profile_for_the_youngest,35)"
      ]
    },
    {
      "cell_type": "markdown",
      "metadata": {
        "id": "ylsXmgpgHicG"
      },
      "source": [
        "\n",
        "\n",
        "---\n",
        "\n"
      ]
    },
    {
      "cell_type": "markdown",
      "metadata": {
        "id": "z5rrgPenz9LF"
      },
      "source": [
        "Filters the `data_of_players` DataFrame to find the shortest player"
      ]
    },
    {
      "cell_type": "code",
      "execution_count": 56,
      "metadata": {
        "id": "GwQ7AumFDgSC"
      },
      "outputs": [],
      "source": [
        "shortest_player = who_is_the_player(data_of_players,'Height',167.0)"
      ]
    },
    {
      "cell_type": "markdown",
      "metadata": {
        "id": "ZUqS5gv37d7x"
      },
      "source": [
        "See, how many players with this height"
      ]
    },
    {
      "cell_type": "code",
      "execution_count": 57,
      "metadata": {
        "colab": {
          "base_uri": "https://localhost:8080/"
        },
        "id": "tglb9kux7d75",
        "outputId": "bf9fbf9b-ce1c-4a96-b8be-b212b733b1e7"
      },
      "outputs": [
        {
          "output_type": "stream",
          "name": "stdout",
          "text": [
            "Number of the players with 167 cm are 1\n"
          ]
        }
      ],
      "source": [
        "print(f\"Number of the players with 167 cm are {len(shortest_player)}\")"
      ]
    },
    {
      "cell_type": "code",
      "execution_count": 58,
      "metadata": {
        "colab": {
          "base_uri": "https://localhost:8080/"
        },
        "id": "C_V8GwGnDgSD",
        "outputId": "5c089eb4-bd37-4c56-ffeb-f441f733c0fd"
      },
      "outputs": [
        {
          "output_type": "stream",
          "name": "stdout",
          "text": [
            "The shortest player is Callum Styles\n"
          ]
        }
      ],
      "source": [
        "print(f\"The shortest player is {shortest_player[0]}\")"
      ]
    },
    {
      "cell_type": "markdown",
      "metadata": {
        "id": "DgnsehS3sqq-"
      },
      "source": [
        "Prepare the profile to the shortest player"
      ]
    },
    {
      "cell_type": "code",
      "execution_count": 59,
      "metadata": {
        "id": "5gaIafPVsqrV"
      },
      "outputs": [],
      "source": [
        "profile_for_the_shortest=profile_of_the_player(data_of_players,'Name',shortest_player[0])"
      ]
    },
    {
      "cell_type": "markdown",
      "metadata": {
        "id": "BjbTaVO-sqrV"
      },
      "source": [
        "Profile of the shortest player as a dictionary"
      ]
    },
    {
      "cell_type": "code",
      "execution_count": 60,
      "metadata": {
        "colab": {
          "base_uri": "https://localhost:8080/"
        },
        "id": "Yja09ESZsqrV",
        "outputId": "3f0a2418-ef01-4fb9-b1e6-1e9291653fda"
      },
      "outputs": [
        {
          "output_type": "execute_result",
          "data": {
            "text/plain": [
              "{'Name': 'Callum Styles',\n",
              " 'Country': 'Hungary',\n",
              " 'Position': 'Central Midfield',\n",
              " 'Age': 24,\n",
              " 'Height': 167,\n",
              " 'Market Value': 2500000,\n",
              " 'Club': 'Barnsley FC',\n",
              " 'Goals': 0,\n",
              " 'Foot': 'left',\n",
              " 'Caps': 21}"
            ]
          },
          "metadata": {},
          "execution_count": 60
        }
      ],
      "source": [
        "profile_for_the_shortest"
      ]
    },
    {
      "cell_type": "markdown",
      "metadata": {
        "id": "mZhsI-5GsqrW"
      },
      "source": [
        "Now, we will use `plot_player_card(profile,fontsize_of_title)` to show the card of this player"
      ]
    },
    {
      "cell_type": "code",
      "execution_count": 61,
      "metadata": {
        "colab": {
          "base_uri": "https://localhost:8080/",
          "height": 653
        },
        "id": "h3L2_SYvsqrW",
        "outputId": "77a03a84-ef7d-4aaa-9a14-61765d6e41f2"
      },
      "outputs": [
        {
          "output_type": "display_data",
          "data": {
            "text/plain": [
              "<Figure size 600x800 with 1 Axes>"
            ],
            "image/png": "[encoded data removed]"
          },
          "metadata": {}
        }
      ],
      "source": [
        "plot_player_card(profile_for_the_shortest,35)"
      ]
    },
    {
      "cell_type": "markdown",
      "metadata": {
        "id": "Dz6gywgkHn9i"
      },
      "source": [
        "\n",
        "\n",
        "---\n",
        "\n"
      ]
    },
    {
      "cell_type": "markdown",
      "metadata": {
        "id": "JDl0Pvtp0Y-n"
      },
      "source": [
        "Filters the `data_of_players` DataFrame to find the tallest player"
      ]
    },
    {
      "cell_type": "code",
      "execution_count": 62,
      "metadata": {
        "id": "ai5UUXyYDh7R"
      },
      "outputs": [],
      "source": [
        "tallest_player = who_is_the_player(data_of_players,'Height', 202.0)"
      ]
    },
    {
      "cell_type": "markdown",
      "metadata": {
        "id": "rbSXnscV7Ox2"
      },
      "source": [
        "See, how many players with this height"
      ]
    },
    {
      "cell_type": "code",
      "execution_count": 63,
      "metadata": {
        "colab": {
          "base_uri": "https://localhost:8080/"
        },
        "id": "U_l-ABOq67O4",
        "outputId": "c7b5bc53-ec00-44c4-9c00-38d17eb4b206"
      },
      "outputs": [
        {
          "output_type": "stream",
          "name": "stdout",
          "text": [
            "Number of the players with 202 cm are 1\n"
          ]
        }
      ],
      "source": [
        "print(f\"Number of the players with 202 cm are {len(tallest_player)}\")"
      ]
    },
    {
      "cell_type": "code",
      "execution_count": 64,
      "metadata": {
        "colab": {
          "base_uri": "https://localhost:8080/"
        },
        "id": "HYBkPiW5Dh7S",
        "outputId": "926e59b9-6c24-4048-bf4f-ad32a75cca76"
      },
      "outputs": [
        {
          "output_type": "stream",
          "name": "stdout",
          "text": [
            "The tallest player is Vanja Milinković-Savić\n"
          ]
        }
      ],
      "source": [
        "print(f\"The tallest player is {tallest_player[0]}\")"
      ]
    },
    {
      "cell_type": "markdown",
      "metadata": {
        "id": "7ISI4gqXsrts"
      },
      "source": [
        "Prepare the profile to the tallest player"
      ]
    },
    {
      "cell_type": "code",
      "execution_count": 65,
      "metadata": {
        "id": "9dqmmKwBsruD"
      },
      "outputs": [],
      "source": [
        "profile_for_the_tallest=profile_of_the_player(data_of_players,'Name',tallest_player[0])"
      ]
    },
    {
      "cell_type": "markdown",
      "metadata": {
        "id": "NwV6bDHgsruD"
      },
      "source": [
        "Profile of the tallest player as a dictionary"
      ]
    },
    {
      "cell_type": "markdown",
      "metadata": {
        "id": "OkQz4IocsruE"
      },
      "source": [
        "Now, we will use `plot_player_card(profile,fontsize_of_title)` to show the card of this player"
      ]
    },
    {
      "cell_type": "code",
      "execution_count": 66,
      "metadata": {
        "colab": {
          "base_uri": "https://localhost:8080/",
          "height": 653
        },
        "id": "7MxWbzJ7sruE",
        "outputId": "8cf2fdab-c7ea-4818-d2fd-28a0c82dad6b"
      },
      "outputs": [
        {
          "output_type": "display_data",
          "data": {
            "text/plain": [
              "<Figure size 600x800 with 1 Axes>"
            ],
            "image/png": "[encoded data removed]"
          },
          "metadata": {}
        }
      ],
      "source": [
        "plot_player_card(profile_for_the_tallest,25)"
      ]
    },
    {
      "cell_type": "markdown",
      "metadata": {
        "id": "5m_gLtDUHpwe"
      },
      "source": [
        "\n",
        "\n",
        "---\n",
        "\n"
      ]
    },
    {
      "cell_type": "markdown",
      "metadata": {
        "id": "HPZKrKXBFSp7"
      },
      "source": [
        "Filters the `data_of_players` DataFrame to find the player that appeares alot in EURO"
      ]
    },
    {
      "cell_type": "code",
      "execution_count": 67,
      "metadata": {
        "id": "TlGWluwgEHgC"
      },
      "outputs": [],
      "source": [
        "most_apperance=who_is_the_player(data_of_players,'Caps',206.0)"
      ]
    },
    {
      "cell_type": "markdown",
      "metadata": {
        "id": "A-BD2MbANfsz"
      },
      "source": [
        "See, how many players with this height"
      ]
    },
    {
      "cell_type": "code",
      "execution_count": 68,
      "metadata": {
        "colab": {
          "base_uri": "https://localhost:8080/"
        },
        "outputId": "b5c2f404-041b-426a-ae7f-efdc3bea8867",
        "id": "CLAh2os8Nfs2"
      },
      "outputs": [
        {
          "output_type": "stream",
          "name": "stdout",
          "text": [
            "Number of the players with most apperance are 1\n"
          ]
        }
      ],
      "source": [
        "print(f\"Number of the players with most apperance are {len(most_apperance)}\")"
      ]
    },
    {
      "cell_type": "code",
      "execution_count": 69,
      "metadata": {
        "colab": {
          "base_uri": "https://localhost:8080/"
        },
        "id": "DNvA_0yLEres",
        "outputId": "0fd0ad2c-db4b-493b-c6c8-2b3d1ef20818"
      },
      "outputs": [
        {
          "output_type": "stream",
          "name": "stdout",
          "text": [
            "The player who has the most apperance is Cristiano Ronaldo\n"
          ]
        }
      ],
      "source": [
        "print(f\"The player who has the most apperance is {most_apperance[0]}\")"
      ]
    },
    {
      "cell_type": "markdown",
      "metadata": {
        "id": "fQh9Io4jstF-"
      },
      "source": [
        "Prepare the profile to the most appeance player"
      ]
    },
    {
      "cell_type": "code",
      "execution_count": 70,
      "metadata": {
        "id": "3yRzVlDrstGU"
      },
      "outputs": [],
      "source": [
        "profile_for_the_appearence=profile_of_the_player(data_of_players,'Name',most_apperance[0])"
      ]
    },
    {
      "cell_type": "markdown",
      "metadata": {
        "id": "6LPBRhXQstGV"
      },
      "source": [
        "Profile of the the most appeance player as a dictionary"
      ]
    },
    {
      "cell_type": "code",
      "execution_count": 71,
      "metadata": {
        "colab": {
          "base_uri": "https://localhost:8080/"
        },
        "id": "Bhu1O581stGV",
        "outputId": "39291543-bfb1-435e-bd35-3d2975c0a2cd"
      },
      "outputs": [
        {
          "output_type": "execute_result",
          "data": {
            "text/plain": [
              "{'Name': 'Cristiano Ronaldo',\n",
              " 'Country': 'Portugal',\n",
              " 'Position': 'Centre-Forward',\n",
              " 'Age': 39,\n",
              " 'Height': 188,\n",
              " 'Market Value': 15000000,\n",
              " 'Club': 'Al-Nassr FC',\n",
              " 'Goals': 128,\n",
              " 'Foot': 'right',\n",
              " 'Caps': 206}"
            ]
          },
          "metadata": {},
          "execution_count": 71
        }
      ],
      "source": [
        "profile_for_the_appearence"
      ]
    },
    {
      "cell_type": "markdown",
      "metadata": {
        "id": "S6aj9xTW-OHL"
      },
      "source": [
        "Now, we will use `plot_player_card(profile,fontsize_of_title)` to show the card of this player"
      ]
    },
    {
      "cell_type": "code",
      "execution_count": 72,
      "metadata": {
        "colab": {
          "base_uri": "https://localhost:8080/",
          "height": 653
        },
        "id": "qrIFNH05stGW",
        "outputId": "0a38ea39-37ac-4724-82e8-43774fc067d0"
      },
      "outputs": [
        {
          "output_type": "display_data",
          "data": {
            "text/plain": [
              "<Figure size 600x800 with 1 Axes>"
            ],
            "image/png": "[encoded data removed]"
          },
          "metadata": {}
        }
      ],
      "source": [
        "plot_player_card(profile_for_the_appearence,30)"
      ]
    },
    {
      "cell_type": "markdown",
      "metadata": {
        "id": "70TXsu2iHyYJ"
      },
      "source": [
        "\n",
        "\n",
        "---\n",
        "\n"
      ]
    },
    {
      "cell_type": "markdown",
      "metadata": {
        "id": "WQ6SYtXhFdjz"
      },
      "source": [
        "Filters the `data_of_players` DataFrame to find the player that have the largest number of goals in EURO"
      ]
    },
    {
      "cell_type": "code",
      "execution_count": 73,
      "metadata": {
        "id": "w4BxbM71FCc0"
      },
      "outputs": [],
      "source": [
        "largest_number_of_goals=who_is_the_player(data_of_players,'Goals',128.0)"
      ]
    },
    {
      "cell_type": "code",
      "execution_count": 74,
      "metadata": {
        "colab": {
          "base_uri": "https://localhost:8080/"
        },
        "id": "xt1Uzx1tFJSz",
        "outputId": "bbaf8415-f2af-4c29-fb28-71b96c33dc05"
      },
      "outputs": [
        {
          "output_type": "stream",
          "name": "stdout",
          "text": [
            "The player who has the largest number of goals is Cristiano Ronaldo\n"
          ]
        }
      ],
      "source": [
        "print(f\"The player who has the largest number of goals is {largest_number_of_goals[0]}\")"
      ]
    },
    {
      "cell_type": "markdown",
      "metadata": {
        "id": "GwN0E9w2suwc"
      },
      "source": [
        "Prepare the profile to the player that scored the largest numbers of goals"
      ]
    },
    {
      "cell_type": "code",
      "execution_count": 75,
      "metadata": {
        "id": "IZOXKHw3suwu"
      },
      "outputs": [],
      "source": [
        "profile_for_the_goals=profile_of_the_player(data_of_players,'Name',largest_number_of_goals[0])"
      ]
    },
    {
      "cell_type": "markdown",
      "metadata": {
        "id": "60JhlAWBsuwu"
      },
      "source": [
        "Profile of the player that scored the largest numbers of goals as a dictionary"
      ]
    },
    {
      "cell_type": "code",
      "execution_count": 76,
      "metadata": {
        "colab": {
          "base_uri": "https://localhost:8080/"
        },
        "id": "51QjDtyBsuwu",
        "outputId": "310ffd15-b299-45cf-ba3c-8976c562e338"
      },
      "outputs": [
        {
          "output_type": "execute_result",
          "data": {
            "text/plain": [
              "{'Name': 'Cristiano Ronaldo',\n",
              " 'Country': 'Portugal',\n",
              " 'Position': 'Centre-Forward',\n",
              " 'Age': 39,\n",
              " 'Height': 188,\n",
              " 'Market Value': 15000000,\n",
              " 'Club': 'Al-Nassr FC',\n",
              " 'Goals': 128,\n",
              " 'Foot': 'right',\n",
              " 'Caps': 206}"
            ]
          },
          "metadata": {},
          "execution_count": 76
        }
      ],
      "source": [
        "profile_for_the_goals"
      ]
    },
    {
      "cell_type": "markdown",
      "metadata": {
        "id": "uJBhpR5P-QE1"
      },
      "source": [
        "Now, we will use `plot_player_card(profile,fontsize_of_title)` to show the card of this player"
      ]
    },
    {
      "cell_type": "code",
      "execution_count": 77,
      "metadata": {
        "colab": {
          "base_uri": "https://localhost:8080/",
          "height": 653
        },
        "id": "eA8-4qONsuwv",
        "outputId": "3c7c25e8-00ae-448a-f609-b2abffae8005"
      },
      "outputs": [
        {
          "output_type": "display_data",
          "data": {
            "text/plain": [
              "<Figure size 600x800 with 1 Axes>"
            ],
            "image/png": "[encoded data removed]"
          },
          "metadata": {}
        }
      ],
      "source": [
        "plot_player_card(profile_for_the_goals,30)"
      ]
    },
    {
      "cell_type": "markdown",
      "metadata": {
        "id": "SobrTF6kH0po"
      },
      "source": [
        "\n",
        "\n",
        "---\n",
        "\n"
      ]
    },
    {
      "cell_type": "markdown",
      "metadata": {
        "id": "z8k1QSxzFzt3"
      },
      "source": [
        "Filters the `data_of_players` DataFrame to most expensive player in the market played in the EURO"
      ]
    },
    {
      "cell_type": "code",
      "execution_count": 78,
      "metadata": {
        "id": "NPw3FKm1F0NV"
      },
      "outputs": [],
      "source": [
        "most_expensive_player=who_is_the_player(data_of_players,'MarketValue',180000000.0)"
      ]
    },
    {
      "cell_type": "markdown",
      "metadata": {
        "id": "hbIXZIc8TVyi"
      },
      "source": [
        "See, how many players with this market value (180 M)"
      ]
    },
    {
      "cell_type": "code",
      "execution_count": 79,
      "metadata": {
        "colab": {
          "base_uri": "https://localhost:8080/"
        },
        "outputId": "834bbc81-9627-4a8b-f803-d116dac77303",
        "id": "2ziXxOhRTVyj"
      },
      "outputs": [
        {
          "output_type": "stream",
          "name": "stdout",
          "text": [
            "Number of the most expensive palyers are 2\n"
          ]
        }
      ],
      "source": [
        "print(f\"Number of the most expensive palyers are {len(most_expensive_player)}\")"
      ]
    },
    {
      "cell_type": "code",
      "execution_count": 80,
      "metadata": {
        "colab": {
          "base_uri": "https://localhost:8080/"
        },
        "id": "yVxouLn1F0W9",
        "outputId": "7e0a848e-e9f0-4d28-f8c1-d25c434fe2eb"
      },
      "outputs": [
        {
          "output_type": "stream",
          "name": "stdout",
          "text": [
            "The most expensive player are Jude Bellingham and Kylian Mbappé \n"
          ]
        }
      ],
      "source": [
        "print(f\"The most expensive player are {most_expensive_player[0]} and {most_expensive_player[1]} \")"
      ]
    },
    {
      "cell_type": "markdown",
      "metadata": {
        "id": "fE2iKkgksv3M"
      },
      "source": [
        "Prepare the profile to the first player"
      ]
    },
    {
      "cell_type": "code",
      "execution_count": 81,
      "metadata": {
        "id": "MdilWE7Isv3O"
      },
      "outputs": [],
      "source": [
        "profile_for_the_expensive=profile_of_the_player(data_of_players,'Name',most_expensive_player[0])"
      ]
    },
    {
      "cell_type": "markdown",
      "metadata": {
        "id": "84yO4iSssv3O"
      },
      "source": [
        "Profile of the firt player with value equals 180 M."
      ]
    },
    {
      "cell_type": "code",
      "execution_count": 82,
      "metadata": {
        "colab": {
          "base_uri": "https://localhost:8080/"
        },
        "id": "P9D3pIC_sv3P",
        "outputId": "abe635ea-5f66-4157-ba95-ea8fcb7697e6"
      },
      "outputs": [
        {
          "output_type": "execute_result",
          "data": {
            "text/plain": [
              "{'Name': 'Jude Bellingham',\n",
              " 'Country': 'England',\n",
              " 'Position': 'Attacking Midfield',\n",
              " 'Age': 20,\n",
              " 'Height': 186,\n",
              " 'Market Value': 180000000,\n",
              " 'Club': 'Real Madrid',\n",
              " 'Goals': 3,\n",
              " 'Foot': 'right',\n",
              " 'Caps': 29}"
            ]
          },
          "metadata": {},
          "execution_count": 82
        }
      ],
      "source": [
        "profile_for_the_expensive"
      ]
    },
    {
      "cell_type": "markdown",
      "metadata": {
        "id": "dfvfOKSC-SpW"
      },
      "source": [
        "Now, we will use `plot_player_card(profile,fontsize_of_title)` to show the card of this player"
      ]
    },
    {
      "cell_type": "code",
      "execution_count": 83,
      "metadata": {
        "colab": {
          "base_uri": "https://localhost:8080/",
          "height": 653
        },
        "id": "dcoLS8Klsv3Q",
        "outputId": "500f88f4-5886-4da5-e678-d78c801424e8"
      },
      "outputs": [
        {
          "output_type": "display_data",
          "data": {
            "text/plain": [
              "<Figure size 600x800 with 1 Axes>"
            ],
            "image/png": "[encoded data removed]"
          },
          "metadata": {}
        }
      ],
      "source": [
        "plot_player_card(profile_for_the_expensive,30)"
      ]
    },
    {
      "cell_type": "markdown",
      "metadata": {
        "id": "zRQYKYbPU-3b"
      },
      "source": [
        "Prepare the profile to the second player"
      ]
    },
    {
      "cell_type": "code",
      "execution_count": 84,
      "metadata": {
        "id": "bHKlvl0OU-3c"
      },
      "outputs": [],
      "source": [
        "profile_for_the_expensive=profile_of_the_player(data_of_players,'Name',most_expensive_player[1])"
      ]
    },
    {
      "cell_type": "markdown",
      "metadata": {
        "id": "jSpPXK7tU-3c"
      },
      "source": [
        "Profile of the second player with value equals 180 M."
      ]
    },
    {
      "cell_type": "code",
      "execution_count": 85,
      "metadata": {
        "colab": {
          "base_uri": "https://localhost:8080/"
        },
        "outputId": "582e74a0-be44-4d70-fa3e-8ffdd0eef323",
        "id": "eJ5tUPi4U-3c"
      },
      "outputs": [
        {
          "output_type": "execute_result",
          "data": {
            "text/plain": [
              "{'Name': 'Kylian Mbappé',\n",
              " 'Country': 'France',\n",
              " 'Position': 'Centre-Forward',\n",
              " 'Age': 25,\n",
              " 'Height': 178,\n",
              " 'Market Value': 180000000,\n",
              " 'Club': 'Paris Saint-Germain',\n",
              " 'Goals': 47,\n",
              " 'Foot': 'right',\n",
              " 'Caps': 78}"
            ]
          },
          "metadata": {},
          "execution_count": 85
        }
      ],
      "source": [
        "profile_for_the_expensive"
      ]
    },
    {
      "cell_type": "markdown",
      "metadata": {
        "id": "522JuBLJU-3c"
      },
      "source": [
        "Now, we will use `plot_player_card(profile,fontsize_of_title)` to show the card of this player"
      ]
    },
    {
      "cell_type": "code",
      "execution_count": 86,
      "metadata": {
        "colab": {
          "base_uri": "https://localhost:8080/",
          "height": 653
        },
        "outputId": "ced5c2f5-2496-43b2-f2c1-c219354d3631",
        "id": "-ggOpCRPU-3d"
      },
      "outputs": [
        {
          "output_type": "display_data",
          "data": {
            "text/plain": [
              "<Figure size 600x800 with 1 Axes>"
            ],
            "image/png": "[encoded data removed]"
          },
          "metadata": {}
        }
      ],
      "source": [
        "plot_player_card(profile_for_the_expensive,30)"
      ]
    },
    {
      "cell_type": "markdown",
      "metadata": {
        "id": "YOKDpY_0H41w"
      },
      "source": [
        "\n",
        "\n",
        "---\n",
        "\n"
      ]
    },
    {
      "cell_type": "markdown",
      "metadata": {
        "id": "5A_R8Kt2G1tn"
      },
      "source": [
        "Filters the `data_of_players` DataFrame to cheapest player in the market played in the EURO"
      ]
    },
    {
      "cell_type": "code",
      "execution_count": 87,
      "metadata": {
        "id": "8GWfHaFUG118"
      },
      "outputs": [],
      "source": [
        "cheapest_player=who_is_the_player(data_of_players,'MarketValue',50000.0)"
      ]
    },
    {
      "cell_type": "markdown",
      "metadata": {
        "id": "_Rztxt1PXHc-"
      },
      "source": [
        "See, how many players with this Market value (50 K)"
      ]
    },
    {
      "cell_type": "code",
      "execution_count": 88,
      "metadata": {
        "colab": {
          "base_uri": "https://localhost:8080/"
        },
        "outputId": "001d1c9b-fae5-4c93-a800-d606b1eae4d3",
        "id": "BRsBT1uYXHc_"
      },
      "outputs": [
        {
          "output_type": "stream",
          "name": "stdout",
          "text": [
            "Number of the most expensive palyers are 1\n"
          ]
        }
      ],
      "source": [
        "print(f\"Number of the most expensive palyers are {len(cheapest_player)}\")"
      ]
    },
    {
      "cell_type": "code",
      "execution_count": 89,
      "metadata": {
        "colab": {
          "base_uri": "https://localhost:8080/"
        },
        "id": "sQ9j1UF6G-g7",
        "outputId": "a6deffee-8cbd-4b9d-97c7-2bab9a529ca7"
      },
      "outputs": [
        {
          "output_type": "stream",
          "name": "stdout",
          "text": [
            "The cheapest player is ['Giorgi Loria']\n"
          ]
        }
      ],
      "source": [
        "print(f\"The cheapest player is {cheapest_player}\")"
      ]
    },
    {
      "cell_type": "markdown",
      "metadata": {
        "id": "InCabIYesybO"
      },
      "source": [
        "Prepare the profile to the cheapest player"
      ]
    },
    {
      "cell_type": "code",
      "execution_count": 90,
      "metadata": {
        "id": "84TvBTcOsybm"
      },
      "outputs": [],
      "source": [
        "profile_for_the_cheapest=profile_of_the_player(data_of_players,'Name',cheapest_player[0])"
      ]
    },
    {
      "cell_type": "markdown",
      "metadata": {
        "id": "WO_hEZ9esybm"
      },
      "source": [
        "Profile of the cheapest player as a dictionary"
      ]
    },
    {
      "cell_type": "code",
      "execution_count": 91,
      "metadata": {
        "colab": {
          "base_uri": "https://localhost:8080/"
        },
        "id": "7BZp0Cdjsybm",
        "outputId": "04a49b9b-c5ea-400c-9f17-dc8d27804343"
      },
      "outputs": [
        {
          "output_type": "execute_result",
          "data": {
            "text/plain": [
              "{'Name': 'Giorgi Loria',\n",
              " 'Country': 'Georgia',\n",
              " 'Position': 'Goalkeeper',\n",
              " 'Age': 38,\n",
              " 'Height': 197,\n",
              " 'Market Value': 50000,\n",
              " 'Club': 'Dinamo Tbilisi',\n",
              " 'Goals': 0,\n",
              " 'Foot': 'right',\n",
              " 'Caps': 77}"
            ]
          },
          "metadata": {},
          "execution_count": 91
        }
      ],
      "source": [
        "profile_for_the_cheapest"
      ]
    },
    {
      "cell_type": "markdown",
      "metadata": {
        "id": "Y8kr91j3-V17"
      },
      "source": [
        "Now, we will use `plot_player_card(profile,fontsize_of_title)` to show the card of this player"
      ]
    },
    {
      "cell_type": "code",
      "execution_count": 92,
      "metadata": {
        "colab": {
          "base_uri": "https://localhost:8080/",
          "height": 653
        },
        "id": "Bh9Ocm9Gsybn",
        "outputId": "b518801b-633f-4568-9557-a057d127f289"
      },
      "outputs": [
        {
          "output_type": "display_data",
          "data": {
            "text/plain": [
              "<Figure size 600x800 with 1 Axes>"
            ],
            "image/png": "[encoded data removed]"
          },
          "metadata": {}
        }
      ],
      "source": [
        "plot_player_card(profile_for_the_cheapest,30)"
      ]
    },
    {
      "cell_type": "markdown",
      "metadata": {
        "id": "cozqp1RdH7av"
      },
      "source": [
        "\n",
        "\n",
        "\n",
        "---\n",
        "\n",
        "\n"
      ]
    },
    {
      "cell_type": "markdown",
      "metadata": {
        "id": "pLppis6g_cWl"
      },
      "source": [
        "# **Descriptive Analysis and Visualization of Categorical Data**"
      ]
    },
    {
      "cell_type": "markdown",
      "metadata": {
        "id": "7MSEoOSgJliD"
      },
      "source": [
        "To generate a descriptive summary of the `non-numeric (categorical)` columns in your DataFrame, you can use the describe method with the `include='object'` parameter. Transposing the result with `.T` will make it easier to read by displaying the summary statistics for each column in rows."
      ]
    },
    {
      "cell_type": "code",
      "execution_count": 93,
      "metadata": {
        "colab": {
          "base_uri": "https://localhost:8080/",
          "height": 206
        },
        "id": "YkeJZR-jIV5C",
        "outputId": "742af6d4-0179-4326-b560-0a5fd9f39545"
      },
      "outputs": [
        {
          "output_type": "execute_result",
          "data": {
            "text/plain": [
              "         count unique                    top freq\n",
              "Name       623    623  Marc-André ter Stegen    1\n",
              "Position   623     13            Centre-Back  125\n",
              "Club       623    219        Manchester City   13\n",
              "Foot       623      3                  right  441\n",
              "Country    623     24                 Poland   27"
            ],
            "text/html": [
              "\n",
              "  <div id=\"df-c6fa64c0-cfbe-435e-8724-7089d9da7f6e\" class=\"colab-df-container\">\n",
              "    <div>\n",
              "<style scoped>\n",
              "    .dataframe tbody tr th:only-of-type {\n",
              "        vertical-align: middle;\n",
              "    }\n",
              "\n",
              "    .dataframe tbody tr th {\n",
              "        vertical-align: top;\n",
              "    }\n",
              "\n",
              "    .dataframe thead th {\n",
              "        text-align: right;\n",
              "    }\n",
              "</style>\n",
              "<table border=\"1\" class=\"dataframe\">\n",
              "  <thead>\n",
              "    <tr style=\"text-align: right;\">\n",
              "      <th></th>\n",
              "      <th>count</th>\n",
              "      <th>unique</th>\n",
              "      <th>top</th>\n",
              "      <th>freq</th>\n",
              "    </tr>\n",
              "  </thead>\n",
              "  <tbody>\n",
              "    <tr>\n",
              "      <th>Name</th>\n",
              "      <td>623</td>\n",
              "      <td>623</td>\n",
              "      <td>Marc-André ter Stegen</td>\n",
              "      <td>1</td>\n",
              "    </tr>\n",
              "    <tr>\n",
              "      <th>Position</th>\n",
              "      <td>623</td>\n",
              "      <td>13</td>\n",
              "      <td>Centre-Back</td>\n",
              "      <td>125</td>\n",
              "    </tr>\n",
              "    <tr>\n",
              "      <th>Club</th>\n",
              "      <td>623</td>\n",
              "      <td>219</td>\n",
              "      <td>Manchester City</td>\n",
              "      <td>13</td>\n",
              "    </tr>\n",
              "    <tr>\n",
              "      <th>Foot</th>\n",
              "      <td>623</td>\n",
              "      <td>3</td>\n",
              "      <td>right</td>\n",
              "      <td>441</td>\n",
              "    </tr>\n",
              "    <tr>\n",
              "      <th>Country</th>\n",
              "      <td>623</td>\n",
              "      <td>24</td>\n",
              "      <td>Poland</td>\n",
              "      <td>27</td>\n",
              "    </tr>\n",
              "  </tbody>\n",
              "</table>\n",
              "</div>\n",
              "    <div class=\"colab-df-buttons\">\n",
              "\n",
              "  <div class=\"colab-df-container\">\n",
              "    <button class=\"colab-df-convert\" onclick=\"convertToInteractive('df-c6fa64c0-cfbe-435e-8724-7089d9da7f6e')\"\n",
              "            title=\"Convert this dataframe to an interactive table.\"\n",
              "            style=\"display:none;\">\n",
              "\n",
              "  <svg xmlns=\"http://www.w3.org/2000/svg\" height=\"24px\" viewBox=\"0 -960 960 960\">\n",
              "    <path d=\"M120-120v-720h720v720H120Zm60-500h600v-160H180v160Zm220 220h160v-160H400v160Zm0 220h160v-160H400v160ZM180-400h160v-160H180v160Zm440 0h160v-160H620v160ZM180-180h160v-160H180v160Zm440 0h160v-160H620v160Z\"/>\n",
              "  </svg>\n",
              "    </button>\n",
              "\n",
              "  <style>\n",
              "    .colab-df-container {\n",
              "      display:flex;\n",
              "      gap: 12px;\n",
              "    }\n",
              "\n",
              "    .colab-df-convert {\n",
              "      background-color: #E8F0FE;\n",
              "      border: none;\n",
              "      border-radius: 50%;\n",
              "      cursor: pointer;\n",
              "      display: none;\n",
              "      fill: #1967D2;\n",
              "      height: 32px;\n",
              "      padding: 0 0 0 0;\n",
              "      width: 32px;\n",
              "    }\n",
              "\n",
              "    .colab-df-convert:hover {\n",
              "      background-color: #E2EBFA;\n",
              "      box-shadow: 0px 1px 2px rgba(60, 64, 67, 0.3), 0px 1px 3px 1px rgba(60, 64, 67, 0.15);\n",
              "      fill: #174EA6;\n",
              "    }\n",
              "\n",
              "    .colab-df-buttons div {\n",
              "      margin-bottom: 4px;\n",
              "    }\n",
              "\n",
              "    [theme=dark] .colab-df-convert {\n",
              "      background-color: #3B4455;\n",
              "      fill: #D2E3FC;\n",
              "    }\n",
              "\n",
              "    [theme=dark] .colab-df-convert:hover {\n",
              "      background-color: #434B5C;\n",
              "      box-shadow: 0px 1px 3px 1px rgba(0, 0, 0, 0.15);\n",
              "      filter: drop-shadow(0px 1px 2px rgba(0, 0, 0, 0.3));\n",
              "      fill: #FFFFFF;\n",
              "    }\n",
              "  </style>\n",
              "\n",
              "    <script>\n",
              "      const buttonEl =\n",
              "        document.querySelector('#df-c6fa64c0-cfbe-435e-8724-7089d9da7f6e button.colab-df-convert');\n",
              "      buttonEl.style.display =\n",
              "        google.colab.kernel.accessAllowed ? 'block' : 'none';\n",
              "\n",
              "      async function convertToInteractive(key) {\n",
              "        const element = document.querySelector('#df-c6fa64c0-cfbe-435e-8724-7089d9da7f6e');\n",
              "        const dataTable =\n",
              "          await google.colab.kernel.invokeFunction('convertToInteractive',\n",
              "                                                    [key], {});\n",
              "        if (!dataTable) return;\n",
              "\n",
              "        const docLinkHtml = 'Like what you see? Visit the ' +\n",
              "          '<a target=\"_blank\" href=https://colab.research.google.com/notebooks/data_table.ipynb>data table notebook</a>'\n",
              "          + ' to learn more about interactive tables.';\n",
              "        element.innerHTML = '';\n",
              "        dataTable['output_type'] = 'display_data';\n",
              "        await google.colab.output.renderOutput(dataTable, element);\n",
              "        const docLink = document.createElement('div');\n",
              "        docLink.innerHTML = docLinkHtml;\n",
              "        element.appendChild(docLink);\n",
              "      }\n",
              "    </script>\n",
              "  </div>\n",
              "\n",
              "\n",
              "<div id=\"df-1e0bccf5-a66b-4f2a-b788-7505aeed784d\">\n",
              "  <button class=\"colab-df-quickchart\" onclick=\"quickchart('df-1e0bccf5-a66b-4f2a-b788-7505aeed784d')\"\n",
              "            title=\"Suggest charts\"\n",
              "            style=\"display:none;\">\n",
              "\n",
              "<svg xmlns=\"http://www.w3.org/2000/svg\" height=\"24px\"viewBox=\"0 0 24 24\"\n",
              "     width=\"24px\">\n",
              "    <g>\n",
              "        <path d=\"M19 3H5c-1.1 0-2 .9-2 2v14c0 1.1.9 2 2 2h14c1.1 0 2-.9 2-2V5c0-1.1-.9-2-2-2zM9 17H7v-7h2v7zm4 0h-2V7h2v10zm4 0h-2v-4h2v4z\"/>\n",
              "    </g>\n",
              "</svg>\n",
              "  </button>\n",
              "\n",
              "<style>\n",
              "  .colab-df-quickchart {\n",
              "      --bg-color: #E8F0FE;\n",
              "      --fill-color: #1967D2;\n",
              "      --hover-bg-color: #E2EBFA;\n",
              "      --hover-fill-color: #174EA6;\n",
              "      --disabled-fill-color: #AAA;\n",
              "      --disabled-bg-color: #DDD;\n",
              "  }\n",
              "\n",
              "  [theme=dark] .colab-df-quickchart {\n",
              "      --bg-color: #3B4455;\n",
              "      --fill-color: #D2E3FC;\n",
              "      --hover-bg-color: #434B5C;\n",
              "      --hover-fill-color: #FFFFFF;\n",
              "      --disabled-bg-color: #3B4455;\n",
              "      --disabled-fill-color: #666;\n",
              "  }\n",
              "\n",
              "  .colab-df-quickchart {\n",
              "    background-color: var(--bg-color);\n",
              "    border: none;\n",
              "    border-radius: 50%;\n",
              "    cursor: pointer;\n",
              "    display: none;\n",
              "    fill: var(--fill-color);\n",
              "    height: 32px;\n",
              "    padding: 0;\n",
              "    width: 32px;\n",
              "  }\n",
              "\n",
              "  .colab-df-quickchart:hover {\n",
              "    background-color: var(--hover-bg-color);\n",
              "    box-shadow: 0 1px 2px rgba(60, 64, 67, 0.3), 0 1px 3px 1px rgba(60, 64, 67, 0.15);\n",
              "    fill: var(--button-hover-fill-color);\n",
              "  }\n",
              "\n",
              "  .colab-df-quickchart-complete:disabled,\n",
              "  .colab-df-quickchart-complete:disabled:hover {\n",
              "    background-color: var(--disabled-bg-color);\n",
              "    fill: var(--disabled-fill-color);\n",
              "    box-shadow: none;\n",
              "  }\n",
              "\n",
              "  .colab-df-spinner {\n",
              "    border: 2px solid var(--fill-color);\n",
              "    border-color: transparent;\n",
              "    border-bottom-color: var(--fill-color);\n",
              "    animation:\n",
              "      spin 1s steps(1) infinite;\n",
              "  }\n",
              "\n",
              "  @keyframes spin {\n",
              "    0% {\n",
              "      border-color: transparent;\n",
              "      border-bottom-color: var(--fill-color);\n",
              "      border-left-color: var(--fill-color);\n",
              "    }\n",
              "    20% {\n",
              "      border-color: transparent;\n",
              "      border-left-color: var(--fill-color);\n",
              "      border-top-color: var(--fill-color);\n",
              "    }\n",
              "    30% {\n",
              "      border-color: transparent;\n",
              "      border-left-color: var(--fill-color);\n",
              "      border-top-color: var(--fill-color);\n",
              "      border-right-color: var(--fill-color);\n",
              "    }\n",
              "    40% {\n",
              "      border-color: transparent;\n",
              "      border-right-color: var(--fill-color);\n",
              "      border-top-color: var(--fill-color);\n",
              "    }\n",
              "    60% {\n",
              "      border-color: transparent;\n",
              "      border-right-color: var(--fill-color);\n",
              "    }\n",
              "    80% {\n",
              "      border-color: transparent;\n",
              "      border-right-color: var(--fill-color);\n",
              "      border-bottom-color: var(--fill-color);\n",
              "    }\n",
              "    90% {\n",
              "      border-color: transparent;\n",
              "      border-bottom-color: var(--fill-color);\n",
              "    }\n",
              "  }\n",
              "</style>\n",
              "\n",
              "  <script>\n",
              "    async function quickchart(key) {\n",
              "      const quickchartButtonEl =\n",
              "        document.querySelector('#' + key + ' button');\n",
              "      quickchartButtonEl.disabled = true;  // To prevent multiple clicks.\n",
              "      quickchartButtonEl.classList.add('colab-df-spinner');\n",
              "      try {\n",
              "        const charts = await google.colab.kernel.invokeFunction(\n",
              "            'suggestCharts', [key], {});\n",
              "      } catch (error) {\n",
              "        console.error('Error during call to suggestCharts:', error);\n",
              "      }\n",
              "      quickchartButtonEl.classList.remove('colab-df-spinner');\n",
              "      quickchartButtonEl.classList.add('colab-df-quickchart-complete');\n",
              "    }\n",
              "    (() => {\n",
              "      let quickchartButtonEl =\n",
              "        document.querySelector('#df-1e0bccf5-a66b-4f2a-b788-7505aeed784d button');\n",
              "      quickchartButtonEl.style.display =\n",
              "        google.colab.kernel.accessAllowed ? 'block' : 'none';\n",
              "    })();\n",
              "  </script>\n",
              "</div>\n",
              "\n",
              "    </div>\n",
              "  </div>\n"
            ],
            "application/vnd.google.colaboratory.intrinsic+json": {
              "type": "dataframe",
              "summary": "{\n  \"name\": \"data_of_players\",\n  \"rows\": 5,\n  \"fields\": [\n    {\n      \"column\": \"count\",\n      \"properties\": {\n        \"dtype\": \"date\",\n        \"min\": \"623\",\n        \"max\": \"623\",\n        \"num_unique_values\": 1,\n        \"samples\": [\n          \"623\"\n        ],\n        \"semantic_type\": \"\",\n        \"description\": \"\"\n      }\n    },\n    {\n      \"column\": \"unique\",\n      \"properties\": {\n        \"dtype\": \"date\",\n        \"min\": 3,\n        \"max\": 623,\n        \"num_unique_values\": 5,\n        \"samples\": [\n          13\n        ],\n        \"semantic_type\": \"\",\n        \"description\": \"\"\n      }\n    },\n    {\n      \"column\": \"top\",\n      \"properties\": {\n        \"dtype\": \"string\",\n        \"num_unique_values\": 5,\n        \"samples\": [\n          \"Centre-Back\"\n        ],\n        \"semantic_type\": \"\",\n        \"description\": \"\"\n      }\n    },\n    {\n      \"column\": \"freq\",\n      \"properties\": {\n        \"dtype\": \"date\",\n        \"min\": \"1\",\n        \"max\": \"441\",\n        \"num_unique_values\": 5,\n        \"samples\": [\n          \"125\"\n        ],\n        \"semantic_type\": \"\",\n        \"description\": \"\"\n      }\n    }\n  ]\n}"
            }
          },
          "metadata": {},
          "execution_count": 93
        }
      ],
      "source": [
        "data_of_players.describe(include='object').T"
      ]
    },
    {
      "cell_type": "markdown",
      "metadata": {
        "id": "o8HTvO6KJ3UI"
      },
      "source": [
        "So After show the categorical values we can make some visauliztion to see and understand them more"
      ]
    },
    {
      "cell_type": "markdown",
      "metadata": {
        "id": "Ky0-fTiFKVga"
      },
      "source": [
        "\n",
        "\n",
        "---\n",
        "\n"
      ]
    },
    {
      "cell_type": "markdown",
      "metadata": {
        "id": "f73XasOlP5fP"
      },
      "source": [
        "We will begin to viualize the `Foot category`, as we see from the summary that the `Foot category` have 3 unique values, So now we will use bar graph to make this visualization, we use `plot_vertical_bar_(data)` function to make our needs, The purpose of using this cause Foot is categorical data and we want to see how many values in each cateogry"
      ]
    },
    {
      "cell_type": "markdown",
      "metadata": {
        "id": "tL89zUoJQvhd"
      },
      "source": [
        "We will use `value_counts()` function to see the `count/how many` values in each category in Foot column"
      ]
    },
    {
      "cell_type": "code",
      "execution_count": 94,
      "metadata": {
        "id": "brhStjL_N0L2"
      },
      "outputs": [],
      "source": [
        "data_of_Foot_category = data_of_players['Foot'].value_counts()"
      ]
    },
    {
      "cell_type": "markdown",
      "metadata": {
        "id": "aBEXXkHvJTqT"
      },
      "source": [
        "Value counts of foot category"
      ]
    },
    {
      "cell_type": "code",
      "execution_count": 95,
      "metadata": {
        "colab": {
          "base_uri": "https://localhost:8080/",
          "height": 209
        },
        "id": "UXbVMt01IV4L",
        "outputId": "9ed7f01a-dc2b-4a9d-9b33-3f2e9a9a64fb"
      },
      "outputs": [
        {
          "output_type": "execute_result",
          "data": {
            "text/plain": [
              "Foot\n",
              "right    441\n",
              "left     151\n",
              "both      31\n",
              "Name: count, dtype: int64"
            ],
            "text/html": [
              "<div>\n",
              "<style scoped>\n",
              "    .dataframe tbody tr th:only-of-type {\n",
              "        vertical-align: middle;\n",
              "    }\n",
              "\n",
              "    .dataframe tbody tr th {\n",
              "        vertical-align: top;\n",
              "    }\n",
              "\n",
              "    .dataframe thead th {\n",
              "        text-align: right;\n",
              "    }\n",
              "</style>\n",
              "<table border=\"1\" class=\"dataframe\">\n",
              "  <thead>\n",
              "    <tr style=\"text-align: right;\">\n",
              "      <th></th>\n",
              "      <th>count</th>\n",
              "    </tr>\n",
              "    <tr>\n",
              "      <th>Foot</th>\n",
              "      <th></th>\n",
              "    </tr>\n",
              "  </thead>\n",
              "  <tbody>\n",
              "    <tr>\n",
              "      <th>right</th>\n",
              "      <td>441</td>\n",
              "    </tr>\n",
              "    <tr>\n",
              "      <th>left</th>\n",
              "      <td>151</td>\n",
              "    </tr>\n",
              "    <tr>\n",
              "      <th>both</th>\n",
              "      <td>31</td>\n",
              "    </tr>\n",
              "  </tbody>\n",
              "</table>\n",
              "</div><br><label><b>dtype:</b> int64</label>"
            ]
          },
          "metadata": {},
          "execution_count": 95
        }
      ],
      "source": [
        "data_of_Foot_category"
      ]
    },
    {
      "cell_type": "markdown",
      "metadata": {
        "id": "pU7fZ_1qKISD"
      },
      "source": [
        "Visualize those data as bar graph to be easier in reading to know how many players play with their right foot, left foot or both"
      ]
    },
    {
      "cell_type": "markdown",
      "metadata": {
        "id": "RtpcGPe5j-3e"
      },
      "source": [
        "Define a list of shades of blue for the bars, and this will help us in visualiztion in all the graphs"
      ]
    },
    {
      "cell_type": "code",
      "execution_count": 96,
      "metadata": {
        "id": "Jj6ec_Qfj8bW"
      },
      "outputs": [],
      "source": [
        "shades_of_blue = ['#08306b', '#08519c', '#2171b5', '#4292c6', '#6baed6', '#9ecae1', '#c6dbef', '#deebf7', '#f7fbff']"
      ]
    },
    {
      "cell_type": "code",
      "execution_count": 97,
      "metadata": {
        "id": "xlVeCQdvJ7kd"
      },
      "outputs": [],
      "source": [
        "Bar_graph_for_Foot=plot_vertical_bar_(data_of_Foot_category,shades_of_blue[1],0.5,\"Preferred Foot of EURO 2024 Players\",\"Preferred Foot\",\"Number of players\")"
      ]
    },
    {
      "cell_type": "code",
      "source": [
        "Bar_graph_for_Foot"
      ],
      "metadata": {
        "colab": {
          "base_uri": "https://localhost:8080/",
          "height": 637
        },
        "id": "hpmQD9tBxFjn",
        "outputId": "f2c3da5b-d16e-42db-fba7-87a459417d38"
      },
      "execution_count": 115,
      "outputs": [
        {
          "output_type": "display_data",
          "data": {
            "text/html": [
              "<html>\n",
              "<head><meta charset=\"utf-8\" /></head>\n",
              "<body>\n",
              "    <div>            <script src=\"https://cdnjs.cloudflare.com/ajax/libs/mathjax/2.7.5/MathJax.js?config=TeX-AMS-MML_SVG\"></script><script type=\"text/javascript\">if (window.MathJax && window.MathJax.Hub && window.MathJax.Hub.Config) {window.MathJax.Hub.Config({SVG: {font: \"STIX-Web\"}});}</script>                <script type=\"text/javascript\">window.PlotlyConfig = {MathJaxConfig: 'local'};</script>\n",
              "        <script charset=\"utf-8\" src=\"https://cdn.plot.ly/plotly-2.35.2.min.js\"></script>                <div id=\"3e87ccc7-2373-4b4b-ac0e-d7837ffc50a6\" class=\"plotly-graph-div\" style=\"height:600px; width:1200px;\"></div>            <script type=\"text/javascript\">                                    window.PLOTLYENV=window.PLOTLYENV || {};                                    if (document.getElementById(\"3e87ccc7-2373-4b4b-ac0e-d7837ffc50a6\")) {                    Plotly.newPlot(                        \"3e87ccc7-2373-4b4b-ac0e-d7837ffc50a6\",                        [{\"marker\":{\"color\":[\"rgba(8, 81, 156, 1.0)\",\"rgba(8, 81, 156, 0.6463414634146342)\",\"rgba(8, 81, 156, 0.5)\"]},\"text\":[441.0,151.0,31.0],\"textposition\":\"auto\",\"x\":[\"right\",\"left\",\"both\"],\"y\":[441,151,31],\"type\":\"bar\"}],                        {\"height\":600,\"hovermode\":\"y unified\",\"title\":{\"font\":{\"family\":\"Arial\",\"size\":35},\"text\":\"Preferred Foot of EURO 2024 Players\",\"x\":0.5,\"xanchor\":\"center\"},\"width\":1200,\"xaxis\":{\"title\":{\"font\":{\"family\":\"Arial\",\"size\":20},\"text\":\"Preferred Foot\"}},\"yaxis\":{\"title\":{\"font\":{\"family\":\"Arial\",\"size\":20},\"text\":\"Number of players\"}},\"template\":{\"data\":{\"histogram2dcontour\":[{\"type\":\"histogram2dcontour\",\"colorbar\":{\"outlinewidth\":0,\"ticks\":\"\"},\"colorscale\":[[0.0,\"#0d0887\"],[0.1111111111111111,\"#46039f\"],[0.2222222222222222,\"#7201a8\"],[0.3333333333333333,\"#9c179e\"],[0.4444444444444444,\"#bd3786\"],[0.5555555555555556,\"#d8576b\"],[0.6666666666666666,\"#ed7953\"],[0.7777777777777778,\"#fb9f3a\"],[0.8888888888888888,\"#fdca26\"],[1.0,\"#f0f921\"]]}],\"choropleth\":[{\"type\":\"choropleth\",\"colorbar\":{\"outlinewidth\":0,\"ticks\":\"\"}}],\"histogram2d\":[{\"type\":\"histogram2d\",\"colorbar\":{\"outlinewidth\":0,\"ticks\":\"\"},\"colorscale\":[[0.0,\"#0d0887\"],[0.1111111111111111,\"#46039f\"],[0.2222222222222222,\"#7201a8\"],[0.3333333333333333,\"#9c179e\"],[0.4444444444444444,\"#bd3786\"],[0.5555555555555556,\"#d8576b\"],[0.6666666666666666,\"#ed7953\"],[0.7777777777777778,\"#fb9f3a\"],[0.8888888888888888,\"#fdca26\"],[1.0,\"#f0f921\"]]}],\"heatmap\":[{\"type\":\"heatmap\",\"colorbar\":{\"outlinewidth\":0,\"ticks\":\"\"},\"colorscale\":[[0.0,\"#0d0887\"],[0.1111111111111111,\"#46039f\"],[0.2222222222222222,\"#7201a8\"],[0.3333333333333333,\"#9c179e\"],[0.4444444444444444,\"#bd3786\"],[0.5555555555555556,\"#d8576b\"],[0.6666666666666666,\"#ed7953\"],[0.7777777777777778,\"#fb9f3a\"],[0.8888888888888888,\"#fdca26\"],[1.0,\"#f0f921\"]]}],\"heatmapgl\":[{\"type\":\"heatmapgl\",\"colorbar\":{\"outlinewidth\":0,\"ticks\":\"\"},\"colorscale\":[[0.0,\"#0d0887\"],[0.1111111111111111,\"#46039f\"],[0.2222222222222222,\"#7201a8\"],[0.3333333333333333,\"#9c179e\"],[0.4444444444444444,\"#bd3786\"],[0.5555555555555556,\"#d8576b\"],[0.6666666666666666,\"#ed7953\"],[0.7777777777777778,\"#fb9f3a\"],[0.8888888888888888,\"#fdca26\"],[1.0,\"#f0f921\"]]}],\"contourcarpet\":[{\"type\":\"contourcarpet\",\"colorbar\":{\"outlinewidth\":0,\"ticks\":\"\"}}],\"contour\":[{\"type\":\"contour\",\"colorbar\":{\"outlinewidth\":0,\"ticks\":\"\"},\"colorscale\":[[0.0,\"#0d0887\"],[0.1111111111111111,\"#46039f\"],[0.2222222222222222,\"#7201a8\"],[0.3333333333333333,\"#9c179e\"],[0.4444444444444444,\"#bd3786\"],[0.5555555555555556,\"#d8576b\"],[0.6666666666666666,\"#ed7953\"],[0.7777777777777778,\"#fb9f3a\"],[0.8888888888888888,\"#fdca26\"],[1.0,\"#f0f921\"]]}],\"surface\":[{\"type\":\"surface\",\"colorbar\":{\"outlinewidth\":0,\"ticks\":\"\"},\"colorscale\":[[0.0,\"#0d0887\"],[0.1111111111111111,\"#46039f\"],[0.2222222222222222,\"#7201a8\"],[0.3333333333333333,\"#9c179e\"],[0.4444444444444444,\"#bd3786\"],[0.5555555555555556,\"#d8576b\"],[0.6666666666666666,\"#ed7953\"],[0.7777777777777778,\"#fb9f3a\"],[0.8888888888888888,\"#fdca26\"],[1.0,\"#f0f921\"]]}],\"mesh3d\":[{\"type\":\"mesh3d\",\"colorbar\":{\"outlinewidth\":0,\"ticks\":\"\"}}],\"scatter\":[{\"fillpattern\":{\"fillmode\":\"overlay\",\"size\":10,\"solidity\":0.2},\"type\":\"scatter\"}],\"parcoords\":[{\"type\":\"parcoords\",\"line\":{\"colorbar\":{\"outlinewidth\":0,\"ticks\":\"\"}}}],\"scatterpolargl\":[{\"type\":\"scatterpolargl\",\"marker\":{\"colorbar\":{\"outlinewidth\":0,\"ticks\":\"\"}}}],\"bar\":[{\"error_x\":{\"color\":\"#2a3f5f\"},\"error_y\":{\"color\":\"#2a3f5f\"},\"marker\":{\"line\":{\"color\":\"#E5ECF6\",\"width\":0.5},\"pattern\":{\"fillmode\":\"overlay\",\"size\":10,\"solidity\":0.2}},\"type\":\"bar\"}],\"scattergeo\":[{\"type\":\"scattergeo\",\"marker\":{\"colorbar\":{\"outlinewidth\":0,\"ticks\":\"\"}}}],\"scatterpolar\":[{\"type\":\"scatterpolar\",\"marker\":{\"colorbar\":{\"outlinewidth\":0,\"ticks\":\"\"}}}],\"histogram\":[{\"marker\":{\"pattern\":{\"fillmode\":\"overlay\",\"size\":10,\"solidity\":0.2}},\"type\":\"histogram\"}],\"scattergl\":[{\"type\":\"scattergl\",\"marker\":{\"colorbar\":{\"outlinewidth\":0,\"ticks\":\"\"}}}],\"scatter3d\":[{\"type\":\"scatter3d\",\"line\":{\"colorbar\":{\"outlinewidth\":0,\"ticks\":\"\"}},\"marker\":{\"colorbar\":{\"outlinewidth\":0,\"ticks\":\"\"}}}],\"scattermapbox\":[{\"type\":\"scattermapbox\",\"marker\":{\"colorbar\":{\"outlinewidth\":0,\"ticks\":\"\"}}}],\"scatterternary\":[{\"type\":\"scatterternary\",\"marker\":{\"colorbar\":{\"outlinewidth\":0,\"ticks\":\"\"}}}],\"scattercarpet\":[{\"type\":\"scattercarpet\",\"marker\":{\"colorbar\":{\"outlinewidth\":0,\"ticks\":\"\"}}}],\"carpet\":[{\"aaxis\":{\"endlinecolor\":\"#2a3f5f\",\"gridcolor\":\"white\",\"linecolor\":\"white\",\"minorgridcolor\":\"white\",\"startlinecolor\":\"#2a3f5f\"},\"baxis\":{\"endlinecolor\":\"#2a3f5f\",\"gridcolor\":\"white\",\"linecolor\":\"white\",\"minorgridcolor\":\"white\",\"startlinecolor\":\"#2a3f5f\"},\"type\":\"carpet\"}],\"table\":[{\"cells\":{\"fill\":{\"color\":\"#EBF0F8\"},\"line\":{\"color\":\"white\"}},\"header\":{\"fill\":{\"color\":\"#C8D4E3\"},\"line\":{\"color\":\"white\"}},\"type\":\"table\"}],\"barpolar\":[{\"marker\":{\"line\":{\"color\":\"#E5ECF6\",\"width\":0.5},\"pattern\":{\"fillmode\":\"overlay\",\"size\":10,\"solidity\":0.2}},\"type\":\"barpolar\"}],\"pie\":[{\"automargin\":true,\"type\":\"pie\"}]},\"layout\":{\"autotypenumbers\":\"strict\",\"colorway\":[\"#636efa\",\"#EF553B\",\"#00cc96\",\"#ab63fa\",\"#FFA15A\",\"#19d3f3\",\"#FF6692\",\"#B6E880\",\"#FF97FF\",\"#FECB52\"],\"font\":{\"color\":\"#2a3f5f\"},\"hovermode\":\"closest\",\"hoverlabel\":{\"align\":\"left\"},\"paper_bgcolor\":\"white\",\"plot_bgcolor\":\"#E5ECF6\",\"polar\":{\"bgcolor\":\"#E5ECF6\",\"angularaxis\":{\"gridcolor\":\"white\",\"linecolor\":\"white\",\"ticks\":\"\"},\"radialaxis\":{\"gridcolor\":\"white\",\"linecolor\":\"white\",\"ticks\":\"\"}},\"ternary\":{\"bgcolor\":\"#E5ECF6\",\"aaxis\":{\"gridcolor\":\"white\",\"linecolor\":\"white\",\"ticks\":\"\"},\"baxis\":{\"gridcolor\":\"white\",\"linecolor\":\"white\",\"ticks\":\"\"},\"caxis\":{\"gridcolor\":\"white\",\"linecolor\":\"white\",\"ticks\":\"\"}},\"coloraxis\":{\"colorbar\":{\"outlinewidth\":0,\"ticks\":\"\"}},\"colorscale\":{\"sequential\":[[0.0,\"#0d0887\"],[0.1111111111111111,\"#46039f\"],[0.2222222222222222,\"#7201a8\"],[0.3333333333333333,\"#9c179e\"],[0.4444444444444444,\"#bd3786\"],[0.5555555555555556,\"#d8576b\"],[0.6666666666666666,\"#ed7953\"],[0.7777777777777778,\"#fb9f3a\"],[0.8888888888888888,\"#fdca26\"],[1.0,\"#f0f921\"]],\"sequentialminus\":[[0.0,\"#0d0887\"],[0.1111111111111111,\"#46039f\"],[0.2222222222222222,\"#7201a8\"],[0.3333333333333333,\"#9c179e\"],[0.4444444444444444,\"#bd3786\"],[0.5555555555555556,\"#d8576b\"],[0.6666666666666666,\"#ed7953\"],[0.7777777777777778,\"#fb9f3a\"],[0.8888888888888888,\"#fdca26\"],[1.0,\"#f0f921\"]],\"diverging\":[[0,\"#8e0152\"],[0.1,\"#c51b7d\"],[0.2,\"#de77ae\"],[0.3,\"#f1b6da\"],[0.4,\"#fde0ef\"],[0.5,\"#f7f7f7\"],[0.6,\"#e6f5d0\"],[0.7,\"#b8e186\"],[0.8,\"#7fbc41\"],[0.9,\"#4d9221\"],[1,\"#276419\"]]},\"xaxis\":{\"gridcolor\":\"white\",\"linecolor\":\"white\",\"ticks\":\"\",\"title\":{\"standoff\":15},\"zerolinecolor\":\"white\",\"automargin\":true,\"zerolinewidth\":2},\"yaxis\":{\"gridcolor\":\"white\",\"linecolor\":\"white\",\"ticks\":\"\",\"title\":{\"standoff\":15},\"zerolinecolor\":\"white\",\"automargin\":true,\"zerolinewidth\":2},\"scene\":{\"xaxis\":{\"backgroundcolor\":\"#E5ECF6\",\"gridcolor\":\"white\",\"linecolor\":\"white\",\"showbackground\":true,\"ticks\":\"\",\"zerolinecolor\":\"white\",\"gridwidth\":2},\"yaxis\":{\"backgroundcolor\":\"#E5ECF6\",\"gridcolor\":\"white\",\"linecolor\":\"white\",\"showbackground\":true,\"ticks\":\"\",\"zerolinecolor\":\"white\",\"gridwidth\":2},\"zaxis\":{\"backgroundcolor\":\"#E5ECF6\",\"gridcolor\":\"white\",\"linecolor\":\"white\",\"showbackground\":true,\"ticks\":\"\",\"zerolinecolor\":\"white\",\"gridwidth\":2}},\"shapedefaults\":{\"line\":{\"color\":\"#2a3f5f\"}},\"annotationdefaults\":{\"arrowcolor\":\"#2a3f5f\",\"arrowhead\":0,\"arrowwidth\":1},\"geo\":{\"bgcolor\":\"white\",\"landcolor\":\"#E5ECF6\",\"subunitcolor\":\"white\",\"showland\":true,\"showlakes\":true,\"lakecolor\":\"white\"},\"title\":{\"x\":0.05},\"mapbox\":{\"style\":\"light\"}}}},                        {\"responsive\": true}                    ).then(function(){\n",
              "                            \n",
              "var gd = document.getElementById('3e87ccc7-2373-4b4b-ac0e-d7837ffc50a6');\n",
              "var x = new MutationObserver(function (mutations, observer) {{\n",
              "        var display = window.getComputedStyle(gd).display;\n",
              "        if (!display || display === 'none') {{\n",
              "            console.log([gd, 'removed!']);\n",
              "            Plotly.purge(gd);\n",
              "            observer.disconnect();\n",
              "        }}\n",
              "}});\n",
              "\n",
              "// Listen for the removal of the full notebook cells\n",
              "var notebookContainer = gd.closest('#notebook-container');\n",
              "if (notebookContainer) {{\n",
              "    x.observe(notebookContainer, {childList: true});\n",
              "}}\n",
              "\n",
              "// Listen for the clearing of the current output cell\n",
              "var outputEl = gd.closest('.output');\n",
              "if (outputEl) {{\n",
              "    x.observe(outputEl, {childList: true});\n",
              "}}\n",
              "\n",
              "                        })                };                            </script>        </div>\n",
              "</body>\n",
              "</html>"
            ]
          },
          "metadata": {}
        }
      ]
    },
    {
      "cell_type": "markdown",
      "metadata": {
        "id": "5uSJMOWfwlQp"
      },
      "source": [
        "To save plot as HTML file, we wil use `save_plot_as_html(figure,filepath)`"
      ]
    },
    {
      "cell_type": "code",
      "execution_count": 99,
      "metadata": {
        "id": "e3PopYNhwahq"
      },
      "outputs": [],
      "source": [
        "save_plot_as_html(Bar_graph_for_Foot,'Foot.html')"
      ]
    },
    {
      "cell_type": "markdown",
      "metadata": {
        "id": "q1lrdjSwKiIg"
      },
      "source": [
        "\n",
        "\n",
        "---\n",
        "\n"
      ]
    },
    {
      "cell_type": "markdown",
      "metadata": {
        "id": "5NbHhOsrK0Qx"
      },
      "source": [
        "After visualiztion of `Foot category` now we will go to visualize the `club cateogry`"
      ]
    },
    {
      "cell_type": "markdown",
      "metadata": {
        "id": "8V-Y9DtzLHo3"
      },
      "source": [
        " From the data that we have we know the the club of each player and from the summary that we do we know that we have about 219 club, so now we need to know How many Euro players play in each club"
      ]
    },
    {
      "cell_type": "code",
      "execution_count": 100,
      "metadata": {
        "id": "osB6w7QENXFR"
      },
      "outputs": [],
      "source": [
        "data_of_club_category = data_of_players['Club'].value_counts()"
      ]
    },
    {
      "cell_type": "markdown",
      "metadata": {
        "id": "fh9Phi2MNXFo"
      },
      "source": [
        "Value counts of club category"
      ]
    },
    {
      "cell_type": "code",
      "execution_count": 101,
      "metadata": {
        "colab": {
          "base_uri": "https://localhost:8080/",
          "height": 489
        },
        "id": "Zikk0xt0NXFp",
        "outputId": "3bddf113-7a2e-4e9b-9e52-93915e5aa157"
      },
      "outputs": [
        {
          "output_type": "execute_result",
          "data": {
            "text/plain": [
              "Club\n",
              "Manchester City          13\n",
              "Inter Milan              13\n",
              "FC Barcelona             12\n",
              "Real Madrid              12\n",
              "Paris Saint-Germain      12\n",
              "                         ..\n",
              "FC Südtirol               1\n",
              "NK Olimpija Ljubljana     1\n",
              "Barnsley FC               1\n",
              "NK Celje                  1\n",
              "Twente Enschede FC        1\n",
              "Name: count, Length: 219, dtype: int64"
            ],
            "text/html": [
              "<div>\n",
              "<style scoped>\n",
              "    .dataframe tbody tr th:only-of-type {\n",
              "        vertical-align: middle;\n",
              "    }\n",
              "\n",
              "    .dataframe tbody tr th {\n",
              "        vertical-align: top;\n",
              "    }\n",
              "\n",
              "    .dataframe thead th {\n",
              "        text-align: right;\n",
              "    }\n",
              "</style>\n",
              "<table border=\"1\" class=\"dataframe\">\n",
              "  <thead>\n",
              "    <tr style=\"text-align: right;\">\n",
              "      <th></th>\n",
              "      <th>count</th>\n",
              "    </tr>\n",
              "    <tr>\n",
              "      <th>Club</th>\n",
              "      <th></th>\n",
              "    </tr>\n",
              "  </thead>\n",
              "  <tbody>\n",
              "    <tr>\n",
              "      <th>Manchester City</th>\n",
              "      <td>13</td>\n",
              "    </tr>\n",
              "    <tr>\n",
              "      <th>Inter Milan</th>\n",
              "      <td>13</td>\n",
              "    </tr>\n",
              "    <tr>\n",
              "      <th>FC Barcelona</th>\n",
              "      <td>12</td>\n",
              "    </tr>\n",
              "    <tr>\n",
              "      <th>Real Madrid</th>\n",
              "      <td>12</td>\n",
              "    </tr>\n",
              "    <tr>\n",
              "      <th>Paris Saint-Germain</th>\n",
              "      <td>12</td>\n",
              "    </tr>\n",
              "    <tr>\n",
              "      <th>...</th>\n",
              "      <td>...</td>\n",
              "    </tr>\n",
              "    <tr>\n",
              "      <th>FC Südtirol</th>\n",
              "      <td>1</td>\n",
              "    </tr>\n",
              "    <tr>\n",
              "      <th>NK Olimpija Ljubljana</th>\n",
              "      <td>1</td>\n",
              "    </tr>\n",
              "    <tr>\n",
              "      <th>Barnsley FC</th>\n",
              "      <td>1</td>\n",
              "    </tr>\n",
              "    <tr>\n",
              "      <th>NK Celje</th>\n",
              "      <td>1</td>\n",
              "    </tr>\n",
              "    <tr>\n",
              "      <th>Twente Enschede FC</th>\n",
              "      <td>1</td>\n",
              "    </tr>\n",
              "  </tbody>\n",
              "</table>\n",
              "<p>219 rows × 1 columns</p>\n",
              "</div><br><label><b>dtype:</b> int64</label>"
            ]
          },
          "metadata": {},
          "execution_count": 101
        }
      ],
      "source": [
        "data_of_club_category"
      ]
    },
    {
      "cell_type": "markdown",
      "metadata": {
        "id": "Xu7jfWF_OXKZ"
      },
      "source": [
        "Visualize those data as bar graph to be easier in reading and to be interactive and this will help you to see any clubs"
      ]
    },
    {
      "cell_type": "code",
      "execution_count": 102,
      "metadata": {
        "id": "R6KD9910OXKZ"
      },
      "outputs": [],
      "source": [
        "Bar_graph_for_club=plot_vertical_bar_(data_of_club_category,shades_of_blue[0],0.9,\"Number of Players Representing Each Club in Euro 2024\",\"Name of the club\",\"Number of players\")"
      ]
    },
    {
      "cell_type": "code",
      "execution_count": 116,
      "metadata": {
        "colab": {
          "base_uri": "https://localhost:8080/",
          "height": 637
        },
        "id": "_HPfS0rqK0hU",
        "outputId": "c2613ae2-452a-4d88-f3da-eb28e4980fec"
      },
      "outputs": [
        {
          "output_type": "display_data",
          "data": {
            "text/html": [
              "<html>\n",
              "<head><meta charset=\"utf-8\" /></head>\n",
              "<body>\n",
              "    <div>            <script src=\"https://cdnjs.cloudflare.com/ajax/libs/mathjax/2.7.5/MathJax.js?config=TeX-AMS-MML_SVG\"></script><script type=\"text/javascript\">if (window.MathJax && window.MathJax.Hub && window.MathJax.Hub.Config) {window.MathJax.Hub.Config({SVG: {font: \"STIX-Web\"}});}</script>                <script type=\"text/javascript\">window.PlotlyConfig = {MathJaxConfig: 'local'};</script>\n",
              "        <script charset=\"utf-8\" src=\"https://cdn.plot.ly/plotly-2.35.2.min.js\"></script>                <div id=\"7cd15714-c897-4a5e-9fe0-13dcbc2963ab\" class=\"plotly-graph-div\" style=\"height:600px; width:1200px;\"></div>            <script type=\"text/javascript\">                                    window.PLOTLYENV=window.PLOTLYENV || {};                                    if (document.getElementById(\"7cd15714-c897-4a5e-9fe0-13dcbc2963ab\")) {                    Plotly.newPlot(                        \"7cd15714-c897-4a5e-9fe0-13dcbc2963ab\",                        [{\"marker\":{\"color\":[\"rgba(8, 48, 107, 1.0)\",\"rgba(8, 48, 107, 1.0)\",\"rgba(8, 48, 107, 0.925)\",\"rgba(8, 48, 107, 0.925)\",\"rgba(8, 48, 107, 0.925)\",\"rgba(8, 48, 107, 0.85)\",\"rgba(8, 48, 107, 0.85)\",\"rgba(8, 48, 107, 0.775)\",\"rgba(8, 48, 107, 0.775)\",\"rgba(8, 48, 107, 0.7)\",\"rgba(8, 48, 107, 0.7)\",\"rgba(8, 48, 107, 0.7)\",\"rgba(8, 48, 107, 0.7)\",\"rgba(8, 48, 107, 0.625)\",\"rgba(8, 48, 107, 0.625)\",\"rgba(8, 48, 107, 0.625)\",\"rgba(8, 48, 107, 0.625)\",\"rgba(8, 48, 107, 0.625)\",\"rgba(8, 48, 107, 0.55)\",\"rgba(8, 48, 107, 0.55)\",\"rgba(8, 48, 107, 0.55)\",\"rgba(8, 48, 107, 0.55)\",\"rgba(8, 48, 107, 0.475)\",\"rgba(8, 48, 107, 0.475)\",\"rgba(8, 48, 107, 0.475)\",\"rgba(8, 48, 107, 0.475)\",\"rgba(8, 48, 107, 0.475)\",\"rgba(8, 48, 107, 0.475)\",\"rgba(8, 48, 107, 0.475)\",\"rgba(8, 48, 107, 0.475)\",\"rgba(8, 48, 107, 0.475)\",\"rgba(8, 48, 107, 0.4)\",\"rgba(8, 48, 107, 0.4)\",\"rgba(8, 48, 107, 0.4)\",\"rgba(8, 48, 107, 0.4)\",\"rgba(8, 48, 107, 0.4)\",\"rgba(8, 48, 107, 0.4)\",\"rgba(8, 48, 107, 0.4)\",\"rgba(8, 48, 107, 0.4)\",\"rgba(8, 48, 107, 0.4)\",\"rgba(8, 48, 107, 0.4)\",\"rgba(8, 48, 107, 0.32499999999999996)\",\"rgba(8, 48, 107, 0.32499999999999996)\",\"rgba(8, 48, 107, 0.32499999999999996)\",\"rgba(8, 48, 107, 0.32499999999999996)\",\"rgba(8, 48, 107, 0.32499999999999996)\",\"rgba(8, 48, 107, 0.32499999999999996)\",\"rgba(8, 48, 107, 0.32499999999999996)\",\"rgba(8, 48, 107, 0.32499999999999996)\",\"rgba(8, 48, 107, 0.32499999999999996)\",\"rgba(8, 48, 107, 0.32499999999999996)\",\"rgba(8, 48, 107, 0.32499999999999996)\",\"rgba(8, 48, 107, 0.32499999999999996)\",\"rgba(8, 48, 107, 0.32499999999999996)\",\"rgba(8, 48, 107, 0.32499999999999996)\",\"rgba(8, 48, 107, 0.32499999999999996)\",\"rgba(8, 48, 107, 0.25)\",\"rgba(8, 48, 107, 0.25)\",\"rgba(8, 48, 107, 0.25)\",\"rgba(8, 48, 107, 0.25)\",\"rgba(8, 48, 107, 0.25)\",\"rgba(8, 48, 107, 0.25)\",\"rgba(8, 48, 107, 0.25)\",\"rgba(8, 48, 107, 0.25)\",\"rgba(8, 48, 107, 0.25)\",\"rgba(8, 48, 107, 0.25)\",\"rgba(8, 48, 107, 0.25)\",\"rgba(8, 48, 107, 0.25)\",\"rgba(8, 48, 107, 0.25)\",\"rgba(8, 48, 107, 0.25)\",\"rgba(8, 48, 107, 0.25)\",\"rgba(8, 48, 107, 0.25)\",\"rgba(8, 48, 107, 0.25)\",\"rgba(8, 48, 107, 0.25)\",\"rgba(8, 48, 107, 0.25)\",\"rgba(8, 48, 107, 0.25)\",\"rgba(8, 48, 107, 0.25)\",\"rgba(8, 48, 107, 0.25)\",\"rgba(8, 48, 107, 0.25)\",\"rgba(8, 48, 107, 0.25)\",\"rgba(8, 48, 107, 0.25)\",\"rgba(8, 48, 107, 0.25)\",\"rgba(8, 48, 107, 0.25)\",\"rgba(8, 48, 107, 0.25)\",\"rgba(8, 48, 107, 0.25)\",\"rgba(8, 48, 107, 0.17500000000000004)\",\"rgba(8, 48, 107, 0.17500000000000004)\",\"rgba(8, 48, 107, 0.17500000000000004)\",\"rgba(8, 48, 107, 0.17500000000000004)\",\"rgba(8, 48, 107, 0.17500000000000004)\",\"rgba(8, 48, 107, 0.17500000000000004)\",\"rgba(8, 48, 107, 0.17500000000000004)\",\"rgba(8, 48, 107, 0.17500000000000004)\",\"rgba(8, 48, 107, 0.17500000000000004)\",\"rgba(8, 48, 107, 0.17500000000000004)\",\"rgba(8, 48, 107, 0.17500000000000004)\",\"rgba(8, 48, 107, 0.17500000000000004)\",\"rgba(8, 48, 107, 0.17500000000000004)\",\"rgba(8, 48, 107, 0.17500000000000004)\",\"rgba(8, 48, 107, 0.17500000000000004)\",\"rgba(8, 48, 107, 0.17500000000000004)\",\"rgba(8, 48, 107, 0.17500000000000004)\",\"rgba(8, 48, 107, 0.17500000000000004)\",\"rgba(8, 48, 107, 0.17500000000000004)\",\"rgba(8, 48, 107, 0.17500000000000004)\",\"rgba(8, 48, 107, 0.17500000000000004)\",\"rgba(8, 48, 107, 0.17500000000000004)\",\"rgba(8, 48, 107, 0.17500000000000004)\",\"rgba(8, 48, 107, 0.17500000000000004)\",\"rgba(8, 48, 107, 0.17500000000000004)\",\"rgba(8, 48, 107, 0.17500000000000004)\",\"rgba(8, 48, 107, 0.17500000000000004)\",\"rgba(8, 48, 107, 0.17500000000000004)\",\"rgba(8, 48, 107, 0.17500000000000004)\",\"rgba(8, 48, 107, 0.17500000000000004)\",\"rgba(8, 48, 107, 0.09999999999999998)\",\"rgba(8, 48, 107, 0.09999999999999998)\",\"rgba(8, 48, 107, 0.09999999999999998)\",\"rgba(8, 48, 107, 0.09999999999999998)\",\"rgba(8, 48, 107, 0.09999999999999998)\",\"rgba(8, 48, 107, 0.09999999999999998)\",\"rgba(8, 48, 107, 0.09999999999999998)\",\"rgba(8, 48, 107, 0.09999999999999998)\",\"rgba(8, 48, 107, 0.09999999999999998)\",\"rgba(8, 48, 107, 0.09999999999999998)\",\"rgba(8, 48, 107, 0.09999999999999998)\",\"rgba(8, 48, 107, 0.09999999999999998)\",\"rgba(8, 48, 107, 0.09999999999999998)\",\"rgba(8, 48, 107, 0.09999999999999998)\",\"rgba(8, 48, 107, 0.09999999999999998)\",\"rgba(8, 48, 107, 0.09999999999999998)\",\"rgba(8, 48, 107, 0.09999999999999998)\",\"rgba(8, 48, 107, 0.09999999999999998)\",\"rgba(8, 48, 107, 0.09999999999999998)\",\"rgba(8, 48, 107, 0.09999999999999998)\",\"rgba(8, 48, 107, 0.09999999999999998)\",\"rgba(8, 48, 107, 0.09999999999999998)\",\"rgba(8, 48, 107, 0.09999999999999998)\",\"rgba(8, 48, 107, 0.09999999999999998)\",\"rgba(8, 48, 107, 0.09999999999999998)\",\"rgba(8, 48, 107, 0.09999999999999998)\",\"rgba(8, 48, 107, 0.09999999999999998)\",\"rgba(8, 48, 107, 0.09999999999999998)\",\"rgba(8, 48, 107, 0.09999999999999998)\",\"rgba(8, 48, 107, 0.09999999999999998)\",\"rgba(8, 48, 107, 0.09999999999999998)\",\"rgba(8, 48, 107, 0.09999999999999998)\",\"rgba(8, 48, 107, 0.09999999999999998)\",\"rgba(8, 48, 107, 0.09999999999999998)\",\"rgba(8, 48, 107, 0.09999999999999998)\",\"rgba(8, 48, 107, 0.09999999999999998)\",\"rgba(8, 48, 107, 0.09999999999999998)\",\"rgba(8, 48, 107, 0.09999999999999998)\",\"rgba(8, 48, 107, 0.09999999999999998)\",\"rgba(8, 48, 107, 0.09999999999999998)\",\"rgba(8, 48, 107, 0.09999999999999998)\",\"rgba(8, 48, 107, 0.09999999999999998)\",\"rgba(8, 48, 107, 0.09999999999999998)\",\"rgba(8, 48, 107, 0.09999999999999998)\",\"rgba(8, 48, 107, 0.09999999999999998)\",\"rgba(8, 48, 107, 0.09999999999999998)\",\"rgba(8, 48, 107, 0.09999999999999998)\",\"rgba(8, 48, 107, 0.09999999999999998)\",\"rgba(8, 48, 107, 0.09999999999999998)\",\"rgba(8, 48, 107, 0.09999999999999998)\",\"rgba(8, 48, 107, 0.09999999999999998)\",\"rgba(8, 48, 107, 0.09999999999999998)\",\"rgba(8, 48, 107, 0.09999999999999998)\",\"rgba(8, 48, 107, 0.09999999999999998)\",\"rgba(8, 48, 107, 0.09999999999999998)\",\"rgba(8, 48, 107, 0.09999999999999998)\",\"rgba(8, 48, 107, 0.09999999999999998)\",\"rgba(8, 48, 107, 0.09999999999999998)\",\"rgba(8, 48, 107, 0.09999999999999998)\",\"rgba(8, 48, 107, 0.09999999999999998)\",\"rgba(8, 48, 107, 0.09999999999999998)\",\"rgba(8, 48, 107, 0.09999999999999998)\",\"rgba(8, 48, 107, 0.09999999999999998)\",\"rgba(8, 48, 107, 0.09999999999999998)\",\"rgba(8, 48, 107, 0.09999999999999998)\",\"rgba(8, 48, 107, 0.09999999999999998)\",\"rgba(8, 48, 107, 0.09999999999999998)\",\"rgba(8, 48, 107, 0.09999999999999998)\",\"rgba(8, 48, 107, 0.09999999999999998)\",\"rgba(8, 48, 107, 0.09999999999999998)\",\"rgba(8, 48, 107, 0.09999999999999998)\",\"rgba(8, 48, 107, 0.09999999999999998)\",\"rgba(8, 48, 107, 0.09999999999999998)\",\"rgba(8, 48, 107, 0.09999999999999998)\",\"rgba(8, 48, 107, 0.09999999999999998)\",\"rgba(8, 48, 107, 0.09999999999999998)\",\"rgba(8, 48, 107, 0.09999999999999998)\",\"rgba(8, 48, 107, 0.09999999999999998)\",\"rgba(8, 48, 107, 0.09999999999999998)\",\"rgba(8, 48, 107, 0.09999999999999998)\",\"rgba(8, 48, 107, 0.09999999999999998)\",\"rgba(8, 48, 107, 0.09999999999999998)\",\"rgba(8, 48, 107, 0.09999999999999998)\",\"rgba(8, 48, 107, 0.09999999999999998)\",\"rgba(8, 48, 107, 0.09999999999999998)\",\"rgba(8, 48, 107, 0.09999999999999998)\",\"rgba(8, 48, 107, 0.09999999999999998)\",\"rgba(8, 48, 107, 0.09999999999999998)\",\"rgba(8, 48, 107, 0.09999999999999998)\",\"rgba(8, 48, 107, 0.09999999999999998)\",\"rgba(8, 48, 107, 0.09999999999999998)\",\"rgba(8, 48, 107, 0.09999999999999998)\",\"rgba(8, 48, 107, 0.09999999999999998)\",\"rgba(8, 48, 107, 0.09999999999999998)\",\"rgba(8, 48, 107, 0.09999999999999998)\",\"rgba(8, 48, 107, 0.09999999999999998)\",\"rgba(8, 48, 107, 0.09999999999999998)\",\"rgba(8, 48, 107, 0.09999999999999998)\",\"rgba(8, 48, 107, 0.09999999999999998)\",\"rgba(8, 48, 107, 0.09999999999999998)\",\"rgba(8, 48, 107, 0.09999999999999998)\",\"rgba(8, 48, 107, 0.09999999999999998)\",\"rgba(8, 48, 107, 0.09999999999999998)\",\"rgba(8, 48, 107, 0.09999999999999998)\"]},\"text\":[13.0,13.0,12.0,12.0,12.0,11.0,11.0,10.0,10.0,9.0,9.0,9.0,9.0,8.0,8.0,8.0,8.0,8.0,7.0,7.0,7.0,7.0,6.0,6.0,6.0,6.0,6.0,6.0,6.0,6.0,6.0,5.0,5.0,5.0,5.0,5.0,5.0,5.0,5.0,5.0,5.0,4.0,4.0,4.0,4.0,4.0,4.0,4.0,4.0,4.0,4.0,4.0,4.0,4.0,4.0,4.0,3.0,3.0,3.0,3.0,3.0,3.0,3.0,3.0,3.0,3.0,3.0,3.0,3.0,3.0,3.0,3.0,3.0,3.0,3.0,3.0,3.0,3.0,3.0,3.0,3.0,3.0,3.0,3.0,3.0,2.0,2.0,2.0,2.0,2.0,2.0,2.0,2.0,2.0,2.0,2.0,2.0,2.0,2.0,2.0,2.0,2.0,2.0,2.0,2.0,2.0,2.0,2.0,2.0,2.0,2.0,2.0,2.0,2.0,2.0,1.0,1.0,1.0,1.0,1.0,1.0,1.0,1.0,1.0,1.0,1.0,1.0,1.0,1.0,1.0,1.0,1.0,1.0,1.0,1.0,1.0,1.0,1.0,1.0,1.0,1.0,1.0,1.0,1.0,1.0,1.0,1.0,1.0,1.0,1.0,1.0,1.0,1.0,1.0,1.0,1.0,1.0,1.0,1.0,1.0,1.0,1.0,1.0,1.0,1.0,1.0,1.0,1.0,1.0,1.0,1.0,1.0,1.0,1.0,1.0,1.0,1.0,1.0,1.0,1.0,1.0,1.0,1.0,1.0,1.0,1.0,1.0,1.0,1.0,1.0,1.0,1.0,1.0,1.0,1.0,1.0,1.0,1.0,1.0,1.0,1.0,1.0,1.0,1.0,1.0,1.0,1.0,1.0,1.0,1.0,1.0,1.0,1.0,1.0,1.0,1.0,1.0,1.0,1.0],\"textposition\":\"auto\",\"x\":[\"Manchester City\",\"Inter Milan\",\"FC Barcelona\",\"Real Madrid\",\"Paris Saint-Germain\",\"RB Leipzig\",\"Bayern Munich\",\"Bayer 04 Leverkusen\",\"Arsenal FC\",\"Liverpool FC\",\"Juventus FC\",\"SK Slavia Prague\",\"AS Roma\",\"VfL Wolfsburg\",\"AC Milan\",\"Fenerbahce\",\"Manchester United\",\"Bologna FC 1909\",\"Atlético de Madrid\",\"Feyenoord Rotterdam\",\"Brentford FC\",\"Shakhtar Donetsk\",\"Torino FC\",\"RSC Anderlecht\",\"Real Sociedad\",\"Borussia Dortmund\",\"TSG 1899 Hoffenheim\",\"SSC Napoli\",\"Chelsea FC\",\"Dynamo Kyiv\",\"AC Sparta Prague\",\"Crystal Palace\",\"Brighton & Hove Albion\",\"Hellas Verona\",\"SK Sturm Graz\",\"Panathinaikos FC\",\"VfB Stuttgart\",\"Ajax Amsterdam\",\"SL Benfica\",\"FC Empoli\",\"Atalanta BC\",\"Tottenham Hotspur\",\"Besiktas JK\",\"Newcastle United\",\"AEK Athens\",\"Red Bull Salzburg\",\"West Ham United\",\"Aston Villa\",\"FCSB\",\"FC Viktoria Plzen\",\"SC Freiburg\",\"Fulham FC\",\"Rapid Vienna\",\"Galatasaray\",\"Leicester City\",\"Celtic FC\",\"Wolverhampton Wanderers\",\"HNK Rijeka\",\"FC Porto\",\"US Lecce\",\"US Sassuolo\",\"Gaziantep FK\",\"Udinese Calcio\",\"GNK Dinamo Zagreb\",\"Slovan Bratislava\",\"PSV Eindhoven\",\"CFR Cluj\",\"Girona FC\",\"RC Lens\",\"Al-Hilal SFC\",\"Club Brugge KV\",\"Everton FC\",\"APOEL Nicosia\",\"Parma Calcio 1913\",\"AS Monaco\",\"AFC Bournemouth\",\"Stade Rennais FC\",\"1.FC Union Berlin\",\"Norwich City\",\"Bristol City\",\"Athletic Bilbao\",\"Southampton FC\",\"Al-Nassr FC\",\"Sevilla FC\",\"Ferencvárosi TC\",\"CS Universitatea Craiova\",\"Lech Poznan\",\"Heart of Midlothian FC\",\"Spartak Trnava\",\"Valencia CF\",\"Antalyaspor\",\"HNK Hajduk Split\",\"Genoa CFC\",\"Atlanta United FC\",\"Hertha BSC\",\"Red Star Belgrade\",\"FC Copenhagen\",\"Al-Ettifaq FC\",\"Sporting CP\",\"SV Werder Bremen\",\"Borussia Mönchengladbach\",\"Pogon Szczecin\",\"Pafos FC\",\"Ludogorets Razgrad\",\"Burnley FC\",\"Watford FC\",\"Al-Okhdood Club\",\"Trabzonspor\",\"FC Girondins Bordeaux\",\"1.FSV Mainz 05\",\"Pisa Sporting Club\",\"SS Lazio\",\"Rayo Vallecano\",\"ACF Fiorentina\",\"Panetolikos GFS\",\"FC Slovan Liberec\",\"Real Betis Balompié\",\"Hatta Club\",\"FC Banik Ostrava\",\"VfL Bochum\",\"KRC Genk\",\"Hamburger SV\",\"Boavista FC\",\"US Salernitana 1919\",\"Cagliari Calcio\",\"New England Revolution\",\"Al-Shabab FC\",\"Olympique Lyon\",\"Luton Town\",\"Nottingham Forest\",\"Ascoli Calcio\",\"Deportivo Alavés\",\"Leeds United\",\"Qarabağ FK\",\"Eintracht Frankfurt\",\"Motherwell FC\",\"Karlsruher SC\",\"FC Metz\",\"Dinamo Batumi\",\"Cracovia\",\"Wolfsberger AC\",\"Levante UD\",\"FC Basel 1893\",\"Persepolis FC\",\"US Cremonese\",\"Dinamo Tbilisi\",\"LOSC Lille\",\"Raków Częstochowa\",\"West Bromwich Albion\",\"Al-Ahli SFC\",\"KVC Westerlo\",\"Polissya Zhytomyr\",\"SK Dnipro-1\",\"LASK\",\"Muaither SC\",\"SSC Bari\",\"Olympique Marseille\",\"Konyaspor\",\"Damac FC\",\"Palermo FC\",\"Al-Ittihad Club\",\"OGC Nice\",\"TSV Hartberg\",\"Alanyaspor\",\"FC Sochi\",\"Orlando City SC\",\"MTK Budapest\",\"Vejle Boldklub\",\"Philadelphia Union\",\"Kecskeméti TE\",\"Újpest FC\",\"Ulsan HD FC\",\"FC Lorient\",\"Rubin Kazan\",\"FC Baniyas\",\"Sivasspor\",\"Gwangju FC\",\"Grasshopper Club Zurich\",\"SV Darmstadt 98\",\"FC Voluntari\",\"Lokomotiv Moscow\",\"FC Famalicão\",\"FC Luzern\",\"AS Cittadella\",\"FC Toulouse\",\"CA Osasuna\",\"Chicago Fire FC\",\"FC Augsburg\",\"FC Lugano\",\"Viborg FF\",\"Górnik Zabrze\",\"1.FC Köln\",\"UC Sampdoria\",\"Union Saint-Gilloise\",\"Bröndby IF\",\"Rangers FC\",\"New York Red Bulls\",\"Basaksehir FK\",\"Jagiellonia Bialystok\",\"1.FC Kaiserslautern\",\"Villarreal CF\",\"PAOK Thessaloniki\",\"Getafe CF\",\"Paksi FC\",\"FK TSC Backa Topola\",\"Spartak Moscow\",\"RCD Mallorca\",\"Omonia Nicosia\",\"Puskás Akadémia FC\",\"Servette FC\",\"Le Havre AC\",\"Fehérvár FC\",\"Spezia Calcio\",\"NK Maribor\",\"FC Südtirol\",\"NK Olimpija Ljubljana\",\"Barnsley FC\",\"NK Celje\",\"Twente Enschede FC\"],\"y\":[13,13,12,12,12,11,11,10,10,9,9,9,9,8,8,8,8,8,7,7,7,7,6,6,6,6,6,6,6,6,6,5,5,5,5,5,5,5,5,5,5,4,4,4,4,4,4,4,4,4,4,4,4,4,4,4,3,3,3,3,3,3,3,3,3,3,3,3,3,3,3,3,3,3,3,3,3,3,3,3,3,3,3,3,3,2,2,2,2,2,2,2,2,2,2,2,2,2,2,2,2,2,2,2,2,2,2,2,2,2,2,2,2,2,2,1,1,1,1,1,1,1,1,1,1,1,1,1,1,1,1,1,1,1,1,1,1,1,1,1,1,1,1,1,1,1,1,1,1,1,1,1,1,1,1,1,1,1,1,1,1,1,1,1,1,1,1,1,1,1,1,1,1,1,1,1,1,1,1,1,1,1,1,1,1,1,1,1,1,1,1,1,1,1,1,1,1,1,1,1,1,1,1,1,1,1,1,1,1,1,1,1,1,1,1,1,1,1,1],\"type\":\"bar\"}],                        {\"height\":600,\"hovermode\":\"y unified\",\"title\":{\"font\":{\"family\":\"Arial\",\"size\":35},\"text\":\"Number of Players Representing Each Club in Euro 2024\",\"x\":0.5,\"xanchor\":\"center\"},\"width\":1200,\"xaxis\":{\"title\":{\"font\":{\"family\":\"Arial\",\"size\":20},\"text\":\"Name of the club\"}},\"yaxis\":{\"title\":{\"font\":{\"family\":\"Arial\",\"size\":20},\"text\":\"Number of players\"}},\"template\":{\"data\":{\"histogram2dcontour\":[{\"type\":\"histogram2dcontour\",\"colorbar\":{\"outlinewidth\":0,\"ticks\":\"\"},\"colorscale\":[[0.0,\"#0d0887\"],[0.1111111111111111,\"#46039f\"],[0.2222222222222222,\"#7201a8\"],[0.3333333333333333,\"#9c179e\"],[0.4444444444444444,\"#bd3786\"],[0.5555555555555556,\"#d8576b\"],[0.6666666666666666,\"#ed7953\"],[0.7777777777777778,\"#fb9f3a\"],[0.8888888888888888,\"#fdca26\"],[1.0,\"#f0f921\"]]}],\"choropleth\":[{\"type\":\"choropleth\",\"colorbar\":{\"outlinewidth\":0,\"ticks\":\"\"}}],\"histogram2d\":[{\"type\":\"histogram2d\",\"colorbar\":{\"outlinewidth\":0,\"ticks\":\"\"},\"colorscale\":[[0.0,\"#0d0887\"],[0.1111111111111111,\"#46039f\"],[0.2222222222222222,\"#7201a8\"],[0.3333333333333333,\"#9c179e\"],[0.4444444444444444,\"#bd3786\"],[0.5555555555555556,\"#d8576b\"],[0.6666666666666666,\"#ed7953\"],[0.7777777777777778,\"#fb9f3a\"],[0.8888888888888888,\"#fdca26\"],[1.0,\"#f0f921\"]]}],\"heatmap\":[{\"type\":\"heatmap\",\"colorbar\":{\"outlinewidth\":0,\"ticks\":\"\"},\"colorscale\":[[0.0,\"#0d0887\"],[0.1111111111111111,\"#46039f\"],[0.2222222222222222,\"#7201a8\"],[0.3333333333333333,\"#9c179e\"],[0.4444444444444444,\"#bd3786\"],[0.5555555555555556,\"#d8576b\"],[0.6666666666666666,\"#ed7953\"],[0.7777777777777778,\"#fb9f3a\"],[0.8888888888888888,\"#fdca26\"],[1.0,\"#f0f921\"]]}],\"heatmapgl\":[{\"type\":\"heatmapgl\",\"colorbar\":{\"outlinewidth\":0,\"ticks\":\"\"},\"colorscale\":[[0.0,\"#0d0887\"],[0.1111111111111111,\"#46039f\"],[0.2222222222222222,\"#7201a8\"],[0.3333333333333333,\"#9c179e\"],[0.4444444444444444,\"#bd3786\"],[0.5555555555555556,\"#d8576b\"],[0.6666666666666666,\"#ed7953\"],[0.7777777777777778,\"#fb9f3a\"],[0.8888888888888888,\"#fdca26\"],[1.0,\"#f0f921\"]]}],\"contourcarpet\":[{\"type\":\"contourcarpet\",\"colorbar\":{\"outlinewidth\":0,\"ticks\":\"\"}}],\"contour\":[{\"type\":\"contour\",\"colorbar\":{\"outlinewidth\":0,\"ticks\":\"\"},\"colorscale\":[[0.0,\"#0d0887\"],[0.1111111111111111,\"#46039f\"],[0.2222222222222222,\"#7201a8\"],[0.3333333333333333,\"#9c179e\"],[0.4444444444444444,\"#bd3786\"],[0.5555555555555556,\"#d8576b\"],[0.6666666666666666,\"#ed7953\"],[0.7777777777777778,\"#fb9f3a\"],[0.8888888888888888,\"#fdca26\"],[1.0,\"#f0f921\"]]}],\"surface\":[{\"type\":\"surface\",\"colorbar\":{\"outlinewidth\":0,\"ticks\":\"\"},\"colorscale\":[[0.0,\"#0d0887\"],[0.1111111111111111,\"#46039f\"],[0.2222222222222222,\"#7201a8\"],[0.3333333333333333,\"#9c179e\"],[0.4444444444444444,\"#bd3786\"],[0.5555555555555556,\"#d8576b\"],[0.6666666666666666,\"#ed7953\"],[0.7777777777777778,\"#fb9f3a\"],[0.8888888888888888,\"#fdca26\"],[1.0,\"#f0f921\"]]}],\"mesh3d\":[{\"type\":\"mesh3d\",\"colorbar\":{\"outlinewidth\":0,\"ticks\":\"\"}}],\"scatter\":[{\"fillpattern\":{\"fillmode\":\"overlay\",\"size\":10,\"solidity\":0.2},\"type\":\"scatter\"}],\"parcoords\":[{\"type\":\"parcoords\",\"line\":{\"colorbar\":{\"outlinewidth\":0,\"ticks\":\"\"}}}],\"scatterpolargl\":[{\"type\":\"scatterpolargl\",\"marker\":{\"colorbar\":{\"outlinewidth\":0,\"ticks\":\"\"}}}],\"bar\":[{\"error_x\":{\"color\":\"#2a3f5f\"},\"error_y\":{\"color\":\"#2a3f5f\"},\"marker\":{\"line\":{\"color\":\"#E5ECF6\",\"width\":0.5},\"pattern\":{\"fillmode\":\"overlay\",\"size\":10,\"solidity\":0.2}},\"type\":\"bar\"}],\"scattergeo\":[{\"type\":\"scattergeo\",\"marker\":{\"colorbar\":{\"outlinewidth\":0,\"ticks\":\"\"}}}],\"scatterpolar\":[{\"type\":\"scatterpolar\",\"marker\":{\"colorbar\":{\"outlinewidth\":0,\"ticks\":\"\"}}}],\"histogram\":[{\"marker\":{\"pattern\":{\"fillmode\":\"overlay\",\"size\":10,\"solidity\":0.2}},\"type\":\"histogram\"}],\"scattergl\":[{\"type\":\"scattergl\",\"marker\":{\"colorbar\":{\"outlinewidth\":0,\"ticks\":\"\"}}}],\"scatter3d\":[{\"type\":\"scatter3d\",\"line\":{\"colorbar\":{\"outlinewidth\":0,\"ticks\":\"\"}},\"marker\":{\"colorbar\":{\"outlinewidth\":0,\"ticks\":\"\"}}}],\"scattermapbox\":[{\"type\":\"scattermapbox\",\"marker\":{\"colorbar\":{\"outlinewidth\":0,\"ticks\":\"\"}}}],\"scatterternary\":[{\"type\":\"scatterternary\",\"marker\":{\"colorbar\":{\"outlinewidth\":0,\"ticks\":\"\"}}}],\"scattercarpet\":[{\"type\":\"scattercarpet\",\"marker\":{\"colorbar\":{\"outlinewidth\":0,\"ticks\":\"\"}}}],\"carpet\":[{\"aaxis\":{\"endlinecolor\":\"#2a3f5f\",\"gridcolor\":\"white\",\"linecolor\":\"white\",\"minorgridcolor\":\"white\",\"startlinecolor\":\"#2a3f5f\"},\"baxis\":{\"endlinecolor\":\"#2a3f5f\",\"gridcolor\":\"white\",\"linecolor\":\"white\",\"minorgridcolor\":\"white\",\"startlinecolor\":\"#2a3f5f\"},\"type\":\"carpet\"}],\"table\":[{\"cells\":{\"fill\":{\"color\":\"#EBF0F8\"},\"line\":{\"color\":\"white\"}},\"header\":{\"fill\":{\"color\":\"#C8D4E3\"},\"line\":{\"color\":\"white\"}},\"type\":\"table\"}],\"barpolar\":[{\"marker\":{\"line\":{\"color\":\"#E5ECF6\",\"width\":0.5},\"pattern\":{\"fillmode\":\"overlay\",\"size\":10,\"solidity\":0.2}},\"type\":\"barpolar\"}],\"pie\":[{\"automargin\":true,\"type\":\"pie\"}]},\"layout\":{\"autotypenumbers\":\"strict\",\"colorway\":[\"#636efa\",\"#EF553B\",\"#00cc96\",\"#ab63fa\",\"#FFA15A\",\"#19d3f3\",\"#FF6692\",\"#B6E880\",\"#FF97FF\",\"#FECB52\"],\"font\":{\"color\":\"#2a3f5f\"},\"hovermode\":\"closest\",\"hoverlabel\":{\"align\":\"left\"},\"paper_bgcolor\":\"white\",\"plot_bgcolor\":\"#E5ECF6\",\"polar\":{\"bgcolor\":\"#E5ECF6\",\"angularaxis\":{\"gridcolor\":\"white\",\"linecolor\":\"white\",\"ticks\":\"\"},\"radialaxis\":{\"gridcolor\":\"white\",\"linecolor\":\"white\",\"ticks\":\"\"}},\"ternary\":{\"bgcolor\":\"#E5ECF6\",\"aaxis\":{\"gridcolor\":\"white\",\"linecolor\":\"white\",\"ticks\":\"\"},\"baxis\":{\"gridcolor\":\"white\",\"linecolor\":\"white\",\"ticks\":\"\"},\"caxis\":{\"gridcolor\":\"white\",\"linecolor\":\"white\",\"ticks\":\"\"}},\"coloraxis\":{\"colorbar\":{\"outlinewidth\":0,\"ticks\":\"\"}},\"colorscale\":{\"sequential\":[[0.0,\"#0d0887\"],[0.1111111111111111,\"#46039f\"],[0.2222222222222222,\"#7201a8\"],[0.3333333333333333,\"#9c179e\"],[0.4444444444444444,\"#bd3786\"],[0.5555555555555556,\"#d8576b\"],[0.6666666666666666,\"#ed7953\"],[0.7777777777777778,\"#fb9f3a\"],[0.8888888888888888,\"#fdca26\"],[1.0,\"#f0f921\"]],\"sequentialminus\":[[0.0,\"#0d0887\"],[0.1111111111111111,\"#46039f\"],[0.2222222222222222,\"#7201a8\"],[0.3333333333333333,\"#9c179e\"],[0.4444444444444444,\"#bd3786\"],[0.5555555555555556,\"#d8576b\"],[0.6666666666666666,\"#ed7953\"],[0.7777777777777778,\"#fb9f3a\"],[0.8888888888888888,\"#fdca26\"],[1.0,\"#f0f921\"]],\"diverging\":[[0,\"#8e0152\"],[0.1,\"#c51b7d\"],[0.2,\"#de77ae\"],[0.3,\"#f1b6da\"],[0.4,\"#fde0ef\"],[0.5,\"#f7f7f7\"],[0.6,\"#e6f5d0\"],[0.7,\"#b8e186\"],[0.8,\"#7fbc41\"],[0.9,\"#4d9221\"],[1,\"#276419\"]]},\"xaxis\":{\"gridcolor\":\"white\",\"linecolor\":\"white\",\"ticks\":\"\",\"title\":{\"standoff\":15},\"zerolinecolor\":\"white\",\"automargin\":true,\"zerolinewidth\":2},\"yaxis\":{\"gridcolor\":\"white\",\"linecolor\":\"white\",\"ticks\":\"\",\"title\":{\"standoff\":15},\"zerolinecolor\":\"white\",\"automargin\":true,\"zerolinewidth\":2},\"scene\":{\"xaxis\":{\"backgroundcolor\":\"#E5ECF6\",\"gridcolor\":\"white\",\"linecolor\":\"white\",\"showbackground\":true,\"ticks\":\"\",\"zerolinecolor\":\"white\",\"gridwidth\":2},\"yaxis\":{\"backgroundcolor\":\"#E5ECF6\",\"gridcolor\":\"white\",\"linecolor\":\"white\",\"showbackground\":true,\"ticks\":\"\",\"zerolinecolor\":\"white\",\"gridwidth\":2},\"zaxis\":{\"backgroundcolor\":\"#E5ECF6\",\"gridcolor\":\"white\",\"linecolor\":\"white\",\"showbackground\":true,\"ticks\":\"\",\"zerolinecolor\":\"white\",\"gridwidth\":2}},\"shapedefaults\":{\"line\":{\"color\":\"#2a3f5f\"}},\"annotationdefaults\":{\"arrowcolor\":\"#2a3f5f\",\"arrowhead\":0,\"arrowwidth\":1},\"geo\":{\"bgcolor\":\"white\",\"landcolor\":\"#E5ECF6\",\"subunitcolor\":\"white\",\"showland\":true,\"showlakes\":true,\"lakecolor\":\"white\"},\"title\":{\"x\":0.05},\"mapbox\":{\"style\":\"light\"}}}},                        {\"responsive\": true}                    ).then(function(){\n",
              "                            \n",
              "var gd = document.getElementById('7cd15714-c897-4a5e-9fe0-13dcbc2963ab');\n",
              "var x = new MutationObserver(function (mutations, observer) {{\n",
              "        var display = window.getComputedStyle(gd).display;\n",
              "        if (!display || display === 'none') {{\n",
              "            console.log([gd, 'removed!']);\n",
              "            Plotly.purge(gd);\n",
              "            observer.disconnect();\n",
              "        }}\n",
              "}});\n",
              "\n",
              "// Listen for the removal of the full notebook cells\n",
              "var notebookContainer = gd.closest('#notebook-container');\n",
              "if (notebookContainer) {{\n",
              "    x.observe(notebookContainer, {childList: true});\n",
              "}}\n",
              "\n",
              "// Listen for the clearing of the current output cell\n",
              "var outputEl = gd.closest('.output');\n",
              "if (outputEl) {{\n",
              "    x.observe(outputEl, {childList: true});\n",
              "}}\n",
              "\n",
              "                        })                };                            </script>        </div>\n",
              "</body>\n",
              "</html>"
            ]
          },
          "metadata": {}
        }
      ],
      "source": [
        "Bar_graph_for_club"
      ]
    },
    {
      "cell_type": "markdown",
      "metadata": {
        "id": "gQNPW49cPZ4j"
      },
      "source": [
        "Visualize of top 13 clubs"
      ]
    },
    {
      "cell_type": "code",
      "execution_count": 104,
      "metadata": {
        "id": "oquXcXmpMlRU"
      },
      "outputs": [],
      "source": [
        "top_ten_clubs = data_of_club_category.head(13)"
      ]
    },
    {
      "cell_type": "code",
      "execution_count": 105,
      "metadata": {
        "id": "hepLE5HRauGo"
      },
      "outputs": [],
      "source": [
        "Bar_graph_for_top_ten_clubs=plot_vertical_bar_(top_ten_clubs,shades_of_blue[0],0.9,\"Top 13 Clubs by Number of Players in Euro 2024\",\"Name of the club\",\"Number of players\")"
      ]
    },
    {
      "cell_type": "code",
      "execution_count": 117,
      "metadata": {
        "colab": {
          "base_uri": "https://localhost:8080/",
          "height": 637
        },
        "id": "LDMjRuDAcPWp",
        "outputId": "9a6e397a-7361-47e4-e990-dca60371e30d"
      },
      "outputs": [
        {
          "output_type": "display_data",
          "data": {
            "text/html": [
              "<html>\n",
              "<head><meta charset=\"utf-8\" /></head>\n",
              "<body>\n",
              "    <div>            <script src=\"https://cdnjs.cloudflare.com/ajax/libs/mathjax/2.7.5/MathJax.js?config=TeX-AMS-MML_SVG\"></script><script type=\"text/javascript\">if (window.MathJax && window.MathJax.Hub && window.MathJax.Hub.Config) {window.MathJax.Hub.Config({SVG: {font: \"STIX-Web\"}});}</script>                <script type=\"text/javascript\">window.PlotlyConfig = {MathJaxConfig: 'local'};</script>\n",
              "        <script charset=\"utf-8\" src=\"https://cdn.plot.ly/plotly-2.35.2.min.js\"></script>                <div id=\"97d7fad4-0ca9-4d6d-b63c-8ac71f5a1e76\" class=\"plotly-graph-div\" style=\"height:600px; width:1200px;\"></div>            <script type=\"text/javascript\">                                    window.PLOTLYENV=window.PLOTLYENV || {};                                    if (document.getElementById(\"97d7fad4-0ca9-4d6d-b63c-8ac71f5a1e76\")) {                    Plotly.newPlot(                        \"97d7fad4-0ca9-4d6d-b63c-8ac71f5a1e76\",                        [{\"marker\":{\"color\":[\"rgba(8, 48, 107, 1.0)\",\"rgba(8, 48, 107, 1.0)\",\"rgba(8, 48, 107, 0.775)\",\"rgba(8, 48, 107, 0.775)\",\"rgba(8, 48, 107, 0.775)\",\"rgba(8, 48, 107, 0.55)\",\"rgba(8, 48, 107, 0.55)\",\"rgba(8, 48, 107, 0.32499999999999996)\",\"rgba(8, 48, 107, 0.32499999999999996)\",\"rgba(8, 48, 107, 0.09999999999999998)\",\"rgba(8, 48, 107, 0.09999999999999998)\",\"rgba(8, 48, 107, 0.09999999999999998)\",\"rgba(8, 48, 107, 0.09999999999999998)\"]},\"text\":[13.0,13.0,12.0,12.0,12.0,11.0,11.0,10.0,10.0,9.0,9.0,9.0,9.0],\"textposition\":\"auto\",\"x\":[\"Manchester City\",\"Inter Milan\",\"FC Barcelona\",\"Real Madrid\",\"Paris Saint-Germain\",\"RB Leipzig\",\"Bayern Munich\",\"Bayer 04 Leverkusen\",\"Arsenal FC\",\"Liverpool FC\",\"Juventus FC\",\"SK Slavia Prague\",\"AS Roma\"],\"y\":[13,13,12,12,12,11,11,10,10,9,9,9,9],\"type\":\"bar\"}],                        {\"height\":600,\"hovermode\":\"y unified\",\"title\":{\"font\":{\"family\":\"Arial\",\"size\":35},\"text\":\"Top 13 Clubs by Number of Players in Euro 2024\",\"x\":0.5,\"xanchor\":\"center\"},\"width\":1200,\"xaxis\":{\"title\":{\"font\":{\"family\":\"Arial\",\"size\":20},\"text\":\"Name of the club\"}},\"yaxis\":{\"title\":{\"font\":{\"family\":\"Arial\",\"size\":20},\"text\":\"Number of players\"}},\"template\":{\"data\":{\"histogram2dcontour\":[{\"type\":\"histogram2dcontour\",\"colorbar\":{\"outlinewidth\":0,\"ticks\":\"\"},\"colorscale\":[[0.0,\"#0d0887\"],[0.1111111111111111,\"#46039f\"],[0.2222222222222222,\"#7201a8\"],[0.3333333333333333,\"#9c179e\"],[0.4444444444444444,\"#bd3786\"],[0.5555555555555556,\"#d8576b\"],[0.6666666666666666,\"#ed7953\"],[0.7777777777777778,\"#fb9f3a\"],[0.8888888888888888,\"#fdca26\"],[1.0,\"#f0f921\"]]}],\"choropleth\":[{\"type\":\"choropleth\",\"colorbar\":{\"outlinewidth\":0,\"ticks\":\"\"}}],\"histogram2d\":[{\"type\":\"histogram2d\",\"colorbar\":{\"outlinewidth\":0,\"ticks\":\"\"},\"colorscale\":[[0.0,\"#0d0887\"],[0.1111111111111111,\"#46039f\"],[0.2222222222222222,\"#7201a8\"],[0.3333333333333333,\"#9c179e\"],[0.4444444444444444,\"#bd3786\"],[0.5555555555555556,\"#d8576b\"],[0.6666666666666666,\"#ed7953\"],[0.7777777777777778,\"#fb9f3a\"],[0.8888888888888888,\"#fdca26\"],[1.0,\"#f0f921\"]]}],\"heatmap\":[{\"type\":\"heatmap\",\"colorbar\":{\"outlinewidth\":0,\"ticks\":\"\"},\"colorscale\":[[0.0,\"#0d0887\"],[0.1111111111111111,\"#46039f\"],[0.2222222222222222,\"#7201a8\"],[0.3333333333333333,\"#9c179e\"],[0.4444444444444444,\"#bd3786\"],[0.5555555555555556,\"#d8576b\"],[0.6666666666666666,\"#ed7953\"],[0.7777777777777778,\"#fb9f3a\"],[0.8888888888888888,\"#fdca26\"],[1.0,\"#f0f921\"]]}],\"heatmapgl\":[{\"type\":\"heatmapgl\",\"colorbar\":{\"outlinewidth\":0,\"ticks\":\"\"},\"colorscale\":[[0.0,\"#0d0887\"],[0.1111111111111111,\"#46039f\"],[0.2222222222222222,\"#7201a8\"],[0.3333333333333333,\"#9c179e\"],[0.4444444444444444,\"#bd3786\"],[0.5555555555555556,\"#d8576b\"],[0.6666666666666666,\"#ed7953\"],[0.7777777777777778,\"#fb9f3a\"],[0.8888888888888888,\"#fdca26\"],[1.0,\"#f0f921\"]]}],\"contourcarpet\":[{\"type\":\"contourcarpet\",\"colorbar\":{\"outlinewidth\":0,\"ticks\":\"\"}}],\"contour\":[{\"type\":\"contour\",\"colorbar\":{\"outlinewidth\":0,\"ticks\":\"\"},\"colorscale\":[[0.0,\"#0d0887\"],[0.1111111111111111,\"#46039f\"],[0.2222222222222222,\"#7201a8\"],[0.3333333333333333,\"#9c179e\"],[0.4444444444444444,\"#bd3786\"],[0.5555555555555556,\"#d8576b\"],[0.6666666666666666,\"#ed7953\"],[0.7777777777777778,\"#fb9f3a\"],[0.8888888888888888,\"#fdca26\"],[1.0,\"#f0f921\"]]}],\"surface\":[{\"type\":\"surface\",\"colorbar\":{\"outlinewidth\":0,\"ticks\":\"\"},\"colorscale\":[[0.0,\"#0d0887\"],[0.1111111111111111,\"#46039f\"],[0.2222222222222222,\"#7201a8\"],[0.3333333333333333,\"#9c179e\"],[0.4444444444444444,\"#bd3786\"],[0.5555555555555556,\"#d8576b\"],[0.6666666666666666,\"#ed7953\"],[0.7777777777777778,\"#fb9f3a\"],[0.8888888888888888,\"#fdca26\"],[1.0,\"#f0f921\"]]}],\"mesh3d\":[{\"type\":\"mesh3d\",\"colorbar\":{\"outlinewidth\":0,\"ticks\":\"\"}}],\"scatter\":[{\"fillpattern\":{\"fillmode\":\"overlay\",\"size\":10,\"solidity\":0.2},\"type\":\"scatter\"}],\"parcoords\":[{\"type\":\"parcoords\",\"line\":{\"colorbar\":{\"outlinewidth\":0,\"ticks\":\"\"}}}],\"scatterpolargl\":[{\"type\":\"scatterpolargl\",\"marker\":{\"colorbar\":{\"outlinewidth\":0,\"ticks\":\"\"}}}],\"bar\":[{\"error_x\":{\"color\":\"#2a3f5f\"},\"error_y\":{\"color\":\"#2a3f5f\"},\"marker\":{\"line\":{\"color\":\"#E5ECF6\",\"width\":0.5},\"pattern\":{\"fillmode\":\"overlay\",\"size\":10,\"solidity\":0.2}},\"type\":\"bar\"}],\"scattergeo\":[{\"type\":\"scattergeo\",\"marker\":{\"colorbar\":{\"outlinewidth\":0,\"ticks\":\"\"}}}],\"scatterpolar\":[{\"type\":\"scatterpolar\",\"marker\":{\"colorbar\":{\"outlinewidth\":0,\"ticks\":\"\"}}}],\"histogram\":[{\"marker\":{\"pattern\":{\"fillmode\":\"overlay\",\"size\":10,\"solidity\":0.2}},\"type\":\"histogram\"}],\"scattergl\":[{\"type\":\"scattergl\",\"marker\":{\"colorbar\":{\"outlinewidth\":0,\"ticks\":\"\"}}}],\"scatter3d\":[{\"type\":\"scatter3d\",\"line\":{\"colorbar\":{\"outlinewidth\":0,\"ticks\":\"\"}},\"marker\":{\"colorbar\":{\"outlinewidth\":0,\"ticks\":\"\"}}}],\"scattermapbox\":[{\"type\":\"scattermapbox\",\"marker\":{\"colorbar\":{\"outlinewidth\":0,\"ticks\":\"\"}}}],\"scatterternary\":[{\"type\":\"scatterternary\",\"marker\":{\"colorbar\":{\"outlinewidth\":0,\"ticks\":\"\"}}}],\"scattercarpet\":[{\"type\":\"scattercarpet\",\"marker\":{\"colorbar\":{\"outlinewidth\":0,\"ticks\":\"\"}}}],\"carpet\":[{\"aaxis\":{\"endlinecolor\":\"#2a3f5f\",\"gridcolor\":\"white\",\"linecolor\":\"white\",\"minorgridcolor\":\"white\",\"startlinecolor\":\"#2a3f5f\"},\"baxis\":{\"endlinecolor\":\"#2a3f5f\",\"gridcolor\":\"white\",\"linecolor\":\"white\",\"minorgridcolor\":\"white\",\"startlinecolor\":\"#2a3f5f\"},\"type\":\"carpet\"}],\"table\":[{\"cells\":{\"fill\":{\"color\":\"#EBF0F8\"},\"line\":{\"color\":\"white\"}},\"header\":{\"fill\":{\"color\":\"#C8D4E3\"},\"line\":{\"color\":\"white\"}},\"type\":\"table\"}],\"barpolar\":[{\"marker\":{\"line\":{\"color\":\"#E5ECF6\",\"width\":0.5},\"pattern\":{\"fillmode\":\"overlay\",\"size\":10,\"solidity\":0.2}},\"type\":\"barpolar\"}],\"pie\":[{\"automargin\":true,\"type\":\"pie\"}]},\"layout\":{\"autotypenumbers\":\"strict\",\"colorway\":[\"#636efa\",\"#EF553B\",\"#00cc96\",\"#ab63fa\",\"#FFA15A\",\"#19d3f3\",\"#FF6692\",\"#B6E880\",\"#FF97FF\",\"#FECB52\"],\"font\":{\"color\":\"#2a3f5f\"},\"hovermode\":\"closest\",\"hoverlabel\":{\"align\":\"left\"},\"paper_bgcolor\":\"white\",\"plot_bgcolor\":\"#E5ECF6\",\"polar\":{\"bgcolor\":\"#E5ECF6\",\"angularaxis\":{\"gridcolor\":\"white\",\"linecolor\":\"white\",\"ticks\":\"\"},\"radialaxis\":{\"gridcolor\":\"white\",\"linecolor\":\"white\",\"ticks\":\"\"}},\"ternary\":{\"bgcolor\":\"#E5ECF6\",\"aaxis\":{\"gridcolor\":\"white\",\"linecolor\":\"white\",\"ticks\":\"\"},\"baxis\":{\"gridcolor\":\"white\",\"linecolor\":\"white\",\"ticks\":\"\"},\"caxis\":{\"gridcolor\":\"white\",\"linecolor\":\"white\",\"ticks\":\"\"}},\"coloraxis\":{\"colorbar\":{\"outlinewidth\":0,\"ticks\":\"\"}},\"colorscale\":{\"sequential\":[[0.0,\"#0d0887\"],[0.1111111111111111,\"#46039f\"],[0.2222222222222222,\"#7201a8\"],[0.3333333333333333,\"#9c179e\"],[0.4444444444444444,\"#bd3786\"],[0.5555555555555556,\"#d8576b\"],[0.6666666666666666,\"#ed7953\"],[0.7777777777777778,\"#fb9f3a\"],[0.8888888888888888,\"#fdca26\"],[1.0,\"#f0f921\"]],\"sequentialminus\":[[0.0,\"#0d0887\"],[0.1111111111111111,\"#46039f\"],[0.2222222222222222,\"#7201a8\"],[0.3333333333333333,\"#9c179e\"],[0.4444444444444444,\"#bd3786\"],[0.5555555555555556,\"#d8576b\"],[0.6666666666666666,\"#ed7953\"],[0.7777777777777778,\"#fb9f3a\"],[0.8888888888888888,\"#fdca26\"],[1.0,\"#f0f921\"]],\"diverging\":[[0,\"#8e0152\"],[0.1,\"#c51b7d\"],[0.2,\"#de77ae\"],[0.3,\"#f1b6da\"],[0.4,\"#fde0ef\"],[0.5,\"#f7f7f7\"],[0.6,\"#e6f5d0\"],[0.7,\"#b8e186\"],[0.8,\"#7fbc41\"],[0.9,\"#4d9221\"],[1,\"#276419\"]]},\"xaxis\":{\"gridcolor\":\"white\",\"linecolor\":\"white\",\"ticks\":\"\",\"title\":{\"standoff\":15},\"zerolinecolor\":\"white\",\"automargin\":true,\"zerolinewidth\":2},\"yaxis\":{\"gridcolor\":\"white\",\"linecolor\":\"white\",\"ticks\":\"\",\"title\":{\"standoff\":15},\"zerolinecolor\":\"white\",\"automargin\":true,\"zerolinewidth\":2},\"scene\":{\"xaxis\":{\"backgroundcolor\":\"#E5ECF6\",\"gridcolor\":\"white\",\"linecolor\":\"white\",\"showbackground\":true,\"ticks\":\"\",\"zerolinecolor\":\"white\",\"gridwidth\":2},\"yaxis\":{\"backgroundcolor\":\"#E5ECF6\",\"gridcolor\":\"white\",\"linecolor\":\"white\",\"showbackground\":true,\"ticks\":\"\",\"zerolinecolor\":\"white\",\"gridwidth\":2},\"zaxis\":{\"backgroundcolor\":\"#E5ECF6\",\"gridcolor\":\"white\",\"linecolor\":\"white\",\"showbackground\":true,\"ticks\":\"\",\"zerolinecolor\":\"white\",\"gridwidth\":2}},\"shapedefaults\":{\"line\":{\"color\":\"#2a3f5f\"}},\"annotationdefaults\":{\"arrowcolor\":\"#2a3f5f\",\"arrowhead\":0,\"arrowwidth\":1},\"geo\":{\"bgcolor\":\"white\",\"landcolor\":\"#E5ECF6\",\"subunitcolor\":\"white\",\"showland\":true,\"showlakes\":true,\"lakecolor\":\"white\"},\"title\":{\"x\":0.05},\"mapbox\":{\"style\":\"light\"}}}},                        {\"responsive\": true}                    ).then(function(){\n",
              "                            \n",
              "var gd = document.getElementById('97d7fad4-0ca9-4d6d-b63c-8ac71f5a1e76');\n",
              "var x = new MutationObserver(function (mutations, observer) {{\n",
              "        var display = window.getComputedStyle(gd).display;\n",
              "        if (!display || display === 'none') {{\n",
              "            console.log([gd, 'removed!']);\n",
              "            Plotly.purge(gd);\n",
              "            observer.disconnect();\n",
              "        }}\n",
              "}});\n",
              "\n",
              "// Listen for the removal of the full notebook cells\n",
              "var notebookContainer = gd.closest('#notebook-container');\n",
              "if (notebookContainer) {{\n",
              "    x.observe(notebookContainer, {childList: true});\n",
              "}}\n",
              "\n",
              "// Listen for the clearing of the current output cell\n",
              "var outputEl = gd.closest('.output');\n",
              "if (outputEl) {{\n",
              "    x.observe(outputEl, {childList: true});\n",
              "}}\n",
              "\n",
              "                        })                };                            </script>        </div>\n",
              "</body>\n",
              "</html>"
            ]
          },
          "metadata": {}
        }
      ],
      "source": [
        "Bar_graph_for_top_ten_clubs"
      ]
    },
    {
      "cell_type": "markdown",
      "metadata": {
        "id": "U9sBw_X0RV_R"
      },
      "source": [
        "\n",
        "\n",
        "---\n",
        "\n"
      ]
    },
    {
      "cell_type": "markdown",
      "metadata": {
        "id": "Xoeu9jg2uELO"
      },
      "source": [
        "Now we will begin to visualize `country cateogry`, It will be the same as `club cateogry`"
      ]
    },
    {
      "cell_type": "markdown",
      "metadata": {
        "id": "ebvezlfiuELY"
      },
      "source": [
        " From the data that we have we know the the country of each player and from the summary that we do we know that we have about 24 country, so now we need to know How many Euro players play in each country"
      ]
    },
    {
      "cell_type": "code",
      "execution_count": 107,
      "metadata": {
        "id": "tdA5cWQ7uELY"
      },
      "outputs": [],
      "source": [
        "data_of_country_category = data_of_players['Country'].value_counts()"
      ]
    },
    {
      "cell_type": "markdown",
      "metadata": {
        "id": "mbwW_K5OuELY"
      },
      "source": [
        "Value counts of club category"
      ]
    },
    {
      "cell_type": "code",
      "execution_count": 108,
      "metadata": {
        "colab": {
          "base_uri": "https://localhost:8080/",
          "height": 868
        },
        "id": "5Et-Xu01uELZ",
        "outputId": "a620792c-1a1d-46a3-d346-280ae93cc803"
      },
      "outputs": [
        {
          "output_type": "execute_result",
          "data": {
            "text/plain": [
              "Country\n",
              "Poland            27\n",
              "Serbia            26\n",
              "Portugal          26\n",
              "Georgia           26\n",
              "Turkiye           26\n",
              "Ukraine           26\n",
              "Romania           26\n",
              "Slovakia          26\n",
              "Austria           26\n",
              "Netherlands       26\n",
              "Scotland          26\n",
              "Germany           26\n",
              "Denmark           26\n",
              "England           26\n",
              "Slovenia          26\n",
              "Italy             26\n",
              "Albania           26\n",
              "Croatia           26\n",
              "Spain             26\n",
              "Switzerland       26\n",
              "Hungary           26\n",
              "Czech Republic    26\n",
              "France            25\n",
              "Belgium           25\n",
              "Name: count, dtype: int64"
            ],
            "text/html": [
              "<div>\n",
              "<style scoped>\n",
              "    .dataframe tbody tr th:only-of-type {\n",
              "        vertical-align: middle;\n",
              "    }\n",
              "\n",
              "    .dataframe tbody tr th {\n",
              "        vertical-align: top;\n",
              "    }\n",
              "\n",
              "    .dataframe thead th {\n",
              "        text-align: right;\n",
              "    }\n",
              "</style>\n",
              "<table border=\"1\" class=\"dataframe\">\n",
              "  <thead>\n",
              "    <tr style=\"text-align: right;\">\n",
              "      <th></th>\n",
              "      <th>count</th>\n",
              "    </tr>\n",
              "    <tr>\n",
              "      <th>Country</th>\n",
              "      <th></th>\n",
              "    </tr>\n",
              "  </thead>\n",
              "  <tbody>\n",
              "    <tr>\n",
              "      <th>Poland</th>\n",
              "      <td>27</td>\n",
              "    </tr>\n",
              "    <tr>\n",
              "      <th>Serbia</th>\n",
              "      <td>26</td>\n",
              "    </tr>\n",
              "    <tr>\n",
              "      <th>Portugal</th>\n",
              "      <td>26</td>\n",
              "    </tr>\n",
              "    <tr>\n",
              "      <th>Georgia</th>\n",
              "      <td>26</td>\n",
              "    </tr>\n",
              "    <tr>\n",
              "      <th>Turkiye</th>\n",
              "      <td>26</td>\n",
              "    </tr>\n",
              "    <tr>\n",
              "      <th>Ukraine</th>\n",
              "      <td>26</td>\n",
              "    </tr>\n",
              "    <tr>\n",
              "      <th>Romania</th>\n",
              "      <td>26</td>\n",
              "    </tr>\n",
              "    <tr>\n",
              "      <th>Slovakia</th>\n",
              "      <td>26</td>\n",
              "    </tr>\n",
              "    <tr>\n",
              "      <th>Austria</th>\n",
              "      <td>26</td>\n",
              "    </tr>\n",
              "    <tr>\n",
              "      <th>Netherlands</th>\n",
              "      <td>26</td>\n",
              "    </tr>\n",
              "    <tr>\n",
              "      <th>Scotland</th>\n",
              "      <td>26</td>\n",
              "    </tr>\n",
              "    <tr>\n",
              "      <th>Germany</th>\n",
              "      <td>26</td>\n",
              "    </tr>\n",
              "    <tr>\n",
              "      <th>Denmark</th>\n",
              "      <td>26</td>\n",
              "    </tr>\n",
              "    <tr>\n",
              "      <th>England</th>\n",
              "      <td>26</td>\n",
              "    </tr>\n",
              "    <tr>\n",
              "      <th>Slovenia</th>\n",
              "      <td>26</td>\n",
              "    </tr>\n",
              "    <tr>\n",
              "      <th>Italy</th>\n",
              "      <td>26</td>\n",
              "    </tr>\n",
              "    <tr>\n",
              "      <th>Albania</th>\n",
              "      <td>26</td>\n",
              "    </tr>\n",
              "    <tr>\n",
              "      <th>Croatia</th>\n",
              "      <td>26</td>\n",
              "    </tr>\n",
              "    <tr>\n",
              "      <th>Spain</th>\n",
              "      <td>26</td>\n",
              "    </tr>\n",
              "    <tr>\n",
              "      <th>Switzerland</th>\n",
              "      <td>26</td>\n",
              "    </tr>\n",
              "    <tr>\n",
              "      <th>Hungary</th>\n",
              "      <td>26</td>\n",
              "    </tr>\n",
              "    <tr>\n",
              "      <th>Czech Republic</th>\n",
              "      <td>26</td>\n",
              "    </tr>\n",
              "    <tr>\n",
              "      <th>France</th>\n",
              "      <td>25</td>\n",
              "    </tr>\n",
              "    <tr>\n",
              "      <th>Belgium</th>\n",
              "      <td>25</td>\n",
              "    </tr>\n",
              "  </tbody>\n",
              "</table>\n",
              "</div><br><label><b>dtype:</b> int64</label>"
            ]
          },
          "metadata": {},
          "execution_count": 108
        }
      ],
      "source": [
        "data_of_country_category"
      ]
    },
    {
      "cell_type": "markdown",
      "metadata": {
        "id": "8c5EHZ_xuELZ"
      },
      "source": [
        "Visualize those data as bar graph to be easier in reading and to be interactive and this will help you to see any clubs"
      ]
    },
    {
      "cell_type": "code",
      "execution_count": 109,
      "metadata": {
        "id": "d0fOrK_1uELZ"
      },
      "outputs": [],
      "source": [
        "Bar_graph_for_country=plot_vertical_bar_(data_of_country_category,shades_of_blue[0],0.9,\"Number of Players Representing Each country in Euro 2024\",\"Name of the Country\",\"Number of players\")"
      ]
    },
    {
      "cell_type": "code",
      "execution_count": 118,
      "metadata": {
        "colab": {
          "base_uri": "https://localhost:8080/",
          "height": 637
        },
        "id": "XfKSFES3uELZ",
        "outputId": "6599dd3d-49f4-425b-cb4e-1708dc784e28"
      },
      "outputs": [
        {
          "output_type": "display_data",
          "data": {
            "text/html": [
              "<html>\n",
              "<head><meta charset=\"utf-8\" /></head>\n",
              "<body>\n",
              "    <div>            <script src=\"https://cdnjs.cloudflare.com/ajax/libs/mathjax/2.7.5/MathJax.js?config=TeX-AMS-MML_SVG\"></script><script type=\"text/javascript\">if (window.MathJax && window.MathJax.Hub && window.MathJax.Hub.Config) {window.MathJax.Hub.Config({SVG: {font: \"STIX-Web\"}});}</script>                <script type=\"text/javascript\">window.PlotlyConfig = {MathJaxConfig: 'local'};</script>\n",
              "        <script charset=\"utf-8\" src=\"https://cdn.plot.ly/plotly-2.35.2.min.js\"></script>                <div id=\"ad156591-aebc-4302-a5c0-33b55d7fe9c9\" class=\"plotly-graph-div\" style=\"height:600px; width:1200px;\"></div>            <script type=\"text/javascript\">                                    window.PLOTLYENV=window.PLOTLYENV || {};                                    if (document.getElementById(\"ad156591-aebc-4302-a5c0-33b55d7fe9c9\")) {                    Plotly.newPlot(                        \"ad156591-aebc-4302-a5c0-33b55d7fe9c9\",                        [{\"marker\":{\"color\":[\"rgba(8, 48, 107, 1.0)\",\"rgba(8, 48, 107, 0.55)\",\"rgba(8, 48, 107, 0.55)\",\"rgba(8, 48, 107, 0.55)\",\"rgba(8, 48, 107, 0.55)\",\"rgba(8, 48, 107, 0.55)\",\"rgba(8, 48, 107, 0.55)\",\"rgba(8, 48, 107, 0.55)\",\"rgba(8, 48, 107, 0.55)\",\"rgba(8, 48, 107, 0.55)\",\"rgba(8, 48, 107, 0.55)\",\"rgba(8, 48, 107, 0.55)\",\"rgba(8, 48, 107, 0.55)\",\"rgba(8, 48, 107, 0.55)\",\"rgba(8, 48, 107, 0.55)\",\"rgba(8, 48, 107, 0.55)\",\"rgba(8, 48, 107, 0.55)\",\"rgba(8, 48, 107, 0.55)\",\"rgba(8, 48, 107, 0.55)\",\"rgba(8, 48, 107, 0.55)\",\"rgba(8, 48, 107, 0.55)\",\"rgba(8, 48, 107, 0.55)\",\"rgba(8, 48, 107, 0.09999999999999998)\",\"rgba(8, 48, 107, 0.09999999999999998)\"]},\"text\":[27.0,26.0,26.0,26.0,26.0,26.0,26.0,26.0,26.0,26.0,26.0,26.0,26.0,26.0,26.0,26.0,26.0,26.0,26.0,26.0,26.0,26.0,25.0,25.0],\"textposition\":\"auto\",\"x\":[\"Poland\",\"Serbia\",\"Portugal\",\"Georgia\",\"Turkiye\",\"Ukraine\",\"Romania\",\"Slovakia\",\"Austria\",\"Netherlands\",\"Scotland\",\"Germany\",\"Denmark\",\"England\",\"Slovenia\",\"Italy\",\"Albania\",\"Croatia\",\"Spain\",\"Switzerland\",\"Hungary\",\"Czech Republic\",\"France\",\"Belgium\"],\"y\":[27,26,26,26,26,26,26,26,26,26,26,26,26,26,26,26,26,26,26,26,26,26,25,25],\"type\":\"bar\"}],                        {\"height\":600,\"hovermode\":\"y unified\",\"title\":{\"font\":{\"family\":\"Arial\",\"size\":35},\"text\":\"Number of Players Representing Each country in Euro 2024\",\"x\":0.5,\"xanchor\":\"center\"},\"width\":1200,\"xaxis\":{\"title\":{\"font\":{\"family\":\"Arial\",\"size\":20},\"text\":\"Name of the Country\"}},\"yaxis\":{\"title\":{\"font\":{\"family\":\"Arial\",\"size\":20},\"text\":\"Number of players\"}},\"template\":{\"data\":{\"histogram2dcontour\":[{\"type\":\"histogram2dcontour\",\"colorbar\":{\"outlinewidth\":0,\"ticks\":\"\"},\"colorscale\":[[0.0,\"#0d0887\"],[0.1111111111111111,\"#46039f\"],[0.2222222222222222,\"#7201a8\"],[0.3333333333333333,\"#9c179e\"],[0.4444444444444444,\"#bd3786\"],[0.5555555555555556,\"#d8576b\"],[0.6666666666666666,\"#ed7953\"],[0.7777777777777778,\"#fb9f3a\"],[0.8888888888888888,\"#fdca26\"],[1.0,\"#f0f921\"]]}],\"choropleth\":[{\"type\":\"choropleth\",\"colorbar\":{\"outlinewidth\":0,\"ticks\":\"\"}}],\"histogram2d\":[{\"type\":\"histogram2d\",\"colorbar\":{\"outlinewidth\":0,\"ticks\":\"\"},\"colorscale\":[[0.0,\"#0d0887\"],[0.1111111111111111,\"#46039f\"],[0.2222222222222222,\"#7201a8\"],[0.3333333333333333,\"#9c179e\"],[0.4444444444444444,\"#bd3786\"],[0.5555555555555556,\"#d8576b\"],[0.6666666666666666,\"#ed7953\"],[0.7777777777777778,\"#fb9f3a\"],[0.8888888888888888,\"#fdca26\"],[1.0,\"#f0f921\"]]}],\"heatmap\":[{\"type\":\"heatmap\",\"colorbar\":{\"outlinewidth\":0,\"ticks\":\"\"},\"colorscale\":[[0.0,\"#0d0887\"],[0.1111111111111111,\"#46039f\"],[0.2222222222222222,\"#7201a8\"],[0.3333333333333333,\"#9c179e\"],[0.4444444444444444,\"#bd3786\"],[0.5555555555555556,\"#d8576b\"],[0.6666666666666666,\"#ed7953\"],[0.7777777777777778,\"#fb9f3a\"],[0.8888888888888888,\"#fdca26\"],[1.0,\"#f0f921\"]]}],\"heatmapgl\":[{\"type\":\"heatmapgl\",\"colorbar\":{\"outlinewidth\":0,\"ticks\":\"\"},\"colorscale\":[[0.0,\"#0d0887\"],[0.1111111111111111,\"#46039f\"],[0.2222222222222222,\"#7201a8\"],[0.3333333333333333,\"#9c179e\"],[0.4444444444444444,\"#bd3786\"],[0.5555555555555556,\"#d8576b\"],[0.6666666666666666,\"#ed7953\"],[0.7777777777777778,\"#fb9f3a\"],[0.8888888888888888,\"#fdca26\"],[1.0,\"#f0f921\"]]}],\"contourcarpet\":[{\"type\":\"contourcarpet\",\"colorbar\":{\"outlinewidth\":0,\"ticks\":\"\"}}],\"contour\":[{\"type\":\"contour\",\"colorbar\":{\"outlinewidth\":0,\"ticks\":\"\"},\"colorscale\":[[0.0,\"#0d0887\"],[0.1111111111111111,\"#46039f\"],[0.2222222222222222,\"#7201a8\"],[0.3333333333333333,\"#9c179e\"],[0.4444444444444444,\"#bd3786\"],[0.5555555555555556,\"#d8576b\"],[0.6666666666666666,\"#ed7953\"],[0.7777777777777778,\"#fb9f3a\"],[0.8888888888888888,\"#fdca26\"],[1.0,\"#f0f921\"]]}],\"surface\":[{\"type\":\"surface\",\"colorbar\":{\"outlinewidth\":0,\"ticks\":\"\"},\"colorscale\":[[0.0,\"#0d0887\"],[0.1111111111111111,\"#46039f\"],[0.2222222222222222,\"#7201a8\"],[0.3333333333333333,\"#9c179e\"],[0.4444444444444444,\"#bd3786\"],[0.5555555555555556,\"#d8576b\"],[0.6666666666666666,\"#ed7953\"],[0.7777777777777778,\"#fb9f3a\"],[0.8888888888888888,\"#fdca26\"],[1.0,\"#f0f921\"]]}],\"mesh3d\":[{\"type\":\"mesh3d\",\"colorbar\":{\"outlinewidth\":0,\"ticks\":\"\"}}],\"scatter\":[{\"fillpattern\":{\"fillmode\":\"overlay\",\"size\":10,\"solidity\":0.2},\"type\":\"scatter\"}],\"parcoords\":[{\"type\":\"parcoords\",\"line\":{\"colorbar\":{\"outlinewidth\":0,\"ticks\":\"\"}}}],\"scatterpolargl\":[{\"type\":\"scatterpolargl\",\"marker\":{\"colorbar\":{\"outlinewidth\":0,\"ticks\":\"\"}}}],\"bar\":[{\"error_x\":{\"color\":\"#2a3f5f\"},\"error_y\":{\"color\":\"#2a3f5f\"},\"marker\":{\"line\":{\"color\":\"#E5ECF6\",\"width\":0.5},\"pattern\":{\"fillmode\":\"overlay\",\"size\":10,\"solidity\":0.2}},\"type\":\"bar\"}],\"scattergeo\":[{\"type\":\"scattergeo\",\"marker\":{\"colorbar\":{\"outlinewidth\":0,\"ticks\":\"\"}}}],\"scatterpolar\":[{\"type\":\"scatterpolar\",\"marker\":{\"colorbar\":{\"outlinewidth\":0,\"ticks\":\"\"}}}],\"histogram\":[{\"marker\":{\"pattern\":{\"fillmode\":\"overlay\",\"size\":10,\"solidity\":0.2}},\"type\":\"histogram\"}],\"scattergl\":[{\"type\":\"scattergl\",\"marker\":{\"colorbar\":{\"outlinewidth\":0,\"ticks\":\"\"}}}],\"scatter3d\":[{\"type\":\"scatter3d\",\"line\":{\"colorbar\":{\"outlinewidth\":0,\"ticks\":\"\"}},\"marker\":{\"colorbar\":{\"outlinewidth\":0,\"ticks\":\"\"}}}],\"scattermapbox\":[{\"type\":\"scattermapbox\",\"marker\":{\"colorbar\":{\"outlinewidth\":0,\"ticks\":\"\"}}}],\"scatterternary\":[{\"type\":\"scatterternary\",\"marker\":{\"colorbar\":{\"outlinewidth\":0,\"ticks\":\"\"}}}],\"scattercarpet\":[{\"type\":\"scattercarpet\",\"marker\":{\"colorbar\":{\"outlinewidth\":0,\"ticks\":\"\"}}}],\"carpet\":[{\"aaxis\":{\"endlinecolor\":\"#2a3f5f\",\"gridcolor\":\"white\",\"linecolor\":\"white\",\"minorgridcolor\":\"white\",\"startlinecolor\":\"#2a3f5f\"},\"baxis\":{\"endlinecolor\":\"#2a3f5f\",\"gridcolor\":\"white\",\"linecolor\":\"white\",\"minorgridcolor\":\"white\",\"startlinecolor\":\"#2a3f5f\"},\"type\":\"carpet\"}],\"table\":[{\"cells\":{\"fill\":{\"color\":\"#EBF0F8\"},\"line\":{\"color\":\"white\"}},\"header\":{\"fill\":{\"color\":\"#C8D4E3\"},\"line\":{\"color\":\"white\"}},\"type\":\"table\"}],\"barpolar\":[{\"marker\":{\"line\":{\"color\":\"#E5ECF6\",\"width\":0.5},\"pattern\":{\"fillmode\":\"overlay\",\"size\":10,\"solidity\":0.2}},\"type\":\"barpolar\"}],\"pie\":[{\"automargin\":true,\"type\":\"pie\"}]},\"layout\":{\"autotypenumbers\":\"strict\",\"colorway\":[\"#636efa\",\"#EF553B\",\"#00cc96\",\"#ab63fa\",\"#FFA15A\",\"#19d3f3\",\"#FF6692\",\"#B6E880\",\"#FF97FF\",\"#FECB52\"],\"font\":{\"color\":\"#2a3f5f\"},\"hovermode\":\"closest\",\"hoverlabel\":{\"align\":\"left\"},\"paper_bgcolor\":\"white\",\"plot_bgcolor\":\"#E5ECF6\",\"polar\":{\"bgcolor\":\"#E5ECF6\",\"angularaxis\":{\"gridcolor\":\"white\",\"linecolor\":\"white\",\"ticks\":\"\"},\"radialaxis\":{\"gridcolor\":\"white\",\"linecolor\":\"white\",\"ticks\":\"\"}},\"ternary\":{\"bgcolor\":\"#E5ECF6\",\"aaxis\":{\"gridcolor\":\"white\",\"linecolor\":\"white\",\"ticks\":\"\"},\"baxis\":{\"gridcolor\":\"white\",\"linecolor\":\"white\",\"ticks\":\"\"},\"caxis\":{\"gridcolor\":\"white\",\"linecolor\":\"white\",\"ticks\":\"\"}},\"coloraxis\":{\"colorbar\":{\"outlinewidth\":0,\"ticks\":\"\"}},\"colorscale\":{\"sequential\":[[0.0,\"#0d0887\"],[0.1111111111111111,\"#46039f\"],[0.2222222222222222,\"#7201a8\"],[0.3333333333333333,\"#9c179e\"],[0.4444444444444444,\"#bd3786\"],[0.5555555555555556,\"#d8576b\"],[0.6666666666666666,\"#ed7953\"],[0.7777777777777778,\"#fb9f3a\"],[0.8888888888888888,\"#fdca26\"],[1.0,\"#f0f921\"]],\"sequentialminus\":[[0.0,\"#0d0887\"],[0.1111111111111111,\"#46039f\"],[0.2222222222222222,\"#7201a8\"],[0.3333333333333333,\"#9c179e\"],[0.4444444444444444,\"#bd3786\"],[0.5555555555555556,\"#d8576b\"],[0.6666666666666666,\"#ed7953\"],[0.7777777777777778,\"#fb9f3a\"],[0.8888888888888888,\"#fdca26\"],[1.0,\"#f0f921\"]],\"diverging\":[[0,\"#8e0152\"],[0.1,\"#c51b7d\"],[0.2,\"#de77ae\"],[0.3,\"#f1b6da\"],[0.4,\"#fde0ef\"],[0.5,\"#f7f7f7\"],[0.6,\"#e6f5d0\"],[0.7,\"#b8e186\"],[0.8,\"#7fbc41\"],[0.9,\"#4d9221\"],[1,\"#276419\"]]},\"xaxis\":{\"gridcolor\":\"white\",\"linecolor\":\"white\",\"ticks\":\"\",\"title\":{\"standoff\":15},\"zerolinecolor\":\"white\",\"automargin\":true,\"zerolinewidth\":2},\"yaxis\":{\"gridcolor\":\"white\",\"linecolor\":\"white\",\"ticks\":\"\",\"title\":{\"standoff\":15},\"zerolinecolor\":\"white\",\"automargin\":true,\"zerolinewidth\":2},\"scene\":{\"xaxis\":{\"backgroundcolor\":\"#E5ECF6\",\"gridcolor\":\"white\",\"linecolor\":\"white\",\"showbackground\":true,\"ticks\":\"\",\"zerolinecolor\":\"white\",\"gridwidth\":2},\"yaxis\":{\"backgroundcolor\":\"#E5ECF6\",\"gridcolor\":\"white\",\"linecolor\":\"white\",\"showbackground\":true,\"ticks\":\"\",\"zerolinecolor\":\"white\",\"gridwidth\":2},\"zaxis\":{\"backgroundcolor\":\"#E5ECF6\",\"gridcolor\":\"white\",\"linecolor\":\"white\",\"showbackground\":true,\"ticks\":\"\",\"zerolinecolor\":\"white\",\"gridwidth\":2}},\"shapedefaults\":{\"line\":{\"color\":\"#2a3f5f\"}},\"annotationdefaults\":{\"arrowcolor\":\"#2a3f5f\",\"arrowhead\":0,\"arrowwidth\":1},\"geo\":{\"bgcolor\":\"white\",\"landcolor\":\"#E5ECF6\",\"subunitcolor\":\"white\",\"showland\":true,\"showlakes\":true,\"lakecolor\":\"white\"},\"title\":{\"x\":0.05},\"mapbox\":{\"style\":\"light\"}}}},                        {\"responsive\": true}                    ).then(function(){\n",
              "                            \n",
              "var gd = document.getElementById('ad156591-aebc-4302-a5c0-33b55d7fe9c9');\n",
              "var x = new MutationObserver(function (mutations, observer) {{\n",
              "        var display = window.getComputedStyle(gd).display;\n",
              "        if (!display || display === 'none') {{\n",
              "            console.log([gd, 'removed!']);\n",
              "            Plotly.purge(gd);\n",
              "            observer.disconnect();\n",
              "        }}\n",
              "}});\n",
              "\n",
              "// Listen for the removal of the full notebook cells\n",
              "var notebookContainer = gd.closest('#notebook-container');\n",
              "if (notebookContainer) {{\n",
              "    x.observe(notebookContainer, {childList: true});\n",
              "}}\n",
              "\n",
              "// Listen for the clearing of the current output cell\n",
              "var outputEl = gd.closest('.output');\n",
              "if (outputEl) {{\n",
              "    x.observe(outputEl, {childList: true});\n",
              "}}\n",
              "\n",
              "                        })                };                            </script>        </div>\n",
              "</body>\n",
              "</html>"
            ]
          },
          "metadata": {}
        }
      ],
      "source": [
        "Bar_graph_for_country"
      ]
    },
    {
      "cell_type": "markdown",
      "metadata": {
        "id": "uxZ-hlIzvbT3"
      },
      "source": [
        "\n",
        "\n",
        "---\n",
        "\n"
      ]
    },
    {
      "cell_type": "markdown",
      "source": [
        "Now we will visualize the players of each club/country, You can choose any club/country you want from the clubs/countries to see all the players of this club/country that participated in the **EURO 2024 championship**  "
      ],
      "metadata": {
        "id": "eXBDcRsL7HjS"
      }
    },
    {
      "cell_type": "markdown",
      "source": [
        "Now, we can use the function of `create_club_players_table(dataframe, column)` to visualize what we need\n"
      ],
      "metadata": {
        "id": "ze4ExvGrkLTt"
      }
    },
    {
      "cell_type": "markdown",
      "source": [
        "To see the players of each club"
      ],
      "metadata": {
        "id": "O3DjmToekeGi"
      }
    },
    {
      "cell_type": "code",
      "source": [
        "fig = create_club_players_table(data_of_players, 'Club')\n"
      ],
      "metadata": {
        "id": "dhaX0ejNkdXz"
      },
      "execution_count": 120,
      "outputs": []
    },
    {
      "cell_type": "code",
      "source": [
        "fig.show()"
      ],
      "metadata": {
        "colab": {
          "base_uri": "https://localhost:8080/",
          "height": 617
        },
        "id": "U0ZkYLgVkuAk",
        "outputId": "b76bd649-9235-488c-ece9-66f79b951602"
      },
      "execution_count": 121,
      "outputs": [
        {
          "output_type": "display_data",
          "data": {
            "text/html": [
              "<html>\n",
              "<head><meta charset=\"utf-8\" /></head>\n",
              "<body>\n",
              "    <div>            <script src=\"https://cdnjs.cloudflare.com/ajax/libs/mathjax/2.7.5/MathJax.js?config=TeX-AMS-MML_SVG\"></script><script type=\"text/javascript\">if (window.MathJax && window.MathJax.Hub && window.MathJax.Hub.Config) {window.MathJax.Hub.Config({SVG: {font: \"STIX-Web\"}});}</script>                <script type=\"text/javascript\">window.PlotlyConfig = {MathJaxConfig: 'local'};</script>\n",
              "        <script charset=\"utf-8\" src=\"https://cdn.plot.ly/plotly-2.35.2.min.js\"></script>                <div id=\"e1b3a829-6d6d-4ba4-b58b-bfc8c7c5e4bb\" class=\"plotly-graph-div\" style=\"height:600px; width:800px;\"></div>            <script type=\"text/javascript\">                                    window.PLOTLYENV=window.PLOTLYENV || {};                                    if (document.getElementById(\"e1b3a829-6d6d-4ba4-b58b-bfc8c7c5e4bb\")) {                    Plotly.newPlot(                        \"e1b3a829-6d6d-4ba4-b58b-bfc8c7c5e4bb\",                        [{\"marker\":{\"color\":\"blue\",\"size\":10},\"mode\":\"markers+text\",\"name\":\"FC Barcelona\",\"text\":[\"Marc-André ter Stegen and its nation is Germany\",\"İlkay Gündoğan and its nation is Germany\",\"Pedri and its nation is Spain\",\"Fermín López and its nation is Spain\",\"Ferran Torres and its nation is Spain\",\"Lamine Yamal and its nation is Spain\",\"Andreas Christensen and its nation is Denmark\",\"Robert Lewandowski and its nation is Poland\",\"Frenkie de Jong and its nation is Netherlands\",\"Jules Koundé and its nation is France\",\"João Cancelo and its nation is Portugal\",\"João Félix and its nation is Portugal\"],\"textposition\":\"top center\",\"x\":[\"FC Barcelona\",\"FC Barcelona\",\"FC Barcelona\",\"FC Barcelona\",\"FC Barcelona\",\"FC Barcelona\",\"FC Barcelona\",\"FC Barcelona\",\"FC Barcelona\",\"FC Barcelona\",\"FC Barcelona\",\"FC Barcelona\"],\"y\":[\"Marc-André ter Stegen\",\"İlkay Gündoğan\",\"Pedri\",\"Fermín López\",\"Ferran Torres\",\"Lamine Yamal\",\"Andreas Christensen\",\"Robert Lewandowski\",\"Frenkie de Jong\",\"Jules Koundé\",\"João Cancelo\",\"João Félix\"],\"type\":\"scatter\"}],                        {\"template\":{\"data\":{\"histogram2dcontour\":[{\"type\":\"histogram2dcontour\",\"colorbar\":{\"outlinewidth\":0,\"ticks\":\"\"},\"colorscale\":[[0.0,\"#0d0887\"],[0.1111111111111111,\"#46039f\"],[0.2222222222222222,\"#7201a8\"],[0.3333333333333333,\"#9c179e\"],[0.4444444444444444,\"#bd3786\"],[0.5555555555555556,\"#d8576b\"],[0.6666666666666666,\"#ed7953\"],[0.7777777777777778,\"#fb9f3a\"],[0.8888888888888888,\"#fdca26\"],[1.0,\"#f0f921\"]]}],\"choropleth\":[{\"type\":\"choropleth\",\"colorbar\":{\"outlinewidth\":0,\"ticks\":\"\"}}],\"histogram2d\":[{\"type\":\"histogram2d\",\"colorbar\":{\"outlinewidth\":0,\"ticks\":\"\"},\"colorscale\":[[0.0,\"#0d0887\"],[0.1111111111111111,\"#46039f\"],[0.2222222222222222,\"#7201a8\"],[0.3333333333333333,\"#9c179e\"],[0.4444444444444444,\"#bd3786\"],[0.5555555555555556,\"#d8576b\"],[0.6666666666666666,\"#ed7953\"],[0.7777777777777778,\"#fb9f3a\"],[0.8888888888888888,\"#fdca26\"],[1.0,\"#f0f921\"]]}],\"heatmap\":[{\"type\":\"heatmap\",\"colorbar\":{\"outlinewidth\":0,\"ticks\":\"\"},\"colorscale\":[[0.0,\"#0d0887\"],[0.1111111111111111,\"#46039f\"],[0.2222222222222222,\"#7201a8\"],[0.3333333333333333,\"#9c179e\"],[0.4444444444444444,\"#bd3786\"],[0.5555555555555556,\"#d8576b\"],[0.6666666666666666,\"#ed7953\"],[0.7777777777777778,\"#fb9f3a\"],[0.8888888888888888,\"#fdca26\"],[1.0,\"#f0f921\"]]}],\"heatmapgl\":[{\"type\":\"heatmapgl\",\"colorbar\":{\"outlinewidth\":0,\"ticks\":\"\"},\"colorscale\":[[0.0,\"#0d0887\"],[0.1111111111111111,\"#46039f\"],[0.2222222222222222,\"#7201a8\"],[0.3333333333333333,\"#9c179e\"],[0.4444444444444444,\"#bd3786\"],[0.5555555555555556,\"#d8576b\"],[0.6666666666666666,\"#ed7953\"],[0.7777777777777778,\"#fb9f3a\"],[0.8888888888888888,\"#fdca26\"],[1.0,\"#f0f921\"]]}],\"contourcarpet\":[{\"type\":\"contourcarpet\",\"colorbar\":{\"outlinewidth\":0,\"ticks\":\"\"}}],\"contour\":[{\"type\":\"contour\",\"colorbar\":{\"outlinewidth\":0,\"ticks\":\"\"},\"colorscale\":[[0.0,\"#0d0887\"],[0.1111111111111111,\"#46039f\"],[0.2222222222222222,\"#7201a8\"],[0.3333333333333333,\"#9c179e\"],[0.4444444444444444,\"#bd3786\"],[0.5555555555555556,\"#d8576b\"],[0.6666666666666666,\"#ed7953\"],[0.7777777777777778,\"#fb9f3a\"],[0.8888888888888888,\"#fdca26\"],[1.0,\"#f0f921\"]]}],\"surface\":[{\"type\":\"surface\",\"colorbar\":{\"outlinewidth\":0,\"ticks\":\"\"},\"colorscale\":[[0.0,\"#0d0887\"],[0.1111111111111111,\"#46039f\"],[0.2222222222222222,\"#7201a8\"],[0.3333333333333333,\"#9c179e\"],[0.4444444444444444,\"#bd3786\"],[0.5555555555555556,\"#d8576b\"],[0.6666666666666666,\"#ed7953\"],[0.7777777777777778,\"#fb9f3a\"],[0.8888888888888888,\"#fdca26\"],[1.0,\"#f0f921\"]]}],\"mesh3d\":[{\"type\":\"mesh3d\",\"colorbar\":{\"outlinewidth\":0,\"ticks\":\"\"}}],\"scatter\":[{\"fillpattern\":{\"fillmode\":\"overlay\",\"size\":10,\"solidity\":0.2},\"type\":\"scatter\"}],\"parcoords\":[{\"type\":\"parcoords\",\"line\":{\"colorbar\":{\"outlinewidth\":0,\"ticks\":\"\"}}}],\"scatterpolargl\":[{\"type\":\"scatterpolargl\",\"marker\":{\"colorbar\":{\"outlinewidth\":0,\"ticks\":\"\"}}}],\"bar\":[{\"error_x\":{\"color\":\"#2a3f5f\"},\"error_y\":{\"color\":\"#2a3f5f\"},\"marker\":{\"line\":{\"color\":\"#E5ECF6\",\"width\":0.5},\"pattern\":{\"fillmode\":\"overlay\",\"size\":10,\"solidity\":0.2}},\"type\":\"bar\"}],\"scattergeo\":[{\"type\":\"scattergeo\",\"marker\":{\"colorbar\":{\"outlinewidth\":0,\"ticks\":\"\"}}}],\"scatterpolar\":[{\"type\":\"scatterpolar\",\"marker\":{\"colorbar\":{\"outlinewidth\":0,\"ticks\":\"\"}}}],\"histogram\":[{\"marker\":{\"pattern\":{\"fillmode\":\"overlay\",\"size\":10,\"solidity\":0.2}},\"type\":\"histogram\"}],\"scattergl\":[{\"type\":\"scattergl\",\"marker\":{\"colorbar\":{\"outlinewidth\":0,\"ticks\":\"\"}}}],\"scatter3d\":[{\"type\":\"scatter3d\",\"line\":{\"colorbar\":{\"outlinewidth\":0,\"ticks\":\"\"}},\"marker\":{\"colorbar\":{\"outlinewidth\":0,\"ticks\":\"\"}}}],\"scattermapbox\":[{\"type\":\"scattermapbox\",\"marker\":{\"colorbar\":{\"outlinewidth\":0,\"ticks\":\"\"}}}],\"scatterternary\":[{\"type\":\"scatterternary\",\"marker\":{\"colorbar\":{\"outlinewidth\":0,\"ticks\":\"\"}}}],\"scattercarpet\":[{\"type\":\"scattercarpet\",\"marker\":{\"colorbar\":{\"outlinewidth\":0,\"ticks\":\"\"}}}],\"carpet\":[{\"aaxis\":{\"endlinecolor\":\"#2a3f5f\",\"gridcolor\":\"white\",\"linecolor\":\"white\",\"minorgridcolor\":\"white\",\"startlinecolor\":\"#2a3f5f\"},\"baxis\":{\"endlinecolor\":\"#2a3f5f\",\"gridcolor\":\"white\",\"linecolor\":\"white\",\"minorgridcolor\":\"white\",\"startlinecolor\":\"#2a3f5f\"},\"type\":\"carpet\"}],\"table\":[{\"cells\":{\"fill\":{\"color\":\"#EBF0F8\"},\"line\":{\"color\":\"white\"}},\"header\":{\"fill\":{\"color\":\"#C8D4E3\"},\"line\":{\"color\":\"white\"}},\"type\":\"table\"}],\"barpolar\":[{\"marker\":{\"line\":{\"color\":\"#E5ECF6\",\"width\":0.5},\"pattern\":{\"fillmode\":\"overlay\",\"size\":10,\"solidity\":0.2}},\"type\":\"barpolar\"}],\"pie\":[{\"automargin\":true,\"type\":\"pie\"}]},\"layout\":{\"autotypenumbers\":\"strict\",\"colorway\":[\"#636efa\",\"#EF553B\",\"#00cc96\",\"#ab63fa\",\"#FFA15A\",\"#19d3f3\",\"#FF6692\",\"#B6E880\",\"#FF97FF\",\"#FECB52\"],\"font\":{\"color\":\"#2a3f5f\"},\"hovermode\":\"closest\",\"hoverlabel\":{\"align\":\"left\"},\"paper_bgcolor\":\"white\",\"plot_bgcolor\":\"#E5ECF6\",\"polar\":{\"bgcolor\":\"#E5ECF6\",\"angularaxis\":{\"gridcolor\":\"white\",\"linecolor\":\"white\",\"ticks\":\"\"},\"radialaxis\":{\"gridcolor\":\"white\",\"linecolor\":\"white\",\"ticks\":\"\"}},\"ternary\":{\"bgcolor\":\"#E5ECF6\",\"aaxis\":{\"gridcolor\":\"white\",\"linecolor\":\"white\",\"ticks\":\"\"},\"baxis\":{\"gridcolor\":\"white\",\"linecolor\":\"white\",\"ticks\":\"\"},\"caxis\":{\"gridcolor\":\"white\",\"linecolor\":\"white\",\"ticks\":\"\"}},\"coloraxis\":{\"colorbar\":{\"outlinewidth\":0,\"ticks\":\"\"}},\"colorscale\":{\"sequential\":[[0.0,\"#0d0887\"],[0.1111111111111111,\"#46039f\"],[0.2222222222222222,\"#7201a8\"],[0.3333333333333333,\"#9c179e\"],[0.4444444444444444,\"#bd3786\"],[0.5555555555555556,\"#d8576b\"],[0.6666666666666666,\"#ed7953\"],[0.7777777777777778,\"#fb9f3a\"],[0.8888888888888888,\"#fdca26\"],[1.0,\"#f0f921\"]],\"sequentialminus\":[[0.0,\"#0d0887\"],[0.1111111111111111,\"#46039f\"],[0.2222222222222222,\"#7201a8\"],[0.3333333333333333,\"#9c179e\"],[0.4444444444444444,\"#bd3786\"],[0.5555555555555556,\"#d8576b\"],[0.6666666666666666,\"#ed7953\"],[0.7777777777777778,\"#fb9f3a\"],[0.8888888888888888,\"#fdca26\"],[1.0,\"#f0f921\"]],\"diverging\":[[0,\"#8e0152\"],[0.1,\"#c51b7d\"],[0.2,\"#de77ae\"],[0.3,\"#f1b6da\"],[0.4,\"#fde0ef\"],[0.5,\"#f7f7f7\"],[0.6,\"#e6f5d0\"],[0.7,\"#b8e186\"],[0.8,\"#7fbc41\"],[0.9,\"#4d9221\"],[1,\"#276419\"]]},\"xaxis\":{\"gridcolor\":\"white\",\"linecolor\":\"white\",\"ticks\":\"\",\"title\":{\"standoff\":15},\"zerolinecolor\":\"white\",\"automargin\":true,\"zerolinewidth\":2},\"yaxis\":{\"gridcolor\":\"white\",\"linecolor\":\"white\",\"ticks\":\"\",\"title\":{\"standoff\":15},\"zerolinecolor\":\"white\",\"automargin\":true,\"zerolinewidth\":2},\"scene\":{\"xaxis\":{\"backgroundcolor\":\"#E5ECF6\",\"gridcolor\":\"white\",\"linecolor\":\"white\",\"showbackground\":true,\"ticks\":\"\",\"zerolinecolor\":\"white\",\"gridwidth\":2},\"yaxis\":{\"backgroundcolor\":\"#E5ECF6\",\"gridcolor\":\"white\",\"linecolor\":\"white\",\"showbackground\":true,\"ticks\":\"\",\"zerolinecolor\":\"white\",\"gridwidth\":2},\"zaxis\":{\"backgroundcolor\":\"#E5ECF6\",\"gridcolor\":\"white\",\"linecolor\":\"white\",\"showbackground\":true,\"ticks\":\"\",\"zerolinecolor\":\"white\",\"gridwidth\":2}},\"shapedefaults\":{\"line\":{\"color\":\"#2a3f5f\"}},\"annotationdefaults\":{\"arrowcolor\":\"#2a3f5f\",\"arrowhead\":0,\"arrowwidth\":1},\"geo\":{\"bgcolor\":\"white\",\"landcolor\":\"#E5ECF6\",\"subunitcolor\":\"white\",\"showland\":true,\"showlakes\":true,\"lakecolor\":\"white\"},\"title\":{\"x\":0.05},\"mapbox\":{\"style\":\"light\"}}},\"title\":{\"font\":{\"size\":26,\"family\":\"Arial\"},\"text\":\"Clubs with Players\"},\"xaxis\":{\"title\":{\"font\":{\"size\":18,\"family\":\"Arial\"},\"text\":\"Club\"}},\"yaxis\":{\"title\":{\"font\":{\"size\":18,\"family\":\"Arial\"},\"text\":\"Players\"}},\"updatemenus\":[{\"bgcolor\":\"lightgray\",\"bordercolor\":\"gray\",\"borderwidth\":2,\"buttons\":[{\"args\":[{\"x\":[[\"FC Barcelona\",\"FC Barcelona\",\"FC Barcelona\",\"FC Barcelona\",\"FC Barcelona\",\"FC Barcelona\",\"FC Barcelona\",\"FC Barcelona\",\"FC Barcelona\",\"FC Barcelona\",\"FC Barcelona\",\"FC Barcelona\"]],\"y\":[[\"Marc-André ter Stegen\",\"İlkay Gündoğan\",\"Pedri\",\"Fermín López\",\"Ferran Torres\",\"Lamine Yamal\",\"Andreas Christensen\",\"Robert Lewandowski\",\"Frenkie de Jong\",\"Jules Koundé\",\"João Cancelo\",\"João Félix\"]],\"text\":[[\"Marc-André ter Stegen and its nation is Germany\",\"İlkay Gündoğan and its nation is Germany\",\"Pedri and its nation is Spain\",\"Fermín López and its nation is Spain\",\"Ferran Torres and its nation is Spain\",\"Lamine Yamal and its nation is Spain\",\"Andreas Christensen and its nation is Denmark\",\"Robert Lewandowski and its nation is Poland\",\"Frenkie de Jong and its nation is Netherlands\",\"Jules Koundé and its nation is France\",\"João Cancelo and its nation is Portugal\",\"João Félix and its nation is Portugal\"]]}],\"label\":\"FC Barcelona\",\"method\":\"restyle\"},{\"args\":[{\"x\":[[\"Bayern Munich\",\"Bayern Munich\",\"Bayern Munich\",\"Bayern Munich\",\"Bayern Munich\",\"Bayern Munich\",\"Bayern Munich\",\"Bayern Munich\",\"Bayern Munich\",\"Bayern Munich\",\"Bayern Munich\"]],\"y\":[[\"Manuel Neuer\",\"Joshua Kimmich\",\"Aleksandar Pavlovic\",\"Jamal Musiala\",\"Leroy Sané\",\"Thomas Müller\",\"Harry Kane\",\"Matthijs de Ligt\",\"Konrad Laimer\",\"Dayot Upamecano\",\"Kingsley Coman\"]],\"text\":[[\"Manuel Neuer and its nation is Germany\",\"Joshua Kimmich and its nation is Germany\",\"Aleksandar Pavlovic and its nation is Germany\",\"Jamal Musiala and its nation is Germany\",\"Leroy Sané and its nation is Germany\",\"Thomas Müller and its nation is Germany\",\"Harry Kane and its nation is England\",\"Matthijs de Ligt and its nation is Netherlands\",\"Konrad Laimer and its nation is Austria\",\"Dayot Upamecano and its nation is France\",\"Kingsley Coman and its nation is France\"]]}],\"label\":\"Bayern Munich\",\"method\":\"restyle\"},{\"args\":[{\"x\":[[\"TSG 1899 Hoffenheim\",\"TSG 1899 Hoffenheim\",\"TSG 1899 Hoffenheim\",\"TSG 1899 Hoffenheim\",\"TSG 1899 Hoffenheim\",\"TSG 1899 Hoffenheim\"]],\"y\":[[\"Oliver Baumann\",\"Maximilian Beier\",\"Andrej Kramaric\",\"Wout Weghorst\",\"Florian Grillitsch\",\"David Jurásek\"]],\"text\":[[\"Oliver Baumann and its nation is Germany\",\"Maximilian Beier and its nation is Germany\",\"Andrej Kramaric and its nation is Croatia\",\"Wout Weghorst and its nation is Netherlands\",\"Florian Grillitsch and its nation is Austria\",\"David Jurásek and its nation is Czech Republic\"]]}],\"label\":\"TSG 1899 Hoffenheim\",\"method\":\"restyle\"},{\"args\":[{\"x\":[[\"Borussia Dortmund\",\"Borussia Dortmund\",\"Borussia Dortmund\",\"Borussia Dortmund\",\"Borussia Dortmund\",\"Borussia Dortmund\"]],\"y\":[[\"Nico Schlotterbeck\",\"Niclas Füllkrug\",\"Gregor Kobel\",\"Donyell Malen\",\"Marcel Sabitzer\",\"Salih Özcan\"]],\"text\":[[\"Nico Schlotterbeck and its nation is Germany\",\"Niclas Füllkrug and its nation is Germany\",\"Gregor Kobel and its nation is Switzerland\",\"Donyell Malen and its nation is Netherlands\",\"Marcel Sabitzer and its nation is Austria\",\"Salih Özcan and its nation is Turkiye\"]]}],\"label\":\"Borussia Dortmund\",\"method\":\"restyle\"},{\"args\":[{\"x\":[[\"Bayer 04 Leverkusen\",\"Bayer 04 Leverkusen\",\"Bayer 04 Leverkusen\",\"Bayer 04 Leverkusen\",\"Bayer 04 Leverkusen\",\"Bayer 04 Leverkusen\",\"Bayer 04 Leverkusen\",\"Bayer 04 Leverkusen\",\"Bayer 04 Leverkusen\",\"Bayer 04 Leverkusen\"]],\"y\":[[\"Jonathan Tah\",\"Robert Andrich\",\"Florian Wirtz\",\"Granit Xhaka\",\"Alejandro Grimaldo\",\"Josip Stanisic\",\"Jeremie Frimpong\",\"Matej Kovar\",\"Adam Hlozek\",\"Patrik Schick\"]],\"text\":[[\"Jonathan Tah and its nation is Germany\",\"Robert Andrich and its nation is Germany\",\"Florian Wirtz and its nation is Germany\",\"Granit Xhaka and its nation is Switzerland\",\"Alejandro Grimaldo and its nation is Spain\",\"Josip Stanisic and its nation is Croatia\",\"Jeremie Frimpong and its nation is Netherlands\",\"Matej Kovar and its nation is Czech Republic\",\"Adam Hlozek and its nation is Czech Republic\",\"Patrik Schick and its nation is Czech Republic\"]]}],\"label\":\"Bayer 04 Leverkusen\",\"method\":\"restyle\"},{\"args\":[{\"x\":[[\"Real Madrid\",\"Real Madrid\",\"Real Madrid\",\"Real Madrid\",\"Real Madrid\",\"Real Madrid\",\"Real Madrid\",\"Real Madrid\",\"Real Madrid\",\"Real Madrid\",\"Real Madrid\",\"Real Madrid\"]],\"y\":[[\"Antonio Rüdiger\",\"Toni Kroos\",\"Nacho Fernández\",\"Daniel Carvajal\",\"Joselu\",\"Luka Modric\",\"Jude Bellingham\",\"Ferland Mendy\",\"Aurélien Tchouaméni\",\"Eduardo Camavinga\",\"Andriy Lunin\",\"Arda Güler\"]],\"text\":[[\"Antonio Rüdiger and its nation is Germany\",\"Toni Kroos and its nation is Germany\",\"Nacho Fernández and its nation is Spain\",\"Daniel Carvajal and its nation is Spain\",\"Joselu and its nation is Spain\",\"Luka Modric and its nation is Croatia\",\"Jude Bellingham and its nation is England\",\"Ferland Mendy and its nation is France\",\"Aurélien Tchouaméni and its nation is France\",\"Eduardo Camavinga and its nation is France\",\"Andriy Lunin and its nation is Ukraine\",\"Arda Güler and its nation is Turkiye\"]]}],\"label\":\"Real Madrid\",\"method\":\"restyle\"},{\"args\":[{\"x\":[[\"VfB Stuttgart\",\"VfB Stuttgart\",\"VfB Stuttgart\",\"VfB Stuttgart\",\"VfB Stuttgart\"]],\"y\":[[\"Waldemar Anton\",\"Maximilian Mittelstädt\",\"Chris Führich\",\"Deniz Undav\",\"Leonidas Stergiou\"]],\"text\":[[\"Waldemar Anton and its nation is Germany\",\"Maximilian Mittelstädt and its nation is Germany\",\"Chris Führich and its nation is Germany\",\"Deniz Undav and its nation is Germany\",\"Leonidas Stergiou and its nation is Switzerland\"]]}],\"label\":\"VfB Stuttgart\",\"method\":\"restyle\"},{\"args\":[{\"x\":[[\"Eintracht Frankfurt\"]],\"y\":[[\"Robin Koch\"]],\"text\":[[\"Robin Koch and its nation is Germany\"]]}],\"label\":\"Eintracht Frankfurt\",\"method\":\"restyle\"},{\"args\":[{\"x\":[[\"RB Leipzig\",\"RB Leipzig\",\"RB Leipzig\",\"RB Leipzig\",\"RB Leipzig\",\"RB Leipzig\",\"RB Leipzig\",\"RB Leipzig\",\"RB Leipzig\",\"RB Leipzig\",\"RB Leipzig\"]],\"y\":[[\"David Raum\",\"Benjamin Henrichs\",\"Péter Gulácsi\",\"Willi Orbán\",\"Dani Olmo\",\"Benjamin Sesko\",\"Yussuf Poulsen\",\"Xavi Simons\",\"Nicolas Seiwald\",\"Christoph Baumgartner\",\"Loïs Openda\"]],\"text\":[[\"David Raum and its nation is Germany\",\"Benjamin Henrichs and its nation is Germany\",\"Péter Gulácsi and its nation is Hungary\",\"Willi Orbán and its nation is Hungary\",\"Dani Olmo and its nation is Spain\",\"Benjamin Sesko and its nation is Slovenia\",\"Yussuf Poulsen and its nation is Denmark\",\"Xavi Simons and its nation is Netherlands\",\"Nicolas Seiwald and its nation is Austria\",\"Christoph Baumgartner and its nation is Austria\",\"Loïs Openda and its nation is Belgium\"]]}],\"label\":\"RB Leipzig\",\"method\":\"restyle\"},{\"args\":[{\"x\":[[\"Brighton & Hove Albion\",\"Brighton & Hove Albion\",\"Brighton & Hove Albion\",\"Brighton & Hove Albion\",\"Brighton & Hove Albion\"]],\"y\":[[\"Pascal Groß\",\"Billy Gilmour\",\"Lewis Dunk\",\"Jakub Moder\",\"Bart Verbruggen\"]],\"text\":[[\"Pascal Groß and its nation is Germany\",\"Billy Gilmour and its nation is Scotland\",\"Lewis Dunk and its nation is England\",\"Jakub Moder and its nation is Poland\",\"Bart Verbruggen and its nation is Netherlands\"]]}],\"label\":\"Brighton & Hove Albion\",\"method\":\"restyle\"},{\"args\":[{\"x\":[[\"Arsenal FC\",\"Arsenal FC\",\"Arsenal FC\",\"Arsenal FC\",\"Arsenal FC\",\"Arsenal FC\",\"Arsenal FC\",\"Arsenal FC\",\"Arsenal FC\",\"Arsenal FC\"]],\"y\":[[\"Kai Havertz\",\"David Raya\",\"Jorginho\",\"Aaron Ramsdale\",\"Declan Rice\",\"Bukayo Saka\",\"Jakub Kiwior\",\"William Saliba\",\"Leandro Trossard\",\"Oleksandr Zinchenko\"]],\"text\":[[\"Kai Havertz and its nation is Germany\",\"David Raya and its nation is Spain\",\"Jorginho and its nation is Italy\",\"Aaron Ramsdale and its nation is England\",\"Declan Rice and its nation is England\",\"Bukayo Saka and its nation is England\",\"Jakub Kiwior and its nation is Poland\",\"William Saliba and its nation is France\",\"Leandro Trossard and its nation is Belgium\",\"Oleksandr Zinchenko and its nation is Ukraine\"]]}],\"label\":\"Arsenal FC\",\"method\":\"restyle\"},{\"args\":[{\"x\":[[\"Norwich City\",\"Norwich City\",\"Norwich City\"]],\"y\":[[\"Angus Gunn\",\"Grant Hanley\",\"Kenny McLean\"]],\"text\":[[\"Angus Gunn and its nation is Scotland\",\"Grant Hanley and its nation is Scotland\",\"Kenny McLean and its nation is Scotland\"]]}],\"label\":\"Norwich City\",\"method\":\"restyle\"},{\"args\":[{\"x\":[[\"Motherwell FC\"]],\"y\":[[\"Liam Kelly\"]],\"text\":[[\"Liam Kelly and its nation is Scotland\"]]}],\"label\":\"Motherwell FC\",\"method\":\"restyle\"},{\"args\":[{\"x\":[[\"Heart of Midlothian FC\",\"Heart of Midlothian FC\"]],\"y\":[[\"Zander Clark\",\"Lawrence Shankland\"]],\"text\":[[\"Zander Clark and its nation is Scotland\",\"Lawrence Shankland and its nation is Scotland\"]]}],\"label\":\"Heart of Midlothian FC\",\"method\":\"restyle\"},{\"args\":[{\"x\":[[\"FC Copenhagen\",\"FC Copenhagen\"]],\"y\":[[\"Scott McKenna\",\"Denis Vavro\"]],\"text\":[[\"Scott McKenna and its nation is Scotland\",\"Denis Vavro and its nation is Slovakia\"]]}],\"label\":\"FC Copenhagen\",\"method\":\"restyle\"},{\"args\":[{\"x\":[[\"Al-Ettifaq FC\",\"Al-Ettifaq FC\"]],\"y\":[[\"Jack Hendry\",\"Georginio Wijnaldum\"]],\"text\":[[\"Jack Hendry and its nation is Scotland\",\"Georginio Wijnaldum and its nation is Netherlands\"]]}],\"label\":\"Al-Ettifaq FC\",\"method\":\"restyle\"},{\"args\":[{\"x\":[[\"Watford FC\",\"Watford FC\"]],\"y\":[[\"Ryan Porteous\",\"Giorgi Chakvetadze\"]],\"text\":[[\"Ryan Porteous and its nation is Scotland\",\"Giorgi Chakvetadze and its nation is Georgia\"]]}],\"label\":\"Watford FC\",\"method\":\"restyle\"},{\"args\":[{\"x\":[[\"Leeds United\"]],\"y\":[[\"Liam Cooper\"]],\"text\":[[\"Liam Cooper and its nation is Scotland\"]]}],\"label\":\"Leeds United\",\"method\":\"restyle\"},{\"args\":[{\"x\":[[\"Liverpool FC\",\"Liverpool FC\",\"Liverpool FC\",\"Liverpool FC\",\"Liverpool FC\",\"Liverpool FC\",\"Liverpool FC\",\"Liverpool FC\",\"Liverpool FC\"]],\"y\":[[\"Andrew Robertson\",\"Dominik Szoboszlai\",\"Joe Gomez\",\"Trent Alexander-Arnold\",\"Virgil van Dijk\",\"Ryan Gravenberch\",\"Cody Gakpo\",\"Ibrahima Konaté\",\"Diogo Jota\"]],\"text\":[[\"Andrew Robertson and its nation is Scotland\",\"Dominik Szoboszlai and its nation is Hungary\",\"Joe Gomez and its nation is England\",\"Trent Alexander-Arnold and its nation is England\",\"Virgil van Dijk and its nation is Netherlands\",\"Ryan Gravenberch and its nation is Netherlands\",\"Cody Gakpo and its nation is Netherlands\",\"Ibrahima Konaté and its nation is France\",\"Diogo Jota and its nation is Portugal\"]]}],\"label\":\"Liverpool FC\",\"method\":\"restyle\"},{\"args\":[{\"x\":[[\"Real Sociedad\",\"Real Sociedad\",\"Real Sociedad\",\"Real Sociedad\",\"Real Sociedad\",\"Real Sociedad\"]],\"y\":[[\"Kieran Tierney\",\"Álex Remiro\",\"Robin Le Normand\",\"Martín Zubimendi\",\"Mikel Merino\",\"Mikel Oyarzabal\"]],\"text\":[[\"Kieran Tierney and its nation is Scotland\",\"Álex Remiro and its nation is Spain\",\"Robin Le Normand and its nation is Spain\",\"Martín Zubimendi and its nation is Spain\",\"Mikel Merino and its nation is Spain\",\"Mikel Oyarzabal and its nation is Spain\"]]}],\"label\":\"Real Sociedad\",\"method\":\"restyle\"},{\"args\":[{\"x\":[[\"Celtic FC\",\"Celtic FC\",\"Celtic FC\",\"Celtic FC\"]],\"y\":[[\"Greg Taylor\",\"Anthony Ralston\",\"Callum McGregor\",\"James Forrest\"]],\"text\":[[\"Greg Taylor and its nation is Scotland\",\"Anthony Ralston and its nation is Scotland\",\"Callum McGregor and its nation is Scotland\",\"James Forrest and its nation is Scotland\"]]}],\"label\":\"Celtic FC\",\"method\":\"restyle\"},{\"args\":[{\"x\":[[\"Bristol City\",\"Bristol City\",\"Bristol City\"]],\"y\":[[\"Ross McCrorie\",\"Tommy Conway\",\"Andreas Weimann\"]],\"text\":[[\"Ross McCrorie and its nation is Scotland\",\"Tommy Conway and its nation is Scotland\",\"Andreas Weimann and its nation is Austria\"]]}],\"label\":\"Bristol City\",\"method\":\"restyle\"},{\"args\":[{\"x\":[[\"Manchester United\",\"Manchester United\",\"Manchester United\",\"Manchester United\",\"Manchester United\",\"Manchester United\",\"Manchester United\",\"Manchester United\"]],\"y\":[[\"Scott McTominay\",\"Luke Shaw\",\"Kobbie Mainoo\",\"Christian Eriksen\",\"Rasmus Højlund\",\"Altay Bayındır\",\"Diogo Dalot\",\"Bruno Fernandes\"]],\"text\":[[\"Scott McTominay and its nation is Scotland\",\"Luke Shaw and its nation is England\",\"Kobbie Mainoo and its nation is England\",\"Christian Eriksen and its nation is Denmark\",\"Rasmus Højlund and its nation is Denmark\",\"Altay Bayındır and its nation is Turkiye\",\"Diogo Dalot and its nation is Portugal\",\"Bruno Fernandes and its nation is Portugal\"]]}],\"label\":\"Manchester United\",\"method\":\"restyle\"},{\"args\":[{\"x\":[[\"Aston Villa\",\"Aston Villa\",\"Aston Villa\",\"Aston Villa\"]],\"y\":[[\"John McGinn\",\"Ezri Konsa\",\"Ollie Watkins\",\"Youri Tielemans\"]],\"text\":[[\"John McGinn and its nation is Scotland\",\"Ezri Konsa and its nation is England\",\"Ollie Watkins and its nation is England\",\"Youri Tielemans and its nation is Belgium\"]]}],\"label\":\"Aston Villa\",\"method\":\"restyle\"},{\"args\":[{\"x\":[[\"Southampton FC\",\"Southampton FC\",\"Southampton FC\"]],\"y\":[[\"Stuart Armstrong\",\"Ché Adams\",\"Jan Bednarek\"]],\"text\":[[\"Stuart Armstrong and its nation is Scotland\",\"Ché Adams and its nation is Scotland\",\"Jan Bednarek and its nation is Poland\"]]}],\"label\":\"Southampton FC\",\"method\":\"restyle\"},{\"args\":[{\"x\":[[\"Rangers FC\"]],\"y\":[[\"Ryan Jack\"]],\"text\":[[\"Ryan Jack and its nation is Scotland\"]]}],\"label\":\"Rangers FC\",\"method\":\"restyle\"},{\"args\":[{\"x\":[[\"AFC Bournemouth\",\"AFC Bournemouth\",\"AFC Bournemouth\"]],\"y\":[[\"Ryan Christie\",\"Milos Kerkez\",\"Ilya Zabarnyi\"]],\"text\":[[\"Ryan Christie and its nation is Scotland\",\"Milos Kerkez and its nation is Hungary\",\"Ilya Zabarnyi and its nation is Ukraine\"]]}],\"label\":\"AFC Bournemouth\",\"method\":\"restyle\"},{\"args\":[{\"x\":[[\"New York Red Bulls\"]],\"y\":[[\"Lewis Morgan\"]],\"text\":[[\"Lewis Morgan and its nation is Scotland\"]]}],\"label\":\"New York Red Bulls\",\"method\":\"restyle\"},{\"args\":[{\"x\":[[\"Ferencvárosi TC\",\"Ferencvárosi TC\",\"Ferencvárosi TC\"]],\"y\":[[\"Dénes Dibusz\",\"Endre Botka\",\"Barnabás Varga\"]],\"text\":[[\"Dénes Dibusz and its nation is Hungary\",\"Endre Botka and its nation is Hungary\",\"Barnabás Varga and its nation is Hungary\"]]}],\"label\":\"Ferencvárosi TC\",\"method\":\"restyle\"},{\"args\":[{\"x\":[[\"Paksi FC\"]],\"y\":[[\"Péter Szappanos\"]],\"text\":[[\"Péter Szappanos and its nation is Hungary\"]]}],\"label\":\"Paksi FC\",\"method\":\"restyle\"},{\"args\":[{\"x\":[[\"SC Freiburg\",\"SC Freiburg\",\"SC Freiburg\",\"SC Freiburg\"]],\"y\":[[\"Attila Szalai\",\"Roland Sallai\",\"Philipp Lienhart\",\"Michael Gregoritsch\"]],\"text\":[[\"Attila Szalai and its nation is Hungary\",\"Roland Sallai and its nation is Hungary\",\"Philipp Lienhart and its nation is Austria\",\"Michael Gregoritsch and its nation is Austria\"]]}],\"label\":\"SC Freiburg\",\"method\":\"restyle\"},{\"args\":[{\"x\":[[\"Hertha BSC\",\"Hertha BSC\"]],\"y\":[[\"Márton Dárdai\",\"Peter Pekarik\"]],\"text\":[[\"Márton Dárdai and its nation is Hungary\",\"Peter Pekarik and its nation is Slovakia\"]]}],\"label\":\"Hertha BSC\",\"method\":\"restyle\"},{\"args\":[{\"x\":[[\"Parma Calcio 1913\",\"Parma Calcio 1913\",\"Parma Calcio 1913\"]],\"y\":[[\"Botond Balogh\",\"Valentin Mihăilă\",\"Dennis Man\"]],\"text\":[[\"Botond Balogh and its nation is Hungary\",\"Valentin Mihăilă and its nation is Romania\",\"Dennis Man and its nation is Romania\"]]}],\"label\":\"Parma Calcio 1913\",\"method\":\"restyle\"},{\"args\":[{\"x\":[[\"Omonia Nicosia\"]],\"y\":[[\"Ádám Lang\"]],\"text\":[[\"Ádám Lang and its nation is Hungary\"]]}],\"label\":\"Omonia Nicosia\",\"method\":\"restyle\"},{\"args\":[{\"x\":[[\"Puskás Akadémia FC\"]],\"y\":[[\"Zsolt Nagy\"]],\"text\":[[\"Zsolt Nagy and its nation is Hungary\"]]}],\"label\":\"Puskás Akadémia FC\",\"method\":\"restyle\"},{\"args\":[{\"x\":[[\"Servette FC\"]],\"y\":[[\"Bendegúz Bolla\"]],\"text\":[[\"Bendegúz Bolla and its nation is Hungary\"]]}],\"label\":\"Servette FC\",\"method\":\"restyle\"},{\"args\":[{\"x\":[[\"Le Havre AC\"]],\"y\":[[\"Loïc Nego\"]],\"text\":[[\"Loïc Nego and its nation is Hungary\"]]}],\"label\":\"Le Havre AC\",\"method\":\"restyle\"},{\"args\":[{\"x\":[[\"Fehérvár FC\"]],\"y\":[[\"Attila Fiola\"]],\"text\":[[\"Attila Fiola and its nation is Hungary\"]]}],\"label\":\"Fehérvár FC\",\"method\":\"restyle\"},{\"args\":[{\"x\":[[\"Spezia Calcio\"]],\"y\":[[\"Ádám Nagy\"]],\"text\":[[\"Ádám Nagy and its nation is Hungary\"]]}],\"label\":\"Spezia Calcio\",\"method\":\"restyle\"},{\"args\":[{\"x\":[[\"1.FC Union Berlin\",\"1.FC Union Berlin\",\"1.FC Union Berlin\"]],\"y\":[[\"András Schäfer\",\"Josip Juranovic\",\"Frederik Rönnow\"]],\"text\":[[\"András Schäfer and its nation is Hungary\",\"Josip Juranovic and its nation is Croatia\",\"Frederik Rönnow and its nation is Denmark\"]]}],\"label\":\"1.FC Union Berlin\",\"method\":\"restyle\"},{\"args\":[{\"x\":[[\"Barnsley FC\"]],\"y\":[[\"Callum Styles\"]],\"text\":[[\"Callum Styles and its nation is Hungary\"]]}],\"label\":\"Barnsley FC\",\"method\":\"restyle\"},{\"args\":[{\"x\":[[\"MTK Budapest\"]],\"y\":[[\"Mihály Kata\"]],\"text\":[[\"Mihály Kata and its nation is Hungary\"]]}],\"label\":\"MTK Budapest\",\"method\":\"restyle\"},{\"args\":[{\"x\":[[\"Philadelphia Union\"]],\"y\":[[\"Dániel Gazdag\"]],\"text\":[[\"Dániel Gazdag and its nation is Hungary\"]]}],\"label\":\"Philadelphia Union\",\"method\":\"restyle\"},{\"args\":[{\"x\":[[\"HNK Hajduk Split\",\"HNK Hajduk Split\"]],\"y\":[[\"László Kleinheisler\",\"Ivan Perisic\"]],\"text\":[[\"László Kleinheisler and its nation is Hungary\",\"Ivan Perisic and its nation is Croatia\"]]}],\"label\":\"HNK Hajduk Split\",\"method\":\"restyle\"},{\"args\":[{\"x\":[[\"Kecskeméti TE\"]],\"y\":[[\"Krisztofer Horváth\"]],\"text\":[[\"Krisztofer Horváth and its nation is Hungary\"]]}],\"label\":\"Kecskeméti TE\",\"method\":\"restyle\"},{\"args\":[{\"x\":[[\"Újpest FC\"]],\"y\":[[\"Kevin Csoboth\"]],\"text\":[[\"Kevin Csoboth and its nation is Hungary\"]]}],\"label\":\"Újpest FC\",\"method\":\"restyle\"},{\"args\":[{\"x\":[[\"Ulsan HD FC\"]],\"y\":[[\"Martin Ádám\"]],\"text\":[[\"Martin Ádám and its nation is Hungary\"]]}],\"label\":\"Ulsan HD FC\",\"method\":\"restyle\"},{\"args\":[{\"x\":[[\"Inter Milan\",\"Inter Milan\",\"Inter Milan\",\"Inter Milan\",\"Inter Milan\",\"Inter Milan\",\"Inter Milan\",\"Inter Milan\",\"Inter Milan\",\"Inter Milan\",\"Inter Milan\",\"Inter Milan\",\"Inter Milan\"]],\"y\":[[\"Yann Sommer\",\"Kristjan Asllani\",\"Alessandro Bastoni\",\"Federico Dimarco\",\"Matteo Darmian\",\"Nicolò Barella\",\"Davide Frattesi\",\"Stefan de Vrij\",\"Denzel Dumfries\",\"Marko Arnautovic\",\"Benjamin Pavard\",\"Marcus Thuram\",\"Hakan Çalhanoğlu\"]],\"text\":[[\"Yann Sommer and its nation is Switzerland\",\"Kristjan Asllani and its nation is Albania\",\"Alessandro Bastoni and its nation is Italy\",\"Federico Dimarco and its nation is Italy\",\"Matteo Darmian and its nation is Italy\",\"Nicolò Barella and its nation is Italy\",\"Davide Frattesi and its nation is Italy\",\"Stefan de Vrij and its nation is Netherlands\",\"Denzel Dumfries and its nation is Netherlands\",\"Marko Arnautovic and its nation is Austria\",\"Benjamin Pavard and its nation is France\",\"Marcus Thuram and its nation is France\",\"Hakan Çalhanoğlu and its nation is Turkiye\"]]}],\"label\":\"Inter Milan\",\"method\":\"restyle\"},{\"args\":[{\"x\":[[\"FC Lorient\"]],\"y\":[[\"Yvon Mvogo\"]],\"text\":[[\"Yvon Mvogo and its nation is Switzerland\"]]}],\"label\":\"FC Lorient\",\"method\":\"restyle\"},{\"args\":[{\"x\":[[\"Manchester City\",\"Manchester City\",\"Manchester City\",\"Manchester City\",\"Manchester City\",\"Manchester City\",\"Manchester City\",\"Manchester City\",\"Manchester City\",\"Manchester City\",\"Manchester City\",\"Manchester City\",\"Manchester City\"]],\"y\":[[\"Manuel Akanji\",\"Rodri\",\"Josko Gvardiol\",\"Mateo Kovacic\",\"John Stones\",\"Kyle Walker\",\"Phil Foden\",\"Nathan Aké\",\"Kevin De Bruyne\",\"Jérémy Doku\",\"Rúben Dias\",\"Matheus Nunes\",\"Bernardo Silva\"]],\"text\":[[\"Manuel Akanji and its nation is Switzerland\",\"Rodri and its nation is Spain\",\"Josko Gvardiol and its nation is Croatia\",\"Mateo Kovacic and its nation is Croatia\",\"John Stones and its nation is England\",\"Kyle Walker and its nation is England\",\"Phil Foden and its nation is England\",\"Nathan Aké and its nation is Netherlands\",\"Kevin De Bruyne and its nation is Belgium\",\"Jérémy Doku and its nation is Belgium\",\"Rúben Dias and its nation is Portugal\",\"Matheus Nunes and its nation is Portugal\",\"Bernardo Silva and its nation is Portugal\"]]}],\"label\":\"Manchester City\",\"method\":\"restyle\"},{\"args\":[{\"x\":[[\"Borussia Mönchengladbach\",\"Borussia Mönchengladbach\"]],\"y\":[[\"Nico Elvedi\",\"Maximilian Wöber\"]],\"text\":[[\"Nico Elvedi and its nation is Switzerland\",\"Maximilian Wöber and its nation is Austria\"]]}],\"label\":\"Borussia Mönchengladbach\",\"method\":\"restyle\"},{\"args\":[{\"x\":[[\"Newcastle United\",\"Newcastle United\",\"Newcastle United\",\"Newcastle United\"]],\"y\":[[\"Fabian Schär\",\"Kieran Trippier\",\"Anthony Gordon\",\"Martin Dubravka\"]],\"text\":[[\"Fabian Schär and its nation is Switzerland\",\"Kieran Trippier and its nation is England\",\"Anthony Gordon and its nation is England\",\"Martin Dubravka and its nation is Slovakia\"]]}],\"label\":\"Newcastle United\",\"method\":\"restyle\"},{\"args\":[{\"x\":[[\"VfL Wolfsburg\",\"VfL Wolfsburg\",\"VfL Wolfsburg\",\"VfL Wolfsburg\",\"VfL Wolfsburg\",\"VfL Wolfsburg\",\"VfL Wolfsburg\",\"VfL Wolfsburg\"]],\"y\":[[\"Cédric Zesiger\",\"Lovro Majer\",\"Joakim Maehle\",\"Jonas Wind\",\"Patrick Wimmer\",\"Koen Casteels\",\"Aster Vranckx\",\"Vaclav Cerny\"]],\"text\":[[\"Cédric Zesiger and its nation is Switzerland\",\"Lovro Majer and its nation is Croatia\",\"Joakim Maehle and its nation is Denmark\",\"Jonas Wind and its nation is Denmark\",\"Patrick Wimmer and its nation is Austria\",\"Koen Casteels and its nation is Belgium\",\"Aster Vranckx and its nation is Belgium\",\"Vaclav Cerny and its nation is Czech Republic\"]]}],\"label\":\"VfL Wolfsburg\",\"method\":\"restyle\"},{\"args\":[{\"x\":[[\"Torino FC\",\"Torino FC\",\"Torino FC\",\"Torino FC\",\"Torino FC\",\"Torino FC\"]],\"y\":[[\"Ricardo Rodríguez\",\"Nikola Vlašić\",\"Alessandro Buongiorno\",\"Raoul Bellanova\",\"Vanja Milinković-Savić\",\"Ivan Ilić\"]],\"text\":[[\"Ricardo Rodríguez and its nation is Switzerland\",\"Nikola Vlašić and its nation is Croatia\",\"Alessandro Buongiorno and its nation is Italy\",\"Raoul Bellanova and its nation is Italy\",\"Vanja Milinković-Savić and its nation is Serbia\",\"Ivan Ilić and its nation is Serbia\"]]}],\"label\":\"Torino FC\",\"method\":\"restyle\"},{\"args\":[{\"x\":[[\"1.FSV Mainz 05\",\"1.FSV Mainz 05\"]],\"y\":[[\"Silvan Widmer\",\"Phillipp Mwene\"]],\"text\":[[\"Silvan Widmer and its nation is Switzerland\",\"Phillipp Mwene and its nation is Austria\"]]}],\"label\":\"1.FSV Mainz 05\",\"method\":\"restyle\"},{\"args\":[{\"x\":[[\"AS Monaco\",\"AS Monaco\",\"AS Monaco\"]],\"y\":[[\"Denis Zakaria\",\"Breel Embolo\",\"Youssouf Fofana\"]],\"text\":[[\"Denis Zakaria and its nation is Switzerland\",\"Breel Embolo and its nation is Switzerland\",\"Youssouf Fofana and its nation is France\"]]}],\"label\":\"AS Monaco\",\"method\":\"restyle\"},{\"args\":[{\"x\":[[\"FC Luzern\"]],\"y\":[[\"Ardon Jashari\"]],\"text\":[[\"Ardon Jashari and its nation is Switzerland\"]]}],\"label\":\"FC Luzern\",\"method\":\"restyle\"},{\"args\":[{\"x\":[[\"Bologna FC 1909\",\"Bologna FC 1909\",\"Bologna FC 1909\",\"Bologna FC 1909\",\"Bologna FC 1909\",\"Bologna FC 1909\",\"Bologna FC 1909\",\"Bologna FC 1909\"]],\"y\":[[\"Michel Aebischer\",\"Remo Freuler\",\"Dan Ndoye\",\"Riccardo Calafiori\",\"Victor Kristiansen\",\"Lukasz Skorupski\",\"Kacper Urbanski\",\"Stefan Posch\"]],\"text\":[[\"Michel Aebischer and its nation is Switzerland\",\"Remo Freuler and its nation is Switzerland\",\"Dan Ndoye and its nation is Switzerland\",\"Riccardo Calafiori and its nation is Italy\",\"Victor Kristiansen and its nation is Denmark\",\"Lukasz Skorupski and its nation is Poland\",\"Kacper Urbanski and its nation is Poland\",\"Stefan Posch and its nation is Austria\"]]}],\"label\":\"Bologna FC 1909\",\"method\":\"restyle\"},{\"args\":[{\"x\":[[\"FC Toulouse\"]],\"y\":[[\"Vincent Sierro\"]],\"text\":[[\"Vincent Sierro and its nation is Switzerland\"]]}],\"label\":\"FC Toulouse\",\"method\":\"restyle\"},{\"args\":[{\"x\":[[\"Stade Rennais FC\",\"Stade Rennais FC\",\"Stade Rennais FC\"]],\"y\":[[\"Fabian Rieder\",\"Arthur Theate\",\"Bertuğ Yıldırım\"]],\"text\":[[\"Fabian Rieder and its nation is Switzerland\",\"Arthur Theate and its nation is Belgium\",\"Bertuğ Yıldırım and its nation is Turkiye\"]]}],\"label\":\"Stade Rennais FC\",\"method\":\"restyle\"},{\"args\":[{\"x\":[[\"Chicago Fire FC\"]],\"y\":[[\"Xherdan Shaqiri\"]],\"text\":[[\"Xherdan Shaqiri and its nation is Switzerland\"]]}],\"label\":\"Chicago Fire FC\",\"method\":\"restyle\"},{\"args\":[{\"x\":[[\"AC Milan\",\"AC Milan\",\"AC Milan\",\"AC Milan\",\"AC Milan\",\"AC Milan\",\"AC Milan\",\"AC Milan\"]],\"y\":[[\"Noah Okafor\",\"Simon Kjær\",\"Luka Jović\",\"Tijjani Reijnders\",\"Mike Maignan\",\"Theo Hernández\",\"Olivier Giroud\",\"Rafael Leão\"]],\"text\":[[\"Noah Okafor and its nation is Switzerland\",\"Simon Kjær and its nation is Denmark\",\"Luka Jović and its nation is Serbia\",\"Tijjani Reijnders and its nation is Netherlands\",\"Mike Maignan and its nation is France\",\"Theo Hernández and its nation is France\",\"Olivier Giroud and its nation is France\",\"Rafael Leão and its nation is Portugal\"]]}],\"label\":\"AC Milan\",\"method\":\"restyle\"},{\"args\":[{\"x\":[[\"AEK Athens\",\"AEK Athens\",\"AEK Athens\",\"AEK Athens\"]],\"y\":[[\"Steven Zuber\",\"Domagoj Vida\",\"Mijat Gacinovic\",\"Damian Szymanski\"]],\"text\":[[\"Steven Zuber and its nation is Switzerland\",\"Domagoj Vida and its nation is Croatia\",\"Mijat Gacinovic and its nation is Serbia\",\"Damian Szymanski and its nation is Poland\"]]}],\"label\":\"AEK Athens\",\"method\":\"restyle\"},{\"args\":[{\"x\":[[\"FC Augsburg\"]],\"y\":[[\"Rubén Vargas\"]],\"text\":[[\"Rubén Vargas and its nation is Switzerland\"]]}],\"label\":\"FC Augsburg\",\"method\":\"restyle\"},{\"args\":[{\"x\":[[\"FC Lugano\"]],\"y\":[[\"Renato Steffen\"]],\"text\":[[\"Renato Steffen and its nation is Switzerland\"]]}],\"label\":\"FC Lugano\",\"method\":\"restyle\"},{\"args\":[{\"x\":[[\"Burnley FC\",\"Burnley FC\"]],\"y\":[[\"Zeki Amdouni\",\"Jacob Bruun Larsen\"]],\"text\":[[\"Zeki Amdouni and its nation is Switzerland\",\"Jacob Bruun Larsen and its nation is Denmark\"]]}],\"label\":\"Burnley FC\",\"method\":\"restyle\"},{\"args\":[{\"x\":[[\"Ludogorets Razgrad\",\"Ludogorets Razgrad\"]],\"y\":[[\"Kwadwo Duah\",\"Jakub Piotrowski\"]],\"text\":[[\"Kwadwo Duah and its nation is Switzerland\",\"Jakub Piotrowski and its nation is Poland\"]]}],\"label\":\"Ludogorets Razgrad\",\"method\":\"restyle\"},{\"args\":[{\"x\":[[\"Athletic Bilbao\",\"Athletic Bilbao\",\"Athletic Bilbao\"]],\"y\":[[\"Unai Simón\",\"Dani Vivian\",\"Nico Williams\"]],\"text\":[[\"Unai Simón and its nation is Spain\",\"Dani Vivian and its nation is Spain\",\"Nico Williams and its nation is Spain\"]]}],\"label\":\"Athletic Bilbao\",\"method\":\"restyle\"},{\"args\":[{\"x\":[[\"Al-Nassr FC\",\"Al-Nassr FC\",\"Al-Nassr FC\"]],\"y\":[[\"Aymeric Laporte\",\"Marcelo Brozovic\",\"Cristiano Ronaldo\"]],\"text\":[[\"Aymeric Laporte and its nation is Spain\",\"Marcelo Brozovic and its nation is Croatia\",\"Cristiano Ronaldo and its nation is Portugal\"]]}],\"label\":\"Al-Nassr FC\",\"method\":\"restyle\"},{\"args\":[{\"x\":[[\"Chelsea FC\",\"Chelsea FC\",\"Chelsea FC\",\"Chelsea FC\",\"Chelsea FC\",\"Chelsea FC\"]],\"y\":[[\"Marc Cucurella\",\"Armando Broja\",\"Conor Gallagher\",\"Cole Palmer\",\"Djordje Petrovic\",\"Mykhaylo Mudryk\"]],\"text\":[[\"Marc Cucurella and its nation is Spain\",\"Armando Broja and its nation is Albania\",\"Conor Gallagher and its nation is England\",\"Cole Palmer and its nation is England\",\"Djordje Petrovic and its nation is Serbia\",\"Mykhaylo Mudryk and its nation is Ukraine\"]]}],\"label\":\"Chelsea FC\",\"method\":\"restyle\"},{\"args\":[{\"x\":[[\"Sevilla FC\",\"Sevilla FC\",\"Sevilla FC\"]],\"y\":[[\"Jesús Navas\",\"Nemanja Gudelj\",\"Dodi Lukébakio\"]],\"text\":[[\"Jesús Navas and its nation is Spain\",\"Nemanja Gudelj and its nation is Serbia\",\"Dodi Lukébakio and its nation is Belgium\"]]}],\"label\":\"Sevilla FC\",\"method\":\"restyle\"},{\"args\":[{\"x\":[[\"Paris Saint-Germain\",\"Paris Saint-Germain\",\"Paris Saint-Germain\",\"Paris Saint-Germain\",\"Paris Saint-Germain\",\"Paris Saint-Germain\",\"Paris Saint-Germain\",\"Paris Saint-Germain\",\"Paris Saint-Germain\",\"Paris Saint-Germain\",\"Paris Saint-Germain\",\"Paris Saint-Germain\"]],\"y\":[[\"Fabián Ruiz\",\"Gianluigi Donnarumma\",\"Warren Zaïre-Emery\",\"Bradley Barcola\",\"Ousmane Dembélé\",\"Kylian Mbappé\",\"Randal Kolo Muani\",\"Milan Skriniar\",\"Nuno Mendes\",\"Danilo Pereira\",\"Vitinha\",\"Gonçalo Ramos\"]],\"text\":[[\"Fabián Ruiz and its nation is Spain\",\"Gianluigi Donnarumma and its nation is Italy\",\"Warren Zaïre-Emery and its nation is France\",\"Bradley Barcola and its nation is France\",\"Ousmane Dembélé and its nation is France\",\"Kylian Mbappé and its nation is France\",\"Randal Kolo Muani and its nation is France\",\"Milan Skriniar and its nation is Slovakia\",\"Nuno Mendes and its nation is Portugal\",\"Danilo Pereira and its nation is Portugal\",\"Vitinha and its nation is Portugal\",\"Gonçalo Ramos and its nation is Portugal\"]]}],\"label\":\"Paris Saint-Germain\",\"method\":\"restyle\"},{\"args\":[{\"x\":[[\"Villarreal CF\"]],\"y\":[[\"Álex Baena\"]],\"text\":[[\"Álex Baena and its nation is Spain\"]]}],\"label\":\"Villarreal CF\",\"method\":\"restyle\"},{\"args\":[{\"x\":[[\"Real Betis Balompié\"]],\"y\":[[\"Ayoze Pérez\"]],\"text\":[[\"Ayoze Pérez and its nation is Spain\"]]}],\"label\":\"Real Betis Balompié\",\"method\":\"restyle\"},{\"args\":[{\"x\":[[\"Atlético de Madrid\",\"Atlético de Madrid\",\"Atlético de Madrid\",\"Atlético de Madrid\",\"Atlético de Madrid\",\"Atlético de Madrid\",\"Atlético de Madrid\"]],\"y\":[[\"Álvaro Morata\",\"Jan Oblak\",\"Memphis Depay\",\"Antoine Griezmann\",\"Axel Witsel\",\"Arthur Vermeeren\",\"Horațiu Moldovan\"]],\"text\":[[\"Álvaro Morata and its nation is Spain\",\"Jan Oblak and its nation is Slovenia\",\"Memphis Depay and its nation is Netherlands\",\"Antoine Griezmann and its nation is France\",\"Axel Witsel and its nation is Belgium\",\"Arthur Vermeeren and its nation is Belgium\",\"Horațiu Moldovan and its nation is Romania\"]]}],\"label\":\"Atlético de Madrid\",\"method\":\"restyle\"},{\"args\":[{\"x\":[[\"Fenerbahce\",\"Fenerbahce\",\"Fenerbahce\",\"Fenerbahce\",\"Fenerbahce\",\"Fenerbahce\",\"Fenerbahce\",\"Fenerbahce\"]],\"y\":[[\"Dominik Livakovic\",\"Miha Zajc\",\"Dusan Tadic\",\"Sebastian Szymanski\",\"Ferdi Kadıoğlu\",\"Mert Müldür\",\"İsmail Yüksek\",\"İrfan Can Kahveci\"]],\"text\":[[\"Dominik Livakovic and its nation is Croatia\",\"Miha Zajc and its nation is Slovenia\",\"Dusan Tadic and its nation is Serbia\",\"Sebastian Szymanski and its nation is Poland\",\"Ferdi Kadıoğlu and its nation is Turkiye\",\"Mert Müldür and its nation is Turkiye\",\"İsmail Yüksek and its nation is Turkiye\",\"İrfan Can Kahveci and its nation is Turkiye\"]]}],\"label\":\"Fenerbahce\",\"method\":\"restyle\"},{\"args\":[{\"x\":[[\"HNK Rijeka\",\"HNK Rijeka\",\"HNK Rijeka\"]],\"y\":[[\"Nediljko Labrovic\",\"Marko Pjaca\",\"Marco Pasalic\"]],\"text\":[[\"Nediljko Labrovic and its nation is Croatia\",\"Marko Pjaca and its nation is Croatia\",\"Marco Pasalic and its nation is Croatia\"]]}],\"label\":\"HNK Rijeka\",\"method\":\"restyle\"},{\"args\":[{\"x\":[[\"Pafos FC\",\"Pafos FC\"]],\"y\":[[\"Ivica Ivusic\",\"Adrian Rus\"]],\"text\":[[\"Ivica Ivusic and its nation is Croatia\",\"Adrian Rus and its nation is Romania\"]]}],\"label\":\"Pafos FC\",\"method\":\"restyle\"},{\"args\":[{\"x\":[[\"Ajax Amsterdam\",\"Ajax Amsterdam\",\"Ajax Amsterdam\",\"Ajax Amsterdam\",\"Ajax Amsterdam\"]],\"y\":[[\"Josip Sutalo\",\"Borna Sosa\",\"Steven Bergwijn\",\"Brian Brobbey\",\"Ahmetcan Kaplan\"]],\"text\":[[\"Josip Sutalo and its nation is Croatia\",\"Borna Sosa and its nation is Croatia\",\"Steven Bergwijn and its nation is Netherlands\",\"Brian Brobbey and its nation is Netherlands\",\"Ahmetcan Kaplan and its nation is Turkiye\"]]}],\"label\":\"Ajax Amsterdam\",\"method\":\"restyle\"},{\"args\":[{\"x\":[[\"US Lecce\",\"US Lecce\",\"US Lecce\"]],\"y\":[[\"Marin Pongracic\",\"Ylber Ramadani\",\"Medon Berisha\"]],\"text\":[[\"Marin Pongracic and its nation is Croatia\",\"Ylber Ramadani and its nation is Albania\",\"Medon Berisha and its nation is Albania\"]]}],\"label\":\"US Lecce\",\"method\":\"restyle\"},{\"args\":[{\"x\":[[\"US Sassuolo\",\"US Sassuolo\",\"US Sassuolo\"]],\"y\":[[\"Martin Erlić\",\"Marash Kumbulla\",\"Nedim Bajrami\"]],\"text\":[[\"Martin Erlić and its nation is Croatia\",\"Marash Kumbulla and its nation is Albania\",\"Nedim Bajrami and its nation is Albania\"]]}],\"label\":\"US Sassuolo\",\"method\":\"restyle\"},{\"args\":[{\"x\":[[\"Red Bull Salzburg\",\"Red Bull Salzburg\",\"Red Bull Salzburg\",\"Red Bull Salzburg\"]],\"y\":[[\"Luka Sucic\",\"Strahinja Pavlovic\",\"Petar Ratkov\",\"Flavius Daniliuc\"]],\"text\":[[\"Luka Sucic and its nation is Croatia\",\"Strahinja Pavlovic and its nation is Serbia\",\"Petar Ratkov and its nation is Serbia\",\"Flavius Daniliuc and its nation is Austria\"]]}],\"label\":\"Red Bull Salzburg\",\"method\":\"restyle\"},{\"args\":[{\"x\":[[\"Atalanta BC\",\"Atalanta BC\",\"Atalanta BC\",\"Atalanta BC\",\"Atalanta BC\"]],\"y\":[[\"Mario Pasalic\",\"Berat Djimsiti\",\"Gianluca Scamacca\",\"Teun Koopmeiners\",\"Charles De Ketelaere\"]],\"text\":[[\"Mario Pasalic and its nation is Croatia\",\"Berat Djimsiti and its nation is Albania\",\"Gianluca Scamacca and its nation is Italy\",\"Teun Koopmeiners and its nation is Netherlands\",\"Charles De Ketelaere and its nation is Belgium\"]]}],\"label\":\"Atalanta BC\",\"method\":\"restyle\"},{\"args\":[{\"x\":[[\"GNK Dinamo Zagreb\",\"GNK Dinamo Zagreb\",\"GNK Dinamo Zagreb\"]],\"y\":[[\"Martin Baturina\",\"Bruno Petkovic\",\"Arbër Hoxha\"]],\"text\":[[\"Martin Baturina and its nation is Croatia\",\"Bruno Petkovic and its nation is Croatia\",\"Arbër Hoxha and its nation is Albania\"]]}],\"label\":\"GNK Dinamo Zagreb\",\"method\":\"restyle\"},{\"args\":[{\"x\":[[\"Feyenoord Rotterdam\",\"Feyenoord Rotterdam\",\"Feyenoord Rotterdam\",\"Feyenoord Rotterdam\",\"Feyenoord Rotterdam\",\"Feyenoord Rotterdam\",\"Feyenoord Rotterdam\"]],\"y\":[[\"Luka Ivanusec\",\"Justin Bijlow\",\"Lutsharel Geertruida\",\"Gernot Trauner\",\"David Hancko\",\"Leo Sauer\",\"Ondrej Lingr\"]],\"text\":[[\"Luka Ivanusec and its nation is Croatia\",\"Justin Bijlow and its nation is Netherlands\",\"Lutsharel Geertruida and its nation is Netherlands\",\"Gernot Trauner and its nation is Austria\",\"David Hancko and its nation is Slovakia\",\"Leo Sauer and its nation is Slovakia\",\"Ondrej Lingr and its nation is Czech Republic\"]]}],\"label\":\"Feyenoord Rotterdam\",\"method\":\"restyle\"},{\"args\":[{\"x\":[[\"CA Osasuna\"]],\"y\":[[\"Ante Budimir\"]],\"text\":[[\"Ante Budimir and its nation is Croatia\"]]}],\"label\":\"CA Osasuna\",\"method\":\"restyle\"},{\"args\":[{\"x\":[[\"Brentford FC\",\"Brentford FC\",\"Brentford FC\",\"Brentford FC\",\"Brentford FC\",\"Brentford FC\",\"Brentford FC\"]],\"y\":[[\"Thomas Strakosha\",\"Ivan Toney\",\"Zanka\",\"Christian Nørgaard\",\"Mathias Jensen\",\"Mikkel Damsgaard\",\"Mark Flekken\"]],\"text\":[[\"Thomas Strakosha and its nation is Albania\",\"Ivan Toney and its nation is England\",\"Zanka and its nation is Denmark\",\"Christian Nørgaard and its nation is Denmark\",\"Mathias Jensen and its nation is Denmark\",\"Mikkel Damsgaard and its nation is Denmark\",\"Mark Flekken and its nation is Netherlands\"]]}],\"label\":\"Brentford FC\",\"method\":\"restyle\"},{\"args\":[{\"x\":[[\"AS Cittadella\"]],\"y\":[[\"Elhan Kastrati\"]],\"text\":[[\"Elhan Kastrati and its nation is Albania\"]]}],\"label\":\"AS Cittadella\",\"method\":\"restyle\"},{\"args\":[{\"x\":[[\"FC Empoli\",\"FC Empoli\",\"FC Empoli\",\"FC Empoli\",\"FC Empoli\"]],\"y\":[[\"Etrit Berisha\",\"Ardian Ismajli\",\"Sebastian Walukiewicz\",\"Bartosz Bereszyński\",\"Răzvan Marin\"]],\"text\":[[\"Etrit Berisha and its nation is Albania\",\"Ardian Ismajli and its nation is Albania\",\"Sebastian Walukiewicz and its nation is Poland\",\"Bartosz Bereszyński and its nation is Poland\",\"Răzvan Marin and its nation is Romania\"]]}],\"label\":\"FC Empoli\",\"method\":\"restyle\"},{\"args\":[{\"x\":[[\"FC Famalicão\"]],\"y\":[[\"Enea Mihaj\"]],\"text\":[[\"Enea Mihaj and its nation is Albania\"]]}],\"label\":\"FC Famalicão\",\"method\":\"restyle\"},{\"args\":[{\"x\":[[\"CFR Cluj\",\"CFR Cluj\",\"CFR Cluj\"]],\"y\":[[\"Arlind Ajeti\",\"Vasile Mogoș\",\"Daniel Bîrligea\"]],\"text\":[[\"Arlind Ajeti and its nation is Albania\",\"Vasile Mogoș and its nation is Romania\",\"Daniel Bîrligea and its nation is Romania\"]]}],\"label\":\"CFR Cluj\",\"method\":\"restyle\"},{\"args\":[{\"x\":[[\"Lokomotiv Moscow\"]],\"y\":[[\"Mario Mitaj\"]],\"text\":[[\"Mario Mitaj and its nation is Albania\"]]}],\"label\":\"Lokomotiv Moscow\",\"method\":\"restyle\"},{\"args\":[{\"x\":[[\"FC Voluntari\"]],\"y\":[[\"Naser Aliji\"]],\"text\":[[\"Naser Aliji and its nation is Albania\"]]}],\"label\":\"FC Voluntari\",\"method\":\"restyle\"},{\"args\":[{\"x\":[[\"SS Lazio\",\"SS Lazio\"]],\"y\":[[\"Elseid Hysaj\",\"Mattia Zaccagni\"]],\"text\":[[\"Elseid Hysaj and its nation is Albania\",\"Mattia Zaccagni and its nation is Italy\"]]}],\"label\":\"SS Lazio\",\"method\":\"restyle\"},{\"args\":[{\"x\":[[\"Rayo Vallecano\",\"Rayo Vallecano\"]],\"y\":[[\"Iván Balliu\",\"Andrei Rațiu\"]],\"text\":[[\"Iván Balliu and its nation is Albania\",\"Andrei Rațiu and its nation is Romania\"]]}],\"label\":\"Rayo Vallecano\",\"method\":\"restyle\"},{\"args\":[{\"x\":[[\"SV Darmstadt 98\"]],\"y\":[[\"Klaus Gjasula\"]],\"text\":[[\"Klaus Gjasula and its nation is Albania\"]]}],\"label\":\"SV Darmstadt 98\",\"method\":\"restyle\"},{\"args\":[{\"x\":[[\"Grasshopper Club Zurich\"]],\"y\":[[\"Amir Abrashi\"]],\"text\":[[\"Amir Abrashi and its nation is Albania\"]]}],\"label\":\"Grasshopper Club Zurich\",\"method\":\"restyle\"},{\"args\":[{\"x\":[[\"AC Sparta Prague\",\"AC Sparta Prague\",\"AC Sparta Prague\",\"AC Sparta Prague\",\"AC Sparta Prague\",\"AC Sparta Prague\"]],\"y\":[[\"Qazim Laci\",\"Veljko Birmancevic\",\"Lukas Haraslin\",\"Martin Vitík\",\"Ladislav Krejci\",\"Jan Kuchta\"]],\"text\":[[\"Qazim Laci and its nation is Albania\",\"Veljko Birmancevic and its nation is Serbia\",\"Lukas Haraslin and its nation is Slovakia\",\"Martin Vitík and its nation is Czech Republic\",\"Ladislav Krejci and its nation is Czech Republic\",\"Jan Kuchta and its nation is Czech Republic\"]]}],\"label\":\"AC Sparta Prague\",\"method\":\"restyle\"},{\"args\":[{\"x\":[[\"Besiktas JK\",\"Besiktas JK\",\"Besiktas JK\",\"Besiktas JK\"]],\"y\":[[\"Ernest Muci\",\"Mert Günok\",\"Semih Kılıçsoy\",\"Cenk Tosun\"]],\"text\":[[\"Ernest Muci and its nation is Albania\",\"Mert Günok and its nation is Turkiye\",\"Semih Kılıçsoy and its nation is Turkiye\",\"Cenk Tosun and its nation is Turkiye\"]]}],\"label\":\"Besiktas JK\",\"method\":\"restyle\"},{\"args\":[{\"x\":[[\"Gwangju FC\"]],\"y\":[[\"Jasir Asani\"]],\"text\":[[\"Jasir Asani and its nation is Albania\"]]}],\"label\":\"Gwangju FC\",\"method\":\"restyle\"},{\"args\":[{\"x\":[[\"Sivasspor\"]],\"y\":[[\"Rey Manaj\"]],\"text\":[[\"Rey Manaj and its nation is Albania\"]]}],\"label\":\"Sivasspor\",\"method\":\"restyle\"},{\"args\":[{\"x\":[[\"FC Baniyas\"]],\"y\":[[\"Taulant Seferi\"]],\"text\":[[\"Taulant Seferi and its nation is Albania\"]]}],\"label\":\"FC Baniyas\",\"method\":\"restyle\"},{\"args\":[{\"x\":[[\"Rubin Kazan\"]],\"y\":[[\"Mirlind Daku\"]],\"text\":[[\"Mirlind Daku and its nation is Albania\"]]}],\"label\":\"Rubin Kazan\",\"method\":\"restyle\"},{\"args\":[{\"x\":[[\"Tottenham Hotspur\",\"Tottenham Hotspur\",\"Tottenham Hotspur\",\"Tottenham Hotspur\"]],\"y\":[[\"Guglielmo Vicario\",\"Pierre-Emile Højbjerg\",\"Micky van de Ven\",\"Radu Drăgușin\"]],\"text\":[[\"Guglielmo Vicario and its nation is Italy\",\"Pierre-Emile Højbjerg and its nation is Denmark\",\"Micky van de Ven and its nation is Netherlands\",\"Radu Drăgușin and its nation is Romania\"]]}],\"label\":\"Tottenham Hotspur\",\"method\":\"restyle\"},{\"args\":[{\"x\":[[\"SSC Napoli\",\"SSC Napoli\",\"SSC Napoli\",\"SSC Napoli\",\"SSC Napoli\",\"SSC Napoli\"]],\"y\":[[\"Alex Meret\",\"Giovanni Di Lorenzo\",\"Giacomo Raspadori\",\"Piotr Zieliński\",\"Stanislav Lobotka\",\"Khvicha Kvaratskhelia\"]],\"text\":[[\"Alex Meret and its nation is Italy\",\"Giovanni Di Lorenzo and its nation is Italy\",\"Giacomo Raspadori and its nation is Italy\",\"Piotr Zieliński and its nation is Poland\",\"Stanislav Lobotka and its nation is Slovakia\",\"Khvicha Kvaratskhelia and its nation is Georgia\"]]}],\"label\":\"SSC Napoli\",\"method\":\"restyle\"},{\"args\":[{\"x\":[[\"AS Roma\",\"AS Roma\",\"AS Roma\",\"AS Roma\",\"AS Roma\",\"AS Roma\",\"AS Roma\",\"AS Roma\",\"AS Roma\"]],\"y\":[[\"Gianluca Mancini\",\"Bryan Cristante\",\"Lorenzo Pellegrini\",\"Stephan El Shaarawy\",\"Rasmus Kristensen\",\"Nicola Zalewski\",\"Romelu Lukaku\",\"Zeki Çelik\",\"Rui Patrício\"]],\"text\":[[\"Gianluca Mancini and its nation is Italy\",\"Bryan Cristante and its nation is Italy\",\"Lorenzo Pellegrini and its nation is Italy\",\"Stephan El Shaarawy and its nation is Italy\",\"Rasmus Kristensen and its nation is Denmark\",\"Nicola Zalewski and its nation is Poland\",\"Romelu Lukaku and its nation is Belgium\",\"Zeki Çelik and its nation is Turkiye\",\"Rui Patrício and its nation is Portugal\"]]}],\"label\":\"AS Roma\",\"method\":\"restyle\"},{\"args\":[{\"x\":[[\"Juventus FC\",\"Juventus FC\",\"Juventus FC\",\"Juventus FC\",\"Juventus FC\",\"Juventus FC\",\"Juventus FC\",\"Juventus FC\",\"Juventus FC\"]],\"y\":[[\"Federico Gatti\",\"Andrea Cambiaso\",\"Nicolò Fagioli\",\"Federico Chiesa\",\"Filip Kostić\",\"Dušan Vlahović\",\"Wojciech Szczęsny\",\"Adrien Rabiot\",\"Kenan Yıldız\"]],\"text\":[[\"Federico Gatti and its nation is Italy\",\"Andrea Cambiaso and its nation is Italy\",\"Nicolò Fagioli and its nation is Italy\",\"Federico Chiesa and its nation is Italy\",\"Filip Kostić and its nation is Serbia\",\"Dušan Vlahović and its nation is Serbia\",\"Wojciech Szczęsny and its nation is Poland\",\"Adrien Rabiot and its nation is France\",\"Kenan Yıldız and its nation is Turkiye\"]]}],\"label\":\"Juventus FC\",\"method\":\"restyle\"},{\"args\":[{\"x\":[[\"Hellas Verona\",\"Hellas Verona\",\"Hellas Verona\",\"Hellas Verona\",\"Hellas Verona\"]],\"y\":[[\"Michael Folorunsho\",\"Paweł Dawidowicz\",\"Karol Świderski\",\"Ondrej Duda\",\"Tomas Suslov\"]],\"text\":[[\"Michael Folorunsho and its nation is Italy\",\"Paweł Dawidowicz and its nation is Poland\",\"Karol Świderski and its nation is Poland\",\"Ondrej Duda and its nation is Slovakia\",\"Tomas Suslov and its nation is Slovakia\"]]}],\"label\":\"Hellas Verona\",\"method\":\"restyle\"},{\"args\":[{\"x\":[[\"Genoa CFC\",\"Genoa CFC\"]],\"y\":[[\"Mateo Retegui\",\"Ruslan Malinovskyi\"]],\"text\":[[\"Mateo Retegui and its nation is Italy\",\"Ruslan Malinovskyi and its nation is Ukraine\"]]}],\"label\":\"Genoa CFC\",\"method\":\"restyle\"},{\"args\":[{\"x\":[[\"APOEL Nicosia\",\"APOEL Nicosia\",\"APOEL Nicosia\"]],\"y\":[[\"Vid Belec\",\"Lasha Dvali\",\"Giorgi Kvilitaia\"]],\"text\":[[\"Vid Belec and its nation is Slovenia\",\"Lasha Dvali and its nation is Georgia\",\"Giorgi Kvilitaia and its nation is Georgia\"]]}],\"label\":\"APOEL Nicosia\",\"method\":\"restyle\"},{\"args\":[{\"x\":[[\"Vejle Boldklub\"]],\"y\":[[\"Igor Vekic\"]],\"text\":[[\"Igor Vekic and its nation is Slovenia\"]]}],\"label\":\"Vejle Boldklub\",\"method\":\"restyle\"},{\"args\":[{\"x\":[[\"Udinese Calcio\",\"Udinese Calcio\",\"Udinese Calcio\"]],\"y\":[[\"Jaka Bijol\",\"Sandi Lovric\",\"Lazar Samardžić\"]],\"text\":[[\"Jaka Bijol and its nation is Slovenia\",\"Sandi Lovric and its nation is Slovenia\",\"Lazar Samardžić and its nation is Serbia\"]]}],\"label\":\"Udinese Calcio\",\"method\":\"restyle\"},{\"args\":[{\"x\":[[\"Orlando City SC\"]],\"y\":[[\"David Brekalo\"]],\"text\":[[\"David Brekalo and its nation is Slovenia\"]]}],\"label\":\"Orlando City SC\",\"method\":\"restyle\"},{\"args\":[{\"x\":[[\"FC Sochi\"]],\"y\":[[\"Vanja Drkusic\"]],\"text\":[[\"Vanja Drkusic and its nation is Slovenia\"]]}],\"label\":\"FC Sochi\",\"method\":\"restyle\"},{\"args\":[{\"x\":[[\"Viborg FF\"]],\"y\":[[\"Zan Zaletel\"]],\"text\":[[\"Zan Zaletel and its nation is Slovenia\"]]}],\"label\":\"Viborg FF\",\"method\":\"restyle\"},{\"args\":[{\"x\":[[\"Alanyaspor\"]],\"y\":[[\"Jure Balkovec\"]],\"text\":[[\"Jure Balkovec and its nation is Slovenia\"]]}],\"label\":\"Alanyaspor\",\"method\":\"restyle\"},{\"args\":[{\"x\":[[\"Górnik Zabrze\"]],\"y\":[[\"Erik Janza\"]],\"text\":[[\"Erik Janza and its nation is Slovenia\"]]}],\"label\":\"Górnik Zabrze\",\"method\":\"restyle\"},{\"args\":[{\"x\":[[\"UC Sampdoria\"]],\"y\":[[\"Petar Stojanović\"]],\"text\":[[\"Petar Stojanović and its nation is Slovenia\"]]}],\"label\":\"UC Sampdoria\",\"method\":\"restyle\"},{\"args\":[{\"x\":[[\"NK Celje\"]],\"y\":[[\"Zan Karnicnik\"]],\"text\":[[\"Zan Karnicnik and its nation is Slovenia\"]]}],\"label\":\"NK Celje\",\"method\":\"restyle\"},{\"args\":[{\"x\":[[\"SK Sturm Graz\",\"SK Sturm Graz\",\"SK Sturm Graz\",\"SK Sturm Graz\",\"SK Sturm Graz\"]],\"y\":[[\"Jon Gorenc Stankovic\",\"Tomi Horvat\",\"Alexander Prass\",\"Otar Kiteishvili\",\"Vitezslav Jaros\"]],\"text\":[[\"Jon Gorenc Stankovic and its nation is Slovenia\",\"Tomi Horvat and its nation is Slovenia\",\"Alexander Prass and its nation is Austria\",\"Otar Kiteishvili and its nation is Georgia\",\"Vitezslav Jaros and its nation is Czech Republic\"]]}],\"label\":\"SK Sturm Graz\",\"method\":\"restyle\"},{\"args\":[{\"x\":[[\"Spartak Trnava\",\"Spartak Trnava\"]],\"y\":[[\"Adrian Zeljkovic\",\"Sebastian Kosa\"]],\"text\":[[\"Adrian Zeljkovic and its nation is Slovenia\",\"Sebastian Kosa and its nation is Slovakia\"]]}],\"label\":\"Spartak Trnava\",\"method\":\"restyle\"},{\"args\":[{\"x\":[[\"Panathinaikos FC\",\"Panathinaikos FC\",\"Panathinaikos FC\",\"Panathinaikos FC\",\"Panathinaikos FC\"]],\"y\":[[\"Adam Gnezda Cerin\",\"Benjamin Verbic\",\"Andraz Sporar\",\"Filip Mladenovic\",\"Samet Akaydin\"]],\"text\":[[\"Adam Gnezda Cerin and its nation is Slovenia\",\"Benjamin Verbic and its nation is Slovenia\",\"Andraz Sporar and its nation is Slovenia\",\"Filip Mladenovic and its nation is Serbia\",\"Samet Akaydin and its nation is Turkiye\"]]}],\"label\":\"Panathinaikos FC\",\"method\":\"restyle\"},{\"args\":[{\"x\":[[\"NK Olimpija Ljubljana\"]],\"y\":[[\"Timi Max Elsnik\"]],\"text\":[[\"Timi Max Elsnik and its nation is Slovenia\"]]}],\"label\":\"NK Olimpija Ljubljana\",\"method\":\"restyle\"},{\"args\":[{\"x\":[[\"FC Südtirol\"]],\"y\":[[\"Jasmin Kurtic\"]],\"text\":[[\"Jasmin Kurtic and its nation is Slovenia\"]]}],\"label\":\"FC Südtirol\",\"method\":\"restyle\"},{\"args\":[{\"x\":[[\"NK Maribor\"]],\"y\":[[\"Josip Ilicic\"]],\"text\":[[\"Josip Ilicic and its nation is Slovenia\"]]}],\"label\":\"NK Maribor\",\"method\":\"restyle\"},{\"args\":[{\"x\":[[\"Pisa Sporting Club\",\"Pisa Sporting Club\"]],\"y\":[[\"Jan Mlakar\",\"Marius Marin\"]],\"text\":[[\"Jan Mlakar and its nation is Slovenia\",\"Marius Marin and its nation is Romania\"]]}],\"label\":\"Pisa Sporting Club\",\"method\":\"restyle\"},{\"args\":[{\"x\":[[\"FC Girondins Bordeaux\",\"FC Girondins Bordeaux\"]],\"y\":[[\"Zan Vipotnik\",\"Zuriko Davitashvili\"]],\"text\":[[\"Zan Vipotnik and its nation is Slovenia\",\"Zuriko Davitashvili and its nation is Georgia\"]]}],\"label\":\"FC Girondins Bordeaux\",\"method\":\"restyle\"},{\"args\":[{\"x\":[[\"Pogon Szczecin\",\"Pogon Szczecin\"]],\"y\":[[\"Luka Zahovic\",\"Kamil Grosicki\"]],\"text\":[[\"Luka Zahovic and its nation is Slovenia\",\"Kamil Grosicki and its nation is Poland\"]]}],\"label\":\"Pogon Szczecin\",\"method\":\"restyle\"},{\"args\":[{\"x\":[[\"Everton FC\",\"Everton FC\",\"Everton FC\"]],\"y\":[[\"Jordan Pickford\",\"Amadou Onana\",\"Vitaliy Mykolenko\"]],\"text\":[[\"Jordan Pickford and its nation is England\",\"Amadou Onana and its nation is Belgium\",\"Vitaliy Mykolenko and its nation is Ukraine\"]]}],\"label\":\"Everton FC\",\"method\":\"restyle\"},{\"args\":[{\"x\":[[\"Crystal Palace\",\"Crystal Palace\",\"Crystal Palace\",\"Crystal Palace\",\"Crystal Palace\"]],\"y\":[[\"Dean Henderson\",\"Marc Guéhi\",\"Adam Wharton\",\"Eberechi Eze\",\"Joachim Andersen\"]],\"text\":[[\"Dean Henderson and its nation is England\",\"Marc Guéhi and its nation is England\",\"Adam Wharton and its nation is England\",\"Eberechi Eze and its nation is England\",\"Joachim Andersen and its nation is Denmark\"]]}],\"label\":\"Crystal Palace\",\"method\":\"restyle\"},{\"args\":[{\"x\":[[\"West Ham United\",\"West Ham United\",\"West Ham United\",\"West Ham United\"]],\"y\":[[\"Jarrod Bowen\",\"Alphonse Areola\",\"Vladimír Coufal\",\"Tomas Soucek\"]],\"text\":[[\"Jarrod Bowen and its nation is England\",\"Alphonse Areola and its nation is France\",\"Vladimír Coufal and its nation is Czech Republic\",\"Tomas Soucek and its nation is Czech Republic\"]]}],\"label\":\"West Ham United\",\"method\":\"restyle\"},{\"args\":[{\"x\":[[\"Leicester City\",\"Leicester City\",\"Leicester City\",\"Leicester City\"]],\"y\":[[\"Mads Hermansen\",\"Jannik Vestergaard\",\"Wout Faes\",\"Yunus Akgün\"]],\"text\":[[\"Mads Hermansen and its nation is Denmark\",\"Jannik Vestergaard and its nation is Denmark\",\"Wout Faes and its nation is Belgium\",\"Yunus Akgün and its nation is Turkiye\"]]}],\"label\":\"Leicester City\",\"method\":\"restyle\"},{\"args\":[{\"x\":[[\"RSC Anderlecht\",\"RSC Anderlecht\",\"RSC Anderlecht\",\"RSC Anderlecht\",\"RSC Anderlecht\",\"RSC Anderlecht\"]],\"y\":[[\"Kasper Schmeichel\",\"Thomas Delaney\",\"Anders Dreyer\",\"Kasper Dolberg\",\"Zeno Debast\",\"Jan Vertonghen\"]],\"text\":[[\"Kasper Schmeichel and its nation is Denmark\",\"Thomas Delaney and its nation is Denmark\",\"Anders Dreyer and its nation is Denmark\",\"Kasper Dolberg and its nation is Denmark\",\"Zeno Debast and its nation is Belgium\",\"Jan Vertonghen and its nation is Belgium\"]]}],\"label\":\"RSC Anderlecht\",\"method\":\"restyle\"},{\"args\":[{\"x\":[[\"SL Benfica\",\"SL Benfica\",\"SL Benfica\",\"SL Benfica\",\"SL Benfica\"]],\"y\":[[\"Alexander Bah\",\"Anatoliy Trubin\",\"Orkun Kökçü\",\"António Silva\",\"João Neves\"]],\"text\":[[\"Alexander Bah and its nation is Denmark\",\"Anatoliy Trubin and its nation is Ukraine\",\"Orkun Kökçü and its nation is Turkiye\",\"António Silva and its nation is Portugal\",\"João Neves and its nation is Portugal\"]]}],\"label\":\"SL Benfica\",\"method\":\"restyle\"},{\"args\":[{\"x\":[[\"Sporting CP\",\"Sporting CP\"]],\"y\":[[\"Morten Hjulmand\",\"Gonçalo Inácio\"]],\"text\":[[\"Morten Hjulmand and its nation is Denmark\",\"Gonçalo Inácio and its nation is Portugal\"]]}],\"label\":\"Sporting CP\",\"method\":\"restyle\"},{\"args\":[{\"x\":[[\"Club Brugge KV\",\"Club Brugge KV\",\"Club Brugge KV\"]],\"y\":[[\"Andreas Skov Olsen\",\"Michal Skoras\",\"Maxim De Cuyper\"]],\"text\":[[\"Andreas Skov Olsen and its nation is Denmark\",\"Michal Skoras and its nation is Poland\",\"Maxim De Cuyper and its nation is Belgium\"]]}],\"label\":\"Club Brugge KV\",\"method\":\"restyle\"},{\"args\":[{\"x\":[[\"RCD Mallorca\"]],\"y\":[[\"Predrag Rajkovic\"]],\"text\":[[\"Predrag Rajkovic and its nation is Serbia\"]]}],\"label\":\"RCD Mallorca\",\"method\":\"restyle\"},{\"args\":[{\"x\":[[\"ACF Fiorentina\",\"ACF Fiorentina\"]],\"y\":[[\"Nikola Milenković\",\"Antonín Barák\"]],\"text\":[[\"Nikola Milenković and its nation is Serbia\",\"Antonín Barák and its nation is Czech Republic\"]]}],\"label\":\"ACF Fiorentina\",\"method\":\"restyle\"},{\"args\":[{\"x\":[[\"SV Werder Bremen\",\"SV Werder Bremen\"]],\"y\":[[\"Milos Veljkovic\",\"Romano Schmid\"]],\"text\":[[\"Milos Veljkovic and its nation is Serbia\",\"Romano Schmid and its nation is Austria\"]]}],\"label\":\"SV Werder Bremen\",\"method\":\"restyle\"},{\"args\":[{\"x\":[[\"Spartak Moscow\"]],\"y\":[[\"Srdjan Babic\"]],\"text\":[[\"Srdjan Babic and its nation is Serbia\"]]}],\"label\":\"Spartak Moscow\",\"method\":\"restyle\"},{\"args\":[{\"x\":[[\"FK TSC Backa Topola\"]],\"y\":[[\"Nemanja Stojic\"]],\"text\":[[\"Nemanja Stojic and its nation is Serbia\"]]}],\"label\":\"FK TSC Backa Topola\",\"method\":\"restyle\"},{\"args\":[{\"x\":[[\"Red Star Belgrade\",\"Red Star Belgrade\"]],\"y\":[[\"Uros Spajic\",\"Srdjan Mijailovic\"]],\"text\":[[\"Uros Spajic and its nation is Serbia\",\"Srdjan Mijailovic and its nation is Serbia\"]]}],\"label\":\"Red Star Belgrade\",\"method\":\"restyle\"},{\"args\":[{\"x\":[[\"Al-Hilal SFC\",\"Al-Hilal SFC\",\"Al-Hilal SFC\"]],\"y\":[[\"Sergej Milinković-Savić\",\"Aleksandar Mitrovic\",\"Rúben Neves\"]],\"text\":[[\"Sergej Milinković-Savić and its nation is Serbia\",\"Aleksandar Mitrovic and its nation is Serbia\",\"Rúben Neves and its nation is Portugal\"]]}],\"label\":\"Al-Hilal SFC\",\"method\":\"restyle\"},{\"args\":[{\"x\":[[\"Fulham FC\",\"Fulham FC\",\"Fulham FC\",\"Fulham FC\"]],\"y\":[[\"Saša Lukić\",\"Timothy Castagne\",\"Marek Rodak\",\"João Palhinha\"]],\"text\":[[\"Saša Lukić and its nation is Serbia\",\"Timothy Castagne and its nation is Belgium\",\"Marek Rodak and its nation is Slovakia\",\"João Palhinha and its nation is Portugal\"]]}],\"label\":\"Fulham FC\",\"method\":\"restyle\"},{\"args\":[{\"x\":[[\"Getafe CF\"]],\"y\":[[\"Nemanja Maksimovic\"]],\"text\":[[\"Nemanja Maksimovic and its nation is Serbia\"]]}],\"label\":\"Getafe CF\",\"method\":\"restyle\"},{\"args\":[{\"x\":[[\"PAOK Thessaloniki\"]],\"y\":[[\"Andrija Zivkovic\"]],\"text\":[[\"Andrija Zivkovic and its nation is Serbia\"]]}],\"label\":\"PAOK Thessaloniki\",\"method\":\"restyle\"},{\"args\":[{\"x\":[[\"OGC Nice\"]],\"y\":[[\"Marcin Bulka\"]],\"text\":[[\"Marcin Bulka and its nation is Poland\"]]}],\"label\":\"OGC Nice\",\"method\":\"restyle\"},{\"args\":[{\"x\":[[\"Lech Poznan\",\"Lech Poznan\"]],\"y\":[[\"Bartosz Salamon\",\"Nika Kvekveskiri\"]],\"text\":[[\"Bartosz Salamon and its nation is Poland\",\"Nika Kvekveskiri and its nation is Georgia\"]]}],\"label\":\"Lech Poznan\",\"method\":\"restyle\"},{\"args\":[{\"x\":[[\"1.FC Kaiserslautern\"]],\"y\":[[\"Tymoteusz Puchacz\"]],\"text\":[[\"Tymoteusz Puchacz and its nation is Poland\"]]}],\"label\":\"1.FC Kaiserslautern\",\"method\":\"restyle\"},{\"args\":[{\"x\":[[\"Atlanta United FC\",\"Atlanta United FC\"]],\"y\":[[\"Bartosz Slisz\",\"Saba Lobjanidze\"]],\"text\":[[\"Bartosz Slisz and its nation is Poland\",\"Saba Lobjanidze and its nation is Georgia\"]]}],\"label\":\"Atlanta United FC\",\"method\":\"restyle\"},{\"args\":[{\"x\":[[\"Antalyaspor\",\"Antalyaspor\"]],\"y\":[[\"Jakub Kaluzinski\",\"Adam Buksa\"]],\"text\":[[\"Jakub Kaluzinski and its nation is Poland\",\"Adam Buksa and its nation is Poland\"]]}],\"label\":\"Antalyaspor\",\"method\":\"restyle\"},{\"args\":[{\"x\":[[\"Jagiellonia Bialystok\"]],\"y\":[[\"Taras Romanczuk\"]],\"text\":[[\"Taras Romanczuk and its nation is Poland\"]]}],\"label\":\"Jagiellonia Bialystok\",\"method\":\"restyle\"},{\"args\":[{\"x\":[[\"RC Lens\",\"RC Lens\",\"RC Lens\"]],\"y\":[[\"Przemyslaw Frankowski\",\"Kevin Danso\",\"Brice Samba\"]],\"text\":[[\"Przemyslaw Frankowski and its nation is Poland\",\"Kevin Danso and its nation is Austria\",\"Brice Samba and its nation is France\"]]}],\"label\":\"RC Lens\",\"method\":\"restyle\"},{\"args\":[{\"x\":[[\"Basaksehir FK\"]],\"y\":[[\"Krzysztof Piatek\"]],\"text\":[[\"Krzysztof Piatek and its nation is Poland\"]]}],\"label\":\"Basaksehir FK\",\"method\":\"restyle\"},{\"args\":[{\"x\":[[\"Girona FC\",\"Girona FC\",\"Girona FC\"]],\"y\":[[\"Daley Blind\",\"Viktor Tsygankov\",\"Artem Dovbyk\"]],\"text\":[[\"Daley Blind and its nation is Netherlands\",\"Viktor Tsygankov and its nation is Ukraine\",\"Artem Dovbyk and its nation is Ukraine\"]]}],\"label\":\"Girona FC\",\"method\":\"restyle\"},{\"args\":[{\"x\":[[\"PSV Eindhoven\",\"PSV Eindhoven\",\"PSV Eindhoven\"]],\"y\":[[\"Jerdy Schouten\",\"Joey Veerman\",\"Johan Bakayoko\"]],\"text\":[[\"Jerdy Schouten and its nation is Netherlands\",\"Joey Veerman and its nation is Netherlands\",\"Johan Bakayoko and its nation is Belgium\"]]}],\"label\":\"PSV Eindhoven\",\"method\":\"restyle\"},{\"args\":[{\"x\":[[\"Rapid Vienna\",\"Rapid Vienna\",\"Rapid Vienna\",\"Rapid Vienna\"]],\"y\":[[\"Niklas Hedl\",\"Leopold Querfeld\",\"Matthias Seidl\",\"Marco Grüll\"]],\"text\":[[\"Niklas Hedl and its nation is Austria\",\"Leopold Querfeld and its nation is Austria\",\"Matthias Seidl and its nation is Austria\",\"Marco Grüll and its nation is Austria\"]]}],\"label\":\"Rapid Vienna\",\"method\":\"restyle\"},{\"args\":[{\"x\":[[\"Bröndby IF\"]],\"y\":[[\"Patrick Pentz\"]],\"text\":[[\"Patrick Pentz and its nation is Austria\"]]}],\"label\":\"Bröndby IF\",\"method\":\"restyle\"},{\"args\":[{\"x\":[[\"Union Saint-Gilloise\"]],\"y\":[[\"Heinz Lindner\"]],\"text\":[[\"Heinz Lindner and its nation is Austria\"]]}],\"label\":\"Union Saint-Gilloise\",\"method\":\"restyle\"},{\"args\":[{\"x\":[[\"1.FC Köln\"]],\"y\":[[\"Florian Kainz\"]],\"text\":[[\"Florian Kainz and its nation is Austria\"]]}],\"label\":\"1.FC Köln\",\"method\":\"restyle\"},{\"args\":[{\"x\":[[\"TSV Hartberg\"]],\"y\":[[\"Maximilian Entrup\"]],\"text\":[[\"Maximilian Entrup and its nation is Austria\"]]}],\"label\":\"TSV Hartberg\",\"method\":\"restyle\"},{\"args\":[{\"x\":[[\"Olympique Marseille\"]],\"y\":[[\"Jonathan Clauss\"]],\"text\":[[\"Jonathan Clauss and its nation is France\"]]}],\"label\":\"Olympique Marseille\",\"method\":\"restyle\"},{\"args\":[{\"x\":[[\"Al-Ittihad Club\"]],\"y\":[[\"N'Golo Kanté\"]],\"text\":[[\"N'Golo Kanté and its nation is France\"]]}],\"label\":\"Al-Ittihad Club\",\"method\":\"restyle\"},{\"args\":[{\"x\":[[\"Nottingham Forest\"]],\"y\":[[\"Matz Sels\"]],\"text\":[[\"Matz Sels and its nation is Belgium\"]]}],\"label\":\"Nottingham Forest\",\"method\":\"restyle\"},{\"args\":[{\"x\":[[\"Luton Town\"]],\"y\":[[\"Thomas Kaminski\"]],\"text\":[[\"Thomas Kaminski and its nation is Belgium\"]]}],\"label\":\"Luton Town\",\"method\":\"restyle\"},{\"args\":[{\"x\":[[\"Trabzonspor\",\"Trabzonspor\"]],\"y\":[[\"Thomas Meunier\",\"Uğurcan Çakır\"]],\"text\":[[\"Thomas Meunier and its nation is Belgium\",\"Uğurcan Çakır and its nation is Turkiye\"]]}],\"label\":\"Trabzonspor\",\"method\":\"restyle\"},{\"args\":[{\"x\":[[\"Olympique Lyon\"]],\"y\":[[\"Orel Mangala\"]],\"text\":[[\"Orel Mangala and its nation is Belgium\"]]}],\"label\":\"Olympique Lyon\",\"method\":\"restyle\"},{\"args\":[{\"x\":[[\"Al-Shabab FC\"]],\"y\":[[\"Yannick Carrasco\"]],\"text\":[[\"Yannick Carrasco and its nation is Belgium\"]]}],\"label\":\"Al-Shabab FC\",\"method\":\"restyle\"},{\"args\":[{\"x\":[[\"New England Revolution\"]],\"y\":[[\"Henrich Ravas\"]],\"text\":[[\"Henrich Ravas and its nation is Slovakia\"]]}],\"label\":\"New England Revolution\",\"method\":\"restyle\"},{\"args\":[{\"x\":[[\"Cagliari Calcio\"]],\"y\":[[\"Adam Obert\"]],\"text\":[[\"Adam Obert and its nation is Slovakia\"]]}],\"label\":\"Cagliari Calcio\",\"method\":\"restyle\"},{\"args\":[{\"x\":[[\"US Salernitana 1919\"]],\"y\":[[\"Norbert Gyomber\"]],\"text\":[[\"Norbert Gyomber and its nation is Slovakia\"]]}],\"label\":\"US Salernitana 1919\",\"method\":\"restyle\"},{\"args\":[{\"x\":[[\"Hatta Club\"]],\"y\":[[\"Vernon De Marco\"]],\"text\":[[\"Vernon De Marco and its nation is Slovakia\"]]}],\"label\":\"Hatta Club\",\"method\":\"restyle\"},{\"args\":[{\"x\":[[\"Hamburger SV\"]],\"y\":[[\"Laszlo Benes\"]],\"text\":[[\"Laszlo Benes and its nation is Slovakia\"]]}],\"label\":\"Hamburger SV\",\"method\":\"restyle\"},{\"args\":[{\"x\":[[\"KRC Genk\"]],\"y\":[[\"Patrik Hrosovsky\"]],\"text\":[[\"Patrik Hrosovsky and its nation is Slovakia\"]]}],\"label\":\"KRC Genk\",\"method\":\"restyle\"},{\"args\":[{\"x\":[[\"VfL Bochum\"]],\"y\":[[\"Matus Bero\"]],\"text\":[[\"Matus Bero and its nation is Slovakia\"]]}],\"label\":\"VfL Bochum\",\"method\":\"restyle\"},{\"args\":[{\"x\":[[\"FC Banik Ostrava\"]],\"y\":[[\"Tomas Rigo\"]],\"text\":[[\"Tomas Rigo and its nation is Slovakia\"]]}],\"label\":\"FC Banik Ostrava\",\"method\":\"restyle\"},{\"args\":[{\"x\":[[\"Slovan Bratislava\",\"Slovan Bratislava\",\"Slovan Bratislava\"]],\"y\":[[\"Juraj Kucka\",\"David Strelec\",\"Guram Kashia\"]],\"text\":[[\"Juraj Kucka and its nation is Slovakia\",\"David Strelec and its nation is Slovakia\",\"Guram Kashia and its nation is Georgia\"]]}],\"label\":\"Slovan Bratislava\",\"method\":\"restyle\"},{\"args\":[{\"x\":[[\"SK Slavia Prague\",\"SK Slavia Prague\",\"SK Slavia Prague\",\"SK Slavia Prague\",\"SK Slavia Prague\",\"SK Slavia Prague\",\"SK Slavia Prague\",\"SK Slavia Prague\",\"SK Slavia Prague\"]],\"y\":[[\"Ivan Schranz\",\"Jindrich Stanek\",\"Tomas Vlcek\",\"David Zima\",\"Tomas Holes\",\"David Doudera\",\"Lukas Provod\",\"Matej Jurasek\",\"Mojmír Chytil\"]],\"text\":[[\"Ivan Schranz and its nation is Slovakia\",\"Jindrich Stanek and its nation is Czech Republic\",\"Tomas Vlcek and its nation is Czech Republic\",\"David Zima and its nation is Czech Republic\",\"Tomas Holes and its nation is Czech Republic\",\"David Doudera and its nation is Czech Republic\",\"Lukas Provod and its nation is Czech Republic\",\"Matej Jurasek and its nation is Czech Republic\",\"Mojmír Chytil and its nation is Czech Republic\"]]}],\"label\":\"SK Slavia Prague\",\"method\":\"restyle\"},{\"args\":[{\"x\":[[\"FC Slovan Liberec\"]],\"y\":[[\"Lubomir Tupta\"]],\"text\":[[\"Lubomir Tupta and its nation is Slovakia\"]]}],\"label\":\"FC Slovan Liberec\",\"method\":\"restyle\"},{\"args\":[{\"x\":[[\"Ascoli Calcio\"]],\"y\":[[\"David Duris\"]],\"text\":[[\"David Duris and its nation is Slovakia\"]]}],\"label\":\"Ascoli Calcio\",\"method\":\"restyle\"},{\"args\":[{\"x\":[[\"Boavista FC\"]],\"y\":[[\"Robert Bozenik\"]],\"text\":[[\"Robert Bozenik and its nation is Slovakia\"]]}],\"label\":\"Boavista FC\",\"method\":\"restyle\"},{\"args\":[{\"x\":[[\"FCSB\",\"FCSB\",\"FCSB\",\"FCSB\"]],\"y\":[[\"Ștefan Târnovanu\",\"Adrian Șut\",\"Darius Olaru\",\"Florinel Coman\"]],\"text\":[[\"Ștefan Târnovanu and its nation is Romania\",\"Adrian Șut and its nation is Romania\",\"Darius Olaru and its nation is Romania\",\"Florinel Coman and its nation is Romania\"]]}],\"label\":\"FCSB\",\"method\":\"restyle\"},{\"args\":[{\"x\":[[\"Gaziantep FK\",\"Gaziantep FK\",\"Gaziantep FK\"]],\"y\":[[\"Florin Niță\",\"Deian Sorescu\",\"Denis Drăguș\"]],\"text\":[[\"Florin Niță and its nation is Romania\",\"Deian Sorescu and its nation is Romania\",\"Denis Drăguș and its nation is Romania\"]]}],\"label\":\"Gaziantep FK\",\"method\":\"restyle\"},{\"args\":[{\"x\":[[\"Al-Okhdood Club\",\"Al-Okhdood Club\"]],\"y\":[[\"Andrei Burcă\",\"Solomon Kvirkvelia\"]],\"text\":[[\"Andrei Burcă and its nation is Romania\",\"Solomon Kvirkvelia and its nation is Georgia\"]]}],\"label\":\"Al-Okhdood Club\",\"method\":\"restyle\"},{\"args\":[{\"x\":[[\"Raków Częstochowa\"]],\"y\":[[\"Bogdan Racovițan\"]],\"text\":[[\"Bogdan Racovițan and its nation is Romania\"]]}],\"label\":\"Raków Częstochowa\",\"method\":\"restyle\"},{\"args\":[{\"x\":[[\"Palermo FC\"]],\"y\":[[\"Ionuț Nedelcearu\"]],\"text\":[[\"Ionuț Nedelcearu and its nation is Romania\"]]}],\"label\":\"Palermo FC\",\"method\":\"restyle\"},{\"args\":[{\"x\":[[\"CS Universitatea Craiova\",\"CS Universitatea Craiova\"]],\"y\":[[\"Nicuşor Bancu\",\"Anzor Mekvabishvili\"]],\"text\":[[\"Nicuşor Bancu and its nation is Romania\",\"Anzor Mekvabishvili and its nation is Georgia\"]]}],\"label\":\"CS Universitatea Craiova\",\"method\":\"restyle\"},{\"args\":[{\"x\":[[\"Damac FC\"]],\"y\":[[\"Nicolae Stanciu\"]],\"text\":[[\"Nicolae Stanciu and its nation is Romania\"]]}],\"label\":\"Damac FC\",\"method\":\"restyle\"},{\"args\":[{\"x\":[[\"Konyaspor\"]],\"y\":[[\"Alexandru Cicâldău\"]],\"text\":[[\"Alexandru Cicâldău and its nation is Romania\"]]}],\"label\":\"Konyaspor\",\"method\":\"restyle\"},{\"args\":[{\"x\":[[\"Deportivo Alavés\"]],\"y\":[[\"Ianis Hagi\"]],\"text\":[[\"Ianis Hagi and its nation is Romania\"]]}],\"label\":\"Deportivo Alavés\",\"method\":\"restyle\"},{\"args\":[{\"x\":[[\"SSC Bari\"]],\"y\":[[\"George Pușcaș\"]],\"text\":[[\"George Pușcaș and its nation is Romania\"]]}],\"label\":\"SSC Bari\",\"method\":\"restyle\"},{\"args\":[{\"x\":[[\"Muaither SC\"]],\"y\":[[\"Denis Alibec\"]],\"text\":[[\"Denis Alibec and its nation is Romania\"]]}],\"label\":\"Muaither SC\",\"method\":\"restyle\"},{\"args\":[{\"x\":[[\"Dynamo Kyiv\",\"Dynamo Kyiv\",\"Dynamo Kyiv\",\"Dynamo Kyiv\",\"Dynamo Kyiv\",\"Dynamo Kyiv\"]],\"y\":[[\"Georgiy Bushchan\",\"Oleksandr Tymchyk\",\"Volodymyr Brazhko\",\"Mykola Shaparenko\",\"Andriy Yarmolenko\",\"Vladyslav Vanat\"]],\"text\":[[\"Georgiy Bushchan and its nation is Ukraine\",\"Oleksandr Tymchyk and its nation is Ukraine\",\"Volodymyr Brazhko and its nation is Ukraine\",\"Mykola Shaparenko and its nation is Ukraine\",\"Andriy Yarmolenko and its nation is Ukraine\",\"Vladyslav Vanat and its nation is Ukraine\"]]}],\"label\":\"Dynamo Kyiv\",\"method\":\"restyle\"},{\"args\":[{\"x\":[[\"Shakhtar Donetsk\",\"Shakhtar Donetsk\",\"Shakhtar Donetsk\",\"Shakhtar Donetsk\",\"Shakhtar Donetsk\",\"Shakhtar Donetsk\",\"Shakhtar Donetsk\"]],\"y\":[[\"Mykola Matvienko\",\"Valeriy Bondar\",\"Yukhym Konoplya\",\"Taras Stepanenko\",\"Georgiy Sudakov\",\"Oleksandr Zubkov\",\"Giorgi Gocholeishvili\"]],\"text\":[[\"Mykola Matvienko and its nation is Ukraine\",\"Valeriy Bondar and its nation is Ukraine\",\"Yukhym Konoplya and its nation is Ukraine\",\"Taras Stepanenko and its nation is Ukraine\",\"Georgiy Sudakov and its nation is Ukraine\",\"Oleksandr Zubkov and its nation is Ukraine\",\"Giorgi Gocholeishvili and its nation is Georgia\"]]}],\"label\":\"Shakhtar Donetsk\",\"method\":\"restyle\"},{\"args\":[{\"x\":[[\"LASK\"]],\"y\":[[\"Maksym Taloverov\"]],\"text\":[[\"Maksym Taloverov and its nation is Ukraine\"]]}],\"label\":\"LASK\",\"method\":\"restyle\"},{\"args\":[{\"x\":[[\"SK Dnipro-1\"]],\"y\":[[\"Oleksandr Svatok\"]],\"text\":[[\"Oleksandr Svatok and its nation is Ukraine\"]]}],\"label\":\"SK Dnipro-1\",\"method\":\"restyle\"},{\"args\":[{\"x\":[[\"Polissya Zhytomyr\"]],\"y\":[[\"Bogdan Mykhaylichenko\"]],\"text\":[[\"Bogdan Mykhaylichenko and its nation is Ukraine\"]]}],\"label\":\"Polissya Zhytomyr\",\"method\":\"restyle\"},{\"args\":[{\"x\":[[\"KVC Westerlo\"]],\"y\":[[\"Sergiy Sydorchuk\"]],\"text\":[[\"Sergiy Sydorchuk and its nation is Ukraine\"]]}],\"label\":\"KVC Westerlo\",\"method\":\"restyle\"},{\"args\":[{\"x\":[[\"Valencia CF\",\"Valencia CF\"]],\"y\":[[\"Roman Yaremchuk\",\"Giorgi Mamardashvili\"]],\"text\":[[\"Roman Yaremchuk and its nation is Ukraine\",\"Giorgi Mamardashvili and its nation is Georgia\"]]}],\"label\":\"Valencia CF\",\"method\":\"restyle\"},{\"args\":[{\"x\":[[\"Al-Ahli SFC\"]],\"y\":[[\"Merih Demiral\"]],\"text\":[[\"Merih Demiral and its nation is Turkiye\"]]}],\"label\":\"Al-Ahli SFC\",\"method\":\"restyle\"},{\"args\":[{\"x\":[[\"Galatasaray\",\"Galatasaray\",\"Galatasaray\",\"Galatasaray\"]],\"y\":[[\"Abdülkerim Bardakcı\",\"Kaan Ayhan\",\"Kerem Aktürkoğlu\",\"Barış Alper Yılmaz\"]],\"text\":[[\"Abdülkerim Bardakcı and its nation is Turkiye\",\"Kaan Ayhan and its nation is Turkiye\",\"Kerem Aktürkoğlu and its nation is Turkiye\",\"Barış Alper Yılmaz and its nation is Turkiye\"]]}],\"label\":\"Galatasaray\",\"method\":\"restyle\"},{\"args\":[{\"x\":[[\"West Bromwich Albion\"]],\"y\":[[\"Okay Yokuşlu\"]],\"text\":[[\"Okay Yokuşlu and its nation is Turkiye\"]]}],\"label\":\"West Bromwich Albion\",\"method\":\"restyle\"},{\"args\":[{\"x\":[[\"LOSC Lille\"]],\"y\":[[\"Yusuf Yazıcı\"]],\"text\":[[\"Yusuf Yazıcı and its nation is Turkiye\"]]}],\"label\":\"LOSC Lille\",\"method\":\"restyle\"},{\"args\":[{\"x\":[[\"Qarabağ FK\"]],\"y\":[[\"Luka Gugeshashvili\"]],\"text\":[[\"Luka Gugeshashvili and its nation is Georgia\"]]}],\"label\":\"Qarabağ FK\",\"method\":\"restyle\"},{\"args\":[{\"x\":[[\"Dinamo Tbilisi\"]],\"y\":[[\"Giorgi Loria\"]],\"text\":[[\"Giorgi Loria and its nation is Georgia\"]]}],\"label\":\"Dinamo Tbilisi\",\"method\":\"restyle\"},{\"args\":[{\"x\":[[\"US Cremonese\"]],\"y\":[[\"Luka Lochoshvili\"]],\"text\":[[\"Luka Lochoshvili and its nation is Georgia\"]]}],\"label\":\"US Cremonese\",\"method\":\"restyle\"},{\"args\":[{\"x\":[[\"Panetolikos GFS\",\"Panetolikos GFS\"]],\"y\":[[\"Jemal Tabidze\",\"Levan Shengelia\"]],\"text\":[[\"Jemal Tabidze and its nation is Georgia\",\"Levan Shengelia and its nation is Georgia\"]]}],\"label\":\"Panetolikos GFS\",\"method\":\"restyle\"},{\"args\":[{\"x\":[[\"Persepolis FC\"]],\"y\":[[\"Giorgi Gvelesiani\"]],\"text\":[[\"Giorgi Gvelesiani and its nation is Georgia\"]]}],\"label\":\"Persepolis FC\",\"method\":\"restyle\"},{\"args\":[{\"x\":[[\"FC Basel 1893\"]],\"y\":[[\"Gabriel Sigua\"]],\"text\":[[\"Gabriel Sigua and its nation is Georgia\"]]}],\"label\":\"FC Basel 1893\",\"method\":\"restyle\"},{\"args\":[{\"x\":[[\"Levante UD\"]],\"y\":[[\"Giorgi Kochorashvili\"]],\"text\":[[\"Giorgi Kochorashvili and its nation is Georgia\"]]}],\"label\":\"Levante UD\",\"method\":\"restyle\"},{\"args\":[{\"x\":[[\"Wolfsberger AC\"]],\"y\":[[\"Sandro Altunashvili\"]],\"text\":[[\"Sandro Altunashvili and its nation is Georgia\"]]}],\"label\":\"Wolfsberger AC\",\"method\":\"restyle\"},{\"args\":[{\"x\":[[\"Cracovia\"]],\"y\":[[\"Otar Kakabadze\"]],\"text\":[[\"Otar Kakabadze and its nation is Georgia\"]]}],\"label\":\"Cracovia\",\"method\":\"restyle\"},{\"args\":[{\"x\":[[\"Dinamo Batumi\"]],\"y\":[[\"Georgiy Tsitaishvili\"]],\"text\":[[\"Georgiy Tsitaishvili and its nation is Georgia\"]]}],\"label\":\"Dinamo Batumi\",\"method\":\"restyle\"},{\"args\":[{\"x\":[[\"FC Metz\"]],\"y\":[[\"Georges Mikautadze\"]],\"text\":[[\"Georges Mikautadze and its nation is Georgia\"]]}],\"label\":\"FC Metz\",\"method\":\"restyle\"},{\"args\":[{\"x\":[[\"Karlsruher SC\"]],\"y\":[[\"Budu Zivzivadze\"]],\"text\":[[\"Budu Zivzivadze and its nation is Georgia\"]]}],\"label\":\"Karlsruher SC\",\"method\":\"restyle\"},{\"args\":[{\"x\":[[\"FC Porto\",\"FC Porto\",\"FC Porto\"]],\"y\":[[\"Diogo Costa\",\"Pepe\",\"Francisco Conceição\"]],\"text\":[[\"Diogo Costa and its nation is Portugal\",\"Pepe and its nation is Portugal\",\"Francisco Conceição and its nation is Portugal\"]]}],\"label\":\"FC Porto\",\"method\":\"restyle\"},{\"args\":[{\"x\":[[\"Wolverhampton Wanderers\",\"Wolverhampton Wanderers\",\"Wolverhampton Wanderers\"]],\"y\":[[\"José Sá\",\"Nélson Semedo\",\"Pedro Neto\"]],\"text\":[[\"José Sá and its nation is Portugal\",\"Nélson Semedo and its nation is Portugal\",\"Pedro Neto and its nation is Portugal\"]]}],\"label\":\"Wolverhampton Wanderers\",\"method\":\"restyle\"},{\"args\":[{\"x\":[[\"FC Viktoria Plzen\",\"FC Viktoria Plzen\",\"FC Viktoria Plzen\",\"FC Viktoria Plzen\"]],\"y\":[[\"Robin Hranac\",\"Lukas Cerv\",\"Pavel Sulc\",\"Tomas Chory\"]],\"text\":[[\"Robin Hranac and its nation is Czech Republic\",\"Lukas Cerv and its nation is Czech Republic\",\"Pavel Sulc and its nation is Czech Republic\",\"Tomas Chory and its nation is Czech Republic\"]]}],\"label\":\"FC Viktoria Plzen\",\"method\":\"restyle\"},{\"args\":[{\"x\":[[\"Twente Enschede FC\"]],\"y\":[[\"Michal Sadílek\"]],\"text\":[[\"Michal Sadílek and its nation is Czech Republic\"]]}],\"label\":\"Twente Enschede FC\",\"method\":\"restyle\"}],\"direction\":\"down\",\"pad\":{\"r\":10,\"t\":10},\"showactive\":true,\"x\":0.17,\"xanchor\":\"left\",\"y\":1.15,\"yanchor\":\"top\"}],\"height\":600,\"width\":800,\"showlegend\":false},                        {\"responsive\": true}                    ).then(function(){\n",
              "                            \n",
              "var gd = document.getElementById('e1b3a829-6d6d-4ba4-b58b-bfc8c7c5e4bb');\n",
              "var x = new MutationObserver(function (mutations, observer) {{\n",
              "        var display = window.getComputedStyle(gd).display;\n",
              "        if (!display || display === 'none') {{\n",
              "            console.log([gd, 'removed!']);\n",
              "            Plotly.purge(gd);\n",
              "            observer.disconnect();\n",
              "        }}\n",
              "}});\n",
              "\n",
              "// Listen for the removal of the full notebook cells\n",
              "var notebookContainer = gd.closest('#notebook-container');\n",
              "if (notebookContainer) {{\n",
              "    x.observe(notebookContainer, {childList: true});\n",
              "}}\n",
              "\n",
              "// Listen for the clearing of the current output cell\n",
              "var outputEl = gd.closest('.output');\n",
              "if (outputEl) {{\n",
              "    x.observe(outputEl, {childList: true});\n",
              "}}\n",
              "\n",
              "                        })                };                            </script>        </div>\n",
              "</body>\n",
              "</html>"
            ]
          },
          "metadata": {}
        }
      ]
    },
    {
      "cell_type": "markdown",
      "source": [
        "\n",
        "\n",
        "---\n",
        "\n"
      ],
      "metadata": {
        "id": "gTky8W3Vk4Ea"
      }
    },
    {
      "cell_type": "markdown",
      "source": [
        "To see the players of each club"
      ],
      "metadata": {
        "id": "-phsJZBNk7Z4"
      }
    },
    {
      "cell_type": "code",
      "source": [
        "fig = create_club_players_table(data_of_players, 'Country')\n"
      ],
      "metadata": {
        "id": "wD7vrwP9k-pb"
      },
      "execution_count": 122,
      "outputs": []
    },
    {
      "cell_type": "code",
      "source": [
        "fig.show()"
      ],
      "metadata": {
        "colab": {
          "base_uri": "https://localhost:8080/",
          "height": 617
        },
        "outputId": "e3f1a0fa-51b7-48e4-ec27-e81a13cf086e",
        "id": "zlJQVXhSk-pc"
      },
      "execution_count": 124,
      "outputs": [
        {
          "output_type": "display_data",
          "data": {
            "text/html": [
              "<html>\n",
              "<head><meta charset=\"utf-8\" /></head>\n",
              "<body>\n",
              "    <div>            <script src=\"https://cdnjs.cloudflare.com/ajax/libs/mathjax/2.7.5/MathJax.js?config=TeX-AMS-MML_SVG\"></script><script type=\"text/javascript\">if (window.MathJax && window.MathJax.Hub && window.MathJax.Hub.Config) {window.MathJax.Hub.Config({SVG: {font: \"STIX-Web\"}});}</script>                <script type=\"text/javascript\">window.PlotlyConfig = {MathJaxConfig: 'local'};</script>\n",
              "        <script charset=\"utf-8\" src=\"https://cdn.plot.ly/plotly-2.35.2.min.js\"></script>                <div id=\"63721cab-7e82-490a-9bf6-0f76b6ed1744\" class=\"plotly-graph-div\" style=\"height:600px; width:800px;\"></div>            <script type=\"text/javascript\">                                    window.PLOTLYENV=window.PLOTLYENV || {};                                    if (document.getElementById(\"63721cab-7e82-490a-9bf6-0f76b6ed1744\")) {                    Plotly.newPlot(                        \"63721cab-7e82-490a-9bf6-0f76b6ed1744\",                        [{\"marker\":{\"color\":\"blue\",\"size\":10},\"mode\":\"markers+text\",\"name\":\"Germany\",\"text\":[\"Marc-André ter Stegen and its club is FC Barcelona\",\"Manuel Neuer and its club is Bayern Munich\",\"Oliver Baumann and its club is TSG 1899 Hoffenheim\",\"Nico Schlotterbeck and its club is Borussia Dortmund\",\"Jonathan Tah and its club is Bayer 04 Leverkusen\",\"Antonio Rüdiger and its club is Real Madrid\",\"Waldemar Anton and its club is VfB Stuttgart\",\"Robin Koch and its club is Eintracht Frankfurt\",\"David Raum and its club is RB Leipzig\",\"Maximilian Mittelstädt and its club is VfB Stuttgart\",\"Joshua Kimmich and its club is Bayern Munich\",\"Benjamin Henrichs and its club is RB Leipzig\",\"Aleksandar Pavlovic and its club is Bayern Munich\",\"Robert Andrich and its club is Bayer 04 Leverkusen\",\"İlkay Gündoğan and its club is FC Barcelona\",\"Toni Kroos and its club is Real Madrid\",\"Pascal Groß and its club is Brighton & Hove Albion\",\"Florian Wirtz and its club is Bayer 04 Leverkusen\",\"Jamal Musiala and its club is Bayern Munich\",\"Kai Havertz and its club is Arsenal FC\",\"Chris Führich and its club is VfB Stuttgart\",\"Leroy Sané and its club is Bayern Munich\",\"Thomas Müller and its club is Bayern Munich\",\"Maximilian Beier and its club is TSG 1899 Hoffenheim\",\"Deniz Undav and its club is VfB Stuttgart\",\"Niclas Füllkrug and its club is Borussia Dortmund\"],\"textposition\":\"top center\",\"x\":[\"Germany\",\"Germany\",\"Germany\",\"Germany\",\"Germany\",\"Germany\",\"Germany\",\"Germany\",\"Germany\",\"Germany\",\"Germany\",\"Germany\",\"Germany\",\"Germany\",\"Germany\",\"Germany\",\"Germany\",\"Germany\",\"Germany\",\"Germany\",\"Germany\",\"Germany\",\"Germany\",\"Germany\",\"Germany\",\"Germany\"],\"y\":[\"Marc-André ter Stegen\",\"Manuel Neuer\",\"Oliver Baumann\",\"Nico Schlotterbeck\",\"Jonathan Tah\",\"Antonio Rüdiger\",\"Waldemar Anton\",\"Robin Koch\",\"David Raum\",\"Maximilian Mittelstädt\",\"Joshua Kimmich\",\"Benjamin Henrichs\",\"Aleksandar Pavlovic\",\"Robert Andrich\",\"İlkay Gündoğan\",\"Toni Kroos\",\"Pascal Groß\",\"Florian Wirtz\",\"Jamal Musiala\",\"Kai Havertz\",\"Chris Führich\",\"Leroy Sané\",\"Thomas Müller\",\"Maximilian Beier\",\"Deniz Undav\",\"Niclas Füllkrug\"],\"type\":\"scatter\"}],                        {\"template\":{\"data\":{\"histogram2dcontour\":[{\"type\":\"histogram2dcontour\",\"colorbar\":{\"outlinewidth\":0,\"ticks\":\"\"},\"colorscale\":[[0.0,\"#0d0887\"],[0.1111111111111111,\"#46039f\"],[0.2222222222222222,\"#7201a8\"],[0.3333333333333333,\"#9c179e\"],[0.4444444444444444,\"#bd3786\"],[0.5555555555555556,\"#d8576b\"],[0.6666666666666666,\"#ed7953\"],[0.7777777777777778,\"#fb9f3a\"],[0.8888888888888888,\"#fdca26\"],[1.0,\"#f0f921\"]]}],\"choropleth\":[{\"type\":\"choropleth\",\"colorbar\":{\"outlinewidth\":0,\"ticks\":\"\"}}],\"histogram2d\":[{\"type\":\"histogram2d\",\"colorbar\":{\"outlinewidth\":0,\"ticks\":\"\"},\"colorscale\":[[0.0,\"#0d0887\"],[0.1111111111111111,\"#46039f\"],[0.2222222222222222,\"#7201a8\"],[0.3333333333333333,\"#9c179e\"],[0.4444444444444444,\"#bd3786\"],[0.5555555555555556,\"#d8576b\"],[0.6666666666666666,\"#ed7953\"],[0.7777777777777778,\"#fb9f3a\"],[0.8888888888888888,\"#fdca26\"],[1.0,\"#f0f921\"]]}],\"heatmap\":[{\"type\":\"heatmap\",\"colorbar\":{\"outlinewidth\":0,\"ticks\":\"\"},\"colorscale\":[[0.0,\"#0d0887\"],[0.1111111111111111,\"#46039f\"],[0.2222222222222222,\"#7201a8\"],[0.3333333333333333,\"#9c179e\"],[0.4444444444444444,\"#bd3786\"],[0.5555555555555556,\"#d8576b\"],[0.6666666666666666,\"#ed7953\"],[0.7777777777777778,\"#fb9f3a\"],[0.8888888888888888,\"#fdca26\"],[1.0,\"#f0f921\"]]}],\"heatmapgl\":[{\"type\":\"heatmapgl\",\"colorbar\":{\"outlinewidth\":0,\"ticks\":\"\"},\"colorscale\":[[0.0,\"#0d0887\"],[0.1111111111111111,\"#46039f\"],[0.2222222222222222,\"#7201a8\"],[0.3333333333333333,\"#9c179e\"],[0.4444444444444444,\"#bd3786\"],[0.5555555555555556,\"#d8576b\"],[0.6666666666666666,\"#ed7953\"],[0.7777777777777778,\"#fb9f3a\"],[0.8888888888888888,\"#fdca26\"],[1.0,\"#f0f921\"]]}],\"contourcarpet\":[{\"type\":\"contourcarpet\",\"colorbar\":{\"outlinewidth\":0,\"ticks\":\"\"}}],\"contour\":[{\"type\":\"contour\",\"colorbar\":{\"outlinewidth\":0,\"ticks\":\"\"},\"colorscale\":[[0.0,\"#0d0887\"],[0.1111111111111111,\"#46039f\"],[0.2222222222222222,\"#7201a8\"],[0.3333333333333333,\"#9c179e\"],[0.4444444444444444,\"#bd3786\"],[0.5555555555555556,\"#d8576b\"],[0.6666666666666666,\"#ed7953\"],[0.7777777777777778,\"#fb9f3a\"],[0.8888888888888888,\"#fdca26\"],[1.0,\"#f0f921\"]]}],\"surface\":[{\"type\":\"surface\",\"colorbar\":{\"outlinewidth\":0,\"ticks\":\"\"},\"colorscale\":[[0.0,\"#0d0887\"],[0.1111111111111111,\"#46039f\"],[0.2222222222222222,\"#7201a8\"],[0.3333333333333333,\"#9c179e\"],[0.4444444444444444,\"#bd3786\"],[0.5555555555555556,\"#d8576b\"],[0.6666666666666666,\"#ed7953\"],[0.7777777777777778,\"#fb9f3a\"],[0.8888888888888888,\"#fdca26\"],[1.0,\"#f0f921\"]]}],\"mesh3d\":[{\"type\":\"mesh3d\",\"colorbar\":{\"outlinewidth\":0,\"ticks\":\"\"}}],\"scatter\":[{\"fillpattern\":{\"fillmode\":\"overlay\",\"size\":10,\"solidity\":0.2},\"type\":\"scatter\"}],\"parcoords\":[{\"type\":\"parcoords\",\"line\":{\"colorbar\":{\"outlinewidth\":0,\"ticks\":\"\"}}}],\"scatterpolargl\":[{\"type\":\"scatterpolargl\",\"marker\":{\"colorbar\":{\"outlinewidth\":0,\"ticks\":\"\"}}}],\"bar\":[{\"error_x\":{\"color\":\"#2a3f5f\"},\"error_y\":{\"color\":\"#2a3f5f\"},\"marker\":{\"line\":{\"color\":\"#E5ECF6\",\"width\":0.5},\"pattern\":{\"fillmode\":\"overlay\",\"size\":10,\"solidity\":0.2}},\"type\":\"bar\"}],\"scattergeo\":[{\"type\":\"scattergeo\",\"marker\":{\"colorbar\":{\"outlinewidth\":0,\"ticks\":\"\"}}}],\"scatterpolar\":[{\"type\":\"scatterpolar\",\"marker\":{\"colorbar\":{\"outlinewidth\":0,\"ticks\":\"\"}}}],\"histogram\":[{\"marker\":{\"pattern\":{\"fillmode\":\"overlay\",\"size\":10,\"solidity\":0.2}},\"type\":\"histogram\"}],\"scattergl\":[{\"type\":\"scattergl\",\"marker\":{\"colorbar\":{\"outlinewidth\":0,\"ticks\":\"\"}}}],\"scatter3d\":[{\"type\":\"scatter3d\",\"line\":{\"colorbar\":{\"outlinewidth\":0,\"ticks\":\"\"}},\"marker\":{\"colorbar\":{\"outlinewidth\":0,\"ticks\":\"\"}}}],\"scattermapbox\":[{\"type\":\"scattermapbox\",\"marker\":{\"colorbar\":{\"outlinewidth\":0,\"ticks\":\"\"}}}],\"scatterternary\":[{\"type\":\"scatterternary\",\"marker\":{\"colorbar\":{\"outlinewidth\":0,\"ticks\":\"\"}}}],\"scattercarpet\":[{\"type\":\"scattercarpet\",\"marker\":{\"colorbar\":{\"outlinewidth\":0,\"ticks\":\"\"}}}],\"carpet\":[{\"aaxis\":{\"endlinecolor\":\"#2a3f5f\",\"gridcolor\":\"white\",\"linecolor\":\"white\",\"minorgridcolor\":\"white\",\"startlinecolor\":\"#2a3f5f\"},\"baxis\":{\"endlinecolor\":\"#2a3f5f\",\"gridcolor\":\"white\",\"linecolor\":\"white\",\"minorgridcolor\":\"white\",\"startlinecolor\":\"#2a3f5f\"},\"type\":\"carpet\"}],\"table\":[{\"cells\":{\"fill\":{\"color\":\"#EBF0F8\"},\"line\":{\"color\":\"white\"}},\"header\":{\"fill\":{\"color\":\"#C8D4E3\"},\"line\":{\"color\":\"white\"}},\"type\":\"table\"}],\"barpolar\":[{\"marker\":{\"line\":{\"color\":\"#E5ECF6\",\"width\":0.5},\"pattern\":{\"fillmode\":\"overlay\",\"size\":10,\"solidity\":0.2}},\"type\":\"barpolar\"}],\"pie\":[{\"automargin\":true,\"type\":\"pie\"}]},\"layout\":{\"autotypenumbers\":\"strict\",\"colorway\":[\"#636efa\",\"#EF553B\",\"#00cc96\",\"#ab63fa\",\"#FFA15A\",\"#19d3f3\",\"#FF6692\",\"#B6E880\",\"#FF97FF\",\"#FECB52\"],\"font\":{\"color\":\"#2a3f5f\"},\"hovermode\":\"closest\",\"hoverlabel\":{\"align\":\"left\"},\"paper_bgcolor\":\"white\",\"plot_bgcolor\":\"#E5ECF6\",\"polar\":{\"bgcolor\":\"#E5ECF6\",\"angularaxis\":{\"gridcolor\":\"white\",\"linecolor\":\"white\",\"ticks\":\"\"},\"radialaxis\":{\"gridcolor\":\"white\",\"linecolor\":\"white\",\"ticks\":\"\"}},\"ternary\":{\"bgcolor\":\"#E5ECF6\",\"aaxis\":{\"gridcolor\":\"white\",\"linecolor\":\"white\",\"ticks\":\"\"},\"baxis\":{\"gridcolor\":\"white\",\"linecolor\":\"white\",\"ticks\":\"\"},\"caxis\":{\"gridcolor\":\"white\",\"linecolor\":\"white\",\"ticks\":\"\"}},\"coloraxis\":{\"colorbar\":{\"outlinewidth\":0,\"ticks\":\"\"}},\"colorscale\":{\"sequential\":[[0.0,\"#0d0887\"],[0.1111111111111111,\"#46039f\"],[0.2222222222222222,\"#7201a8\"],[0.3333333333333333,\"#9c179e\"],[0.4444444444444444,\"#bd3786\"],[0.5555555555555556,\"#d8576b\"],[0.6666666666666666,\"#ed7953\"],[0.7777777777777778,\"#fb9f3a\"],[0.8888888888888888,\"#fdca26\"],[1.0,\"#f0f921\"]],\"sequentialminus\":[[0.0,\"#0d0887\"],[0.1111111111111111,\"#46039f\"],[0.2222222222222222,\"#7201a8\"],[0.3333333333333333,\"#9c179e\"],[0.4444444444444444,\"#bd3786\"],[0.5555555555555556,\"#d8576b\"],[0.6666666666666666,\"#ed7953\"],[0.7777777777777778,\"#fb9f3a\"],[0.8888888888888888,\"#fdca26\"],[1.0,\"#f0f921\"]],\"diverging\":[[0,\"#8e0152\"],[0.1,\"#c51b7d\"],[0.2,\"#de77ae\"],[0.3,\"#f1b6da\"],[0.4,\"#fde0ef\"],[0.5,\"#f7f7f7\"],[0.6,\"#e6f5d0\"],[0.7,\"#b8e186\"],[0.8,\"#7fbc41\"],[0.9,\"#4d9221\"],[1,\"#276419\"]]},\"xaxis\":{\"gridcolor\":\"white\",\"linecolor\":\"white\",\"ticks\":\"\",\"title\":{\"standoff\":15},\"zerolinecolor\":\"white\",\"automargin\":true,\"zerolinewidth\":2},\"yaxis\":{\"gridcolor\":\"white\",\"linecolor\":\"white\",\"ticks\":\"\",\"title\":{\"standoff\":15},\"zerolinecolor\":\"white\",\"automargin\":true,\"zerolinewidth\":2},\"scene\":{\"xaxis\":{\"backgroundcolor\":\"#E5ECF6\",\"gridcolor\":\"white\",\"linecolor\":\"white\",\"showbackground\":true,\"ticks\":\"\",\"zerolinecolor\":\"white\",\"gridwidth\":2},\"yaxis\":{\"backgroundcolor\":\"#E5ECF6\",\"gridcolor\":\"white\",\"linecolor\":\"white\",\"showbackground\":true,\"ticks\":\"\",\"zerolinecolor\":\"white\",\"gridwidth\":2},\"zaxis\":{\"backgroundcolor\":\"#E5ECF6\",\"gridcolor\":\"white\",\"linecolor\":\"white\",\"showbackground\":true,\"ticks\":\"\",\"zerolinecolor\":\"white\",\"gridwidth\":2}},\"shapedefaults\":{\"line\":{\"color\":\"#2a3f5f\"}},\"annotationdefaults\":{\"arrowcolor\":\"#2a3f5f\",\"arrowhead\":0,\"arrowwidth\":1},\"geo\":{\"bgcolor\":\"white\",\"landcolor\":\"#E5ECF6\",\"subunitcolor\":\"white\",\"showland\":true,\"showlakes\":true,\"lakecolor\":\"white\"},\"title\":{\"x\":0.05},\"mapbox\":{\"style\":\"light\"}}},\"title\":{\"font\":{\"size\":26,\"family\":\"Arial\"},\"text\":\"Countries with Players\"},\"xaxis\":{\"title\":{\"font\":{\"size\":18,\"family\":\"Arial\"},\"text\":\"Country\"}},\"yaxis\":{\"title\":{\"font\":{\"size\":18,\"family\":\"Arial\"},\"text\":\"Players\"}},\"updatemenus\":[{\"bgcolor\":\"lightgray\",\"bordercolor\":\"gray\",\"borderwidth\":2,\"buttons\":[{\"args\":[{\"x\":[[\"Germany\",\"Germany\",\"Germany\",\"Germany\",\"Germany\",\"Germany\",\"Germany\",\"Germany\",\"Germany\",\"Germany\",\"Germany\",\"Germany\",\"Germany\",\"Germany\",\"Germany\",\"Germany\",\"Germany\",\"Germany\",\"Germany\",\"Germany\",\"Germany\",\"Germany\",\"Germany\",\"Germany\",\"Germany\",\"Germany\"]],\"y\":[[\"Marc-André ter Stegen\",\"Manuel Neuer\",\"Oliver Baumann\",\"Nico Schlotterbeck\",\"Jonathan Tah\",\"Antonio Rüdiger\",\"Waldemar Anton\",\"Robin Koch\",\"David Raum\",\"Maximilian Mittelstädt\",\"Joshua Kimmich\",\"Benjamin Henrichs\",\"Aleksandar Pavlovic\",\"Robert Andrich\",\"İlkay Gündoğan\",\"Toni Kroos\",\"Pascal Groß\",\"Florian Wirtz\",\"Jamal Musiala\",\"Kai Havertz\",\"Chris Führich\",\"Leroy Sané\",\"Thomas Müller\",\"Maximilian Beier\",\"Deniz Undav\",\"Niclas Füllkrug\"]],\"text\":[[\"Marc-André ter Stegen and its club is FC Barcelona\",\"Manuel Neuer and its club is Bayern Munich\",\"Oliver Baumann and its club is TSG 1899 Hoffenheim\",\"Nico Schlotterbeck and its club is Borussia Dortmund\",\"Jonathan Tah and its club is Bayer 04 Leverkusen\",\"Antonio Rüdiger and its club is Real Madrid\",\"Waldemar Anton and its club is VfB Stuttgart\",\"Robin Koch and its club is Eintracht Frankfurt\",\"David Raum and its club is RB Leipzig\",\"Maximilian Mittelstädt and its club is VfB Stuttgart\",\"Joshua Kimmich and its club is Bayern Munich\",\"Benjamin Henrichs and its club is RB Leipzig\",\"Aleksandar Pavlovic and its club is Bayern Munich\",\"Robert Andrich and its club is Bayer 04 Leverkusen\",\"İlkay Gündoğan and its club is FC Barcelona\",\"Toni Kroos and its club is Real Madrid\",\"Pascal Groß and its club is Brighton & Hove Albion\",\"Florian Wirtz and its club is Bayer 04 Leverkusen\",\"Jamal Musiala and its club is Bayern Munich\",\"Kai Havertz and its club is Arsenal FC\",\"Chris Führich and its club is VfB Stuttgart\",\"Leroy Sané and its club is Bayern Munich\",\"Thomas Müller and its club is Bayern Munich\",\"Maximilian Beier and its club is TSG 1899 Hoffenheim\",\"Deniz Undav and its club is VfB Stuttgart\",\"Niclas Füllkrug and its club is Borussia Dortmund\"]]}],\"label\":\"Germany\",\"method\":\"restyle\"},{\"args\":[{\"x\":[[\"Scotland\",\"Scotland\",\"Scotland\",\"Scotland\",\"Scotland\",\"Scotland\",\"Scotland\",\"Scotland\",\"Scotland\",\"Scotland\",\"Scotland\",\"Scotland\",\"Scotland\",\"Scotland\",\"Scotland\",\"Scotland\",\"Scotland\",\"Scotland\",\"Scotland\",\"Scotland\",\"Scotland\",\"Scotland\",\"Scotland\",\"Scotland\",\"Scotland\",\"Scotland\"]],\"y\":[[\"Angus Gunn\",\"Liam Kelly\",\"Zander Clark\",\"Scott McKenna\",\"Jack Hendry\",\"Ryan Porteous\",\"Liam Cooper\",\"Grant Hanley\",\"Andrew Robertson\",\"Kieran Tierney\",\"Greg Taylor\",\"Anthony Ralston\",\"Ross McCrorie\",\"Scott McTominay\",\"Billy Gilmour\",\"John McGinn\",\"Callum McGregor\",\"Stuart Armstrong\",\"Ryan Jack\",\"Kenny McLean\",\"Ryan Christie\",\"Lewis Morgan\",\"James Forrest\",\"Ché Adams\",\"Lawrence Shankland\",\"Tommy Conway\"]],\"text\":[[\"Angus Gunn and its club is Norwich City\",\"Liam Kelly and its club is Motherwell FC\",\"Zander Clark and its club is Heart of Midlothian FC\",\"Scott McKenna and its club is FC Copenhagen\",\"Jack Hendry and its club is Al-Ettifaq FC\",\"Ryan Porteous and its club is Watford FC\",\"Liam Cooper and its club is Leeds United\",\"Grant Hanley and its club is Norwich City\",\"Andrew Robertson and its club is Liverpool FC\",\"Kieran Tierney and its club is Real Sociedad\",\"Greg Taylor and its club is Celtic FC\",\"Anthony Ralston and its club is Celtic FC\",\"Ross McCrorie and its club is Bristol City\",\"Scott McTominay and its club is Manchester United\",\"Billy Gilmour and its club is Brighton & Hove Albion\",\"John McGinn and its club is Aston Villa\",\"Callum McGregor and its club is Celtic FC\",\"Stuart Armstrong and its club is Southampton FC\",\"Ryan Jack and its club is Rangers FC\",\"Kenny McLean and its club is Norwich City\",\"Ryan Christie and its club is AFC Bournemouth\",\"Lewis Morgan and its club is New York Red Bulls\",\"James Forrest and its club is Celtic FC\",\"Ché Adams and its club is Southampton FC\",\"Lawrence Shankland and its club is Heart of Midlothian FC\",\"Tommy Conway and its club is Bristol City\"]]}],\"label\":\"Scotland\",\"method\":\"restyle\"},{\"args\":[{\"x\":[[\"Hungary\",\"Hungary\",\"Hungary\",\"Hungary\",\"Hungary\",\"Hungary\",\"Hungary\",\"Hungary\",\"Hungary\",\"Hungary\",\"Hungary\",\"Hungary\",\"Hungary\",\"Hungary\",\"Hungary\",\"Hungary\",\"Hungary\",\"Hungary\",\"Hungary\",\"Hungary\",\"Hungary\",\"Hungary\",\"Hungary\",\"Hungary\",\"Hungary\",\"Hungary\"]],\"y\":[[\"Péter Gulácsi\",\"Dénes Dibusz\",\"Péter Szappanos\",\"Willi Orbán\",\"Attila Szalai\",\"Márton Dárdai\",\"Botond Balogh\",\"Ádám Lang\",\"Milos Kerkez\",\"Zsolt Nagy\",\"Bendegúz Bolla\",\"Endre Botka\",\"Loïc Nego\",\"Attila Fiola\",\"Ádám Nagy\",\"Dominik Szoboszlai\",\"András Schäfer\",\"Callum Styles\",\"Mihály Kata\",\"Dániel Gazdag\",\"László Kleinheisler\",\"Krisztofer Horváth\",\"Roland Sallai\",\"Kevin Csoboth\",\"Barnabás Varga\",\"Martin Ádám\"]],\"text\":[[\"Péter Gulácsi and its club is RB Leipzig\",\"Dénes Dibusz and its club is Ferencvárosi TC\",\"Péter Szappanos and its club is Paksi FC\",\"Willi Orbán and its club is RB Leipzig\",\"Attila Szalai and its club is SC Freiburg\",\"Márton Dárdai and its club is Hertha BSC\",\"Botond Balogh and its club is Parma Calcio 1913\",\"Ádám Lang and its club is Omonia Nicosia\",\"Milos Kerkez and its club is AFC Bournemouth\",\"Zsolt Nagy and its club is Puskás Akadémia FC\",\"Bendegúz Bolla and its club is Servette FC\",\"Endre Botka and its club is Ferencvárosi TC\",\"Loïc Nego and its club is Le Havre AC\",\"Attila Fiola and its club is Fehérvár FC\",\"Ádám Nagy and its club is Spezia Calcio\",\"Dominik Szoboszlai and its club is Liverpool FC\",\"András Schäfer and its club is 1.FC Union Berlin\",\"Callum Styles and its club is Barnsley FC\",\"Mihály Kata and its club is MTK Budapest\",\"Dániel Gazdag and its club is Philadelphia Union\",\"László Kleinheisler and its club is HNK Hajduk Split\",\"Krisztofer Horváth and its club is Kecskeméti TE\",\"Roland Sallai and its club is SC Freiburg\",\"Kevin Csoboth and its club is Újpest FC\",\"Barnabás Varga and its club is Ferencvárosi TC\",\"Martin Ádám and its club is Ulsan HD FC\"]]}],\"label\":\"Hungary\",\"method\":\"restyle\"},{\"args\":[{\"x\":[[\"Switzerland\",\"Switzerland\",\"Switzerland\",\"Switzerland\",\"Switzerland\",\"Switzerland\",\"Switzerland\",\"Switzerland\",\"Switzerland\",\"Switzerland\",\"Switzerland\",\"Switzerland\",\"Switzerland\",\"Switzerland\",\"Switzerland\",\"Switzerland\",\"Switzerland\",\"Switzerland\",\"Switzerland\",\"Switzerland\",\"Switzerland\",\"Switzerland\",\"Switzerland\",\"Switzerland\",\"Switzerland\",\"Switzerland\"]],\"y\":[[\"Gregor Kobel\",\"Yann Sommer\",\"Yvon Mvogo\",\"Manuel Akanji\",\"Nico Elvedi\",\"Fabian Schär\",\"Leonidas Stergiou\",\"Cédric Zesiger\",\"Ricardo Rodríguez\",\"Silvan Widmer\",\"Denis Zakaria\",\"Granit Xhaka\",\"Ardon Jashari\",\"Michel Aebischer\",\"Remo Freuler\",\"Vincent Sierro\",\"Fabian Rieder\",\"Xherdan Shaqiri\",\"Noah Okafor\",\"Steven Zuber\",\"Dan Ndoye\",\"Rubén Vargas\",\"Renato Steffen\",\"Breel Embolo\",\"Zeki Amdouni\",\"Kwadwo Duah\"]],\"text\":[[\"Gregor Kobel and its club is Borussia Dortmund\",\"Yann Sommer and its club is Inter Milan\",\"Yvon Mvogo and its club is FC Lorient\",\"Manuel Akanji and its club is Manchester City\",\"Nico Elvedi and its club is Borussia Mönchengladbach\",\"Fabian Schär and its club is Newcastle United\",\"Leonidas Stergiou and its club is VfB Stuttgart\",\"Cédric Zesiger and its club is VfL Wolfsburg\",\"Ricardo Rodríguez and its club is Torino FC\",\"Silvan Widmer and its club is 1.FSV Mainz 05\",\"Denis Zakaria and its club is AS Monaco\",\"Granit Xhaka and its club is Bayer 04 Leverkusen\",\"Ardon Jashari and its club is FC Luzern\",\"Michel Aebischer and its club is Bologna FC 1909\",\"Remo Freuler and its club is Bologna FC 1909\",\"Vincent Sierro and its club is FC Toulouse\",\"Fabian Rieder and its club is Stade Rennais FC\",\"Xherdan Shaqiri and its club is Chicago Fire FC\",\"Noah Okafor and its club is AC Milan\",\"Steven Zuber and its club is AEK Athens\",\"Dan Ndoye and its club is Bologna FC 1909\",\"Rubén Vargas and its club is FC Augsburg\",\"Renato Steffen and its club is FC Lugano\",\"Breel Embolo and its club is AS Monaco\",\"Zeki Amdouni and its club is Burnley FC\",\"Kwadwo Duah and its club is Ludogorets Razgrad\"]]}],\"label\":\"Switzerland\",\"method\":\"restyle\"},{\"args\":[{\"x\":[[\"Spain\",\"Spain\",\"Spain\",\"Spain\",\"Spain\",\"Spain\",\"Spain\",\"Spain\",\"Spain\",\"Spain\",\"Spain\",\"Spain\",\"Spain\",\"Spain\",\"Spain\",\"Spain\",\"Spain\",\"Spain\",\"Spain\",\"Spain\",\"Spain\",\"Spain\",\"Spain\",\"Spain\",\"Spain\",\"Spain\"]],\"y\":[[\"David Raya\",\"Unai Simón\",\"Álex Remiro\",\"Robin Le Normand\",\"Dani Vivian\",\"Aymeric Laporte\",\"Nacho Fernández\",\"Alejandro Grimaldo\",\"Marc Cucurella\",\"Daniel Carvajal\",\"Jesús Navas\",\"Rodri\",\"Martín Zubimendi\",\"Pedri\",\"Mikel Merino\",\"Fabián Ruiz\",\"Fermín López\",\"Dani Olmo\",\"Álex Baena\",\"Nico Williams\",\"Ferran Torres\",\"Ayoze Pérez\",\"Lamine Yamal\",\"Mikel Oyarzabal\",\"Álvaro Morata\",\"Joselu\"]],\"text\":[[\"David Raya and its club is Arsenal FC\",\"Unai Simón and its club is Athletic Bilbao\",\"Álex Remiro and its club is Real Sociedad\",\"Robin Le Normand and its club is Real Sociedad\",\"Dani Vivian and its club is Athletic Bilbao\",\"Aymeric Laporte and its club is Al-Nassr FC\",\"Nacho Fernández and its club is Real Madrid\",\"Alejandro Grimaldo and its club is Bayer 04 Leverkusen\",\"Marc Cucurella and its club is Chelsea FC\",\"Daniel Carvajal and its club is Real Madrid\",\"Jesús Navas and its club is Sevilla FC\",\"Rodri and its club is Manchester City\",\"Martín Zubimendi and its club is Real Sociedad\",\"Pedri and its club is FC Barcelona\",\"Mikel Merino and its club is Real Sociedad\",\"Fabián Ruiz and its club is Paris Saint-Germain\",\"Fermín López and its club is FC Barcelona\",\"Dani Olmo and its club is RB Leipzig\",\"Álex Baena and its club is Villarreal CF\",\"Nico Williams and its club is Athletic Bilbao\",\"Ferran Torres and its club is FC Barcelona\",\"Ayoze Pérez and its club is Real Betis Balompié\",\"Lamine Yamal and its club is FC Barcelona\",\"Mikel Oyarzabal and its club is Real Sociedad\",\"Álvaro Morata and its club is Atlético de Madrid\",\"Joselu and its club is Real Madrid\"]]}],\"label\":\"Spain\",\"method\":\"restyle\"},{\"args\":[{\"x\":[[\"Croatia\",\"Croatia\",\"Croatia\",\"Croatia\",\"Croatia\",\"Croatia\",\"Croatia\",\"Croatia\",\"Croatia\",\"Croatia\",\"Croatia\",\"Croatia\",\"Croatia\",\"Croatia\",\"Croatia\",\"Croatia\",\"Croatia\",\"Croatia\",\"Croatia\",\"Croatia\",\"Croatia\",\"Croatia\",\"Croatia\",\"Croatia\",\"Croatia\",\"Croatia\"]],\"y\":[[\"Dominik Livakovic\",\"Nediljko Labrovic\",\"Ivica Ivusic\",\"Josip Stanisic\",\"Josip Sutalo\",\"Marin Pongracic\",\"Martin Erlić\",\"Domagoj Vida\",\"Josko Gvardiol\",\"Borna Sosa\",\"Josip Juranovic\",\"Marcelo Brozovic\",\"Mateo Kovacic\",\"Luka Sucic\",\"Mario Pasalic\",\"Luka Modric\",\"Lovro Majer\",\"Martin Baturina\",\"Nikola Vlašić\",\"Luka Ivanusec\",\"Marko Pjaca\",\"Ivan Perisic\",\"Marco Pasalic\",\"Andrej Kramaric\",\"Ante Budimir\",\"Bruno Petkovic\"]],\"text\":[[\"Dominik Livakovic and its club is Fenerbahce\",\"Nediljko Labrovic and its club is HNK Rijeka\",\"Ivica Ivusic and its club is Pafos FC\",\"Josip Stanisic and its club is Bayer 04 Leverkusen\",\"Josip Sutalo and its club is Ajax Amsterdam\",\"Marin Pongracic and its club is US Lecce\",\"Martin Erlić and its club is US Sassuolo\",\"Domagoj Vida and its club is AEK Athens\",\"Josko Gvardiol and its club is Manchester City\",\"Borna Sosa and its club is Ajax Amsterdam\",\"Josip Juranovic and its club is 1.FC Union Berlin\",\"Marcelo Brozovic and its club is Al-Nassr FC\",\"Mateo Kovacic and its club is Manchester City\",\"Luka Sucic and its club is Red Bull Salzburg\",\"Mario Pasalic and its club is Atalanta BC\",\"Luka Modric and its club is Real Madrid\",\"Lovro Majer and its club is VfL Wolfsburg\",\"Martin Baturina and its club is GNK Dinamo Zagreb\",\"Nikola Vlašić and its club is Torino FC\",\"Luka Ivanusec and its club is Feyenoord Rotterdam\",\"Marko Pjaca and its club is HNK Rijeka\",\"Ivan Perisic and its club is HNK Hajduk Split\",\"Marco Pasalic and its club is HNK Rijeka\",\"Andrej Kramaric and its club is TSG 1899 Hoffenheim\",\"Ante Budimir and its club is CA Osasuna\",\"Bruno Petkovic and its club is GNK Dinamo Zagreb\"]]}],\"label\":\"Croatia\",\"method\":\"restyle\"},{\"args\":[{\"x\":[[\"Albania\",\"Albania\",\"Albania\",\"Albania\",\"Albania\",\"Albania\",\"Albania\",\"Albania\",\"Albania\",\"Albania\",\"Albania\",\"Albania\",\"Albania\",\"Albania\",\"Albania\",\"Albania\",\"Albania\",\"Albania\",\"Albania\",\"Albania\",\"Albania\",\"Albania\",\"Albania\",\"Albania\",\"Albania\",\"Albania\"]],\"y\":[[\"Thomas Strakosha\",\"Elhan Kastrati\",\"Etrit Berisha\",\"Berat Djimsiti\",\"Marash Kumbulla\",\"Ardian Ismajli\",\"Enea Mihaj\",\"Arlind Ajeti\",\"Mario Mitaj\",\"Naser Aliji\",\"Elseid Hysaj\",\"Iván Balliu\",\"Kristjan Asllani\",\"Ylber Ramadani\",\"Klaus Gjasula\",\"Amir Abrashi\",\"Qazim Laci\",\"Medon Berisha\",\"Ernest Muci\",\"Nedim Bajrami\",\"Arbër Hoxha\",\"Jasir Asani\",\"Armando Broja\",\"Rey Manaj\",\"Taulant Seferi\",\"Mirlind Daku\"]],\"text\":[[\"Thomas Strakosha and its club is Brentford FC\",\"Elhan Kastrati and its club is AS Cittadella\",\"Etrit Berisha and its club is FC Empoli\",\"Berat Djimsiti and its club is Atalanta BC\",\"Marash Kumbulla and its club is US Sassuolo\",\"Ardian Ismajli and its club is FC Empoli\",\"Enea Mihaj and its club is FC Famalicão\",\"Arlind Ajeti and its club is CFR Cluj\",\"Mario Mitaj and its club is Lokomotiv Moscow\",\"Naser Aliji and its club is FC Voluntari\",\"Elseid Hysaj and its club is SS Lazio\",\"Iván Balliu and its club is Rayo Vallecano\",\"Kristjan Asllani and its club is Inter Milan\",\"Ylber Ramadani and its club is US Lecce\",\"Klaus Gjasula and its club is SV Darmstadt 98\",\"Amir Abrashi and its club is Grasshopper Club Zurich\",\"Qazim Laci and its club is AC Sparta Prague\",\"Medon Berisha and its club is US Lecce\",\"Ernest Muci and its club is Besiktas JK\",\"Nedim Bajrami and its club is US Sassuolo\",\"Arbër Hoxha and its club is GNK Dinamo Zagreb\",\"Jasir Asani and its club is Gwangju FC\",\"Armando Broja and its club is Chelsea FC\",\"Rey Manaj and its club is Sivasspor\",\"Taulant Seferi and its club is FC Baniyas\",\"Mirlind Daku and its club is Rubin Kazan\"]]}],\"label\":\"Albania\",\"method\":\"restyle\"},{\"args\":[{\"x\":[[\"Italy\",\"Italy\",\"Italy\",\"Italy\",\"Italy\",\"Italy\",\"Italy\",\"Italy\",\"Italy\",\"Italy\",\"Italy\",\"Italy\",\"Italy\",\"Italy\",\"Italy\",\"Italy\",\"Italy\",\"Italy\",\"Italy\",\"Italy\",\"Italy\",\"Italy\",\"Italy\",\"Italy\",\"Italy\",\"Italy\"]],\"y\":[[\"Gianluigi Donnarumma\",\"Guglielmo Vicario\",\"Alex Meret\",\"Alessandro Bastoni\",\"Alessandro Buongiorno\",\"Riccardo Calafiori\",\"Gianluca Mancini\",\"Federico Gatti\",\"Federico Dimarco\",\"Andrea Cambiaso\",\"Giovanni Di Lorenzo\",\"Raoul Bellanova\",\"Matteo Darmian\",\"Bryan Cristante\",\"Jorginho\",\"Nicolò Barella\",\"Davide Frattesi\",\"Nicolò Fagioli\",\"Michael Folorunsho\",\"Lorenzo Pellegrini\",\"Federico Chiesa\",\"Mattia Zaccagni\",\"Stephan El Shaarawy\",\"Giacomo Raspadori\",\"Gianluca Scamacca\",\"Mateo Retegui\"]],\"text\":[[\"Gianluigi Donnarumma and its club is Paris Saint-Germain\",\"Guglielmo Vicario and its club is Tottenham Hotspur\",\"Alex Meret and its club is SSC Napoli\",\"Alessandro Bastoni and its club is Inter Milan\",\"Alessandro Buongiorno and its club is Torino FC\",\"Riccardo Calafiori and its club is Bologna FC 1909\",\"Gianluca Mancini and its club is AS Roma\",\"Federico Gatti and its club is Juventus FC\",\"Federico Dimarco and its club is Inter Milan\",\"Andrea Cambiaso and its club is Juventus FC\",\"Giovanni Di Lorenzo and its club is SSC Napoli\",\"Raoul Bellanova and its club is Torino FC\",\"Matteo Darmian and its club is Inter Milan\",\"Bryan Cristante and its club is AS Roma\",\"Jorginho and its club is Arsenal FC\",\"Nicolò Barella and its club is Inter Milan\",\"Davide Frattesi and its club is Inter Milan\",\"Nicolò Fagioli and its club is Juventus FC\",\"Michael Folorunsho and its club is Hellas Verona\",\"Lorenzo Pellegrini and its club is AS Roma\",\"Federico Chiesa and its club is Juventus FC\",\"Mattia Zaccagni and its club is SS Lazio\",\"Stephan El Shaarawy and its club is AS Roma\",\"Giacomo Raspadori and its club is SSC Napoli\",\"Gianluca Scamacca and its club is Atalanta BC\",\"Mateo Retegui and its club is Genoa CFC\"]]}],\"label\":\"Italy\",\"method\":\"restyle\"},{\"args\":[{\"x\":[[\"Slovenia\",\"Slovenia\",\"Slovenia\",\"Slovenia\",\"Slovenia\",\"Slovenia\",\"Slovenia\",\"Slovenia\",\"Slovenia\",\"Slovenia\",\"Slovenia\",\"Slovenia\",\"Slovenia\",\"Slovenia\",\"Slovenia\",\"Slovenia\",\"Slovenia\",\"Slovenia\",\"Slovenia\",\"Slovenia\",\"Slovenia\",\"Slovenia\",\"Slovenia\",\"Slovenia\",\"Slovenia\",\"Slovenia\"]],\"y\":[[\"Jan Oblak\",\"Vid Belec\",\"Igor Vekic\",\"Jaka Bijol\",\"David Brekalo\",\"Vanja Drkusic\",\"Zan Zaletel\",\"Jure Balkovec\",\"Erik Janza\",\"Petar Stojanović\",\"Zan Karnicnik\",\"Jon Gorenc Stankovic\",\"Adrian Zeljkovic\",\"Sandi Lovric\",\"Adam Gnezda Cerin\",\"Miha Zajc\",\"Timi Max Elsnik\",\"Jasmin Kurtic\",\"Tomi Horvat\",\"Josip Ilicic\",\"Benjamin Verbic\",\"Benjamin Sesko\",\"Andraz Sporar\",\"Jan Mlakar\",\"Zan Vipotnik\",\"Luka Zahovic\"]],\"text\":[[\"Jan Oblak and its club is Atlético de Madrid\",\"Vid Belec and its club is APOEL Nicosia\",\"Igor Vekic and its club is Vejle Boldklub\",\"Jaka Bijol and its club is Udinese Calcio\",\"David Brekalo and its club is Orlando City SC\",\"Vanja Drkusic and its club is FC Sochi\",\"Zan Zaletel and its club is Viborg FF\",\"Jure Balkovec and its club is Alanyaspor\",\"Erik Janza and its club is Górnik Zabrze\",\"Petar Stojanović and its club is UC Sampdoria\",\"Zan Karnicnik and its club is NK Celje\",\"Jon Gorenc Stankovic and its club is SK Sturm Graz\",\"Adrian Zeljkovic and its club is Spartak Trnava\",\"Sandi Lovric and its club is Udinese Calcio\",\"Adam Gnezda Cerin and its club is Panathinaikos FC\",\"Miha Zajc and its club is Fenerbahce\",\"Timi Max Elsnik and its club is NK Olimpija Ljubljana\",\"Jasmin Kurtic and its club is FC Südtirol\",\"Tomi Horvat and its club is SK Sturm Graz\",\"Josip Ilicic and its club is NK Maribor\",\"Benjamin Verbic and its club is Panathinaikos FC\",\"Benjamin Sesko and its club is RB Leipzig\",\"Andraz Sporar and its club is Panathinaikos FC\",\"Jan Mlakar and its club is Pisa Sporting Club\",\"Zan Vipotnik and its club is FC Girondins Bordeaux\",\"Luka Zahovic and its club is Pogon Szczecin\"]]}],\"label\":\"Slovenia\",\"method\":\"restyle\"},{\"args\":[{\"x\":[[\"England\",\"England\",\"England\",\"England\",\"England\",\"England\",\"England\",\"England\",\"England\",\"England\",\"England\",\"England\",\"England\",\"England\",\"England\",\"England\",\"England\",\"England\",\"England\",\"England\",\"England\",\"England\",\"England\",\"England\",\"England\",\"England\"]],\"y\":[[\"Aaron Ramsdale\",\"Jordan Pickford\",\"Dean Henderson\",\"John Stones\",\"Marc Guéhi\",\"Ezri Konsa\",\"Joe Gomez\",\"Lewis Dunk\",\"Luke Shaw\",\"Trent Alexander-Arnold\",\"Kyle Walker\",\"Kieran Trippier\",\"Declan Rice\",\"Conor Gallagher\",\"Kobbie Mainoo\",\"Adam Wharton\",\"Jude Bellingham\",\"Cole Palmer\",\"Eberechi Eze\",\"Anthony Gordon\",\"Phil Foden\",\"Bukayo Saka\",\"Jarrod Bowen\",\"Harry Kane\",\"Ollie Watkins\",\"Ivan Toney\"]],\"text\":[[\"Aaron Ramsdale and its club is Arsenal FC\",\"Jordan Pickford and its club is Everton FC\",\"Dean Henderson and its club is Crystal Palace\",\"John Stones and its club is Manchester City\",\"Marc Guéhi and its club is Crystal Palace\",\"Ezri Konsa and its club is Aston Villa\",\"Joe Gomez and its club is Liverpool FC\",\"Lewis Dunk and its club is Brighton & Hove Albion\",\"Luke Shaw and its club is Manchester United\",\"Trent Alexander-Arnold and its club is Liverpool FC\",\"Kyle Walker and its club is Manchester City\",\"Kieran Trippier and its club is Newcastle United\",\"Declan Rice and its club is Arsenal FC\",\"Conor Gallagher and its club is Chelsea FC\",\"Kobbie Mainoo and its club is Manchester United\",\"Adam Wharton and its club is Crystal Palace\",\"Jude Bellingham and its club is Real Madrid\",\"Cole Palmer and its club is Chelsea FC\",\"Eberechi Eze and its club is Crystal Palace\",\"Anthony Gordon and its club is Newcastle United\",\"Phil Foden and its club is Manchester City\",\"Bukayo Saka and its club is Arsenal FC\",\"Jarrod Bowen and its club is West Ham United\",\"Harry Kane and its club is Bayern Munich\",\"Ollie Watkins and its club is Aston Villa\",\"Ivan Toney and its club is Brentford FC\"]]}],\"label\":\"England\",\"method\":\"restyle\"},{\"args\":[{\"x\":[[\"Denmark\",\"Denmark\",\"Denmark\",\"Denmark\",\"Denmark\",\"Denmark\",\"Denmark\",\"Denmark\",\"Denmark\",\"Denmark\",\"Denmark\",\"Denmark\",\"Denmark\",\"Denmark\",\"Denmark\",\"Denmark\",\"Denmark\",\"Denmark\",\"Denmark\",\"Denmark\",\"Denmark\",\"Denmark\",\"Denmark\",\"Denmark\",\"Denmark\",\"Denmark\"]],\"y\":[[\"Mads Hermansen\",\"Frederik Rönnow\",\"Kasper Schmeichel\",\"Andreas Christensen\",\"Joachim Andersen\",\"Jannik Vestergaard\",\"Simon Kjær\",\"Zanka\",\"Victor Kristiansen\",\"Joakim Maehle\",\"Alexander Bah\",\"Rasmus Kristensen\",\"Morten Hjulmand\",\"Christian Nørgaard\",\"Pierre-Emile Højbjerg\",\"Mathias Jensen\",\"Christian Eriksen\",\"Thomas Delaney\",\"Mikkel Damsgaard\",\"Jacob Bruun Larsen\",\"Andreas Skov Olsen\",\"Anders Dreyer\",\"Rasmus Højlund\",\"Jonas Wind\",\"Kasper Dolberg\",\"Yussuf Poulsen\"]],\"text\":[[\"Mads Hermansen and its club is Leicester City\",\"Frederik Rönnow and its club is 1.FC Union Berlin\",\"Kasper Schmeichel and its club is RSC Anderlecht\",\"Andreas Christensen and its club is FC Barcelona\",\"Joachim Andersen and its club is Crystal Palace\",\"Jannik Vestergaard and its club is Leicester City\",\"Simon Kjær and its club is AC Milan\",\"Zanka and its club is Brentford FC\",\"Victor Kristiansen and its club is Bologna FC 1909\",\"Joakim Maehle and its club is VfL Wolfsburg\",\"Alexander Bah and its club is SL Benfica\",\"Rasmus Kristensen and its club is AS Roma\",\"Morten Hjulmand and its club is Sporting CP\",\"Christian Nørgaard and its club is Brentford FC\",\"Pierre-Emile Højbjerg and its club is Tottenham Hotspur\",\"Mathias Jensen and its club is Brentford FC\",\"Christian Eriksen and its club is Manchester United\",\"Thomas Delaney and its club is RSC Anderlecht\",\"Mikkel Damsgaard and its club is Brentford FC\",\"Jacob Bruun Larsen and its club is Burnley FC\",\"Andreas Skov Olsen and its club is Club Brugge KV\",\"Anders Dreyer and its club is RSC Anderlecht\",\"Rasmus Højlund and its club is Manchester United\",\"Jonas Wind and its club is VfL Wolfsburg\",\"Kasper Dolberg and its club is RSC Anderlecht\",\"Yussuf Poulsen and its club is RB Leipzig\"]]}],\"label\":\"Denmark\",\"method\":\"restyle\"},{\"args\":[{\"x\":[[\"Serbia\",\"Serbia\",\"Serbia\",\"Serbia\",\"Serbia\",\"Serbia\",\"Serbia\",\"Serbia\",\"Serbia\",\"Serbia\",\"Serbia\",\"Serbia\",\"Serbia\",\"Serbia\",\"Serbia\",\"Serbia\",\"Serbia\",\"Serbia\",\"Serbia\",\"Serbia\",\"Serbia\",\"Serbia\",\"Serbia\",\"Serbia\",\"Serbia\",\"Serbia\"]],\"y\":[[\"Djordje Petrovic\",\"Predrag Rajkovic\",\"Vanja Milinković-Savić\",\"Strahinja Pavlovic\",\"Nikola Milenković\",\"Milos Veljkovic\",\"Srdjan Babic\",\"Nemanja Gudelj\",\"Nemanja Stojic\",\"Uros Spajic\",\"Filip Mladenovic\",\"Srdjan Mijailovic\",\"Sergej Milinković-Savić\",\"Lazar Samardžić\",\"Ivan Ilić\",\"Saša Lukić\",\"Nemanja Maksimovic\",\"Filip Kostić\",\"Mijat Gacinovic\",\"Veljko Birmancevic\",\"Dusan Tadic\",\"Andrija Zivkovic\",\"Dušan Vlahović\",\"Aleksandar Mitrovic\",\"Luka Jović\",\"Petar Ratkov\"]],\"text\":[[\"Djordje Petrovic and its club is Chelsea FC\",\"Predrag Rajkovic and its club is RCD Mallorca\",\"Vanja Milinković-Savić and its club is Torino FC\",\"Strahinja Pavlovic and its club is Red Bull Salzburg\",\"Nikola Milenković and its club is ACF Fiorentina\",\"Milos Veljkovic and its club is SV Werder Bremen\",\"Srdjan Babic and its club is Spartak Moscow\",\"Nemanja Gudelj and its club is Sevilla FC\",\"Nemanja Stojic and its club is FK TSC Backa Topola\",\"Uros Spajic and its club is Red Star Belgrade\",\"Filip Mladenovic and its club is Panathinaikos FC\",\"Srdjan Mijailovic and its club is Red Star Belgrade\",\"Sergej Milinković-Savić and its club is Al-Hilal SFC\",\"Lazar Samardžić and its club is Udinese Calcio\",\"Ivan Ilić and its club is Torino FC\",\"Saša Lukić and its club is Fulham FC\",\"Nemanja Maksimovic and its club is Getafe CF\",\"Filip Kostić and its club is Juventus FC\",\"Mijat Gacinovic and its club is AEK Athens\",\"Veljko Birmancevic and its club is AC Sparta Prague\",\"Dusan Tadic and its club is Fenerbahce\",\"Andrija Zivkovic and its club is PAOK Thessaloniki\",\"Dušan Vlahović and its club is Juventus FC\",\"Aleksandar Mitrovic and its club is Al-Hilal SFC\",\"Luka Jović and its club is AC Milan\",\"Petar Ratkov and its club is Red Bull Salzburg\"]]}],\"label\":\"Serbia\",\"method\":\"restyle\"},{\"args\":[{\"x\":[[\"Poland\",\"Poland\",\"Poland\",\"Poland\",\"Poland\",\"Poland\",\"Poland\",\"Poland\",\"Poland\",\"Poland\",\"Poland\",\"Poland\",\"Poland\",\"Poland\",\"Poland\",\"Poland\",\"Poland\",\"Poland\",\"Poland\",\"Poland\",\"Poland\",\"Poland\",\"Poland\",\"Poland\",\"Poland\",\"Poland\",\"Poland\"]],\"y\":[[\"Marcin Bulka\",\"Wojciech Szczęsny\",\"Lukasz Skorupski\",\"Jan Bednarek\",\"Paweł Dawidowicz\",\"Sebastian Walukiewicz\",\"Bartosz Salamon\",\"Jakub Kiwior\",\"Tymoteusz Puchacz\",\"Bartosz Bereszyński\",\"Jakub Piotrowski\",\"Bartosz Slisz\",\"Damian Szymanski\",\"Jakub Kaluzinski\",\"Taras Romanczuk\",\"Piotr Zieliński\",\"Jakub Moder\",\"Kacper Urbanski\",\"Przemyslaw Frankowski\",\"Nicola Zalewski\",\"Sebastian Szymanski\",\"Michal Skoras\",\"Kamil Grosicki\",\"Robert Lewandowski\",\"Adam Buksa\",\"Krzysztof Piatek\",\"Karol Świderski\"]],\"text\":[[\"Marcin Bulka and its club is OGC Nice\",\"Wojciech Szczęsny and its club is Juventus FC\",\"Lukasz Skorupski and its club is Bologna FC 1909\",\"Jan Bednarek and its club is Southampton FC\",\"Paweł Dawidowicz and its club is Hellas Verona\",\"Sebastian Walukiewicz and its club is FC Empoli\",\"Bartosz Salamon and its club is Lech Poznan\",\"Jakub Kiwior and its club is Arsenal FC\",\"Tymoteusz Puchacz and its club is 1.FC Kaiserslautern\",\"Bartosz Bereszyński and its club is FC Empoli\",\"Jakub Piotrowski and its club is Ludogorets Razgrad\",\"Bartosz Slisz and its club is Atlanta United FC\",\"Damian Szymanski and its club is AEK Athens\",\"Jakub Kaluzinski and its club is Antalyaspor\",\"Taras Romanczuk and its club is Jagiellonia Bialystok\",\"Piotr Zieliński and its club is SSC Napoli\",\"Jakub Moder and its club is Brighton & Hove Albion\",\"Kacper Urbanski and its club is Bologna FC 1909\",\"Przemyslaw Frankowski and its club is RC Lens\",\"Nicola Zalewski and its club is AS Roma\",\"Sebastian Szymanski and its club is Fenerbahce\",\"Michal Skoras and its club is Club Brugge KV\",\"Kamil Grosicki and its club is Pogon Szczecin\",\"Robert Lewandowski and its club is FC Barcelona\",\"Adam Buksa and its club is Antalyaspor\",\"Krzysztof Piatek and its club is Basaksehir FK\",\"Karol Świderski and its club is Hellas Verona\"]]}],\"label\":\"Poland\",\"method\":\"restyle\"},{\"args\":[{\"x\":[[\"Netherlands\",\"Netherlands\",\"Netherlands\",\"Netherlands\",\"Netherlands\",\"Netherlands\",\"Netherlands\",\"Netherlands\",\"Netherlands\",\"Netherlands\",\"Netherlands\",\"Netherlands\",\"Netherlands\",\"Netherlands\",\"Netherlands\",\"Netherlands\",\"Netherlands\",\"Netherlands\",\"Netherlands\",\"Netherlands\",\"Netherlands\",\"Netherlands\",\"Netherlands\",\"Netherlands\",\"Netherlands\",\"Netherlands\"]],\"y\":[[\"Bart Verbruggen\",\"Justin Bijlow\",\"Mark Flekken\",\"Matthijs de Ligt\",\"Micky van de Ven\",\"Nathan Aké\",\"Virgil van Dijk\",\"Stefan de Vrij\",\"Daley Blind\",\"Lutsharel Geertruida\",\"Jerdy Schouten\",\"Frenkie de Jong\",\"Joey Veerman\",\"Ryan Gravenberch\",\"Tijjani Reijnders\",\"Georginio Wijnaldum\",\"Jeremie Frimpong\",\"Denzel Dumfries\",\"Xavi Simons\",\"Teun Koopmeiners\",\"Cody Gakpo\",\"Steven Bergwijn\",\"Donyell Malen\",\"Brian Brobbey\",\"Memphis Depay\",\"Wout Weghorst\"]],\"text\":[[\"Bart Verbruggen and its club is Brighton & Hove Albion\",\"Justin Bijlow and its club is Feyenoord Rotterdam\",\"Mark Flekken and its club is Brentford FC\",\"Matthijs de Ligt and its club is Bayern Munich\",\"Micky van de Ven and its club is Tottenham Hotspur\",\"Nathan Aké and its club is Manchester City\",\"Virgil van Dijk and its club is Liverpool FC\",\"Stefan de Vrij and its club is Inter Milan\",\"Daley Blind and its club is Girona FC\",\"Lutsharel Geertruida and its club is Feyenoord Rotterdam\",\"Jerdy Schouten and its club is PSV Eindhoven\",\"Frenkie de Jong and its club is FC Barcelona\",\"Joey Veerman and its club is PSV Eindhoven\",\"Ryan Gravenberch and its club is Liverpool FC\",\"Tijjani Reijnders and its club is AC Milan\",\"Georginio Wijnaldum and its club is Al-Ettifaq FC\",\"Jeremie Frimpong and its club is Bayer 04 Leverkusen\",\"Denzel Dumfries and its club is Inter Milan\",\"Xavi Simons and its club is RB Leipzig\",\"Teun Koopmeiners and its club is Atalanta BC\",\"Cody Gakpo and its club is Liverpool FC\",\"Steven Bergwijn and its club is Ajax Amsterdam\",\"Donyell Malen and its club is Borussia Dortmund\",\"Brian Brobbey and its club is Ajax Amsterdam\",\"Memphis Depay and its club is Atlético de Madrid\",\"Wout Weghorst and its club is TSG 1899 Hoffenheim\"]]}],\"label\":\"Netherlands\",\"method\":\"restyle\"},{\"args\":[{\"x\":[[\"Austria\",\"Austria\",\"Austria\",\"Austria\",\"Austria\",\"Austria\",\"Austria\",\"Austria\",\"Austria\",\"Austria\",\"Austria\",\"Austria\",\"Austria\",\"Austria\",\"Austria\",\"Austria\",\"Austria\",\"Austria\",\"Austria\",\"Austria\",\"Austria\",\"Austria\",\"Austria\",\"Austria\",\"Austria\",\"Austria\"]],\"y\":[[\"Niklas Hedl\",\"Patrick Pentz\",\"Heinz Lindner\",\"Kevin Danso\",\"Philipp Lienhart\",\"Maximilian Wöber\",\"Flavius Daniliuc\",\"Leopold Querfeld\",\"Gernot Trauner\",\"Phillipp Mwene\",\"Stefan Posch\",\"Florian Grillitsch\",\"Konrad Laimer\",\"Marcel Sabitzer\",\"Nicolas Seiwald\",\"Alexander Prass\",\"Christoph Baumgartner\",\"Romano Schmid\",\"Florian Kainz\",\"Matthias Seidl\",\"Andreas Weimann\",\"Marco Grüll\",\"Patrick Wimmer\",\"Michael Gregoritsch\",\"Marko Arnautovic\",\"Maximilian Entrup\"]],\"text\":[[\"Niklas Hedl and its club is Rapid Vienna\",\"Patrick Pentz and its club is Bröndby IF\",\"Heinz Lindner and its club is Union Saint-Gilloise\",\"Kevin Danso and its club is RC Lens\",\"Philipp Lienhart and its club is SC Freiburg\",\"Maximilian Wöber and its club is Borussia Mönchengladbach\",\"Flavius Daniliuc and its club is Red Bull Salzburg\",\"Leopold Querfeld and its club is Rapid Vienna\",\"Gernot Trauner and its club is Feyenoord Rotterdam\",\"Phillipp Mwene and its club is 1.FSV Mainz 05\",\"Stefan Posch and its club is Bologna FC 1909\",\"Florian Grillitsch and its club is TSG 1899 Hoffenheim\",\"Konrad Laimer and its club is Bayern Munich\",\"Marcel Sabitzer and its club is Borussia Dortmund\",\"Nicolas Seiwald and its club is RB Leipzig\",\"Alexander Prass and its club is SK Sturm Graz\",\"Christoph Baumgartner and its club is RB Leipzig\",\"Romano Schmid and its club is SV Werder Bremen\",\"Florian Kainz and its club is 1.FC Köln\",\"Matthias Seidl and its club is Rapid Vienna\",\"Andreas Weimann and its club is Bristol City\",\"Marco Grüll and its club is Rapid Vienna\",\"Patrick Wimmer and its club is VfL Wolfsburg\",\"Michael Gregoritsch and its club is SC Freiburg\",\"Marko Arnautovic and its club is Inter Milan\",\"Maximilian Entrup and its club is TSV Hartberg\"]]}],\"label\":\"Austria\",\"method\":\"restyle\"},{\"args\":[{\"x\":[[\"France\",\"France\",\"France\",\"France\",\"France\",\"France\",\"France\",\"France\",\"France\",\"France\",\"France\",\"France\",\"France\",\"France\",\"France\",\"France\",\"France\",\"France\",\"France\",\"France\",\"France\",\"France\",\"France\",\"France\",\"France\"]],\"y\":[[\"Mike Maignan\",\"Brice Samba\",\"Alphonse Areola\",\"William Saliba\",\"Benjamin Pavard\",\"Dayot Upamecano\",\"Jules Koundé\",\"Ibrahima Konaté\",\"Theo Hernández\",\"Ferland Mendy\",\"Jonathan Clauss\",\"Aurélien Tchouaméni\",\"N'Golo Kanté\",\"Eduardo Camavinga\",\"Warren Zaïre-Emery\",\"Adrien Rabiot\",\"Youssouf Fofana\",\"Kingsley Coman\",\"Bradley Barcola\",\"Ousmane Dembélé\",\"Kylian Mbappé\",\"Marcus Thuram\",\"Randal Kolo Muani\",\"Antoine Griezmann\",\"Olivier Giroud\"]],\"text\":[[\"Mike Maignan and its club is AC Milan\",\"Brice Samba and its club is RC Lens\",\"Alphonse Areola and its club is West Ham United\",\"William Saliba and its club is Arsenal FC\",\"Benjamin Pavard and its club is Inter Milan\",\"Dayot Upamecano and its club is Bayern Munich\",\"Jules Koundé and its club is FC Barcelona\",\"Ibrahima Konaté and its club is Liverpool FC\",\"Theo Hernández and its club is AC Milan\",\"Ferland Mendy and its club is Real Madrid\",\"Jonathan Clauss and its club is Olympique Marseille\",\"Aurélien Tchouaméni and its club is Real Madrid\",\"N'Golo Kanté and its club is Al-Ittihad Club\",\"Eduardo Camavinga and its club is Real Madrid\",\"Warren Zaïre-Emery and its club is Paris Saint-Germain\",\"Adrien Rabiot and its club is Juventus FC\",\"Youssouf Fofana and its club is AS Monaco\",\"Kingsley Coman and its club is Bayern Munich\",\"Bradley Barcola and its club is Paris Saint-Germain\",\"Ousmane Dembélé and its club is Paris Saint-Germain\",\"Kylian Mbappé and its club is Paris Saint-Germain\",\"Marcus Thuram and its club is Inter Milan\",\"Randal Kolo Muani and its club is Paris Saint-Germain\",\"Antoine Griezmann and its club is Atlético de Madrid\",\"Olivier Giroud and its club is AC Milan\"]]}],\"label\":\"France\",\"method\":\"restyle\"},{\"args\":[{\"x\":[[\"Belgium\",\"Belgium\",\"Belgium\",\"Belgium\",\"Belgium\",\"Belgium\",\"Belgium\",\"Belgium\",\"Belgium\",\"Belgium\",\"Belgium\",\"Belgium\",\"Belgium\",\"Belgium\",\"Belgium\",\"Belgium\",\"Belgium\",\"Belgium\",\"Belgium\",\"Belgium\",\"Belgium\",\"Belgium\",\"Belgium\",\"Belgium\",\"Belgium\"]],\"y\":[[\"Matz Sels\",\"Koen Casteels\",\"Thomas Kaminski\",\"Arthur Theate\",\"Wout Faes\",\"Zeno Debast\",\"Axel Witsel\",\"Jan Vertonghen\",\"Maxim De Cuyper\",\"Timothy Castagne\",\"Thomas Meunier\",\"Amadou Onana\",\"Youri Tielemans\",\"Arthur Vermeeren\",\"Orel Mangala\",\"Aster Vranckx\",\"Kevin De Bruyne\",\"Charles De Ketelaere\",\"Jérémy Doku\",\"Leandro Trossard\",\"Yannick Carrasco\",\"Johan Bakayoko\",\"Dodi Lukébakio\",\"Loïs Openda\",\"Romelu Lukaku\"]],\"text\":[[\"Matz Sels and its club is Nottingham Forest\",\"Koen Casteels and its club is VfL Wolfsburg\",\"Thomas Kaminski and its club is Luton Town\",\"Arthur Theate and its club is Stade Rennais FC\",\"Wout Faes and its club is Leicester City\",\"Zeno Debast and its club is RSC Anderlecht\",\"Axel Witsel and its club is Atlético de Madrid\",\"Jan Vertonghen and its club is RSC Anderlecht\",\"Maxim De Cuyper and its club is Club Brugge KV\",\"Timothy Castagne and its club is Fulham FC\",\"Thomas Meunier and its club is Trabzonspor\",\"Amadou Onana and its club is Everton FC\",\"Youri Tielemans and its club is Aston Villa\",\"Arthur Vermeeren and its club is Atlético de Madrid\",\"Orel Mangala and its club is Olympique Lyon\",\"Aster Vranckx and its club is VfL Wolfsburg\",\"Kevin De Bruyne and its club is Manchester City\",\"Charles De Ketelaere and its club is Atalanta BC\",\"Jérémy Doku and its club is Manchester City\",\"Leandro Trossard and its club is Arsenal FC\",\"Yannick Carrasco and its club is Al-Shabab FC\",\"Johan Bakayoko and its club is PSV Eindhoven\",\"Dodi Lukébakio and its club is Sevilla FC\",\"Loïs Openda and its club is RB Leipzig\",\"Romelu Lukaku and its club is AS Roma\"]]}],\"label\":\"Belgium\",\"method\":\"restyle\"},{\"args\":[{\"x\":[[\"Slovakia\",\"Slovakia\",\"Slovakia\",\"Slovakia\",\"Slovakia\",\"Slovakia\",\"Slovakia\",\"Slovakia\",\"Slovakia\",\"Slovakia\",\"Slovakia\",\"Slovakia\",\"Slovakia\",\"Slovakia\",\"Slovakia\",\"Slovakia\",\"Slovakia\",\"Slovakia\",\"Slovakia\",\"Slovakia\",\"Slovakia\",\"Slovakia\",\"Slovakia\",\"Slovakia\",\"Slovakia\",\"Slovakia\"]],\"y\":[[\"Marek Rodak\",\"Henrich Ravas\",\"Martin Dubravka\",\"David Hancko\",\"Milan Skriniar\",\"Denis Vavro\",\"Adam Obert\",\"Norbert Gyomber\",\"Sebastian Kosa\",\"Vernon De Marco\",\"Peter Pekarik\",\"Stanislav Lobotka\",\"Laszlo Benes\",\"Ondrej Duda\",\"Patrik Hrosovsky\",\"Matus Bero\",\"Tomas Rigo\",\"Juraj Kucka\",\"Tomas Suslov\",\"Lukas Haraslin\",\"Leo Sauer\",\"Ivan Schranz\",\"Lubomir Tupta\",\"David Duris\",\"Robert Bozenik\",\"David Strelec\"]],\"text\":[[\"Marek Rodak and its club is Fulham FC\",\"Henrich Ravas and its club is New England Revolution\",\"Martin Dubravka and its club is Newcastle United\",\"David Hancko and its club is Feyenoord Rotterdam\",\"Milan Skriniar and its club is Paris Saint-Germain\",\"Denis Vavro and its club is FC Copenhagen\",\"Adam Obert and its club is Cagliari Calcio\",\"Norbert Gyomber and its club is US Salernitana 1919\",\"Sebastian Kosa and its club is Spartak Trnava\",\"Vernon De Marco and its club is Hatta Club\",\"Peter Pekarik and its club is Hertha BSC\",\"Stanislav Lobotka and its club is SSC Napoli\",\"Laszlo Benes and its club is Hamburger SV\",\"Ondrej Duda and its club is Hellas Verona\",\"Patrik Hrosovsky and its club is KRC Genk\",\"Matus Bero and its club is VfL Bochum\",\"Tomas Rigo and its club is FC Banik Ostrava\",\"Juraj Kucka and its club is Slovan Bratislava\",\"Tomas Suslov and its club is Hellas Verona\",\"Lukas Haraslin and its club is AC Sparta Prague\",\"Leo Sauer and its club is Feyenoord Rotterdam\",\"Ivan Schranz and its club is SK Slavia Prague\",\"Lubomir Tupta and its club is FC Slovan Liberec\",\"David Duris and its club is Ascoli Calcio\",\"Robert Bozenik and its club is Boavista FC\",\"David Strelec and its club is Slovan Bratislava\"]]}],\"label\":\"Slovakia\",\"method\":\"restyle\"},{\"args\":[{\"x\":[[\"Romania\",\"Romania\",\"Romania\",\"Romania\",\"Romania\",\"Romania\",\"Romania\",\"Romania\",\"Romania\",\"Romania\",\"Romania\",\"Romania\",\"Romania\",\"Romania\",\"Romania\",\"Romania\",\"Romania\",\"Romania\",\"Romania\",\"Romania\",\"Romania\",\"Romania\",\"Romania\",\"Romania\",\"Romania\",\"Romania\"]],\"y\":[[\"Ștefan Târnovanu\",\"Horațiu Moldovan\",\"Florin Niță\",\"Radu Drăgușin\",\"Andrei Burcă\",\"Bogdan Racovițan\",\"Ionuț Nedelcearu\",\"Adrian Rus\",\"Nicuşor Bancu\",\"Andrei Rațiu\",\"Vasile Mogoș\",\"Adrian Șut\",\"Răzvan Marin\",\"Marius Marin\",\"Darius Olaru\",\"Nicolae Stanciu\",\"Alexandru Cicâldău\",\"Ianis Hagi\",\"Florinel Coman\",\"Valentin Mihăilă\",\"Dennis Man\",\"Deian Sorescu\",\"Denis Drăguș\",\"Daniel Bîrligea\",\"George Pușcaș\",\"Denis Alibec\"]],\"text\":[[\"Ștefan Târnovanu and its club is FCSB\",\"Horațiu Moldovan and its club is Atlético de Madrid\",\"Florin Niță and its club is Gaziantep FK\",\"Radu Drăgușin and its club is Tottenham Hotspur\",\"Andrei Burcă and its club is Al-Okhdood Club\",\"Bogdan Racovițan and its club is Raków Częstochowa\",\"Ionuț Nedelcearu and its club is Palermo FC\",\"Adrian Rus and its club is Pafos FC\",\"Nicuşor Bancu and its club is CS Universitatea Craiova\",\"Andrei Rațiu and its club is Rayo Vallecano\",\"Vasile Mogoș and its club is CFR Cluj\",\"Adrian Șut and its club is FCSB\",\"Răzvan Marin and its club is FC Empoli\",\"Marius Marin and its club is Pisa Sporting Club\",\"Darius Olaru and its club is FCSB\",\"Nicolae Stanciu and its club is Damac FC\",\"Alexandru Cicâldău and its club is Konyaspor\",\"Ianis Hagi and its club is Deportivo Alavés\",\"Florinel Coman and its club is FCSB\",\"Valentin Mihăilă and its club is Parma Calcio 1913\",\"Dennis Man and its club is Parma Calcio 1913\",\"Deian Sorescu and its club is Gaziantep FK\",\"Denis Drăguș and its club is Gaziantep FK\",\"Daniel Bîrligea and its club is CFR Cluj\",\"George Pușcaș and its club is SSC Bari\",\"Denis Alibec and its club is Muaither SC\"]]}],\"label\":\"Romania\",\"method\":\"restyle\"},{\"args\":[{\"x\":[[\"Ukraine\",\"Ukraine\",\"Ukraine\",\"Ukraine\",\"Ukraine\",\"Ukraine\",\"Ukraine\",\"Ukraine\",\"Ukraine\",\"Ukraine\",\"Ukraine\",\"Ukraine\",\"Ukraine\",\"Ukraine\",\"Ukraine\",\"Ukraine\",\"Ukraine\",\"Ukraine\",\"Ukraine\",\"Ukraine\",\"Ukraine\",\"Ukraine\",\"Ukraine\",\"Ukraine\",\"Ukraine\",\"Ukraine\"]],\"y\":[[\"Anatoliy Trubin\",\"Andriy Lunin\",\"Georgiy Bushchan\",\"Ilya Zabarnyi\",\"Mykola Matvienko\",\"Valeriy Bondar\",\"Maksym Taloverov\",\"Oleksandr Svatok\",\"Oleksandr Zinchenko\",\"Vitaliy Mykolenko\",\"Bogdan Mykhaylichenko\",\"Yukhym Konoplya\",\"Oleksandr Tymchyk\",\"Volodymyr Brazhko\",\"Taras Stepanenko\",\"Sergiy Sydorchuk\",\"Mykola Shaparenko\",\"Georgiy Sudakov\",\"Ruslan Malinovskyi\",\"Mykhaylo Mudryk\",\"Viktor Tsygankov\",\"Oleksandr Zubkov\",\"Andriy Yarmolenko\",\"Artem Dovbyk\",\"Vladyslav Vanat\",\"Roman Yaremchuk\"]],\"text\":[[\"Anatoliy Trubin and its club is SL Benfica\",\"Andriy Lunin and its club is Real Madrid\",\"Georgiy Bushchan and its club is Dynamo Kyiv\",\"Ilya Zabarnyi and its club is AFC Bournemouth\",\"Mykola Matvienko and its club is Shakhtar Donetsk\",\"Valeriy Bondar and its club is Shakhtar Donetsk\",\"Maksym Taloverov and its club is LASK\",\"Oleksandr Svatok and its club is SK Dnipro-1\",\"Oleksandr Zinchenko and its club is Arsenal FC\",\"Vitaliy Mykolenko and its club is Everton FC\",\"Bogdan Mykhaylichenko and its club is Polissya Zhytomyr\",\"Yukhym Konoplya and its club is Shakhtar Donetsk\",\"Oleksandr Tymchyk and its club is Dynamo Kyiv\",\"Volodymyr Brazhko and its club is Dynamo Kyiv\",\"Taras Stepanenko and its club is Shakhtar Donetsk\",\"Sergiy Sydorchuk and its club is KVC Westerlo\",\"Mykola Shaparenko and its club is Dynamo Kyiv\",\"Georgiy Sudakov and its club is Shakhtar Donetsk\",\"Ruslan Malinovskyi and its club is Genoa CFC\",\"Mykhaylo Mudryk and its club is Chelsea FC\",\"Viktor Tsygankov and its club is Girona FC\",\"Oleksandr Zubkov and its club is Shakhtar Donetsk\",\"Andriy Yarmolenko and its club is Dynamo Kyiv\",\"Artem Dovbyk and its club is Girona FC\",\"Vladyslav Vanat and its club is Dynamo Kyiv\",\"Roman Yaremchuk and its club is Valencia CF\"]]}],\"label\":\"Ukraine\",\"method\":\"restyle\"},{\"args\":[{\"x\":[[\"Turkiye\",\"Turkiye\",\"Turkiye\",\"Turkiye\",\"Turkiye\",\"Turkiye\",\"Turkiye\",\"Turkiye\",\"Turkiye\",\"Turkiye\",\"Turkiye\",\"Turkiye\",\"Turkiye\",\"Turkiye\",\"Turkiye\",\"Turkiye\",\"Turkiye\",\"Turkiye\",\"Turkiye\",\"Turkiye\",\"Turkiye\",\"Turkiye\",\"Turkiye\",\"Turkiye\",\"Turkiye\",\"Turkiye\"]],\"y\":[[\"Altay Bayındır\",\"Uğurcan Çakır\",\"Mert Günok\",\"Merih Demiral\",\"Ahmetcan Kaplan\",\"Abdülkerim Bardakcı\",\"Kaan Ayhan\",\"Samet Akaydin\",\"Ferdi Kadıoğlu\",\"Zeki Çelik\",\"Mert Müldür\",\"Hakan Çalhanoğlu\",\"İsmail Yüksek\",\"Salih Özcan\",\"Okay Yokuşlu\",\"Orkun Kökçü\",\"Arda Güler\",\"Yusuf Yazıcı\",\"Kerem Aktürkoğlu\",\"Barış Alper Yılmaz\",\"İrfan Can Kahveci\",\"Yunus Akgün\",\"Kenan Yıldız\",\"Semih Kılıçsoy\",\"Bertuğ Yıldırım\",\"Cenk Tosun\"]],\"text\":[[\"Altay Bayındır and its club is Manchester United\",\"Uğurcan Çakır and its club is Trabzonspor\",\"Mert Günok and its club is Besiktas JK\",\"Merih Demiral and its club is Al-Ahli SFC\",\"Ahmetcan Kaplan and its club is Ajax Amsterdam\",\"Abdülkerim Bardakcı and its club is Galatasaray\",\"Kaan Ayhan and its club is Galatasaray\",\"Samet Akaydin and its club is Panathinaikos FC\",\"Ferdi Kadıoğlu and its club is Fenerbahce\",\"Zeki Çelik and its club is AS Roma\",\"Mert Müldür and its club is Fenerbahce\",\"Hakan Çalhanoğlu and its club is Inter Milan\",\"İsmail Yüksek and its club is Fenerbahce\",\"Salih Özcan and its club is Borussia Dortmund\",\"Okay Yokuşlu and its club is West Bromwich Albion\",\"Orkun Kökçü and its club is SL Benfica\",\"Arda Güler and its club is Real Madrid\",\"Yusuf Yazıcı and its club is LOSC Lille\",\"Kerem Aktürkoğlu and its club is Galatasaray\",\"Barış Alper Yılmaz and its club is Galatasaray\",\"İrfan Can Kahveci and its club is Fenerbahce\",\"Yunus Akgün and its club is Leicester City\",\"Kenan Yıldız and its club is Juventus FC\",\"Semih Kılıçsoy and its club is Besiktas JK\",\"Bertuğ Yıldırım and its club is Stade Rennais FC\",\"Cenk Tosun and its club is Besiktas JK\"]]}],\"label\":\"Turkiye\",\"method\":\"restyle\"},{\"args\":[{\"x\":[[\"Georgia\",\"Georgia\",\"Georgia\",\"Georgia\",\"Georgia\",\"Georgia\",\"Georgia\",\"Georgia\",\"Georgia\",\"Georgia\",\"Georgia\",\"Georgia\",\"Georgia\",\"Georgia\",\"Georgia\",\"Georgia\",\"Georgia\",\"Georgia\",\"Georgia\",\"Georgia\",\"Georgia\",\"Georgia\",\"Georgia\",\"Georgia\",\"Georgia\",\"Georgia\"]],\"y\":[[\"Giorgi Mamardashvili\",\"Luka Gugeshashvili\",\"Giorgi Loria\",\"Luka Lochoshvili\",\"Lasha Dvali\",\"Solomon Kvirkvelia\",\"Jemal Tabidze\",\"Giorgi Gvelesiani\",\"Guram Kashia\",\"Giorgi Gocholeishvili\",\"Anzor Mekvabishvili\",\"Nika Kvekveskiri\",\"Gabriel Sigua\",\"Giorgi Kochorashvili\",\"Sandro Altunashvili\",\"Otar Kakabadze\",\"Otar Kiteishvili\",\"Giorgi Chakvetadze\",\"Khvicha Kvaratskhelia\",\"Saba Lobjanidze\",\"Georgiy Tsitaishvili\",\"Zuriko Davitashvili\",\"Levan Shengelia\",\"Georges Mikautadze\",\"Giorgi Kvilitaia\",\"Budu Zivzivadze\"]],\"text\":[[\"Giorgi Mamardashvili and its club is Valencia CF\",\"Luka Gugeshashvili and its club is Qarabağ FK\",\"Giorgi Loria and its club is Dinamo Tbilisi\",\"Luka Lochoshvili and its club is US Cremonese\",\"Lasha Dvali and its club is APOEL Nicosia\",\"Solomon Kvirkvelia and its club is Al-Okhdood Club\",\"Jemal Tabidze and its club is Panetolikos GFS\",\"Giorgi Gvelesiani and its club is Persepolis FC\",\"Guram Kashia and its club is Slovan Bratislava\",\"Giorgi Gocholeishvili and its club is Shakhtar Donetsk\",\"Anzor Mekvabishvili and its club is CS Universitatea Craiova\",\"Nika Kvekveskiri and its club is Lech Poznan\",\"Gabriel Sigua and its club is FC Basel 1893\",\"Giorgi Kochorashvili and its club is Levante UD\",\"Sandro Altunashvili and its club is Wolfsberger AC\",\"Otar Kakabadze and its club is Cracovia\",\"Otar Kiteishvili and its club is SK Sturm Graz\",\"Giorgi Chakvetadze and its club is Watford FC\",\"Khvicha Kvaratskhelia and its club is SSC Napoli\",\"Saba Lobjanidze and its club is Atlanta United FC\",\"Georgiy Tsitaishvili and its club is Dinamo Batumi\",\"Zuriko Davitashvili and its club is FC Girondins Bordeaux\",\"Levan Shengelia and its club is Panetolikos GFS\",\"Georges Mikautadze and its club is FC Metz\",\"Giorgi Kvilitaia and its club is APOEL Nicosia\",\"Budu Zivzivadze and its club is Karlsruher SC\"]]}],\"label\":\"Georgia\",\"method\":\"restyle\"},{\"args\":[{\"x\":[[\"Portugal\",\"Portugal\",\"Portugal\",\"Portugal\",\"Portugal\",\"Portugal\",\"Portugal\",\"Portugal\",\"Portugal\",\"Portugal\",\"Portugal\",\"Portugal\",\"Portugal\",\"Portugal\",\"Portugal\",\"Portugal\",\"Portugal\",\"Portugal\",\"Portugal\",\"Portugal\",\"Portugal\",\"Portugal\",\"Portugal\",\"Portugal\",\"Portugal\",\"Portugal\"]],\"y\":[[\"Diogo Costa\",\"José Sá\",\"Rui Patrício\",\"Rúben Dias\",\"Gonçalo Inácio\",\"António Silva\",\"Pepe\",\"Nuno Mendes\",\"Diogo Dalot\",\"João Cancelo\",\"Nélson Semedo\",\"João Palhinha\",\"João Neves\",\"Rúben Neves\",\"Danilo Pereira\",\"Matheus Nunes\",\"Vitinha\",\"Bruno Fernandes\",\"Bernardo Silva\",\"Rafael Leão\",\"Diogo Jota\",\"Pedro Neto\",\"Francisco Conceição\",\"João Félix\",\"Gonçalo Ramos\",\"Cristiano Ronaldo\"]],\"text\":[[\"Diogo Costa and its club is FC Porto\",\"José Sá and its club is Wolverhampton Wanderers\",\"Rui Patrício and its club is AS Roma\",\"Rúben Dias and its club is Manchester City\",\"Gonçalo Inácio and its club is Sporting CP\",\"António Silva and its club is SL Benfica\",\"Pepe and its club is FC Porto\",\"Nuno Mendes and its club is Paris Saint-Germain\",\"Diogo Dalot and its club is Manchester United\",\"João Cancelo and its club is FC Barcelona\",\"Nélson Semedo and its club is Wolverhampton Wanderers\",\"João Palhinha and its club is Fulham FC\",\"João Neves and its club is SL Benfica\",\"Rúben Neves and its club is Al-Hilal SFC\",\"Danilo Pereira and its club is Paris Saint-Germain\",\"Matheus Nunes and its club is Manchester City\",\"Vitinha and its club is Paris Saint-Germain\",\"Bruno Fernandes and its club is Manchester United\",\"Bernardo Silva and its club is Manchester City\",\"Rafael Leão and its club is AC Milan\",\"Diogo Jota and its club is Liverpool FC\",\"Pedro Neto and its club is Wolverhampton Wanderers\",\"Francisco Conceição and its club is FC Porto\",\"João Félix and its club is FC Barcelona\",\"Gonçalo Ramos and its club is Paris Saint-Germain\",\"Cristiano Ronaldo and its club is Al-Nassr FC\"]]}],\"label\":\"Portugal\",\"method\":\"restyle\"},{\"args\":[{\"x\":[[\"Czech Republic\",\"Czech Republic\",\"Czech Republic\",\"Czech Republic\",\"Czech Republic\",\"Czech Republic\",\"Czech Republic\",\"Czech Republic\",\"Czech Republic\",\"Czech Republic\",\"Czech Republic\",\"Czech Republic\",\"Czech Republic\",\"Czech Republic\",\"Czech Republic\",\"Czech Republic\",\"Czech Republic\",\"Czech Republic\",\"Czech Republic\",\"Czech Republic\",\"Czech Republic\",\"Czech Republic\",\"Czech Republic\",\"Czech Republic\",\"Czech Republic\",\"Czech Republic\"]],\"y\":[[\"Matej Kovar\",\"Vitezslav Jaros\",\"Jindrich Stanek\",\"Martin Vitík\",\"Ladislav Krejci\",\"Tomas Vlcek\",\"Robin Hranac\",\"David Zima\",\"Tomas Holes\",\"David Jurásek\",\"Vladimír Coufal\",\"Tomas Soucek\",\"Michal Sadílek\",\"Lukas Cerv\",\"David Doudera\",\"Lukas Provod\",\"Pavel Sulc\",\"Antonín Barák\",\"Ondrej Lingr\",\"Matej Jurasek\",\"Vaclav Cerny\",\"Adam Hlozek\",\"Patrik Schick\",\"Mojmír Chytil\",\"Jan Kuchta\",\"Tomas Chory\"]],\"text\":[[\"Matej Kovar and its club is Bayer 04 Leverkusen\",\"Vitezslav Jaros and its club is SK Sturm Graz\",\"Jindrich Stanek and its club is SK Slavia Prague\",\"Martin Vitík and its club is AC Sparta Prague\",\"Ladislav Krejci and its club is AC Sparta Prague\",\"Tomas Vlcek and its club is SK Slavia Prague\",\"Robin Hranac and its club is FC Viktoria Plzen\",\"David Zima and its club is SK Slavia Prague\",\"Tomas Holes and its club is SK Slavia Prague\",\"David Jurásek and its club is TSG 1899 Hoffenheim\",\"Vladimír Coufal and its club is West Ham United\",\"Tomas Soucek and its club is West Ham United\",\"Michal Sadílek and its club is Twente Enschede FC\",\"Lukas Cerv and its club is FC Viktoria Plzen\",\"David Doudera and its club is SK Slavia Prague\",\"Lukas Provod and its club is SK Slavia Prague\",\"Pavel Sulc and its club is FC Viktoria Plzen\",\"Antonín Barák and its club is ACF Fiorentina\",\"Ondrej Lingr and its club is Feyenoord Rotterdam\",\"Matej Jurasek and its club is SK Slavia Prague\",\"Vaclav Cerny and its club is VfL Wolfsburg\",\"Adam Hlozek and its club is Bayer 04 Leverkusen\",\"Patrik Schick and its club is Bayer 04 Leverkusen\",\"Mojmír Chytil and its club is SK Slavia Prague\",\"Jan Kuchta and its club is AC Sparta Prague\",\"Tomas Chory and its club is FC Viktoria Plzen\"]]}],\"label\":\"Czech Republic\",\"method\":\"restyle\"}],\"direction\":\"down\",\"pad\":{\"r\":10,\"t\":10},\"showactive\":true,\"x\":0.17,\"xanchor\":\"left\",\"y\":1.15,\"yanchor\":\"top\"}],\"height\":600,\"width\":800,\"showlegend\":false},                        {\"responsive\": true}                    ).then(function(){\n",
              "                            \n",
              "var gd = document.getElementById('63721cab-7e82-490a-9bf6-0f76b6ed1744');\n",
              "var x = new MutationObserver(function (mutations, observer) {{\n",
              "        var display = window.getComputedStyle(gd).display;\n",
              "        if (!display || display === 'none') {{\n",
              "            console.log([gd, 'removed!']);\n",
              "            Plotly.purge(gd);\n",
              "            observer.disconnect();\n",
              "        }}\n",
              "}});\n",
              "\n",
              "// Listen for the removal of the full notebook cells\n",
              "var notebookContainer = gd.closest('#notebook-container');\n",
              "if (notebookContainer) {{\n",
              "    x.observe(notebookContainer, {childList: true});\n",
              "}}\n",
              "\n",
              "// Listen for the clearing of the current output cell\n",
              "var outputEl = gd.closest('.output');\n",
              "if (outputEl) {{\n",
              "    x.observe(outputEl, {childList: true});\n",
              "}}\n",
              "\n",
              "                        })                };                            </script>        </div>\n",
              "</body>\n",
              "</html>"
            ]
          },
          "metadata": {}
        }
      ]
    },
    {
      "cell_type": "markdown",
      "source": [
        "# **Conclusion**"
      ],
      "metadata": {
        "id": "2AmzmLCzELNT"
      }
    },
    {
      "cell_type": "markdown",
      "source": [
        "This comprehensive analysis of Euro 2024 players has revealed several key insights about the tournament's participants:\n",
        "\n",
        ">\n",
        "\n",
        "**Key Player Statistics**\n",
        "\n",
        "- **Age Distribution**: The players' ages range from 16 (Lamine Yamal) to 41 (Pepe), showing the tournament's diverse age spectrum\n",
        "- **Physical Attributes**:\n",
        "  - Height ranges from 167cm (Callum Styles) to 202cm (Vanja Milinković-Savić)\n",
        "  - Most players prefer their right foot (441), followed by left foot (151), with only 31 players being ambidextrous\n",
        "\n",
        ">\n",
        "\n",
        "**Experience and Achievement Highlights**\n",
        "- **Most Experienced**: Cristiano Ronaldo leads with 206 international caps\n",
        "- **Top Scorer**: Cristiano Ronaldo also leads with 128 international goals\n",
        "- **Market Value**: Kylian Mbappé and Jude Bellingham share the highest market value at €180 million\n",
        "\n",
        ">\n",
        "\n",
        "**Team and Club Distribution**\n",
        "- **Club Representation**: Players come from 219 different clubs, showing the tournament's global reach\n",
        "- **Top Clubs**: Bayern Munich, Real Madrid, and Manchester City have significant representation\n",
        "- **National Teams**: 24 countries participating, with varying squad sizes and player characteristics\n",
        "\n",
        ">\n",
        "\n",
        "**Future Research Directions**\n",
        "\n",
        "*The second phase of this analysis will utilize Power BI to:*\n",
        "- Create interactive dashboards for deeper insights\n",
        "- Analyze performance metrics and team compositions\n",
        "- Explore correlations between player attributes and team success\n",
        "\n",
        ">\n",
        "\n",
        "This initial phase provides a solid foundation for understanding the player demographics and distribution across clubs and nations, setting the stage for more detailed tactical and performance analysis in the upcoming Power BI phase.\n"
      ],
      "metadata": {
        "id": "l6cbSxfAEMbW"
      }
    }
  ],
  "metadata": {
    "colab": {
      "collapsed_sections": [
        "b7qfcB5TnJbH",
        "zvVCQiuBnX-H",
        "vr6EP7cynpNv"
      ],
      "provenance": [],
      "toc_visible": true
    },
    "kernelspec": {
      "display_name": "Python 3",
      "name": "python3"
    },
    "language_info": {
      "name": "python"
    }
  },
  "nbformat": 4,
  "nbformat_minor": 0
}